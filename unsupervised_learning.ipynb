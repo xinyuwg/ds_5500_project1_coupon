{
 "cells": [
  {
   "cell_type": "code",
   "execution_count": 3,
   "id": "accessory-prince",
   "metadata": {},
   "outputs": [],
   "source": [
    "import pandas as pd\n",
    "import matplotlib.pyplot as plt\n",
    "import seaborn as sns\n",
    "import numpy as np\n",
    "import warnings \n"
   ]
  },
  {
   "cell_type": "code",
   "execution_count": 4,
   "id": "controlled-winning",
   "metadata": {},
   "outputs": [],
   "source": [
    "user_data = pd.read_csv('dataset/user_feature_total_remove_highcorr.csv').drop_duplicates()"
   ]
  },
  {
   "cell_type": "code",
   "execution_count": 6,
   "id": "based-pound",
   "metadata": {},
   "outputs": [
    {
     "data": {
      "text/plain": [
       "75"
      ]
     },
     "execution_count": 6,
     "metadata": {},
     "output_type": "execute_result"
    }
   ],
   "source": [
    "# user_data.head()\n",
    "len(user_data.columns)"
   ]
  },
  {
   "cell_type": "markdown",
   "id": "baking-artist",
   "metadata": {},
   "source": [
    "# PAC"
   ]
  },
  {
   "cell_type": "code",
   "execution_count": 38,
   "id": "collaborative-sport",
   "metadata": {},
   "outputs": [],
   "source": [
    "from sklearn.decomposition import PCA\n",
    "from sklearn.preprocessing import StandardScaler"
   ]
  },
  {
   "cell_type": "code",
   "execution_count": 39,
   "id": "distinct-arlington",
   "metadata": {},
   "outputs": [],
   "source": [
    "user_data.head()\n",
    "user_data = user_data.fillna(0)"
   ]
  },
  {
   "cell_type": "code",
   "execution_count": 40,
   "id": "still-understanding",
   "metadata": {},
   "outputs": [],
   "source": [
    "user_data_d = user_data.copy()\n",
    "user_data = user_data.drop('time',axis=1)\n",
    "user_categorical = user_data.select_dtypes(exclude='float64').drop('User_id',axis=1)"
   ]
  },
  {
   "cell_type": "markdown",
   "id": "after-waters",
   "metadata": {},
   "source": [
    "## onehot transformation"
   ]
  },
  {
   "cell_type": "code",
   "execution_count": 41,
   "id": "applicable-needle",
   "metadata": {},
   "outputs": [
    {
     "data": {
      "text/html": [
       "<div>\n",
       "<style scoped>\n",
       "    .dataframe tbody tr th:only-of-type {\n",
       "        vertical-align: middle;\n",
       "    }\n",
       "\n",
       "    .dataframe tbody tr th {\n",
       "        vertical-align: top;\n",
       "    }\n",
       "\n",
       "    .dataframe thead th {\n",
       "        text-align: right;\n",
       "    }\n",
       "</style>\n",
       "<table border=\"1\" class=\"dataframe\">\n",
       "  <thead>\n",
       "    <tr style=\"text-align: right;\">\n",
       "      <th></th>\n",
       "      <th>MODE(offline.Discount_rate)_0</th>\n",
       "      <th>MODE(offline.Discount_rate)_0.2</th>\n",
       "      <th>MODE(offline.Discount_rate)_0.5</th>\n",
       "      <th>MODE(offline.Discount_rate)_0.6</th>\n",
       "      <th>MODE(offline.Discount_rate)_0.7</th>\n",
       "      <th>MODE(offline.Discount_rate)_0.75</th>\n",
       "      <th>MODE(offline.Discount_rate)_0.8</th>\n",
       "      <th>MODE(offline.Discount_rate)_0.85</th>\n",
       "      <th>MODE(offline.Discount_rate)_0.9</th>\n",
       "      <th>MODE(offline.Discount_rate)_0.95</th>\n",
       "      <th>...</th>\n",
       "      <th>MODE(online.Discount_rate WHERE Action = 2)_50:10</th>\n",
       "      <th>MODE(online.Discount_rate WHERE Action = 2)_50:20</th>\n",
       "      <th>MODE(online.Discount_rate WHERE Action = 2)_50:30</th>\n",
       "      <th>MODE(online.Discount_rate WHERE Action = 2)_50:5</th>\n",
       "      <th>MODE(online.Discount_rate WHERE Action = 2)_5:1</th>\n",
       "      <th>MODE(online.Discount_rate WHERE Action = 2)_800:10</th>\n",
       "      <th>MODE(online.Discount_rate WHERE Action = 2)_800:100</th>\n",
       "      <th>MODE(online.Discount_rate WHERE Action = 2)_800:20</th>\n",
       "      <th>MODE(online.Discount_rate WHERE Action = 2)_800:30</th>\n",
       "      <th>MODE(online.Discount_rate WHERE Action = 2)_800:50</th>\n",
       "    </tr>\n",
       "  </thead>\n",
       "  <tbody>\n",
       "    <tr>\n",
       "      <th>0</th>\n",
       "      <td>1</td>\n",
       "      <td>0</td>\n",
       "      <td>0</td>\n",
       "      <td>0</td>\n",
       "      <td>0</td>\n",
       "      <td>0</td>\n",
       "      <td>0</td>\n",
       "      <td>0</td>\n",
       "      <td>0</td>\n",
       "      <td>0</td>\n",
       "      <td>...</td>\n",
       "      <td>0</td>\n",
       "      <td>0</td>\n",
       "      <td>0</td>\n",
       "      <td>0</td>\n",
       "      <td>0</td>\n",
       "      <td>0</td>\n",
       "      <td>0</td>\n",
       "      <td>0</td>\n",
       "      <td>0</td>\n",
       "      <td>0</td>\n",
       "    </tr>\n",
       "    <tr>\n",
       "      <th>1</th>\n",
       "      <td>1</td>\n",
       "      <td>0</td>\n",
       "      <td>0</td>\n",
       "      <td>0</td>\n",
       "      <td>0</td>\n",
       "      <td>0</td>\n",
       "      <td>0</td>\n",
       "      <td>0</td>\n",
       "      <td>0</td>\n",
       "      <td>0</td>\n",
       "      <td>...</td>\n",
       "      <td>0</td>\n",
       "      <td>0</td>\n",
       "      <td>0</td>\n",
       "      <td>0</td>\n",
       "      <td>0</td>\n",
       "      <td>0</td>\n",
       "      <td>0</td>\n",
       "      <td>0</td>\n",
       "      <td>0</td>\n",
       "      <td>0</td>\n",
       "    </tr>\n",
       "    <tr>\n",
       "      <th>2</th>\n",
       "      <td>1</td>\n",
       "      <td>0</td>\n",
       "      <td>0</td>\n",
       "      <td>0</td>\n",
       "      <td>0</td>\n",
       "      <td>0</td>\n",
       "      <td>0</td>\n",
       "      <td>0</td>\n",
       "      <td>0</td>\n",
       "      <td>0</td>\n",
       "      <td>...</td>\n",
       "      <td>0</td>\n",
       "      <td>0</td>\n",
       "      <td>0</td>\n",
       "      <td>0</td>\n",
       "      <td>0</td>\n",
       "      <td>0</td>\n",
       "      <td>0</td>\n",
       "      <td>0</td>\n",
       "      <td>0</td>\n",
       "      <td>0</td>\n",
       "    </tr>\n",
       "    <tr>\n",
       "      <th>3</th>\n",
       "      <td>0</td>\n",
       "      <td>0</td>\n",
       "      <td>0</td>\n",
       "      <td>0</td>\n",
       "      <td>0</td>\n",
       "      <td>0</td>\n",
       "      <td>0</td>\n",
       "      <td>0</td>\n",
       "      <td>0</td>\n",
       "      <td>0</td>\n",
       "      <td>...</td>\n",
       "      <td>0</td>\n",
       "      <td>0</td>\n",
       "      <td>0</td>\n",
       "      <td>0</td>\n",
       "      <td>0</td>\n",
       "      <td>0</td>\n",
       "      <td>0</td>\n",
       "      <td>0</td>\n",
       "      <td>0</td>\n",
       "      <td>0</td>\n",
       "    </tr>\n",
       "    <tr>\n",
       "      <th>4</th>\n",
       "      <td>0</td>\n",
       "      <td>0</td>\n",
       "      <td>0</td>\n",
       "      <td>0</td>\n",
       "      <td>0</td>\n",
       "      <td>0</td>\n",
       "      <td>0</td>\n",
       "      <td>0</td>\n",
       "      <td>0</td>\n",
       "      <td>0</td>\n",
       "      <td>...</td>\n",
       "      <td>0</td>\n",
       "      <td>0</td>\n",
       "      <td>0</td>\n",
       "      <td>0</td>\n",
       "      <td>0</td>\n",
       "      <td>0</td>\n",
       "      <td>0</td>\n",
       "      <td>0</td>\n",
       "      <td>0</td>\n",
       "      <td>0</td>\n",
       "    </tr>\n",
       "  </tbody>\n",
       "</table>\n",
       "<p>5 rows × 254 columns</p>\n",
       "</div>"
      ],
      "text/plain": [
       "   MODE(offline.Discount_rate)_0  MODE(offline.Discount_rate)_0.2  \\\n",
       "0                              1                                0   \n",
       "1                              1                                0   \n",
       "2                              1                                0   \n",
       "3                              0                                0   \n",
       "4                              0                                0   \n",
       "\n",
       "   MODE(offline.Discount_rate)_0.5  MODE(offline.Discount_rate)_0.6  \\\n",
       "0                                0                                0   \n",
       "1                                0                                0   \n",
       "2                                0                                0   \n",
       "3                                0                                0   \n",
       "4                                0                                0   \n",
       "\n",
       "   MODE(offline.Discount_rate)_0.7  MODE(offline.Discount_rate)_0.75  \\\n",
       "0                                0                                 0   \n",
       "1                                0                                 0   \n",
       "2                                0                                 0   \n",
       "3                                0                                 0   \n",
       "4                                0                                 0   \n",
       "\n",
       "   MODE(offline.Discount_rate)_0.8  MODE(offline.Discount_rate)_0.85  \\\n",
       "0                                0                                 0   \n",
       "1                                0                                 0   \n",
       "2                                0                                 0   \n",
       "3                                0                                 0   \n",
       "4                                0                                 0   \n",
       "\n",
       "   MODE(offline.Discount_rate)_0.9  MODE(offline.Discount_rate)_0.95  ...  \\\n",
       "0                                0                                 0  ...   \n",
       "1                                0                                 0  ...   \n",
       "2                                0                                 0  ...   \n",
       "3                                0                                 0  ...   \n",
       "4                                0                                 0  ...   \n",
       "\n",
       "   MODE(online.Discount_rate WHERE Action = 2)_50:10  \\\n",
       "0                                                  0   \n",
       "1                                                  0   \n",
       "2                                                  0   \n",
       "3                                                  0   \n",
       "4                                                  0   \n",
       "\n",
       "   MODE(online.Discount_rate WHERE Action = 2)_50:20  \\\n",
       "0                                                  0   \n",
       "1                                                  0   \n",
       "2                                                  0   \n",
       "3                                                  0   \n",
       "4                                                  0   \n",
       "\n",
       "   MODE(online.Discount_rate WHERE Action = 2)_50:30  \\\n",
       "0                                                  0   \n",
       "1                                                  0   \n",
       "2                                                  0   \n",
       "3                                                  0   \n",
       "4                                                  0   \n",
       "\n",
       "   MODE(online.Discount_rate WHERE Action = 2)_50:5  \\\n",
       "0                                                 0   \n",
       "1                                                 0   \n",
       "2                                                 0   \n",
       "3                                                 0   \n",
       "4                                                 0   \n",
       "\n",
       "   MODE(online.Discount_rate WHERE Action = 2)_5:1  \\\n",
       "0                                                0   \n",
       "1                                                0   \n",
       "2                                                0   \n",
       "3                                                0   \n",
       "4                                                0   \n",
       "\n",
       "   MODE(online.Discount_rate WHERE Action = 2)_800:10  \\\n",
       "0                                                  0    \n",
       "1                                                  0    \n",
       "2                                                  0    \n",
       "3                                                  0    \n",
       "4                                                  0    \n",
       "\n",
       "   MODE(online.Discount_rate WHERE Action = 2)_800:100  \\\n",
       "0                                                  0     \n",
       "1                                                  0     \n",
       "2                                                  0     \n",
       "3                                                  0     \n",
       "4                                                  0     \n",
       "\n",
       "   MODE(online.Discount_rate WHERE Action = 2)_800:20  \\\n",
       "0                                                  0    \n",
       "1                                                  0    \n",
       "2                                                  0    \n",
       "3                                                  0    \n",
       "4                                                  0    \n",
       "\n",
       "   MODE(online.Discount_rate WHERE Action = 2)_800:30  \\\n",
       "0                                                  0    \n",
       "1                                                  0    \n",
       "2                                                  0    \n",
       "3                                                  0    \n",
       "4                                                  0    \n",
       "\n",
       "   MODE(online.Discount_rate WHERE Action = 2)_800:50  \n",
       "0                                                  0   \n",
       "1                                                  0   \n",
       "2                                                  0   \n",
       "3                                                  0   \n",
       "4                                                  0   \n",
       "\n",
       "[5 rows x 254 columns]"
      ]
     },
     "execution_count": 41,
     "metadata": {},
     "output_type": "execute_result"
    }
   ],
   "source": [
    "user_onehot = pd.get_dummies(user_categorical)\n",
    "user_onehot.head()"
   ]
  },
  {
   "cell_type": "code",
   "execution_count": 45,
   "id": "adopted-interference",
   "metadata": {},
   "outputs": [],
   "source": [
    "user_data_merge = pd.merge(user_data.select_dtypes(exclude='object'),user_onehot,left_index=True,right_index=True)"
   ]
  },
  {
   "cell_type": "markdown",
   "id": "beginning-semester",
   "metadata": {},
   "source": [
    "## standardization"
   ]
  },
  {
   "cell_type": "code",
   "execution_count": 46,
   "id": "direct-violence",
   "metadata": {},
   "outputs": [],
   "source": [
    "std_scaler = StandardScaler()\n",
    "user_std = pd.DataFrame(std_scaler.fit_transform(user_data_merge),columns=user_data_merge.columns)"
   ]
  },
  {
   "cell_type": "code",
   "execution_count": 47,
   "id": "acute-gambling",
   "metadata": {},
   "outputs": [
    {
     "data": {
      "text/html": [
       "<div>\n",
       "<style scoped>\n",
       "    .dataframe tbody tr th:only-of-type {\n",
       "        vertical-align: middle;\n",
       "    }\n",
       "\n",
       "    .dataframe tbody tr th {\n",
       "        vertical-align: top;\n",
       "    }\n",
       "\n",
       "    .dataframe thead th {\n",
       "        text-align: right;\n",
       "    }\n",
       "</style>\n",
       "<table border=\"1\" class=\"dataframe\">\n",
       "  <thead>\n",
       "    <tr style=\"text-align: right;\">\n",
       "      <th></th>\n",
       "      <th>User_id</th>\n",
       "      <th>AVG_TIME_BETWEEN(offline.Date, unit=days)</th>\n",
       "      <th>AVG_TIME_BETWEEN(offline.Date_received, unit=days)</th>\n",
       "      <th>COUNT(offline)</th>\n",
       "      <th>MAX(offline.Distance)</th>\n",
       "      <th>MAX(offline.promotion_amonut)</th>\n",
       "      <th>MAX(offline.promotion_condition)</th>\n",
       "      <th>MAX(offline.uniform_discount_rate)</th>\n",
       "      <th>MEAN(offline.Distance)</th>\n",
       "      <th>MEAN(offline.give_coupon)</th>\n",
       "      <th>...</th>\n",
       "      <th>MODE(online.Discount_rate WHERE Action = 2)_50:10</th>\n",
       "      <th>MODE(online.Discount_rate WHERE Action = 2)_50:20</th>\n",
       "      <th>MODE(online.Discount_rate WHERE Action = 2)_50:30</th>\n",
       "      <th>MODE(online.Discount_rate WHERE Action = 2)_50:5</th>\n",
       "      <th>MODE(online.Discount_rate WHERE Action = 2)_5:1</th>\n",
       "      <th>MODE(online.Discount_rate WHERE Action = 2)_800:10</th>\n",
       "      <th>MODE(online.Discount_rate WHERE Action = 2)_800:100</th>\n",
       "      <th>MODE(online.Discount_rate WHERE Action = 2)_800:20</th>\n",
       "      <th>MODE(online.Discount_rate WHERE Action = 2)_800:30</th>\n",
       "      <th>MODE(online.Discount_rate WHERE Action = 2)_800:50</th>\n",
       "    </tr>\n",
       "  </thead>\n",
       "  <tbody>\n",
       "    <tr>\n",
       "      <th>0</th>\n",
       "      <td>-0.870591</td>\n",
       "      <td>-0.35893</td>\n",
       "      <td>-0.325514</td>\n",
       "      <td>-0.516416</td>\n",
       "      <td>-0.494252</td>\n",
       "      <td>-0.552205</td>\n",
       "      <td>-0.550100</td>\n",
       "      <td>-0.843090</td>\n",
       "      <td>-0.450414</td>\n",
       "      <td>-0.739624</td>\n",
       "      <td>...</td>\n",
       "      <td>-0.071283</td>\n",
       "      <td>-0.018366</td>\n",
       "      <td>-0.023182</td>\n",
       "      <td>-0.097492</td>\n",
       "      <td>-0.075351</td>\n",
       "      <td>-0.004106</td>\n",
       "      <td>-0.016932</td>\n",
       "      <td>-0.010753</td>\n",
       "      <td>-0.001552</td>\n",
       "      <td>-0.018948</td>\n",
       "    </tr>\n",
       "    <tr>\n",
       "      <th>1</th>\n",
       "      <td>-1.655933</td>\n",
       "      <td>-0.35893</td>\n",
       "      <td>-0.325514</td>\n",
       "      <td>-0.516416</td>\n",
       "      <td>-0.494252</td>\n",
       "      <td>-0.552205</td>\n",
       "      <td>-0.550100</td>\n",
       "      <td>-0.843090</td>\n",
       "      <td>-0.450414</td>\n",
       "      <td>-0.739624</td>\n",
       "      <td>...</td>\n",
       "      <td>-0.071283</td>\n",
       "      <td>-0.018366</td>\n",
       "      <td>-0.023182</td>\n",
       "      <td>-0.097492</td>\n",
       "      <td>-0.075351</td>\n",
       "      <td>-0.004106</td>\n",
       "      <td>-0.016932</td>\n",
       "      <td>-0.010753</td>\n",
       "      <td>-0.001552</td>\n",
       "      <td>-0.018948</td>\n",
       "    </tr>\n",
       "    <tr>\n",
       "      <th>2</th>\n",
       "      <td>-1.688636</td>\n",
       "      <td>-0.35893</td>\n",
       "      <td>-0.325514</td>\n",
       "      <td>-0.516416</td>\n",
       "      <td>-0.494252</td>\n",
       "      <td>-0.552205</td>\n",
       "      <td>-0.550100</td>\n",
       "      <td>-0.843090</td>\n",
       "      <td>-0.450414</td>\n",
       "      <td>-0.739624</td>\n",
       "      <td>...</td>\n",
       "      <td>-0.071283</td>\n",
       "      <td>-0.018366</td>\n",
       "      <td>-0.023182</td>\n",
       "      <td>-0.097492</td>\n",
       "      <td>-0.075351</td>\n",
       "      <td>-0.004106</td>\n",
       "      <td>-0.016932</td>\n",
       "      <td>-0.010753</td>\n",
       "      <td>-0.001552</td>\n",
       "      <td>-0.018948</td>\n",
       "    </tr>\n",
       "    <tr>\n",
       "      <th>3</th>\n",
       "      <td>0.177965</td>\n",
       "      <td>-0.35893</td>\n",
       "      <td>-0.325514</td>\n",
       "      <td>-0.004648</td>\n",
       "      <td>2.938813</td>\n",
       "      <td>0.580303</td>\n",
       "      <td>0.997367</td>\n",
       "      <td>1.254742</td>\n",
       "      <td>3.918497</td>\n",
       "      <td>1.774270</td>\n",
       "      <td>...</td>\n",
       "      <td>-0.071283</td>\n",
       "      <td>-0.018366</td>\n",
       "      <td>-0.023182</td>\n",
       "      <td>-0.097492</td>\n",
       "      <td>-0.075351</td>\n",
       "      <td>-0.004106</td>\n",
       "      <td>-0.016932</td>\n",
       "      <td>-0.010753</td>\n",
       "      <td>-0.001552</td>\n",
       "      <td>-0.018948</td>\n",
       "    </tr>\n",
       "    <tr>\n",
       "      <th>4</th>\n",
       "      <td>-1.682831</td>\n",
       "      <td>-0.35893</td>\n",
       "      <td>-0.325514</td>\n",
       "      <td>-0.260532</td>\n",
       "      <td>-0.494252</td>\n",
       "      <td>0.580303</td>\n",
       "      <td>0.997367</td>\n",
       "      <td>1.254742</td>\n",
       "      <td>-0.450414</td>\n",
       "      <td>1.774270</td>\n",
       "      <td>...</td>\n",
       "      <td>-0.071283</td>\n",
       "      <td>-0.018366</td>\n",
       "      <td>-0.023182</td>\n",
       "      <td>-0.097492</td>\n",
       "      <td>-0.075351</td>\n",
       "      <td>-0.004106</td>\n",
       "      <td>-0.016932</td>\n",
       "      <td>-0.010753</td>\n",
       "      <td>-0.001552</td>\n",
       "      <td>-0.018948</td>\n",
       "    </tr>\n",
       "  </tbody>\n",
       "</table>\n",
       "<p>5 rows × 323 columns</p>\n",
       "</div>"
      ],
      "text/plain": [
       "    User_id  AVG_TIME_BETWEEN(offline.Date, unit=days)  \\\n",
       "0 -0.870591                                   -0.35893   \n",
       "1 -1.655933                                   -0.35893   \n",
       "2 -1.688636                                   -0.35893   \n",
       "3  0.177965                                   -0.35893   \n",
       "4 -1.682831                                   -0.35893   \n",
       "\n",
       "   AVG_TIME_BETWEEN(offline.Date_received, unit=days)  COUNT(offline)  \\\n",
       "0                                          -0.325514        -0.516416   \n",
       "1                                          -0.325514        -0.516416   \n",
       "2                                          -0.325514        -0.516416   \n",
       "3                                          -0.325514        -0.004648   \n",
       "4                                          -0.325514        -0.260532   \n",
       "\n",
       "   MAX(offline.Distance)  MAX(offline.promotion_amonut)  \\\n",
       "0              -0.494252                      -0.552205   \n",
       "1              -0.494252                      -0.552205   \n",
       "2              -0.494252                      -0.552205   \n",
       "3               2.938813                       0.580303   \n",
       "4              -0.494252                       0.580303   \n",
       "\n",
       "   MAX(offline.promotion_condition)  MAX(offline.uniform_discount_rate)  \\\n",
       "0                         -0.550100                           -0.843090   \n",
       "1                         -0.550100                           -0.843090   \n",
       "2                         -0.550100                           -0.843090   \n",
       "3                          0.997367                            1.254742   \n",
       "4                          0.997367                            1.254742   \n",
       "\n",
       "   MEAN(offline.Distance)  MEAN(offline.give_coupon)  ...  \\\n",
       "0               -0.450414                  -0.739624  ...   \n",
       "1               -0.450414                  -0.739624  ...   \n",
       "2               -0.450414                  -0.739624  ...   \n",
       "3                3.918497                   1.774270  ...   \n",
       "4               -0.450414                   1.774270  ...   \n",
       "\n",
       "   MODE(online.Discount_rate WHERE Action = 2)_50:10  \\\n",
       "0                                          -0.071283   \n",
       "1                                          -0.071283   \n",
       "2                                          -0.071283   \n",
       "3                                          -0.071283   \n",
       "4                                          -0.071283   \n",
       "\n",
       "   MODE(online.Discount_rate WHERE Action = 2)_50:20  \\\n",
       "0                                          -0.018366   \n",
       "1                                          -0.018366   \n",
       "2                                          -0.018366   \n",
       "3                                          -0.018366   \n",
       "4                                          -0.018366   \n",
       "\n",
       "   MODE(online.Discount_rate WHERE Action = 2)_50:30  \\\n",
       "0                                          -0.023182   \n",
       "1                                          -0.023182   \n",
       "2                                          -0.023182   \n",
       "3                                          -0.023182   \n",
       "4                                          -0.023182   \n",
       "\n",
       "   MODE(online.Discount_rate WHERE Action = 2)_50:5  \\\n",
       "0                                         -0.097492   \n",
       "1                                         -0.097492   \n",
       "2                                         -0.097492   \n",
       "3                                         -0.097492   \n",
       "4                                         -0.097492   \n",
       "\n",
       "   MODE(online.Discount_rate WHERE Action = 2)_5:1  \\\n",
       "0                                        -0.075351   \n",
       "1                                        -0.075351   \n",
       "2                                        -0.075351   \n",
       "3                                        -0.075351   \n",
       "4                                        -0.075351   \n",
       "\n",
       "   MODE(online.Discount_rate WHERE Action = 2)_800:10  \\\n",
       "0                                          -0.004106    \n",
       "1                                          -0.004106    \n",
       "2                                          -0.004106    \n",
       "3                                          -0.004106    \n",
       "4                                          -0.004106    \n",
       "\n",
       "   MODE(online.Discount_rate WHERE Action = 2)_800:100  \\\n",
       "0                                          -0.016932     \n",
       "1                                          -0.016932     \n",
       "2                                          -0.016932     \n",
       "3                                          -0.016932     \n",
       "4                                          -0.016932     \n",
       "\n",
       "   MODE(online.Discount_rate WHERE Action = 2)_800:20  \\\n",
       "0                                          -0.010753    \n",
       "1                                          -0.010753    \n",
       "2                                          -0.010753    \n",
       "3                                          -0.010753    \n",
       "4                                          -0.010753    \n",
       "\n",
       "   MODE(online.Discount_rate WHERE Action = 2)_800:30  \\\n",
       "0                                          -0.001552    \n",
       "1                                          -0.001552    \n",
       "2                                          -0.001552    \n",
       "3                                          -0.001552    \n",
       "4                                          -0.001552    \n",
       "\n",
       "   MODE(online.Discount_rate WHERE Action = 2)_800:50  \n",
       "0                                          -0.018948   \n",
       "1                                          -0.018948   \n",
       "2                                          -0.018948   \n",
       "3                                          -0.018948   \n",
       "4                                          -0.018948   \n",
       "\n",
       "[5 rows x 323 columns]"
      ]
     },
     "execution_count": 47,
     "metadata": {},
     "output_type": "execute_result"
    }
   ],
   "source": [
    "user_std.head()"
   ]
  },
  {
   "cell_type": "markdown",
   "id": "accomplished-court",
   "metadata": {},
   "source": [
    "## PCA"
   ]
  },
  {
   "cell_type": "code",
   "execution_count": 48,
   "id": "decreased-marketing",
   "metadata": {},
   "outputs": [],
   "source": [
    "pca = PCA(n_components=100).fit(user_std)\n",
    "user_pca = pca.transform(user_std)"
   ]
  },
  {
   "cell_type": "code",
   "execution_count": 49,
   "id": "noble-privacy",
   "metadata": {},
   "outputs": [
    {
     "data": {
      "text/plain": [
       "[<matplotlib.lines.Line2D at 0x134dbca60>]"
      ]
     },
     "execution_count": 49,
     "metadata": {},
     "output_type": "execute_result"
    },
    {
     "data": {
      "image/png": "[encoded data removed]",
      "text/plain": [
       "<Figure size 432x288 with 1 Axes>"
      ]
     },
     "metadata": {
      "needs_background": "light"
     },
     "output_type": "display_data"
    }
   ],
   "source": [
    "cumsum = np.cumsum(pca.explained_variance_ratio_)\n",
    "plt.plot(cumsum)"
   ]
  },
  {
   "cell_type": "code",
   "execution_count": 50,
   "id": "familiar-anatomy",
   "metadata": {},
   "outputs": [],
   "source": [
    "user_pca_backup = user_pca.copy()\n",
    "user_pca_df = pd.DataFrame(user_pca,columns=['component_'+str(i) for i in range(user_pca.shape[1])])"
   ]
  },
  {
   "cell_type": "markdown",
   "id": "funded-estonia",
   "metadata": {},
   "source": [
    "# Clustering"
   ]
  },
  {
   "cell_type": "code",
   "execution_count": 51,
   "id": "conservative-imperial",
   "metadata": {},
   "outputs": [],
   "source": [
    "from sklearn.cluster import KMeans\n",
    "import sklearn.metrics as sm"
   ]
  },
  {
   "cell_type": "code",
   "execution_count": 52,
   "id": "catholic-reducing",
   "metadata": {},
   "outputs": [
    {
     "name": "stdout",
     "output_type": "stream",
     "text": [
      "[106679674.78987937, 102793128.91437812, 101353989.93045832, 100035490.67965609, 98512173.10018796, 97182552.29204947, 95967940.549575, 94421853.27554877, 93238019.30890198, 92655771.26248237, 91065812.90833311, 89738626.18496034, 88917563.47486232, 87546116.2582473, 86713891.87144834, 85434130.60342233, 83909632.38728675, 82330428.04146604]\n"
     ]
    },
    {
     "data": {
      "text/plain": [
       "[<matplotlib.lines.Line2D at 0x134c273d0>]"
      ]
     },
     "execution_count": 52,
     "metadata": {},
     "output_type": "execute_result"
    },
    {
     "data": {
      "image/png": "[encoded data removed]",
      "text/plain": [
       "<Figure size 432x288 with 1 Axes>"
      ]
     },
     "metadata": {
      "needs_background": "light"
     },
     "output_type": "display_data"
    }
   ],
   "source": [
    "ks=range(2,20)\n",
    "result = [0]*len(ks)\n",
    "for index,i in enumerate(ks):\n",
    "    model = KMeans(n_clusters = i,random_state=1)\n",
    "    model.fit(user_pca_df)\n",
    "    result[index]=model.inertia_\n",
    "print(result)\n",
    "plt.plot(result)"
   ]
  },
  {
   "cell_type": "code",
   "execution_count": 55,
   "id": "verbal-holmes",
   "metadata": {},
   "outputs": [],
   "source": [
    "k = 3\n",
    "model = KMeans(n_clusters = 3,random_state=1)\n",
    "user_kmeans_group = model.fit_transform(user_pca_df)"
   ]
  },
  {
   "cell_type": "code",
   "execution_count": 56,
   "id": "funny-respect",
   "metadata": {},
   "outputs": [],
   "source": [
    "# tool function to return label\n",
    "def get_kmeans_label(l)->int:\n",
    "    return l.index(min(l))"
   ]
  },
  {
   "cell_type": "code",
   "execution_count": 58,
   "id": "informal-thailand",
   "metadata": {},
   "outputs": [],
   "source": [
    "user_kmeans_label = pd.DataFrame(map(get_kmeans_label,user_kmeans_group.tolist()),columns=['kmeans_group'])"
   ]
  },
  {
   "cell_type": "code",
   "execution_count": 62,
   "id": "amber-engine",
   "metadata": {},
   "outputs": [],
   "source": [
    "## join with original dataset\n",
    "user_data_with_kmeans_label= pd.merge(user_data_d,user_kmeans_label,left_index=True,right_index=True)"
   ]
  },
  {
   "cell_type": "code",
   "execution_count": 63,
   "id": "close-chicago",
   "metadata": {},
   "outputs": [
    {
     "data": {
      "text/plain": [
       "(array([3.90716e+05, 7.06300e+03, 6.39600e+03, 3.54200e+03, 9.29000e+02,\n",
       "        3.49600e+03, 6.74000e+02, 1.54000e+02, 8.10000e+01, 2.13000e+03]),\n",
       " array([0. , 0.1, 0.2, 0.3, 0.4, 0.5, 0.6, 0.7, 0.8, 0.9, 1. ]),\n",
       " <BarContainer object of 10 artists>)"
      ]
     },
     "execution_count": 63,
     "metadata": {},
     "output_type": "execute_result"
    },
    {
     "data": {
      "image/png": "[encoded data removed]",
      "text/plain": [
       "<Figure size 432x288 with 1 Axes>"
      ]
     },
     "metadata": {
      "needs_background": "light"
     },
     "output_type": "display_data"
    }
   ],
   "source": [
    "plt.hist(user_data_with_kmeans_label['MEAN(offline.use_coupon)'])"
   ]
  },
  {
   "cell_type": "code",
   "execution_count": 64,
   "id": "individual-grill",
   "metadata": {},
   "outputs": [
    {
     "data": {
      "text/plain": [
       "kmeans_group\n",
       "0    0.025906\n",
       "1    0.050469\n",
       "2    0.000005\n",
       "Name: MEAN(offline.use_coupon), dtype: float64"
      ]
     },
     "execution_count": 64,
     "metadata": {},
     "output_type": "execute_result"
    }
   ],
   "source": [
    "user_data_with_kmeans_label.groupby(\"kmeans_group\").mean()['MEAN(offline.use_coupon)']"
   ]
  },
  {
   "cell_type": "code",
   "execution_count": 65,
   "id": "controversial-literature",
   "metadata": {},
   "outputs": [],
   "source": [
    "## output\n",
    "user_id_with_kmeans_label = user_data_with_kmeans_label[['User_id','kmeans_group','time']].drop_duplicates()\n",
    "user_id_with_kmeans_label.to_csv('dataset/kmeans_label.csv')"
   ]
  },
  {
   "cell_type": "code",
   "execution_count": 23,
   "id": "specified-specialist",
   "metadata": {},
   "outputs": [],
   "source": [
    "c=user_data.groupby(\"User_id\").count()"
   ]
  },
  {
   "cell_type": "code",
   "execution_count": null,
   "id": "surgical-caribbean",
   "metadata": {},
   "outputs": [],
   "source": []
  }
 ],
 "metadata": {
  "kernelspec": {
   "display_name": "python3.9",
   "language": "python",
   "name": "python3.9"
  },
  "language_info": {
   "codemirror_mode": {
    "name": "ipython",
    "version": 3
   },
   "file_extension": ".py",
   "mimetype": "text/x-python",
   "name": "python",
   "nbconvert_exporter": "python",
   "pygments_lexer": "ipython3",
   "version": "3.9.2"
  }
 },
 "nbformat": 4,
 "nbformat_minor": 5
}
