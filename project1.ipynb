{
 "cells": [
  {
   "cell_type": "markdown",
   "id": "foreign-patrick",
   "metadata": {},
   "source": [
    "# Prediction of Coupon Redemption"
   ]
  },
  {
   "cell_type": "markdown",
   "id": "subtle-living",
   "metadata": {},
   "source": [
    "## dependencies"
   ]
  },
  {
   "cell_type": "code",
   "execution_count": 1,
   "id": "beautiful-contents",
   "metadata": {},
   "outputs": [],
   "source": [
    "%matplotlib inline  \n",
    "import pandas as pd\n",
    "import numpy as np\n",
    "import matplotlib.pyplot as plt\n",
    "from datetime import datetime\n",
    "import seaborn as sns\n",
    "\n",
    "import warnings\n",
    "warnings.filterwarnings('ignore')"
   ]
  },
  {
   "cell_type": "markdown",
   "id": "fancy-picture",
   "metadata": {},
   "source": [
    "## data loading"
   ]
  },
  {
   "cell_type": "code",
   "execution_count": 14,
   "id": "stuffed-greene",
   "metadata": {},
   "outputs": [],
   "source": [
    "offline_train = pd.read_csv(\"dataset/ccf_offline_stage1_train.csv\")\n",
    "online_train = pd.read_csv(\"dataset/ccf_online_stage1_train.csv\")\n",
    "offline_test = pd.read_csv(\"dataset/ccf_offline_stage1_test_revised.csv\")"
   ]
  },
  {
   "cell_type": "code",
   "execution_count": 9,
   "id": "statutory-draft",
   "metadata": {},
   "outputs": [
    {
     "name": "stdout",
     "output_type": "stream",
     "text": [
      "1.1.5\n"
     ]
    }
   ],
   "source": [
    "print(pd.__version__)"
   ]
  },
  {
   "cell_type": "markdown",
   "id": "rolled-dollar",
   "metadata": {},
   "source": [
    "## data cleaning"
   ]
  },
  {
   "cell_type": "code",
   "execution_count": 10,
   "id": "varying-component",
   "metadata": {},
   "outputs": [],
   "source": [
    "# cast str to date time --Guangyi\n",
    "online_train['Date_received'] = pd.to_datetime(online_train['Date_received'],format='%Y%m%d')\n",
    "online_train['Date'] = pd.to_datetime(online_train['Date'],format='%Y%m%d')\n",
    "\n",
    "offline_train['Date_received'] = pd.to_datetime(offline_train['Date_received'],format='%Y%m%d')\n",
    "offline_train['Date'] = pd.to_datetime(offline_train['Date'],format='%Y%m%d')\n",
    "\n",
    "offline_test['Date_received'] = pd.to_datetime(offline_test['Date_received'],format='%Y%m%d')\n",
    "#offline_test['Date'] = pd.to_datetime(offline_test['Date'],format='%Y%m%d')\n",
    "\n",
    "#get discount type\n",
    "def get_discount_type(s)->str:\n",
    "    s=str(s)\n",
    "    if \":\" in s:\n",
    "        return \"1\"\n",
    "    elif \".\" in s:\n",
    "        return \"0\"\n",
    "    #elif s == \"fixed\":\n",
    "    #    return \"fixed\"\n",
    "    else:\n",
    "        return np.nan\n",
    "    \n",
    "#get uniform discount rate\n",
    "def get_uniform_discount_rate(s)->float:\n",
    "    str_value = str(s)\n",
    "    rate = None\n",
    "    if \".\" in str_value:\n",
    "        rate = float(s)\n",
    "    elif \":\" in str_value:\n",
    "        split = str_value.split(\":\")\n",
    "#         if(len(split)==2):\n",
    "        rate = float(1-float(split[1])/float(split[0]))\n",
    "#         else:\n",
    "#             rate = float(split[0])\n",
    "    return rate\n",
    "\n",
    "#get promotion condition\n",
    "def get_promotion_condition(s)->int:\n",
    "    if pd.isna(s):\n",
    "        return None\n",
    "    str_value = str(s)\n",
    "    if \":\" in str_value:\n",
    "        return int(str_value.split(\":\")[0])\n",
    "    else:\n",
    "        return -1\n",
    "    \n",
    "#get promotion amount\n",
    "def get_promotion_amount(s)->int:\n",
    "    if pd.isna(s):\n",
    "        return None\n",
    "    str_value = str(s)\n",
    "    if \":\" in str_value:\n",
    "        return int(str_value.split(\":\")[1])\n",
    "    else:\n",
    "        return -1\n",
    "\n",
    "# get date gap\n",
    "def get_date_diff(d1,d2):\n",
    "    return (d2-d1).days\n",
    "\n",
    "# get label(coupon was used within 15 days)\n",
    "def get_label(d1,d2)->bool:\n",
    "    gap = get_date_diff(d1,d2)\n",
    "    if not pd.isna(gap):\n",
    "        return gap<=15\n",
    "    else:\n",
    "        return None\n",
    "\n",
    "def data_cleaning(df):\n",
    "    df_d = df.copy()\n",
    "    df_d['discount_type']=df_d['Discount_rate'].apply(get_discount_type)\n",
    "    df_d['uniform_discount_rate']=df_d['Discount_rate'].apply(get_uniform_discount_rate)\n",
    "    df_d['promotion_condition']=df_d['Discount_rate'].apply(get_promotion_condition)\n",
    "    df_d['promotion_amonut']=df_d['Discount_rate'].apply(get_promotion_amount)\n",
    "    #df_d['date_gap']=(df_d['Date']-df_d['Date_received']).apply(lambda x:x.days)\n",
    "    return df_d\n",
    "\n",
    "offline_train_d = data_cleaning(offline_train)\n",
    "online_train_d = data_cleaning(online_train)\n",
    "offline_test_d  = data_cleaning(offline_test)"
   ]
  },
  {
   "cell_type": "code",
   "execution_count": 11,
   "id": "reported-knitting",
   "metadata": {},
   "outputs": [],
   "source": [
    "## save clean data\n",
    "offline_train_d.to_csv('./dataset/offline_train.csv',index=False)\n",
    "offline_test_d.to_csv('./dataset/offline_test.csv',index=False)\n",
    "online_train_d.to_csv('./dataset/online_train.csv',index=False)"
   ]
  },
  {
   "cell_type": "markdown",
   "id": "literary-bradford",
   "metadata": {},
   "source": [
    "## EDA"
   ]
  },
  {
   "cell_type": "markdown",
   "id": "sealed-fifth",
   "metadata": {},
   "source": [
    "### label distribution "
   ]
  },
  {
   "cell_type": "code",
   "execution_count": 6,
   "id": "bottom-abraham",
   "metadata": {},
   "outputs": [
    {
     "data": {
      "text/plain": [
       "count                  113640\n",
       "unique                     31\n",
       "top       2016-07-03 00:00:00\n",
       "freq                     5491\n",
       "first     2016-07-01 00:00:00\n",
       "last      2016-07-31 00:00:00\n",
       "Name: Date_received, dtype: object"
      ]
     },
     "execution_count": 6,
     "metadata": {},
     "output_type": "execute_result"
    }
   ],
   "source": [
    "offline_test_d.Date_received.describe()"
   ]
  },
  {
   "cell_type": "code",
   "execution_count": 7,
   "id": "competent-access",
   "metadata": {},
   "outputs": [
    {
     "data": {
      "text/plain": [
       "count                 1053282\n",
       "unique                    167\n",
       "top       2016-01-29 00:00:00\n",
       "freq                    71658\n",
       "first     2016-01-01 00:00:00\n",
       "last      2016-06-15 00:00:00\n",
       "Name: Date_received, dtype: object"
      ]
     },
     "execution_count": 7,
     "metadata": {},
     "output_type": "execute_result"
    }
   ],
   "source": [
    "offline_train_d.Date_received.describe()"
   ]
  },
  {
   "cell_type": "code",
   "execution_count": 8,
   "id": "blessed-laundry",
   "metadata": {},
   "outputs": [
    {
     "data": {
      "text/plain": [
       "count                  776984\n",
       "unique                    182\n",
       "top       2016-03-26 00:00:00\n",
       "freq                    10243\n",
       "first     2016-01-01 00:00:00\n",
       "last      2016-06-30 00:00:00\n",
       "Name: Date, dtype: object"
      ]
     },
     "execution_count": 8,
     "metadata": {},
     "output_type": "execute_result"
    }
   ],
   "source": [
    "offline_train_d.Date.describe()"
   ]
  },
  {
   "cell_type": "code",
   "execution_count": 9,
   "id": "local-management",
   "metadata": {},
   "outputs": [
    {
     "data": {
      "text/plain": [
       "count                  872357\n",
       "unique                    167\n",
       "top       2016-03-06 00:00:00\n",
       "freq                    10873\n",
       "first     2016-01-01 00:00:00\n",
       "last      2016-06-15 00:00:00\n",
       "Name: Date_received, dtype: object"
      ]
     },
     "execution_count": 9,
     "metadata": {},
     "output_type": "execute_result"
    }
   ],
   "source": [
    "online_train_d.Date_received.describe()"
   ]
  },
  {
   "cell_type": "code",
   "execution_count": 10,
   "id": "color-guess",
   "metadata": {},
   "outputs": [
    {
     "data": {
      "text/plain": [
       "count                10773928\n",
       "unique                    182\n",
       "top       2016-06-18 00:00:00\n",
       "freq                   112695\n",
       "first     2016-01-01 00:00:00\n",
       "last      2016-06-30 00:00:00\n",
       "Name: Date, dtype: object"
      ]
     },
     "execution_count": 10,
     "metadata": {},
     "output_type": "execute_result"
    }
   ],
   "source": [
    "online_train_d.Date.describe()"
   ]
  },
  {
   "cell_type": "markdown",
   "id": "understanding-market",
   "metadata": {},
   "source": [
    "### Coupon received and redeemed in Training set"
   ]
  },
  {
   "cell_type": "code",
   "execution_count": 11,
   "id": "paperback-eligibility",
   "metadata": {},
   "outputs": [
    {
     "data": {
      "text/plain": [
       "(1754884, 11)"
      ]
     },
     "execution_count": 11,
     "metadata": {},
     "output_type": "execute_result"
    }
   ],
   "source": [
    "offline_train_d.shape"
   ]
  },
  {
   "cell_type": "code",
   "execution_count": 12,
   "id": "suited-security",
   "metadata": {},
   "outputs": [
    {
     "name": "stdout",
     "output_type": "stream",
     "text": [
      "transactions without received coupon : 701602\n",
      "transactions with coupon: 75382\n",
      "never used coupon: 977900\n"
     ]
    }
   ],
   "source": [
    "print('transactions without received coupon : {}'.format(len(offline_train_d[(offline_train_d['Date'].notna()) & (offline_train_d['Coupon_id'].isna())])))\n",
    "print('transactions with coupon: {}'.format(len(offline_train_d[(offline_train_d['Date'].notna()) & (offline_train_d['Coupon_id'].notna())])))\n",
    "print('never used coupon: {}'.format(len(offline_train_d[(offline_train_d['Date'].isna()) & (offline_train_d['Coupon_id'].notna())])))"
   ]
  },
  {
   "cell_type": "code",
   "execution_count": 13,
   "id": "intellectual-worth",
   "metadata": {},
   "outputs": [],
   "source": [
    "coupon_used = offline_train_d[(offline_train_d['Date'].notna()) & (offline_train_d['Coupon_id'].notna())]\n",
    "coupon_used['datediff'] = (coupon_used['Date'] - coupon_used['Date_received']).apply(lambda x:x.days)"
   ]
  },
  {
   "cell_type": "code",
   "execution_count": 14,
   "id": "spectacular-endorsement",
   "metadata": {},
   "outputs": [],
   "source": [
    "coupon_used['label'] = coupon_used['datediff'] <= 15"
   ]
  },
  {
   "cell_type": "code",
   "execution_count": 15,
   "id": "found-austin",
   "metadata": {},
   "outputs": [
    {
     "data": {
      "text/plain": [
       "(array([9.30261866e-02, 7.02878340e-02, 3.97212973e-02, 1.94253657e-02,\n",
       "        1.15729993e-02, 1.01807848e-02, 5.72431637e-03, 6.73306735e-03,\n",
       "        1.87240765e-03, 8.80929798e-04, 4.11100572e-04, 1.55458200e-04,\n",
       "        1.41639693e-04, 1.24366560e-04, 8.29110398e-05, 3.10916399e-05,\n",
       "        1.72731333e-05, 6.90925331e-06, 6.90925331e-06, 0.00000000e+00,\n",
       "        3.45462666e-06, 0.00000000e+00, 3.45462666e-06, 3.45462666e-06,\n",
       "        3.45462666e-06]),\n",
       " array([ 0.  ,  3.84,  7.68, 11.52, 15.36, 19.2 , 23.04, 26.88, 30.72,\n",
       "        34.56, 38.4 , 42.24, 46.08, 49.92, 53.76, 57.6 , 61.44, 65.28,\n",
       "        69.12, 72.96, 76.8 , 80.64, 84.48, 88.32, 92.16, 96.  ]),\n",
       " <a list of 25 Patch objects>)"
      ]
     },
     "execution_count": 15,
     "metadata": {},
     "output_type": "execute_result"
    },
    {
     "data": {
      "image/png": "[encoded data removed]",
      "text/plain": [
       "<Figure size 432x288 with 1 Axes>"
      ]
     },
     "metadata": {
      "needs_background": "light"
     },
     "output_type": "display_data"
    }
   ],
   "source": [
    "plt.hist(coupon_used['datediff'],bins=25,density=True)"
   ]
  },
  {
   "cell_type": "code",
   "execution_count": 16,
   "id": "looking-project",
   "metadata": {},
   "outputs": [
    {
     "data": {
      "text/plain": [
       "True     64395\n",
       "False    10987\n",
       "Name: label, dtype: int64"
      ]
     },
     "execution_count": 16,
     "metadata": {},
     "output_type": "execute_result"
    }
   ],
   "source": [
    "coupon_used['label'].value_counts()"
   ]
  },
  {
   "cell_type": "code",
   "execution_count": null,
   "id": "statewide-gasoline",
   "metadata": {},
   "outputs": [],
   "source": []
  },
  {
   "cell_type": "code",
   "execution_count": 17,
   "id": "veterinary-vision",
   "metadata": {},
   "outputs": [
    {
     "name": "stdout",
     "output_type": "stream",
     "text": [
      "# unlabeled date(purchase without received coupon):701602\n",
      "# labeled data(with coupon Information):1053282\n",
      "% Negative label(received coupon, but never used):92.843%\n",
      "% Positive label(received coupon, used in 15 days):6.114%\n",
      "% Neutral label:(received coupon, used after 15 days):1.043%\n"
     ]
    }
   ],
   "source": [
    "print('# unlabeled date(purchase without received coupon):{}'.format(701602))\n",
    "print('# labeled data(with coupon Information):{}'.format((977900 + 75382)))\n",
    "print('% Negative label(received coupon, but never used):{:.3%}'.format(977900/(977900 + 75382)))\n",
    "print('% Positive label(received coupon, used in 15 days):{:.3%}'.format(64395/(977900 + 75382)))\n",
    "print('% Neutral label:(received coupon, used after 15 days):{:.3%}'.format(10987/(977900 + 75382)))"
   ]
  },
  {
   "cell_type": "code",
   "execution_count": 13,
   "id": "western-mobility",
   "metadata": {},
   "outputs": [],
   "source": [
    "labeled = offline_train_d[offline_train_d['Coupon_id'].notna()]\n",
    "def label_func(receive, use):\n",
    "    if pd.isna(use):\n",
    "        return 0\n",
    "    datediff = (use-receive).days\n",
    "    if datediff <= 15:\n",
    "        return 1\n",
    "    else:\n",
    "        return -1\n",
    "labeled['datediff'] = (labeled['Date']-labeled['Date_received']).apply(lambda x:x.days)\n",
    "labeled['target'] = labeled.apply(lambda x:label_func(x.Date_received,x.Date),axis=1)"
   ]
  },
  {
   "cell_type": "code",
   "execution_count": 14,
   "id": "focal-string",
   "metadata": {},
   "outputs": [],
   "source": [
    "labeled.to_csv(\"dataset/train_target.csv\",index=False)"
   ]
  },
  {
   "cell_type": "code",
   "execution_count": 15,
   "id": "variable-intervention",
   "metadata": {},
   "outputs": [
    {
     "data": {
      "text/plain": [
       " 0    977900\n",
       " 1     64395\n",
       "-1     10987\n",
       "Name: target, dtype: int64"
      ]
     },
     "execution_count": 15,
     "metadata": {},
     "output_type": "execute_result"
    }
   ],
   "source": [
    "labeled['target'].value_counts()"
   ]
  },
  {
   "cell_type": "code",
   "execution_count": 102,
   "id": "incorporate-lease",
   "metadata": {},
   "outputs": [],
   "source": [
    "labeled['month_received'] = labeled['Date_received'].apply(lambda x:x.month)\n",
    "\n",
    "month_stat = labeled.groupby(['month_received', 'label']).size().unstack(fill_value=0)"
   ]
  },
  {
   "cell_type": "code",
   "execution_count": 115,
   "id": "dedicated-parade",
   "metadata": {},
   "outputs": [
    {
     "data": {
      "text/html": [
       "<div>\n",
       "<style scoped>\n",
       "    .dataframe tbody tr th:only-of-type {\n",
       "        vertical-align: middle;\n",
       "    }\n",
       "\n",
       "    .dataframe tbody tr th {\n",
       "        vertical-align: top;\n",
       "    }\n",
       "\n",
       "    .dataframe thead th {\n",
       "        text-align: right;\n",
       "    }\n",
       "</style>\n",
       "<table border=\"1\" class=\"dataframe\">\n",
       "  <thead>\n",
       "    <tr style=\"text-align: right;\">\n",
       "      <th>label</th>\n",
       "      <th>-1</th>\n",
       "      <th>0</th>\n",
       "      <th>1</th>\n",
       "    </tr>\n",
       "    <tr>\n",
       "      <th>month_received</th>\n",
       "      <th></th>\n",
       "      <th></th>\n",
       "      <th></th>\n",
       "    </tr>\n",
       "  </thead>\n",
       "  <tbody>\n",
       "    <tr>\n",
       "      <th>1</th>\n",
       "      <td>3212</td>\n",
       "      <td>358478</td>\n",
       "      <td>9849</td>\n",
       "    </tr>\n",
       "    <tr>\n",
       "      <th>2</th>\n",
       "      <td>1336</td>\n",
       "      <td>126766</td>\n",
       "      <td>5331</td>\n",
       "    </tr>\n",
       "    <tr>\n",
       "      <th>3</th>\n",
       "      <td>921</td>\n",
       "      <td>87691</td>\n",
       "      <td>15291</td>\n",
       "    </tr>\n",
       "    <tr>\n",
       "      <th>4</th>\n",
       "      <td>1163</td>\n",
       "      <td>131098</td>\n",
       "      <td>5833</td>\n",
       "    </tr>\n",
       "    <tr>\n",
       "      <th>5</th>\n",
       "      <td>3336</td>\n",
       "      <td>190432</td>\n",
       "      <td>21580</td>\n",
       "    </tr>\n",
       "    <tr>\n",
       "      <th>6</th>\n",
       "      <td>1019</td>\n",
       "      <td>83435</td>\n",
       "      <td>6511</td>\n",
       "    </tr>\n",
       "  </tbody>\n",
       "</table>\n",
       "</div>"
      ],
      "text/plain": [
       "label             -1       0      1\n",
       "month_received                     \n",
       "1               3212  358478   9849\n",
       "2               1336  126766   5331\n",
       "3                921   87691  15291\n",
       "4               1163  131098   5833\n",
       "5               3336  190432  21580\n",
       "6               1019   83435   6511"
      ]
     },
     "execution_count": 115,
     "metadata": {},
     "output_type": "execute_result"
    }
   ],
   "source": [
    "month_stat"
   ]
  },
  {
   "cell_type": "code",
   "execution_count": 111,
   "id": "painful-premises",
   "metadata": {},
   "outputs": [
    {
     "data": {
      "text/html": [
       "<div>\n",
       "<style scoped>\n",
       "    .dataframe tbody tr th:only-of-type {\n",
       "        vertical-align: middle;\n",
       "    }\n",
       "\n",
       "    .dataframe tbody tr th {\n",
       "        vertical-align: top;\n",
       "    }\n",
       "\n",
       "    .dataframe thead th {\n",
       "        text-align: right;\n",
       "    }\n",
       "</style>\n",
       "<table border=\"1\" class=\"dataframe\">\n",
       "  <thead>\n",
       "    <tr style=\"text-align: right;\">\n",
       "      <th>label</th>\n",
       "      <th>-1</th>\n",
       "      <th>0</th>\n",
       "      <th>1</th>\n",
       "    </tr>\n",
       "    <tr>\n",
       "      <th>month_received</th>\n",
       "      <th></th>\n",
       "      <th></th>\n",
       "      <th></th>\n",
       "    </tr>\n",
       "  </thead>\n",
       "  <tbody>\n",
       "    <tr>\n",
       "      <th>1</th>\n",
       "      <td>0.008645</td>\n",
       "      <td>0.964846</td>\n",
       "      <td>0.026509</td>\n",
       "    </tr>\n",
       "    <tr>\n",
       "      <th>2</th>\n",
       "      <td>0.010013</td>\n",
       "      <td>0.950035</td>\n",
       "      <td>0.039953</td>\n",
       "    </tr>\n",
       "    <tr>\n",
       "      <th>3</th>\n",
       "      <td>0.008864</td>\n",
       "      <td>0.843970</td>\n",
       "      <td>0.147166</td>\n",
       "    </tr>\n",
       "    <tr>\n",
       "      <th>4</th>\n",
       "      <td>0.008422</td>\n",
       "      <td>0.949339</td>\n",
       "      <td>0.042239</td>\n",
       "    </tr>\n",
       "    <tr>\n",
       "      <th>5</th>\n",
       "      <td>0.015491</td>\n",
       "      <td>0.884299</td>\n",
       "      <td>0.100210</td>\n",
       "    </tr>\n",
       "    <tr>\n",
       "      <th>6</th>\n",
       "      <td>0.011202</td>\n",
       "      <td>0.917221</td>\n",
       "      <td>0.071577</td>\n",
       "    </tr>\n",
       "  </tbody>\n",
       "</table>\n",
       "</div>"
      ],
      "text/plain": [
       "label                 -1         0         1\n",
       "month_received                              \n",
       "1               0.008645  0.964846  0.026509\n",
       "2               0.010013  0.950035  0.039953\n",
       "3               0.008864  0.843970  0.147166\n",
       "4               0.008422  0.949339  0.042239\n",
       "5               0.015491  0.884299  0.100210\n",
       "6               0.011202  0.917221  0.071577"
      ]
     },
     "execution_count": 111,
     "metadata": {},
     "output_type": "execute_result"
    }
   ],
   "source": [
    "month_stat.div(month_stat.sum(axis=1),axis=0)"
   ]
  },
  {
   "cell_type": "markdown",
   "id": "limiting-liability",
   "metadata": {},
   "source": [
    "### users"
   ]
  },
  {
   "cell_type": "code",
   "execution_count": 30,
   "id": "automatic-raise",
   "metadata": {},
   "outputs": [],
   "source": [
    "offline_train_userset = set(offline_train_d.User_id.unique())\n",
    "online_train_userset = set(online_train_d.User_id.unique())\n",
    "offline_test_userset = set(offline_test_d.User_id.unique())"
   ]
  },
  {
   "cell_type": "code",
   "execution_count": 31,
   "id": "promising-casino",
   "metadata": {},
   "outputs": [
    {
     "name": "stdout",
     "output_type": "stream",
     "text": [
      "# user has offline data: 539438\n",
      "# user has online data: 762858\n",
      "# user in test set:76309\n"
     ]
    }
   ],
   "source": [
    "print('# user has offline data: {}'.format(len(offline_train_userset)))\n",
    "print('# user has online data: {}'.format(len(online_train_userset)))\n",
    "print('# user in test set:{}'.format(len(offline_test_userset)))"
   ]
  },
  {
   "cell_type": "code",
   "execution_count": 51,
   "id": "black-brass",
   "metadata": {},
   "outputs": [
    {
     "name": "stdout",
     "output_type": "stream",
     "text": [
      "% test user in offline train data: 99.997%\n",
      "% test user in online train data: 56.553%\n"
     ]
    }
   ],
   "source": [
    "# test user in offline train data\n",
    "print('% test user in offline train data: {:.3%}'.format(1\n",
    "                    -len(offline_test_userset - offline_train_userset) \n",
    "                                                       / len(offline_test_userset)))\n",
    "\n",
    "# test user in online train data\n",
    "print('% test user in online train data: {:.3%}'.format(1\n",
    "                    -len(offline_test_userset - online_train_userset) \n",
    "                                                       / len(offline_test_userset)))\n"
   ]
  },
  {
   "cell_type": "markdown",
   "id": "remarkable-fifteen",
   "metadata": {},
   "source": [
    "### merchants"
   ]
  },
  {
   "cell_type": "code",
   "execution_count": 49,
   "id": "organized-astrology",
   "metadata": {},
   "outputs": [],
   "source": [
    "offline_train_mset = set(offline_train_d.Merchant_id.unique())\n",
    "online_train_mset = set(online_train_d.Merchant_id.unique())\n",
    "offline_test_mset = set(offline_test_d.Merchant_id.unique())"
   ]
  },
  {
   "cell_type": "code",
   "execution_count": 52,
   "id": "indirect-journey",
   "metadata": {},
   "outputs": [
    {
     "name": "stdout",
     "output_type": "stream",
     "text": [
      "# merchant has offline data: 8415\n",
      "# merchant has online data: 7999\n",
      "# merchant in test set:1559\n"
     ]
    }
   ],
   "source": [
    "print('# merchant has offline data: {}'.format(len(offline_train_mset)))\n",
    "print('# merchant has online data: {}'.format(len(online_train_mset)))\n",
    "print('# merchant in test set:{}'.format(len(offline_test_mset)))"
   ]
  },
  {
   "cell_type": "code",
   "execution_count": 53,
   "id": "portable-short",
   "metadata": {},
   "outputs": [
    {
     "name": "stdout",
     "output_type": "stream",
     "text": [
      "% test merchant in offline train data: 99.936%\n",
      "% test merchant in online train data: 0.000%\n"
     ]
    }
   ],
   "source": [
    "# test user in offline train data\n",
    "print('% test merchant in offline train data: {:.3%}'.format(1\n",
    "                    -len(offline_test_mset - offline_train_mset) \n",
    "                                                       / len(offline_test_mset)))\n",
    "\n",
    "# test user in online train data\n",
    "print('% test merchant in online train data: {:.3%}'.format(1\n",
    "                    -len(offline_test_mset - online_train_mset) \n",
    "                                                       / len(offline_test_mset)))\n"
   ]
  },
  {
   "cell_type": "markdown",
   "id": "civil-cincinnati",
   "metadata": {},
   "source": [
    "### coupons"
   ]
  },
  {
   "cell_type": "code",
   "execution_count": 54,
   "id": "divine-muscle",
   "metadata": {},
   "outputs": [],
   "source": [
    "offline_train_cset = set(offline_train_d.Coupon_id.unique())\n",
    "online_train_cset = set(online_train_d.Coupon_id.unique())\n",
    "offline_test_cset = set(offline_test_d.Coupon_id.unique())"
   ]
  },
  {
   "cell_type": "code",
   "execution_count": 55,
   "id": "corporate-momentum",
   "metadata": {},
   "outputs": [
    {
     "name": "stdout",
     "output_type": "stream",
     "text": [
      "# coupon has offline data: 9739\n",
      "# coupon has online data: 27748\n",
      "# coupon in test set:2050\n"
     ]
    }
   ],
   "source": [
    "print('# coupon has offline data: {}'.format(len(offline_train_cset)))\n",
    "print('# coupon has online data: {}'.format(len(online_train_cset)))\n",
    "print('# coupon in test set:{}'.format(len(offline_test_cset)))"
   ]
  },
  {
   "cell_type": "code",
   "execution_count": 56,
   "id": "handmade-photography",
   "metadata": {},
   "outputs": [
    {
     "name": "stdout",
     "output_type": "stream",
     "text": [
      "% test coupon in offline train data: 54.537%\n",
      "% test coupon in online train data: 0.000%\n"
     ]
    }
   ],
   "source": [
    "# test user in offline train data\n",
    "print('% test coupon in offline train data: {:.3%}'.format(1\n",
    "                    -len(offline_test_cset - offline_train_cset) \n",
    "                                                       / len(offline_test_cset)))\n",
    "\n",
    "# test user in online train data\n",
    "print('% test coupon in online train data: {:.3%}'.format(1\n",
    "                    -len(offline_test_cset - online_train_cset) \n",
    "                                                       / len(offline_test_cset)))\n"
   ]
  },
  {
   "cell_type": "markdown",
   "id": "pregnant-buffalo",
   "metadata": {},
   "source": [
    "## feature engineering "
   ]
  },
  {
   "cell_type": "markdown",
   "id": "dried-change",
   "metadata": {},
   "source": [
    "### import automated feature engineering tools\n",
    "Website: https://www.featuretools.com/\n",
    "\n",
    "Install: https://featuretools.alteryx.com/en/stable/install.html\n",
    "\n",
    "Codes below works fine on my platform (MacOS 11.2.1, Python 3.8.5, pip 21.0.1)\n",
    "``` bash\n",
    "python -m pip install featuretools\n",
    "python -m pip install \"featuretools[complete]\"\n",
    "```\n",
    "Doc: https://featuretools.alteryx.com/en/stable/api_reference.html\n",
    "\n",
    "github https://github.com/alteryx/featuretools"
   ]
  },
  {
   "cell_type": "code",
   "execution_count": 17,
   "id": "forced-rwanda",
   "metadata": {},
   "outputs": [
    {
     "name": "stdout",
     "output_type": "stream",
     "text": [
      "0.23.1\n"
     ]
    }
   ],
   "source": [
    "import featuretools as ft\n",
    "print(ft.__version__)"
   ]
  },
  {
   "cell_type": "code",
   "execution_count": 18,
   "id": "rational-bernard",
   "metadata": {},
   "outputs": [],
   "source": [
    "df_train_target = pd.read_csv('dataset/train_target.csv')\n",
    "df_test_target = pd.read_csv('dataset/offline_test.csv')\n",
    "df_online_train = pd.read_csv('dataset/online_train.csv')\n",
    "df_offline_train = pd.read_csv('dataset/offline_train.csv')"
   ]
  },
  {
   "cell_type": "markdown",
   "id": "residential-throw",
   "metadata": {},
   "source": [
    "### Data Preparation"
   ]
  },
  {
   "cell_type": "markdown",
   "id": "suited-voltage",
   "metadata": {},
   "source": [
    "#### target table"
   ]
  },
  {
   "cell_type": "code",
   "execution_count": 19,
   "id": "three-vegetable",
   "metadata": {},
   "outputs": [],
   "source": [
    "## merge train and test target\n",
    "## only use Index, Date_received, Date, datediff, target\n",
    "df_train_target_digest = df_train_target[['User_id','Merchant_id','Coupon_id','Date_received','Date','datediff','target']]\n",
    "df_test_target_digest = df_test_target[['User_id','Merchant_id','Coupon_id','Date_received']]\n",
    "df_target_merged = pd.concat([df_train_target_digest,df_test_target_digest], axis=0, ignore_index=True)"
   ]
  },
  {
   "cell_type": "code",
   "execution_count": 20,
   "id": "characteristic-jaguar",
   "metadata": {},
   "outputs": [],
   "source": [
    "df_target_merged['Month_received']=df_target_merged['Date_received'].astype('datetime64[M]')\n",
    "df_target_merged['data'] = np.where(df_target_merged['target'].isna(), 'Test', 'Train')"
   ]
  },
  {
   "cell_type": "markdown",
   "id": "massive-letters",
   "metadata": {},
   "source": [
    "#### left table(unique user, merchant, coupon for each month)"
   ]
  },
  {
   "cell_type": "code",
   "execution_count": 21,
   "id": "sophisticated-tokyo",
   "metadata": {},
   "outputs": [],
   "source": [
    "## produce left table for feature engineering \n",
    "## for each month, get unique User(merchant, coupon) Index \n",
    "left_user = df_target_merged[['User_id','Month_received']].drop_duplicates()\n",
    "left_merchant = df_target_merged[['Merchant_id','Month_received']].drop_duplicates()\n",
    "left_coupon = df_target_merged[['Coupon_id','Month_received']].drop_duplicates()"
   ]
  },
  {
   "cell_type": "code",
   "execution_count": 22,
   "id": "express-occasion",
   "metadata": {},
   "outputs": [],
   "source": [
    "df_target_merged.to_csv('./dataset/target_merged.csv', index=False)\n",
    "left_user.to_csv('./dataset/user_left_feature_engineering.csv', index=False)\n",
    "left_merchant.to_csv('./dataset/merchant_left_feature_engineering.csv', index=False)\n",
    "left_coupon.to_csv('./dataset/coupon_left_feature_engineering.csv', index=False)"
   ]
  },
  {
   "cell_type": "markdown",
   "id": "bizarre-henry",
   "metadata": {},
   "source": [
    "#### offline transactions data preprocessing "
   ]
  },
  {
   "cell_type": "code",
   "execution_count": 23,
   "id": "eastern-chapter",
   "metadata": {},
   "outputs": [],
   "source": [
    "### right table preprocessing, maually pre-do some cross features\n",
    "#### flag of using coupon when purchasing \n",
    "df_offline_train['use_coupon'] = ((df_offline_train['Coupon_id'].notna()) &(df_offline_train['Date'].notna())).astype(int)\n",
    "#### flag of purchasing, user might use / not use the coupon\n",
    "df_offline_train['purchase'] = df_offline_train['Date'].notna().astype(int)\n",
    "#### flag of giving(for merchant) / receiving(for user) coupon, user might use / not use the coupon\n",
    "df_offline_train['give_coupon'] =  (df_offline_train['Coupon_id'].notna()).astype(int)\n",
    "df_offline_train['Date_received'] = pd.to_datetime(df_offline_train['Date_received'])\n",
    "df_offline_train['Date'] = pd.to_datetime(df_offline_train['Date'])\n",
    "\n",
    "### !!!Attention: the column for featuretools time cutoff and window function \n",
    "def join_date_func(x):\n",
    "    if pd.notna(x.Date):\n",
    "        return x.Date\n",
    "    else:\n",
    "        return x.Date_received\n",
    "\n",
    "\n",
    "df_offline_train['join_date'] = df_offline_train.apply(lambda x:join_date_func(x),axis=1)\n",
    "\n",
    "df_offline_train['datediff'] = (df_offline_train['Date'] - df_offline_train['Date_received'] ).apply(lambda x:x.days)"
   ]
  },
  {
   "cell_type": "code",
   "execution_count": 24,
   "id": "powered-malawi",
   "metadata": {},
   "outputs": [
    {
     "data": {
      "text/plain": [
       "(1754884, 16)"
      ]
     },
     "execution_count": 24,
     "metadata": {},
     "output_type": "execute_result"
    }
   ],
   "source": [
    "df_offline_train.shape"
   ]
  },
  {
   "cell_type": "markdown",
   "id": "micro-surveillance",
   "metadata": {},
   "source": [
    "#### online transaction data preprocessing"
   ]
  },
  {
   "cell_type": "code",
   "execution_count": 26,
   "id": "described-equipment",
   "metadata": {},
   "outputs": [],
   "source": [
    "### online data is just used for generate users' features, filter users in the target set\n",
    "user_list = list(left_user.User_id.unique())\n",
    "df_online_train = df_online_train[df_online_train.User_id.isin(user_list)]"
   ]
  },
  {
   "cell_type": "code",
   "execution_count": 28,
   "id": "grand-pharmaceutical",
   "metadata": {},
   "outputs": [],
   "source": [
    "### right table preprocessing, maually pre-do some cross features\n",
    "#### flag of using coupon when purchasing \n",
    "df_online_train['use_coupon'] = ((df_online_train['Coupon_id'].notna()) &(df_online_train['Date'].notna())).astype(int)\n",
    "\n",
    "\n",
    "df_online_train['Date_received'] = pd.to_datetime(df_online_train['Date_received'])\n",
    "df_online_train['Date'] = pd.to_datetime(df_online_train['Date'])\n",
    "\n",
    "df_online_train['join_date'] = df_online_train.apply(lambda x:join_date_func(x),axis=1)\n",
    "\n",
    "df_online_train['datediff'] = (df_online_train['Date'] - df_online_train['Date_received'] ).apply(lambda x:x.days)"
   ]
  },
  {
   "cell_type": "code",
   "execution_count": 36,
   "id": "amazing-marks",
   "metadata": {},
   "outputs": [],
   "source": [
    "### params for cutoff time\n",
    "months_to_produce = ['2016-04-01', '2016-05-01', '2016-06-01', '2016-07-01']\n",
    "time_window = '3 month'"
   ]
  },
  {
   "cell_type": "markdown",
   "id": "secret-diabetes",
   "metadata": {},
   "source": [
    "### merchant feature"
   ]
  },
  {
   "cell_type": "code",
   "execution_count": 38,
   "id": "productive-command",
   "metadata": {},
   "outputs": [],
   "source": [
    "curr_cutoff =  months_to_produce[-1]\n",
    "merchantset = left_merchant[left_merchant['Month_received'] == curr_cutoff]"
   ]
  },
  {
   "cell_type": "code",
   "execution_count": 159,
   "id": "compatible-pursuit",
   "metadata": {},
   "outputs": [],
   "source": [
    "es = ft.EntitySet(id='offline_merchant')\n",
    "es = es.entity_from_dataframe(entity_id='merchant',\n",
    "                             dataframe=merchantset.drop('Month_received',axis=1),\n",
    "                             index='Merchant_id',\n",
    "                             variable_types={'Merchant_id':ft.variable_types.Id})\n",
    "\n",
    "es = es.entity_from_dataframe(entity_id='merchant_offline',\n",
    "                             dataframe=df_offline_train.copy(),\n",
    "                             time_index='join_date',\n",
    "                              index='Transaction_id',\n",
    "                             make_index=True,\n",
    "                             variable_types={'Merchant_id':ft.variable_types.Id,\n",
    "                                            'User_id':ft.variable_types.Id,\n",
    "                                            'Coupon_id':ft.variable_types.Id,\n",
    "                                             'Date':ft.variable_types.DatetimeTimeIndex,\n",
    "                                             'Date_received':ft.variable_types.DatetimeTimeIndex,\n",
    "                                            #'give_coupon':ft.variable_types.Categorical,\n",
    "                                            #'use_coupon':ft.variable_types.Categorical,\n",
    "                                            #'purchase':ft.variable_types.Categorical,\n",
    "                                            'discount_type':ft.variable_types.Categorical})\n",
    "\n",
    "es['merchant_offline']['give_coupon'].interesting_values=[1]\n",
    "es['merchant_offline']['use_coupon'].interesting_values=[1]\n",
    "es['merchant_offline']['purchase'].interesting_values=[1]\n",
    "es['merchant_offline']['discount_type'].interesting_values=[0,1]\n",
    "\n",
    "\n",
    "\n",
    "\n",
    "es = es.add_relationship(ft.Relationship(es['merchant']['Merchant_id'],es['merchant_offline']['Merchant_id']))"
   ]
  },
  {
   "cell_type": "code",
   "execution_count": 162,
   "id": "intimate-peninsula",
   "metadata": {},
   "outputs": [],
   "source": [
    "features_list = ft.dfs(entityset=es,\n",
    "                                        target_entity='merchant',\n",
    "                                        agg_primitives=['mean','count','sum','max','min'\n",
    "                                                        ,'num_unique','mode','avg_time_between'],\n",
    "                                        trans_primitives=['weekday'],\n",
    "                                       primitive_options={\n",
    "                                           'mode': {'ignore_variables': {\n",
    "                                               'merchant_offline': ['Coupon_id', 'User_id',\n",
    "                                                'give_coupon','use_coupon','purchase','discount_type']\n",
    "                                           }\n",
    "                                                   },\n",
    "                                           ('max','min','num_unique'): {'ignore_variables': {\n",
    "                                               'merchant_offline': [ 'give_coupon','use_coupon',\n",
    "                                                            'purchase','discount_type', 'weekday']\n",
    "                                           }\n",
    "                                                   },\n",
    "                                       },\n",
    "                                       ignore_variables = {'merchant_offline':['join_date']},\n",
    "                                       cutoff_time=pd.Timestamp(curr_cutoff),\n",
    "                                       training_window=time_window,\n",
    "                                       where_primitives=['count','sum','mean','max','min','mode','num_unique'],\n",
    "                                        include_cutoff_time=False,\n",
    "                                        cutoff_time_in_index=True,\n",
    "                                       features_only=True\n",
    "                                      )"
   ]
  },
  {
   "cell_type": "code",
   "execution_count": 166,
   "id": "incorporated-delay",
   "metadata": {},
   "outputs": [
    {
     "name": "stdout",
     "output_type": "stream",
     "text": [
      "EntitySet scattered to 8 workers in 21 seconds\n",
      "2016-04-01 done!\n",
      "\n",
      "EntitySet scattered to 8 workers in 16 seconds\n",
      "2016-05-01 done!\n",
      "\n",
      "EntitySet scattered to 8 workers in 15 seconds\n",
      "2016-06-01 done!\n",
      "\n",
      "EntitySet scattered to 8 workers in 16 seconds\n",
      "2016-07-01 done!\n",
      "\n"
     ]
    }
   ],
   "source": [
    "matries = []\n",
    "\n",
    "for curr_cutoff in months_to_produce:\n",
    "    merchantset = left_merchant[left_merchant['Month_received'] == curr_cutoff]\n",
    "\n",
    "    es = ft.EntitySet(id='offline_merchant')\n",
    "    es = es.entity_from_dataframe(entity_id='merchant',\n",
    "                                 dataframe=merchantset.drop('Month_received',axis=1),\n",
    "                                 index='Merchant_id',\n",
    "                                 variable_types={'Merchant_id':ft.variable_types.Id})\n",
    "\n",
    "    es = es.entity_from_dataframe(entity_id='merchant_offline',\n",
    "                                 dataframe=df_offline_train.copy(),\n",
    "                                 time_index='join_date',\n",
    "                                  index='Transaction_id',\n",
    "                                 make_index=True,\n",
    "                                 variable_types={'Merchant_id':ft.variable_types.Id,\n",
    "                                                'User_id':ft.variable_types.Id,\n",
    "                                                'Coupon_id':ft.variable_types.Id,\n",
    "                                                #'give_coupon':ft.variable_types.Categorical,\n",
    "                                                #'use_coupon':ft.variable_types.Categorical,\n",
    "                                                #'purchase':ft.variable_types.Categorical,\n",
    "                                                'discount_type':ft.variable_types.Categorical})\n",
    "    es['merchant_offline']['give_coupon'].interesting_values=[1]\n",
    "    es['merchant_offline']['use_coupon'].interesting_values=[1]\n",
    "    es['merchant_offline']['purchase'].interesting_values=[1]\n",
    "    es['merchant_offline']['discount_type'].interesting_values=[0,1]\n",
    "    es = es.add_relationship(ft.Relationship(es['merchant']['Merchant_id'],es['merchant_offline']['Merchant_id']))\n",
    "\n",
    "    feature_matrix = ft.calculate_feature_matrix(entityset=es,\n",
    "                                                 features=features_list,\n",
    "                                                cutoff_time=pd.Timestamp(curr_cutoff),\n",
    "                                                training_window=time_window,\n",
    "                                                include_cutoff_time=False,\n",
    "                                                cutoff_time_in_index=True,n_jobs=-1)\n",
    "    \n",
    "    print(curr_cutoff + ' done!\\n')\n",
    "    \n",
    "    matries.append(feature_matrix)"
   ]
  },
  {
   "cell_type": "code",
   "execution_count": 167,
   "id": "existing-throat",
   "metadata": {},
   "outputs": [
    {
     "data": {
      "text/plain": [
       "(11012, 206)"
      ]
     },
     "execution_count": 167,
     "metadata": {},
     "output_type": "execute_result"
    }
   ],
   "source": [
    "merchant_feature = pd.concat(matries, axis=0)\n",
    "merchant_feature.shape"
   ]
  },
  {
   "cell_type": "code",
   "execution_count": 168,
   "id": "listed-message",
   "metadata": {},
   "outputs": [
    {
     "data": {
      "text/plain": [
       "(11012, 202)"
      ]
     },
     "execution_count": 168,
     "metadata": {},
     "output_type": "execute_result"
    }
   ],
   "source": [
    "merchant_feature_remove_null = ft.selection.remove_highly_null_features(merchant_feature,pct_null_threshold=0.9)\n",
    "merchant_feature_remove_null.shape"
   ]
  },
  {
   "cell_type": "code",
   "execution_count": 169,
   "id": "standard-fashion",
   "metadata": {},
   "outputs": [
    {
     "data": {
      "text/plain": [
       "(11012, 192)"
      ]
     },
     "execution_count": 169,
     "metadata": {},
     "output_type": "execute_result"
    }
   ],
   "source": [
    "merchant_feature_remove_single = ft.selection.remove_single_value_features(merchant_feature_remove_null)\n",
    "merchant_feature_remove_single.shape"
   ]
  },
  {
   "cell_type": "code",
   "execution_count": 216,
   "id": "practical-cuisine",
   "metadata": {},
   "outputs": [],
   "source": [
    "merchant_feature_remove_corr = ft.selection.remove_highly_correlated_features(\n",
    "    merchant_feature_remove_single,\n",
    "    pct_corr_threshold=0.95)"
   ]
  },
  {
   "cell_type": "code",
   "execution_count": 217,
   "id": "confused-warning",
   "metadata": {},
   "outputs": [
    {
     "data": {
      "text/plain": [
       "(11012, 76)"
      ]
     },
     "execution_count": 217,
     "metadata": {},
     "output_type": "execute_result"
    }
   ],
   "source": [
    "merchant_feature_remove_corr.shape"
   ]
  },
  {
   "cell_type": "code",
   "execution_count": 186,
   "id": "suspended-tennessee",
   "metadata": {},
   "outputs": [],
   "source": [
    "merchant_feature_remove_single.reset_index().to_csv('./dataset/merchant_feature_total_remove_null&singal.csv',index=False)"
   ]
  },
  {
   "cell_type": "code",
   "execution_count": 187,
   "id": "creative-little",
   "metadata": {},
   "outputs": [],
   "source": [
    "merchant_feature_remove_corr.reset_index().to_csv('./dataset/merchant_feature_total_remove_highcorr.csv',index=False)"
   ]
  },
  {
   "cell_type": "markdown",
   "id": "unexpected-problem",
   "metadata": {},
   "source": [
    "### user feature "
   ]
  },
  {
   "cell_type": "code",
   "execution_count": 43,
   "id": "convenient-jacksonville",
   "metadata": {},
   "outputs": [],
   "source": [
    "userset = left_user[left_user['Month_received']==curr_cutoff]\n",
    "df_offline_train_filted = df_offline_train[df_offline_train['User_id'].isin(userset.User_id.to_list())]\n",
    "df_online_train_filted = df_online_train[df_online_train['User_id'].isin(userset.User_id.to_list())]"
   ]
  },
  {
   "cell_type": "code",
   "execution_count": 53,
   "id": "laden-charm",
   "metadata": {},
   "outputs": [],
   "source": [
    "es = ft.EntitySet(id='total_user')\n",
    "es = es.entity_from_dataframe(entity_id='user',\n",
    "                             dataframe=userset.drop('Month_received',axis=1),\n",
    "                             index='User_id',\n",
    "                             variable_types={'User_id':ft.variable_types.Id})\n",
    "\n",
    "es = es.entity_from_dataframe(entity_id='offline',\n",
    "                             dataframe=df_offline_train_filted.copy(),\n",
    "                             time_index='join_date',\n",
    "                              index='Transaction_id',\n",
    "                             make_index=True,\n",
    "                             variable_types={'Merchant_id':ft.variable_types.Id,\n",
    "                                            'User_id':ft.variable_types.Id,\n",
    "                                            'Coupon_id':ft.variable_types.Id,\n",
    "                                             'Date':ft.variable_types.DatetimeTimeIndex,\n",
    "                                             'Date_received':ft.variable_types.DatetimeTimeIndex,\n",
    "                                           # 'give_coupon':ft.variable_types.Categorical,\n",
    "                                           # 'use_coupon':ft.variable_types.Categorical,\n",
    "                                           # 'purchase':ft.variable_types.Categorical,\n",
    "                                            'discount_type':ft.variable_types.Categorical})\n",
    "\n",
    "es = es.entity_from_dataframe(entity_id='online',\n",
    "                             dataframe=df_online_train_filted.copy(),\n",
    "                             time_index='join_date',\n",
    "                              index='Transaction_id',\n",
    "                             make_index=True,\n",
    "                             variable_types={'Merchant_id':ft.variable_types.Id,\n",
    "                                            'User_id':ft.variable_types.Id,\n",
    "                                            'Coupon_id':ft.variable_types.Id,\n",
    "                                             'Date':ft.variable_types.DatetimeTimeIndex,\n",
    "                                             'Date_received':ft.variable_types.DatetimeTimeIndex,\n",
    "                                           # 'give_coupon':ft.variable_types.Categorical,\n",
    "                                           # 'use_coupon':ft.variable_types.Categorical,\n",
    "                                           # 'purchase':ft.variable_types.Categorical,\n",
    "                                             'Action':ft.variable_types.Categorical,\n",
    "                                            'discount_type':ft.variable_types.Categorical})\n",
    "\n",
    "es['offline']['give_coupon'].interesting_values=[1]\n",
    "es['offline']['use_coupon'].interesting_values=[1]\n",
    "es['offline']['purchase'].interesting_values=[1]\n",
    "es['offline']['discount_type'].interesting_values=[0,1]\n",
    "\n",
    "es['online']['Action'].interesting_values=[0,1,2]\n",
    "\n",
    "\n",
    "es = es.add_relationship(ft.Relationship(es['user']['User_id'],es['offline']['User_id']))\n",
    "es = es.add_relationship(ft.Relationship(es['user']['User_id'],es['online']['User_id']))"
   ]
  },
  {
   "cell_type": "code",
   "execution_count": 56,
   "id": "antique-karma",
   "metadata": {},
   "outputs": [
    {
     "name": "stderr",
     "output_type": "stream",
     "text": [
      "/Users/billy/opt/anaconda3/lib/python3.8/site-packages/featuretools/primitives/options_utils.py:35: UserWarning: Variable 'weekday' not in entity 'offline'\n",
      "  warnings.warn(\"Variable '%s' not in entity '%s'\" % (invalid_var, entity))\n",
      "/Users/billy/opt/anaconda3/lib/python3.8/site-packages/featuretools/primitives/options_utils.py:35: UserWarning: Variable 'give_coupon' not in entity 'online'\n",
      "  warnings.warn(\"Variable '%s' not in entity '%s'\" % (invalid_var, entity))\n",
      "/Users/billy/opt/anaconda3/lib/python3.8/site-packages/featuretools/primitives/options_utils.py:35: UserWarning: Variable 'purchase' not in entity 'online'\n",
      "  warnings.warn(\"Variable '%s' not in entity '%s'\" % (invalid_var, entity))\n",
      "/Users/billy/opt/anaconda3/lib/python3.8/site-packages/featuretools/primitives/options_utils.py:35: UserWarning: Variable 'weekday' not in entity 'online'\n",
      "  warnings.warn(\"Variable '%s' not in entity '%s'\" % (invalid_var, entity))\n"
     ]
    }
   ],
   "source": [
    "features_list = ft.dfs(entityset=es,\n",
    "                                        target_entity='user',\n",
    "                                        agg_primitives=['mean','count','sum','max','min'\n",
    "                                                        ,'num_unique','mode',ft.primitives.AvgTimeBetween(unit='days')],\n",
    "                                        trans_primitives=['weekday'],\n",
    "                                       primitive_options={\n",
    "                                           'mode': {'ignore_variables': {\n",
    "                                               'offline': ['Coupon_id', 'Merchant_id', 'give_coupon'\n",
    "                                                           ,'use_coupon','purchase','discount_type'],\n",
    "                                               'online': ['Coupon_id', 'Merchant_id'\n",
    "                                                           ,'use_coupon','discount_type']\n",
    "                                                                        }\n",
    "                                                   },\n",
    "                                           ('max','min','num_unique'): {'ignore_variables': {\n",
    "                                               'offline': [ 'give_coupon','use_coupon','purchase','discount_type', 'weekday'],\n",
    "                                               'online': ['give_coupon','use_coupon','purchase','discount_type', 'weekday',\n",
    "                                                          'promotion_amonut','promotion_condition','uniform_discount_rate']\n",
    "                                                                                            }\n",
    "                                                                       },\n",
    "                                           ('sum') :{'ignore_variables': {\n",
    "                                               'offline': ['promotion_amonut','promotion_condition','uniform_discount_rate'],\n",
    "                                               'online': ['promotion_amonut','promotion_condition','uniform_discount_rate']\n",
    "                                                                         }\n",
    "                                                    },\n",
    "                                           \n",
    "                                           (ft.primitives.AvgTimeBetween(unit='days')):{\n",
    "                                               'ignore_entities':['online']\n",
    "                                           }\n",
    "        \n",
    "                                       },\n",
    "                                       ignore_variables = {'offline':['join_date'],'online':['join_date']},\n",
    "                                       cutoff_time=pd.Timestamp(curr_cutoff),\n",
    "                                       training_window=time_window,\n",
    "                                       where_primitives=['count','sum','mean','max','min','mode','num_unique',\n",
    "                                                        ft.primitives.AvgTimeBetween(unit='days')],\n",
    "                                        include_cutoff_time=False,\n",
    "                                        cutoff_time_in_index=True,\n",
    "                                       features_only=True\n",
    "                                      )"
   ]
  },
  {
   "cell_type": "code",
   "execution_count": 58,
   "id": "creative-archives",
   "metadata": {},
   "outputs": [
    {
     "data": {
      "text/plain": [
       "280"
      ]
     },
     "execution_count": 58,
     "metadata": {},
     "output_type": "execute_result"
    }
   ],
   "source": [
    "len(features_list)"
   ]
  },
  {
   "cell_type": "code",
   "execution_count": 59,
   "id": "curious-partnership",
   "metadata": {},
   "outputs": [
    {
     "name": "stdout",
     "output_type": "stream",
     "text": [
      "EntitySet scattered to 8 workers in 12 seconds\n",
      "2016-04-01 done!\n",
      "EntitySet scattered to 8 workers in 13 seconds\n",
      "2016-05-01 done!\n",
      "EntitySet scattered to 8 workers in 12 seconds\n",
      "2016-06-01 done!\n",
      "EntitySet scattered to 8 workers in 12 seconds\n",
      "2016-07-01 done!\n"
     ]
    }
   ],
   "source": [
    "matries = []\n",
    "\n",
    "for curr_cutoff in months_to_produce:\n",
    "    userset = left_user[left_user['Month_received']==curr_cutoff]\n",
    "    df_offline_train_filted = df_offline_train[(df_offline_train['User_id'].isin(userset.User_id.to_list())) &\n",
    "                                              (df_offline_train['join_date'] < curr_cutoff)]\n",
    "    df_online_train_filted = df_online_train[df_online_train['User_id'].isin(userset.User_id.to_list()) &\n",
    "                                                (df_online_train['join_date'] < curr_cutoff)]\n",
    "    es = ft.EntitySet(id='total_user')\n",
    "    es = es.entity_from_dataframe(entity_id='user',\n",
    "                                 dataframe=userset.drop('Month_received',axis=1),\n",
    "                                 index='User_id',\n",
    "                                 variable_types={'User_id':ft.variable_types.Id})\n",
    "\n",
    "    es = es.entity_from_dataframe(entity_id='offline',\n",
    "                                 dataframe=df_offline_train_filted.copy(),\n",
    "                                 time_index='join_date',\n",
    "                                  index='Transaction_id',\n",
    "                                 make_index=True,\n",
    "                                 variable_types={'Merchant_id':ft.variable_types.Id,\n",
    "                                                'User_id':ft.variable_types.Id,\n",
    "                                                'Coupon_id':ft.variable_types.Id,\n",
    "                                                 'Date':ft.variable_types.DatetimeTimeIndex,\n",
    "                                                 'Date_received':ft.variable_types.DatetimeTimeIndex,\n",
    "                                               # 'give_coupon':ft.variable_types.Categorical,\n",
    "                                               # 'use_coupon':ft.variable_types.Categorical,\n",
    "                                               # 'purchase':ft.variable_types.Categorical,\n",
    "                                                'discount_type':ft.variable_types.Categorical})\n",
    "\n",
    "    es = es.entity_from_dataframe(entity_id='online',\n",
    "                                 dataframe=df_online_train_filted.copy(),\n",
    "                                 time_index='join_date',\n",
    "                                  index='Transaction_id',\n",
    "                                 make_index=True,\n",
    "                                 variable_types={'Merchant_id':ft.variable_types.Id,\n",
    "                                                'User_id':ft.variable_types.Id,\n",
    "                                                'Coupon_id':ft.variable_types.Id,\n",
    "                                                 'Date':ft.variable_types.DatetimeTimeIndex,\n",
    "                                                 'Date_received':ft.variable_types.DatetimeTimeIndex,\n",
    "                                               # 'give_coupon':ft.variable_types.Categorical,\n",
    "                                               # 'use_coupon':ft.variable_types.Categorical,\n",
    "                                               # 'purchase':ft.variable_types.Categorical,\n",
    "                                                 'Action':ft.variable_types.Categorical,\n",
    "                                                'discount_type':ft.variable_types.Categorical})\n",
    "\n",
    "    es['offline']['give_coupon'].interesting_values=[1]\n",
    "    es['offline']['use_coupon'].interesting_values=[1]\n",
    "    es['offline']['purchase'].interesting_values=[1]\n",
    "    es['offline']['discount_type'].interesting_values=[0,1]\n",
    "\n",
    "    es['online']['Action'].interesting_values=[0,1,2]\n",
    "\n",
    "\n",
    "    es = es.add_relationship(ft.Relationship(es['user']['User_id'],es['offline']['User_id']))\n",
    "    es = es.add_relationship(ft.Relationship(es['user']['User_id'],es['online']['User_id']))\n",
    "    \n",
    "    feature_matrix = ft.calculate_feature_matrix(entityset=es,\n",
    "                                                 features=features_list,\n",
    "                                                cutoff_time=pd.Timestamp(curr_cutoff),\n",
    "                                                training_window=time_window,\n",
    "                                                include_cutoff_time=False,\n",
    "                                                cutoff_time_in_index=True,\n",
    "                                            n_jobs=-1)\n",
    "    print(curr_cutoff + ' done!')\n",
    "    \n",
    "    matries.append(feature_matrix)"
   ]
  },
  {
   "cell_type": "code",
   "execution_count": 60,
   "id": "infrared-conversation",
   "metadata": {},
   "outputs": [],
   "source": [
    "user_offline_feature = pd.concat(matries, axis=0)\n"
   ]
  },
  {
   "cell_type": "code",
   "execution_count": 124,
   "id": "ancient-closing",
   "metadata": {},
   "outputs": [
    {
     "data": {
      "text/plain": [
       "(415181, 168)"
      ]
     },
     "execution_count": 124,
     "metadata": {},
     "output_type": "execute_result"
    }
   ],
   "source": [
    "user_offline_feature_remove_null = ft.selection.remove_highly_null_features(user_offline_feature,pct_null_threshold=0.9)\n",
    "user_offline_feature_remove_null.shape"
   ]
  },
  {
   "cell_type": "code",
   "execution_count": 125,
   "id": "baking-dancing",
   "metadata": {},
   "outputs": [],
   "source": [
    "user_offline_feature_remove_single = ft.selection.remove_single_value_features(user_offline_feature_remove_null)"
   ]
  },
  {
   "cell_type": "code",
   "execution_count": 126,
   "id": "dental-europe",
   "metadata": {},
   "outputs": [
    {
     "data": {
      "text/plain": [
       "(415181, 157)"
      ]
     },
     "execution_count": 126,
     "metadata": {},
     "output_type": "execute_result"
    }
   ],
   "source": [
    "user_offline_feature_remove_single.shape"
   ]
  },
  {
   "cell_type": "code",
   "execution_count": 136,
   "id": "orange-tribune",
   "metadata": {},
   "outputs": [],
   "source": [
    "user_offline_feature_remove_single['PROP(online, Action = 0)'] =  user_offline_feature_remove_single['COUNT(online WHERE Action = 0)']/\\\n",
    "user_offline_feature_remove_single['COUNT(online)'] \n",
    "user_offline_feature_remove_single['PROP(online, Action = 1)'] =  user_offline_feature_remove_single['COUNT(online WHERE Action = 1)']/\\\n",
    "user_offline_feature_remove_single['COUNT(online)'] \n",
    "user_offline_feature_remove_single['PROP(online, Action = 2)'] =  user_offline_feature_remove_single['COUNT(online WHERE Action = 2)']/\\\n",
    "user_offline_feature_remove_single['COUNT(online)'] "
   ]
  },
  {
   "cell_type": "code",
   "execution_count": 142,
   "id": "together-tomato",
   "metadata": {},
   "outputs": [],
   "source": [
    "user_offline_feature_remove_corr = ft.selection.remove_highly_correlated_features(\n",
    "    user_offline_feature_remove_single,\n",
    "    pct_corr_threshold=0.9)"
   ]
  },
  {
   "cell_type": "code",
   "execution_count": 146,
   "id": "beautiful-ecuador",
   "metadata": {},
   "outputs": [],
   "source": [
    "user_offline_feature_remove_single.reset_index().to_csv('./dataset/user_feature_total_remove_null&singal.csv',index=False)\n",
    "user_offline_feature_remove_corr.reset_index().to_csv('./dataset/user_feature_total_remove_highcorr.csv',index=False)"
   ]
  },
  {
   "cell_type": "code",
   "execution_count": 147,
   "id": "fewer-interface",
   "metadata": {},
   "outputs": [
    {
     "name": "stdout",
     "output_type": "stream",
     "text": [
      "total 3190672\n",
      "-rw-r--r--@ 1 billy  staff    10M Feb 21 22:17 ccf_offline_stage1_train.zip\n",
      "-rw-r--r--@ 1 billy  staff    38M Feb 21 22:17 ccf_online_stage1_train.zip\n",
      "-rw-r--r--@ 1 billy  staff    68M Feb 21 22:17 ccf_offline_stage1_train.csv\n",
      "-rw-r--r--@ 1 billy  staff   460M Feb 21 22:17 ccf_online_stage1_train.csv\n",
      "-rw-r--r--@ 1 billy  staff   3.9M Feb 21 22:17 ccf_offline_stage1_test_revised.csv\n",
      "-rw-r--r--  1 billy  staff    87M Feb 23 12:34 offline_train.csv\n",
      "-rw-r--r--  1 billy  staff   6.3M Feb 23 12:34 offline_test.csv\n",
      "-rw-r--r--  1 billy  staff   405M Feb 23 12:35 online_train.csv\n",
      "-rw-r--r--  1 billy  staff    67M Feb 23 12:47 train_target.csv\n",
      "-rw-r--r--  1 billy  staff   213K Feb 23 13:09 user_merchant_feature_engineering.csv\n",
      "-rw-r--r--  1 billy  staff   323K Feb 23 13:10 user_left_coupon_engineering.csv\n",
      "-rw-r--r--  1 billy  staff   8.3M Feb 25 12:22 merchant_feature_total_remove_null&singal.csv\n",
      "-rw-r--r--  1 billy  staff   2.7M Feb 25 12:22 merchant_feature_total_remove_highcorr.csv\n",
      "-rw-r--r--  1 billy  staff    61M Feb 25 14:27 target_merged.csv\n",
      "-rw-r--r--  1 billy  staff    14M Feb 25 14:28 user_left_feature_engineering.csv\n",
      "-rw-r--r--  1 billy  staff   213K Feb 25 14:28 merchant_left_feature_engineering.csv\n",
      "-rw-r--r--  1 billy  staff   323K Feb 25 14:28 coupon_left_feature_engineering.csv\n",
      "-rw-r--r--  1 billy  staff   192M Feb 25 16:11 user_feature_total_remove_null&singal.csv\n",
      "-rw-r--r--  1 billy  staff    89M Feb 25 16:11 user_feature_total_remove_highcorr.csv\n"
     ]
    }
   ],
   "source": [
    "%ll -hrt dataset/"
   ]
  },
  {
   "cell_type": "markdown",
   "id": "irish-pressing",
   "metadata": {},
   "source": [
    "### coupon feature"
   ]
  },
  {
   "cell_type": "code",
   "execution_count": null,
   "id": "continent-mason",
   "metadata": {},
   "outputs": [],
   "source": []
  },
  {
   "cell_type": "markdown",
   "id": "duplicate-affair",
   "metadata": {},
   "source": [
    "### feature selection (1st)\n",
    "\n",
    "for each key(user, merchant and coupon), remove features with high missing value, with singal value and with high correlations"
   ]
  },
  {
   "cell_type": "code",
   "execution_count": 145,
   "id": "quarterly-detection",
   "metadata": {},
   "outputs": [],
   "source": [
    "def feature_selection_init(matrix,null_threshold = 0.9, corr_threshold=0.9):\n",
    "    feature_remove_null = ft.selection.remove_highly_null_features(matries,pct_null_threshold=null_threshold)\n",
    "    feature_remove_single = ft.selection.remove_single_value_features(feature_remove_null)\n",
    "    feature_remove_correlated = ft.selection.remove_highly_correlated_features(\n",
    "    feature_remove_single, pct_corr_threshold=corr_threshold)\n"
   ]
  },
  {
   "cell_type": "code",
   "execution_count": null,
   "id": "veterinary-agency",
   "metadata": {},
   "outputs": [],
   "source": []
  }
 ],
 "metadata": {
  "kernelspec": {
   "display_name": "Python 3",
   "language": "python",
   "name": "python3"
  },
  "language_info": {
   "codemirror_mode": {
    "name": "ipython",
    "version": 3
   },
   "file_extension": ".py",
   "mimetype": "text/x-python",
   "name": "python",
   "nbconvert_exporter": "python",
   "pygments_lexer": "ipython3",
   "version": "3.8.5"
  },
  "toc-autonumbering": false,
  "toc-showcode": false,
  "toc-showmarkdowntxt": false,
  "toc-showtags": false
 },
 "nbformat": 4,
 "nbformat_minor": 5
}
