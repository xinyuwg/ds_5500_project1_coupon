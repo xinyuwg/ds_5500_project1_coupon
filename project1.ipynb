{
 "cells": [
  {
   "cell_type": "markdown",
   "id": "meaningful-coach",
   "metadata": {},
   "source": [
    "# Prediction of Coupon Redemption"
   ]
  },
  {
   "cell_type": "markdown",
   "id": "brave-defeat",
   "metadata": {},
   "source": [
    "## dependencies"
   ]
  },
  {
   "cell_type": "code",
   "execution_count": 3,
   "id": "quiet-clock",
   "metadata": {},
   "outputs": [],
   "source": [
    "%matplotlib inline  \n",
    "import pandas as pd\n",
    "import numpy as np\n",
    "import matplotlib.pyplot as plt\n",
    "from datetime import datetime\n",
    "import seaborn as sns\n",
    "\n",
    "import warnings\n",
    "warnings.filterwarnings('ignore')"
   ]
  },
  {
   "cell_type": "markdown",
   "id": "american-revision",
   "metadata": {},
   "source": [
    "## data loading"
   ]
  },
  {
   "cell_type": "code",
   "execution_count": 2,
   "id": "composite-employment",
   "metadata": {},
   "outputs": [],
   "source": [
    "offline_train = pd.read_csv(\"dataset/ccf_offline_stage1_train.csv\")\n",
    "online_train = pd.read_csv(\"dataset/ccf_online_stage1_train.csv\")\n",
    "offline_test = pd.read_csv(\"dataset/ccf_offline_stage1_test_revised.csv\")"
   ]
  },
  {
   "cell_type": "code",
   "execution_count": 3,
   "id": "statutory-magnitude",
   "metadata": {},
   "outputs": [
    {
     "name": "stdout",
     "output_type": "stream",
     "text": [
      "1.2.2\n"
     ]
    }
   ],
   "source": [
    "print(pd.__version__)"
   ]
  },
  {
   "cell_type": "markdown",
   "id": "focused-hometown",
   "metadata": {},
   "source": [
    "## data cleaning"
   ]
  },
  {
   "cell_type": "code",
   "execution_count": 4,
   "id": "casual-smooth",
   "metadata": {},
   "outputs": [],
   "source": [
    "# cast str to date time --Guangyi\n",
    "online_train['Date_received'] = pd.to_datetime(online_train['Date_received'],format='%Y%m%d')\n",
    "online_train['Date'] = pd.to_datetime(online_train['Date'],format='%Y%m%d')\n",
    "\n",
    "offline_train['Date_received'] = pd.to_datetime(offline_train['Date_received'],format='%Y%m%d')\n",
    "offline_train['Date'] = pd.to_datetime(offline_train['Date'],format='%Y%m%d')\n",
    "\n",
    "offline_test['Date_received'] = pd.to_datetime(offline_test['Date_received'],format='%Y%m%d')\n",
    "#offline_test['Date'] = pd.to_datetime(offline_test['Date'],format='%Y%m%d')\n",
    "\n",
    "#get discount type\n",
    "def get_discount_type(s)->str:\n",
    "    s=str(s)\n",
    "    if \":\" in s:\n",
    "        return \"1\"\n",
    "    elif \".\" in s:\n",
    "        return \"0\"\n",
    "    #elif s == \"fixed\":\n",
    "    #    return \"fixed\"\n",
    "    else:\n",
    "        return np.nan\n",
    "    \n",
    "#get uniform discount rate\n",
    "def get_uniform_discount_rate(s)->float:\n",
    "    str_value = str(s)\n",
    "    rate = None\n",
    "    if \".\" in str_value:\n",
    "        rate = float(s)\n",
    "    elif \":\" in str_value:\n",
    "        split = str_value.split(\":\")\n",
    "#         if(len(split)==2):\n",
    "        rate = float(1-float(split[1])/float(split[0]))\n",
    "#         else:\n",
    "#             rate = float(split[0])\n",
    "    return rate\n",
    "\n",
    "#get promotion condition\n",
    "def get_promotion_condition(s)->int:\n",
    "    if pd.isna(s):\n",
    "        return None\n",
    "    str_value = str(s)\n",
    "    if \":\" in str_value:\n",
    "        return int(str_value.split(\":\")[0])\n",
    "    else:\n",
    "        return -1\n",
    "    \n",
    "#get promotion amount\n",
    "def get_promotion_amount(s)->int:\n",
    "    if pd.isna(s):\n",
    "        return None\n",
    "    str_value = str(s)\n",
    "    if \":\" in str_value:\n",
    "        return int(str_value.split(\":\")[1])\n",
    "    else:\n",
    "        return -1\n",
    "\n",
    "# get date gap\n",
    "def get_date_diff(d1,d2):\n",
    "    return (d2-d1).days\n",
    "\n",
    "# get label(coupon was used within 15 days)\n",
    "def get_label(d1,d2)->bool:\n",
    "    gap = get_date_diff(d1,d2)\n",
    "    if not pd.isna(gap):\n",
    "        return gap<=15\n",
    "    else:\n",
    "        return None\n",
    "\n",
    "def data_cleaning(df):\n",
    "    df_d = df.copy()\n",
    "    df_d['discount_type']=df_d['Discount_rate'].apply(get_discount_type)\n",
    "    df_d['uniform_discount_rate']=df_d['Discount_rate'].apply(get_uniform_discount_rate)\n",
    "    df_d['promotion_condition']=df_d['Discount_rate'].apply(get_promotion_condition)\n",
    "    df_d['promotion_amonut']=df_d['Discount_rate'].apply(get_promotion_amount)\n",
    "    #df_d['date_gap']=(df_d['Date']-df_d['Date_received']).apply(lambda x:x.days)\n",
    "    return df_d\n",
    "\n",
    "offline_train_d = data_cleaning(offline_train)\n",
    "online_train_d = data_cleaning(online_train)\n",
    "offline_test_d  = data_cleaning(offline_test)"
   ]
  },
  {
   "cell_type": "code",
   "execution_count": 5,
   "id": "absolute-interim",
   "metadata": {},
   "outputs": [],
   "source": [
    "## save clean data\n",
    "offline_train_d.to_csv('./dataset/offline_train.csv',index=False)\n",
    "offline_test_d.to_csv('./dataset/offline_test.csv',index=False)\n",
    "online_train_d.to_csv('./dataset/online_train.csv',index=False)"
   ]
  },
  {
   "cell_type": "markdown",
   "id": "typical-postage",
   "metadata": {},
   "source": [
    "## EDA"
   ]
  },
  {
   "cell_type": "markdown",
   "id": "ordinary-juvenile",
   "metadata": {},
   "source": [
    "### label distribution "
   ]
  },
  {
   "cell_type": "code",
   "execution_count": 6,
   "id": "grateful-surface",
   "metadata": {},
   "outputs": [
    {
     "data": {
      "text/plain": [
       "count                  113640\n",
       "unique                     31\n",
       "top       2016-07-03 00:00:00\n",
       "freq                     5491\n",
       "first     2016-07-01 00:00:00\n",
       "last      2016-07-31 00:00:00\n",
       "Name: Date_received, dtype: object"
      ]
     },
     "execution_count": 6,
     "metadata": {},
     "output_type": "execute_result"
    }
   ],
   "source": [
    "offline_test_d.Date_received.describe()"
   ]
  },
  {
   "cell_type": "code",
   "execution_count": 7,
   "id": "continuing-adjustment",
   "metadata": {},
   "outputs": [
    {
     "data": {
      "text/plain": [
       "count                 1053282\n",
       "unique                    167\n",
       "top       2016-01-29 00:00:00\n",
       "freq                    71658\n",
       "first     2016-01-01 00:00:00\n",
       "last      2016-06-15 00:00:00\n",
       "Name: Date_received, dtype: object"
      ]
     },
     "execution_count": 7,
     "metadata": {},
     "output_type": "execute_result"
    }
   ],
   "source": [
    "offline_train_d.Date_received.describe()"
   ]
  },
  {
   "cell_type": "code",
   "execution_count": 8,
   "id": "controversial-advantage",
   "metadata": {},
   "outputs": [
    {
     "data": {
      "text/plain": [
       "count                  776984\n",
       "unique                    182\n",
       "top       2016-03-26 00:00:00\n",
       "freq                    10243\n",
       "first     2016-01-01 00:00:00\n",
       "last      2016-06-30 00:00:00\n",
       "Name: Date, dtype: object"
      ]
     },
     "execution_count": 8,
     "metadata": {},
     "output_type": "execute_result"
    }
   ],
   "source": [
    "offline_train_d.Date.describe()"
   ]
  },
  {
   "cell_type": "code",
   "execution_count": 9,
   "id": "operating-drill",
   "metadata": {},
   "outputs": [
    {
     "data": {
      "text/plain": [
       "count                  872357\n",
       "unique                    167\n",
       "top       2016-03-06 00:00:00\n",
       "freq                    10873\n",
       "first     2016-01-01 00:00:00\n",
       "last      2016-06-15 00:00:00\n",
       "Name: Date_received, dtype: object"
      ]
     },
     "execution_count": 9,
     "metadata": {},
     "output_type": "execute_result"
    }
   ],
   "source": [
    "online_train_d.Date_received.describe()"
   ]
  },
  {
   "cell_type": "code",
   "execution_count": 10,
   "id": "specific-somalia",
   "metadata": {},
   "outputs": [
    {
     "data": {
      "text/plain": [
       "count                10773928\n",
       "unique                    182\n",
       "top       2016-06-18 00:00:00\n",
       "freq                   112695\n",
       "first     2016-01-01 00:00:00\n",
       "last      2016-06-30 00:00:00\n",
       "Name: Date, dtype: object"
      ]
     },
     "execution_count": 10,
     "metadata": {},
     "output_type": "execute_result"
    }
   ],
   "source": [
    "online_train_d.Date.describe()"
   ]
  },
  {
   "cell_type": "markdown",
   "id": "brilliant-classification",
   "metadata": {},
   "source": [
    "### Coupon received and redeemed in Training set"
   ]
  },
  {
   "cell_type": "code",
   "execution_count": 11,
   "id": "royal-union",
   "metadata": {},
   "outputs": [
    {
     "data": {
      "text/plain": [
       "(1754884, 11)"
      ]
     },
     "execution_count": 11,
     "metadata": {},
     "output_type": "execute_result"
    }
   ],
   "source": [
    "offline_train_d.shape"
   ]
  },
  {
   "cell_type": "code",
   "execution_count": 12,
   "id": "lasting-eleven",
   "metadata": {},
   "outputs": [
    {
     "name": "stdout",
     "output_type": "stream",
     "text": [
      "transactions without received coupon : 701602\n",
      "transactions with coupon: 75382\n",
      "never used coupon: 977900\n"
     ]
    }
   ],
   "source": [
    "print('transactions without received coupon : {}'.format(len(offline_train_d[(offline_train_d['Date'].notna()) & (offline_train_d['Coupon_id'].isna())])))\n",
    "print('transactions with coupon: {}'.format(len(offline_train_d[(offline_train_d['Date'].notna()) & (offline_train_d['Coupon_id'].notna())])))\n",
    "print('never used coupon: {}'.format(len(offline_train_d[(offline_train_d['Date'].isna()) & (offline_train_d['Coupon_id'].notna())])))"
   ]
  },
  {
   "cell_type": "code",
   "execution_count": 13,
   "id": "ruled-connecticut",
   "metadata": {},
   "outputs": [],
   "source": [
    "coupon_used = offline_train_d[(offline_train_d['Date'].notna()) & (offline_train_d['Coupon_id'].notna())]\n",
    "coupon_used['datediff'] = (coupon_used['Date'] - coupon_used['Date_received']).apply(lambda x:x.days)"
   ]
  },
  {
   "cell_type": "code",
   "execution_count": 14,
   "id": "contemporary-release",
   "metadata": {},
   "outputs": [],
   "source": [
    "coupon_used['label'] = coupon_used['datediff'] <= 15"
   ]
  },
  {
   "cell_type": "code",
   "execution_count": 15,
   "id": "opposed-glance",
   "metadata": {},
   "outputs": [
    {
     "data": {
      "text/plain": [
       "(array([9.30261866e-02, 7.02878340e-02, 3.97212973e-02, 1.94253657e-02,\n",
       "        1.15729993e-02, 1.01807848e-02, 5.72431637e-03, 6.73306735e-03,\n",
       "        1.87240765e-03, 8.80929798e-04, 4.11100572e-04, 1.55458200e-04,\n",
       "        1.41639693e-04, 1.24366560e-04, 8.29110398e-05, 3.10916399e-05,\n",
       "        1.72731333e-05, 6.90925331e-06, 6.90925331e-06, 0.00000000e+00,\n",
       "        3.45462666e-06, 0.00000000e+00, 3.45462666e-06, 3.45462666e-06,\n",
       "        3.45462666e-06]),\n",
       " array([ 0.  ,  3.84,  7.68, 11.52, 15.36, 19.2 , 23.04, 26.88, 30.72,\n",
       "        34.56, 38.4 , 42.24, 46.08, 49.92, 53.76, 57.6 , 61.44, 65.28,\n",
       "        69.12, 72.96, 76.8 , 80.64, 84.48, 88.32, 92.16, 96.  ]),\n",
       " <BarContainer object of 25 artists>)"
      ]
     },
     "execution_count": 15,
     "metadata": {},
     "output_type": "execute_result"
    },
    {
     "data": {
      "image/png": "[encoded data removed]",
      "text/plain": [
       "<Figure size 432x288 with 1 Axes>"
      ]
     },
     "metadata": {
      "needs_background": "light"
     },
     "output_type": "display_data"
    }
   ],
   "source": [
    "plt.hist(coupon_used['datediff'],bins=25,density=True)"
   ]
  },
  {
   "cell_type": "code",
   "execution_count": 16,
   "id": "entertaining-samba",
   "metadata": {},
   "outputs": [
    {
     "data": {
      "text/plain": [
       "True     64395\n",
       "False    10987\n",
       "Name: label, dtype: int64"
      ]
     },
     "execution_count": 16,
     "metadata": {},
     "output_type": "execute_result"
    }
   ],
   "source": [
    "coupon_used['label'].value_counts()"
   ]
  },
  {
   "cell_type": "code",
   "execution_count": null,
   "id": "occupational-twelve",
   "metadata": {},
   "outputs": [],
   "source": []
  },
  {
   "cell_type": "code",
   "execution_count": 17,
   "id": "emotional-retro",
   "metadata": {},
   "outputs": [
    {
     "name": "stdout",
     "output_type": "stream",
     "text": [
      "# unlabeled date(purchase without received coupon):701602\n",
      "# labeled data(with coupon Information):1053282\n",
      "% Negative label(received coupon, but never used):92.843%\n",
      "% Positive label(received coupon, used in 15 days):6.114%\n",
      "% Neutral label:(received coupon, used after 15 days):1.043%\n"
     ]
    }
   ],
   "source": [
    "print('# unlabeled date(purchase without received coupon):{}'.format(701602))\n",
    "print('# labeled data(with coupon Information):{}'.format((977900 + 75382)))\n",
    "print('% Negative label(received coupon, but never used):{:.3%}'.format(977900/(977900 + 75382)))\n",
    "print('% Positive label(received coupon, used in 15 days):{:.3%}'.format(64395/(977900 + 75382)))\n",
    "print('% Neutral label:(received coupon, used after 15 days):{:.3%}'.format(10987/(977900 + 75382)))"
   ]
  },
  {
   "cell_type": "code",
   "execution_count": 22,
   "id": "respiratory-noise",
   "metadata": {},
   "outputs": [],
   "source": [
    "labeled = offline_train_d[offline_train_d['Coupon_id'].notna()]\n",
    "def label_func(receive, use):\n",
    "    if pd.isna(use):\n",
    "        return 0\n",
    "    datediff = (use-receive).days\n",
    "    if datediff <= 15:\n",
    "        return 1\n",
    "    else:\n",
    "        return -1\n",
    "labeled['datediff'] = (labeled['Date']-labeled['Date_received']).apply(lambda x:x.days)\n",
    "labeled['target'] = labeled.apply(lambda x:label_func(x.Date_received,x.Date),axis=1)"
   ]
  },
  {
   "cell_type": "code",
   "execution_count": 19,
   "id": "wanted-intent",
   "metadata": {},
   "outputs": [],
   "source": [
    "labeled.to_csv(\"dataset/train_target.csv\",index=False)"
   ]
  },
  {
   "cell_type": "code",
   "execution_count": 24,
   "id": "experienced-battle",
   "metadata": {},
   "outputs": [
    {
     "data": {
      "text/html": [
       "<div>\n",
       "<style scoped>\n",
       "    .dataframe tbody tr th:only-of-type {\n",
       "        vertical-align: middle;\n",
       "    }\n",
       "\n",
       "    .dataframe tbody tr th {\n",
       "        vertical-align: top;\n",
       "    }\n",
       "\n",
       "    .dataframe thead th {\n",
       "        text-align: right;\n",
       "    }\n",
       "</style>\n",
       "<table border=\"1\" class=\"dataframe\">\n",
       "  <thead>\n",
       "    <tr style=\"text-align: right;\">\n",
       "      <th></th>\n",
       "      <th>User_id</th>\n",
       "      <th>Merchant_id</th>\n",
       "      <th>Coupon_id</th>\n",
       "      <th>Discount_rate</th>\n",
       "      <th>Distance</th>\n",
       "      <th>Date_received</th>\n",
       "      <th>Date</th>\n",
       "      <th>discount_type</th>\n",
       "      <th>uniform_discount_rate</th>\n",
       "      <th>promotion_condition</th>\n",
       "      <th>promotion_amonut</th>\n",
       "      <th>datediff</th>\n",
       "      <th>target</th>\n",
       "    </tr>\n",
       "  </thead>\n",
       "  <tbody>\n",
       "    <tr>\n",
       "      <th>1</th>\n",
       "      <td>1439408</td>\n",
       "      <td>4663</td>\n",
       "      <td>11002.0</td>\n",
       "      <td>150:20</td>\n",
       "      <td>1.0</td>\n",
       "      <td>2016-05-28</td>\n",
       "      <td>NaT</td>\n",
       "      <td>1</td>\n",
       "      <td>0.866667</td>\n",
       "      <td>150.0</td>\n",
       "      <td>20.0</td>\n",
       "      <td>NaN</td>\n",
       "      <td>0</td>\n",
       "    </tr>\n",
       "    <tr>\n",
       "      <th>2</th>\n",
       "      <td>1439408</td>\n",
       "      <td>2632</td>\n",
       "      <td>8591.0</td>\n",
       "      <td>20:1</td>\n",
       "      <td>0.0</td>\n",
       "      <td>2016-02-17</td>\n",
       "      <td>NaT</td>\n",
       "      <td>1</td>\n",
       "      <td>0.950000</td>\n",
       "      <td>20.0</td>\n",
       "      <td>1.0</td>\n",
       "      <td>NaN</td>\n",
       "      <td>0</td>\n",
       "    </tr>\n",
       "    <tr>\n",
       "      <th>3</th>\n",
       "      <td>1439408</td>\n",
       "      <td>2632</td>\n",
       "      <td>1078.0</td>\n",
       "      <td>20:1</td>\n",
       "      <td>0.0</td>\n",
       "      <td>2016-03-19</td>\n",
       "      <td>NaT</td>\n",
       "      <td>1</td>\n",
       "      <td>0.950000</td>\n",
       "      <td>20.0</td>\n",
       "      <td>1.0</td>\n",
       "      <td>NaN</td>\n",
       "      <td>0</td>\n",
       "    </tr>\n",
       "    <tr>\n",
       "      <th>4</th>\n",
       "      <td>1439408</td>\n",
       "      <td>2632</td>\n",
       "      <td>8591.0</td>\n",
       "      <td>20:1</td>\n",
       "      <td>0.0</td>\n",
       "      <td>2016-06-13</td>\n",
       "      <td>NaT</td>\n",
       "      <td>1</td>\n",
       "      <td>0.950000</td>\n",
       "      <td>20.0</td>\n",
       "      <td>1.0</td>\n",
       "      <td>NaN</td>\n",
       "      <td>0</td>\n",
       "    </tr>\n",
       "    <tr>\n",
       "      <th>6</th>\n",
       "      <td>1439408</td>\n",
       "      <td>2632</td>\n",
       "      <td>8591.0</td>\n",
       "      <td>20:1</td>\n",
       "      <td>0.0</td>\n",
       "      <td>2016-05-16</td>\n",
       "      <td>2016-06-13</td>\n",
       "      <td>1</td>\n",
       "      <td>0.950000</td>\n",
       "      <td>20.0</td>\n",
       "      <td>1.0</td>\n",
       "      <td>28.0</td>\n",
       "      <td>-1</td>\n",
       "    </tr>\n",
       "  </tbody>\n",
       "</table>\n",
       "</div>"
      ],
      "text/plain": [
       "   User_id  Merchant_id  Coupon_id Discount_rate  Distance Date_received  \\\n",
       "1  1439408         4663    11002.0        150:20       1.0    2016-05-28   \n",
       "2  1439408         2632     8591.0          20:1       0.0    2016-02-17   \n",
       "3  1439408         2632     1078.0          20:1       0.0    2016-03-19   \n",
       "4  1439408         2632     8591.0          20:1       0.0    2016-06-13   \n",
       "6  1439408         2632     8591.0          20:1       0.0    2016-05-16   \n",
       "\n",
       "        Date discount_type  uniform_discount_rate  promotion_condition  \\\n",
       "1        NaT             1               0.866667                150.0   \n",
       "2        NaT             1               0.950000                 20.0   \n",
       "3        NaT             1               0.950000                 20.0   \n",
       "4        NaT             1               0.950000                 20.0   \n",
       "6 2016-06-13             1               0.950000                 20.0   \n",
       "\n",
       "   promotion_amonut  datediff  target  \n",
       "1              20.0       NaN       0  \n",
       "2               1.0       NaN       0  \n",
       "3               1.0       NaN       0  \n",
       "4               1.0       NaN       0  \n",
       "6               1.0      28.0      -1  "
      ]
     },
     "execution_count": 24,
     "metadata": {},
     "output_type": "execute_result"
    }
   ],
   "source": [
    "labeled['target'].value_counts()\n",
    "labeled.head()"
   ]
  },
  {
   "cell_type": "code",
   "execution_count": 21,
   "id": "textile-racing",
   "metadata": {},
   "outputs": [
    {
     "ename": "KeyError",
     "evalue": "'label'",
     "output_type": "error",
     "traceback": [
      "\u001b[0;31m---------------------------------------------------------------------------\u001b[0m",
      "\u001b[0;31mKeyError\u001b[0m                                  Traceback (most recent call last)",
      "\u001b[0;32m<ipython-input-21-81046ff26520>\u001b[0m in \u001b[0;36m<module>\u001b[0;34m\u001b[0m\n\u001b[1;32m      1\u001b[0m \u001b[0mlabeled\u001b[0m\u001b[0;34m[\u001b[0m\u001b[0;34m'month_received'\u001b[0m\u001b[0;34m]\u001b[0m \u001b[0;34m=\u001b[0m \u001b[0mlabeled\u001b[0m\u001b[0;34m[\u001b[0m\u001b[0;34m'Date_received'\u001b[0m\u001b[0;34m]\u001b[0m\u001b[0;34m.\u001b[0m\u001b[0mapply\u001b[0m\u001b[0;34m(\u001b[0m\u001b[0;32mlambda\u001b[0m \u001b[0mx\u001b[0m\u001b[0;34m:\u001b[0m\u001b[0mx\u001b[0m\u001b[0;34m.\u001b[0m\u001b[0mmonth\u001b[0m\u001b[0;34m)\u001b[0m\u001b[0;34m\u001b[0m\u001b[0;34m\u001b[0m\u001b[0m\n\u001b[1;32m      2\u001b[0m \u001b[0;34m\u001b[0m\u001b[0m\n\u001b[0;32m----> 3\u001b[0;31m \u001b[0mmonth_stat\u001b[0m \u001b[0;34m=\u001b[0m \u001b[0mlabeled\u001b[0m\u001b[0;34m.\u001b[0m\u001b[0mgroupby\u001b[0m\u001b[0;34m(\u001b[0m\u001b[0;34m[\u001b[0m\u001b[0;34m'month_received'\u001b[0m\u001b[0;34m,\u001b[0m \u001b[0;34m'label'\u001b[0m\u001b[0;34m]\u001b[0m\u001b[0;34m)\u001b[0m\u001b[0;34m.\u001b[0m\u001b[0msize\u001b[0m\u001b[0;34m(\u001b[0m\u001b[0;34m)\u001b[0m\u001b[0;34m.\u001b[0m\u001b[0munstack\u001b[0m\u001b[0;34m(\u001b[0m\u001b[0mfill_value\u001b[0m\u001b[0;34m=\u001b[0m\u001b[0;36m0\u001b[0m\u001b[0;34m)\u001b[0m\u001b[0;34m\u001b[0m\u001b[0;34m\u001b[0m\u001b[0m\n\u001b[0m",
      "\u001b[0;32m/usr/local/lib/python3.9/site-packages/pandas/core/frame.py\u001b[0m in \u001b[0;36mgroupby\u001b[0;34m(self, by, axis, level, as_index, sort, group_keys, squeeze, observed, dropna)\u001b[0m\n\u001b[1;32m   6712\u001b[0m         \u001b[0maxis\u001b[0m \u001b[0;34m=\u001b[0m \u001b[0mself\u001b[0m\u001b[0;34m.\u001b[0m\u001b[0m_get_axis_number\u001b[0m\u001b[0;34m(\u001b[0m\u001b[0maxis\u001b[0m\u001b[0;34m)\u001b[0m\u001b[0;34m\u001b[0m\u001b[0;34m\u001b[0m\u001b[0m\n\u001b[1;32m   6713\u001b[0m \u001b[0;34m\u001b[0m\u001b[0m\n\u001b[0;32m-> 6714\u001b[0;31m         return DataFrameGroupBy(\n\u001b[0m\u001b[1;32m   6715\u001b[0m             \u001b[0mobj\u001b[0m\u001b[0;34m=\u001b[0m\u001b[0mself\u001b[0m\u001b[0;34m,\u001b[0m\u001b[0;34m\u001b[0m\u001b[0;34m\u001b[0m\u001b[0m\n\u001b[1;32m   6716\u001b[0m             \u001b[0mkeys\u001b[0m\u001b[0;34m=\u001b[0m\u001b[0mby\u001b[0m\u001b[0;34m,\u001b[0m\u001b[0;34m\u001b[0m\u001b[0;34m\u001b[0m\u001b[0m\n",
      "\u001b[0;32m/usr/local/lib/python3.9/site-packages/pandas/core/groupby/groupby.py\u001b[0m in \u001b[0;36m__init__\u001b[0;34m(self, obj, keys, axis, level, grouper, exclusions, selection, as_index, sort, group_keys, squeeze, observed, mutated, dropna)\u001b[0m\n\u001b[1;32m    558\u001b[0m             \u001b[0;32mfrom\u001b[0m \u001b[0mpandas\u001b[0m\u001b[0;34m.\u001b[0m\u001b[0mcore\u001b[0m\u001b[0;34m.\u001b[0m\u001b[0mgroupby\u001b[0m\u001b[0;34m.\u001b[0m\u001b[0mgrouper\u001b[0m \u001b[0;32mimport\u001b[0m \u001b[0mget_grouper\u001b[0m\u001b[0;34m\u001b[0m\u001b[0;34m\u001b[0m\u001b[0m\n\u001b[1;32m    559\u001b[0m \u001b[0;34m\u001b[0m\u001b[0m\n\u001b[0;32m--> 560\u001b[0;31m             grouper, exclusions, obj = get_grouper(\n\u001b[0m\u001b[1;32m    561\u001b[0m                 \u001b[0mobj\u001b[0m\u001b[0;34m,\u001b[0m\u001b[0;34m\u001b[0m\u001b[0;34m\u001b[0m\u001b[0m\n\u001b[1;32m    562\u001b[0m                 \u001b[0mkeys\u001b[0m\u001b[0;34m,\u001b[0m\u001b[0;34m\u001b[0m\u001b[0;34m\u001b[0m\u001b[0m\n",
      "\u001b[0;32m/usr/local/lib/python3.9/site-packages/pandas/core/groupby/grouper.py\u001b[0m in \u001b[0;36mget_grouper\u001b[0;34m(obj, key, axis, level, sort, observed, mutated, validate, dropna)\u001b[0m\n\u001b[1;32m    809\u001b[0m                 \u001b[0min_axis\u001b[0m\u001b[0;34m,\u001b[0m \u001b[0mname\u001b[0m\u001b[0;34m,\u001b[0m \u001b[0mlevel\u001b[0m\u001b[0;34m,\u001b[0m \u001b[0mgpr\u001b[0m \u001b[0;34m=\u001b[0m \u001b[0;32mFalse\u001b[0m\u001b[0;34m,\u001b[0m \u001b[0;32mNone\u001b[0m\u001b[0;34m,\u001b[0m \u001b[0mgpr\u001b[0m\u001b[0;34m,\u001b[0m \u001b[0;32mNone\u001b[0m\u001b[0;34m\u001b[0m\u001b[0;34m\u001b[0m\u001b[0m\n\u001b[1;32m    810\u001b[0m             \u001b[0;32melse\u001b[0m\u001b[0;34m:\u001b[0m\u001b[0;34m\u001b[0m\u001b[0;34m\u001b[0m\u001b[0m\n\u001b[0;32m--> 811\u001b[0;31m                 \u001b[0;32mraise\u001b[0m \u001b[0mKeyError\u001b[0m\u001b[0;34m(\u001b[0m\u001b[0mgpr\u001b[0m\u001b[0;34m)\u001b[0m\u001b[0;34m\u001b[0m\u001b[0;34m\u001b[0m\u001b[0m\n\u001b[0m\u001b[1;32m    812\u001b[0m         \u001b[0;32melif\u001b[0m \u001b[0misinstance\u001b[0m\u001b[0;34m(\u001b[0m\u001b[0mgpr\u001b[0m\u001b[0;34m,\u001b[0m \u001b[0mGrouper\u001b[0m\u001b[0;34m)\u001b[0m \u001b[0;32mand\u001b[0m \u001b[0mgpr\u001b[0m\u001b[0;34m.\u001b[0m\u001b[0mkey\u001b[0m \u001b[0;32mis\u001b[0m \u001b[0;32mnot\u001b[0m \u001b[0;32mNone\u001b[0m\u001b[0;34m:\u001b[0m\u001b[0;34m\u001b[0m\u001b[0;34m\u001b[0m\u001b[0m\n\u001b[1;32m    813\u001b[0m             \u001b[0;31m# Add key to exclusions\u001b[0m\u001b[0;34m\u001b[0m\u001b[0;34m\u001b[0m\u001b[0;34m\u001b[0m\u001b[0m\n",
      "\u001b[0;31mKeyError\u001b[0m: 'label'"
     ]
    }
   ],
   "source": [
    "# labeled['month_received'] = labeled['Date_received'].apply(lambda x:x.month)\n",
    "\n",
    "# month_stat = labeled.groupby(['month_received', 'label']).size().unstack(fill_value=0)"
   ]
  },
  {
   "cell_type": "code",
   "execution_count": null,
   "id": "moderate-discretion",
   "metadata": {},
   "outputs": [],
   "source": [
    "# month_stat"
   ]
  },
  {
   "cell_type": "code",
   "execution_count": null,
   "id": "ultimate-syndicate",
   "metadata": {},
   "outputs": [],
   "source": [
    "# month_stat.div(month_stat.sum(axis=1),axis=0)"
   ]
  },
  {
   "cell_type": "markdown",
   "id": "floral-brunswick",
   "metadata": {},
   "source": [
    "### users"
   ]
  },
  {
   "cell_type": "code",
   "execution_count": 25,
   "id": "smart-welding",
   "metadata": {},
   "outputs": [],
   "source": [
    "offline_train_userset = set(offline_train_d.User_id.unique())\n",
    "online_train_userset = set(online_train_d.User_id.unique())\n",
    "offline_test_userset = set(offline_test_d.User_id.unique())"
   ]
  },
  {
   "cell_type": "code",
   "execution_count": 26,
   "id": "surgical-reducing",
   "metadata": {},
   "outputs": [
    {
     "name": "stdout",
     "output_type": "stream",
     "text": [
      "# user has offline data: 539438\n",
      "# user has online data: 762858\n",
      "# user in test set:76309\n"
     ]
    }
   ],
   "source": [
    "print('# user has offline data: {}'.format(len(offline_train_userset)))\n",
    "print('# user has online data: {}'.format(len(online_train_userset)))\n",
    "print('# user in test set:{}'.format(len(offline_test_userset)))"
   ]
  },
  {
   "cell_type": "code",
   "execution_count": 27,
   "id": "accessory-aside",
   "metadata": {},
   "outputs": [
    {
     "name": "stdout",
     "output_type": "stream",
     "text": [
      "% test user in offline train data: 99.997%\n",
      "% test user in online train data: 56.553%\n"
     ]
    }
   ],
   "source": [
    "# test user in offline train data\n",
    "print('% test user in offline train data: {:.3%}'.format(1\n",
    "                    -len(offline_test_userset - offline_train_userset) \n",
    "                                                       / len(offline_test_userset)))\n",
    "\n",
    "# test user in online train data\n",
    "print('% test user in online train data: {:.3%}'.format(1\n",
    "                    -len(offline_test_userset - online_train_userset) \n",
    "                                                       / len(offline_test_userset)))\n"
   ]
  },
  {
   "cell_type": "markdown",
   "id": "excessive-intention",
   "metadata": {},
   "source": [
    "### merchants"
   ]
  },
  {
   "cell_type": "code",
   "execution_count": 28,
   "id": "wanted-iraqi",
   "metadata": {},
   "outputs": [],
   "source": [
    "offline_train_mset = set(offline_train_d.Merchant_id.unique())\n",
    "online_train_mset = set(online_train_d.Merchant_id.unique())\n",
    "offline_test_mset = set(offline_test_d.Merchant_id.unique())"
   ]
  },
  {
   "cell_type": "code",
   "execution_count": 29,
   "id": "quick-swiss",
   "metadata": {},
   "outputs": [
    {
     "name": "stdout",
     "output_type": "stream",
     "text": [
      "# merchant has offline data: 8415\n",
      "# merchant has online data: 7999\n",
      "# merchant in test set:1559\n"
     ]
    }
   ],
   "source": [
    "print('# merchant has offline data: {}'.format(len(offline_train_mset)))\n",
    "print('# merchant has online data: {}'.format(len(online_train_mset)))\n",
    "print('# merchant in test set:{}'.format(len(offline_test_mset)))"
   ]
  },
  {
   "cell_type": "code",
   "execution_count": 30,
   "id": "selected-machinery",
   "metadata": {},
   "outputs": [
    {
     "name": "stdout",
     "output_type": "stream",
     "text": [
      "% test merchant in offline train data: 99.936%\n",
      "% test merchant in online train data: 0.000%\n"
     ]
    }
   ],
   "source": [
    "# test user in offline train data\n",
    "print('% test merchant in offline train data: {:.3%}'.format(1\n",
    "                    -len(offline_test_mset - offline_train_mset) \n",
    "                                                       / len(offline_test_mset)))\n",
    "\n",
    "# test user in online train data\n",
    "print('% test merchant in online train data: {:.3%}'.format(1\n",
    "                    -len(offline_test_mset - online_train_mset) \n",
    "                                                       / len(offline_test_mset)))\n"
   ]
  },
  {
   "cell_type": "markdown",
   "id": "hairy-battle",
   "metadata": {},
   "source": [
    "### coupons"
   ]
  },
  {
   "cell_type": "code",
   "execution_count": 31,
   "id": "finished-ecology",
   "metadata": {},
   "outputs": [],
   "source": [
    "offline_train_cset = set(offline_train_d.Coupon_id.unique())\n",
    "online_train_cset = set(online_train_d.Coupon_id.unique())\n",
    "offline_test_cset = set(offline_test_d.Coupon_id.unique())"
   ]
  },
  {
   "cell_type": "code",
   "execution_count": 32,
   "id": "frequent-postage",
   "metadata": {},
   "outputs": [
    {
     "name": "stdout",
     "output_type": "stream",
     "text": [
      "# coupon has offline data: 9739\n",
      "# coupon has online data: 27748\n",
      "# coupon in test set:2050\n"
     ]
    }
   ],
   "source": [
    "print('# coupon has offline data: {}'.format(len(offline_train_cset)))\n",
    "print('# coupon has online data: {}'.format(len(online_train_cset)))\n",
    "print('# coupon in test set:{}'.format(len(offline_test_cset)))"
   ]
  },
  {
   "cell_type": "code",
   "execution_count": 33,
   "id": "silver-heading",
   "metadata": {},
   "outputs": [
    {
     "name": "stdout",
     "output_type": "stream",
     "text": [
      "% test coupon in offline train data: 54.537%\n",
      "% test coupon in online train data: 0.000%\n"
     ]
    }
   ],
   "source": [
    "# test user in offline train data\n",
    "print('% test coupon in offline train data: {:.3%}'.format(1\n",
    "                    -len(offline_test_cset - offline_train_cset) \n",
    "                                                       / len(offline_test_cset)))\n",
    "\n",
    "# test user in online train data\n",
    "print('% test coupon in online train data: {:.3%}'.format(1\n",
    "                    -len(offline_test_cset - online_train_cset) \n",
    "                                                       / len(offline_test_cset)))\n"
   ]
  },
  {
   "cell_type": "markdown",
   "id": "elder-province",
   "metadata": {},
   "source": [
    "## feature engineering "
   ]
  },
  {
   "cell_type": "markdown",
   "id": "laughing-color",
   "metadata": {},
   "source": [
    "### import automated feature engineering tools\n",
    "Website: https://www.featuretools.com/\n",
    "\n",
    "Install: https://featuretools.alteryx.com/en/stable/install.html\n",
    "\n",
    "Codes below works fine on my platform (MacOS 11.2.1, Python 3.8.5, pip 21.0.1)\n",
    "``` bash\n",
    "python -m pip install featuretools\n",
    "python -m pip install \"featuretools[complete]\"\n",
    "```\n",
    "\n",
    "Doc: https://featuretools.alteryx.com/en/stable/api_reference.html\n",
    "\n",
    "github https://github.com/alteryx/featuretools"
   ]
  },
  {
   "cell_type": "code",
   "execution_count": 1,
   "id": "immediate-medicine",
   "metadata": {
    "tags": []
   },
   "outputs": [
    {
     "name": "stdout",
     "output_type": "stream",
     "text": [
      "0.23.1\n"
     ]
    }
   ],
   "source": [
    "import featuretools as ft\n",
    "print(ft.__version__)"
   ]
  },
  {
   "cell_type": "code",
   "execution_count": 4,
   "id": "tough-neutral",
   "metadata": {},
   "outputs": [],
   "source": [
    "df_train_target = pd.read_csv('dataset/train_target.csv')\n",
    "df_test_target = pd.read_csv('dataset/offline_test.csv')\n",
    "df_online_train = pd.read_csv('dataset/online_train.csv')\n",
    "df_offline_train = pd.read_csv('dataset/offline_train.csv')"
   ]
  },
  {
   "cell_type": "code",
   "execution_count": 5,
   "id": "employed-being",
   "metadata": {},
   "outputs": [],
   "source": [
    "## merge train and test target\n",
    "df_train_target.head(3)\n",
    "## only use Index, Date_received, Date, datediff, target\n",
    "df_train_target_digest = df_train_target[['User_id','Merchant_id','Coupon_id','Date_received','Date','datediff','target']]\n",
    "df_test_target_digest = df_test_target[['User_id','Merchant_id','Coupon_id','Date_received']]\n",
    "df_target_merged = pd.concat([df_train_target_digest,df_test_target_digest], axis=0, ignore_index=True)"
   ]
  },
  {
   "cell_type": "code",
   "execution_count": 6,
   "id": "animated-bidder",
   "metadata": {},
   "outputs": [],
   "source": [
    "df_target_merged['Month_received']=df_target_merged['Date_received'].astype('datetime64[M]')\n",
    "df_target_merged['data'] = np.where(df_target_merged['target'].isna(), 'Test', 'Train')"
   ]
  },
  {
   "cell_type": "code",
   "execution_count": 7,
   "id": "comprehensive-savannah",
   "metadata": {},
   "outputs": [],
   "source": [
    "## produce left table for feature engineering \n",
    "## for each month, get unique User(merchant, coupon) Index \n",
    "left_user = df_target_merged[['User_id','Month_received']].drop_duplicates()\n",
    "left_merchant = df_target_merged[['Merchant_id','Month_received']].drop_duplicates()\n",
    "left_coupon = df_target_merged[['Coupon_id','Month_received']].drop_duplicates()"
   ]
  },
  {
   "cell_type": "code",
   "execution_count": 8,
   "id": "offensive-power",
   "metadata": {},
   "outputs": [],
   "source": [
    "df_target_merged.to_csv('./dataset/target_merged.csv', index=False)\n",
    "left_user.to_csv('./dataset/user_left_feature_engineering.csv', index=False)\n",
    "left_merchant.to_csv('./dataset/merchant_left_feature_engineering.csv', index=False)\n",
    "left_coupon.to_csv('./dataset/coupon_left_feature_engineering.csv', index=False)"
   ]
  },
  {
   "cell_type": "code",
   "execution_count": 9,
   "id": "rapid-novel",
   "metadata": {},
   "outputs": [],
   "source": [
    "### right table preprocessing, maually pre-do some cross features\n",
    "#### flag of using coupon when purchasing \n",
    "df_offline_train['use_coupon'] = ((df_offline_train['Coupon_id'].notna()) &(df_offline_train['Date'].notna())).astype(int)\n",
    "#### flag of purchasing, user might use / not use the coupon\n",
    "df_offline_train['purchase'] = df_offline_train['Date'].notna().astype(int)\n",
    "#### flag of giving(for merchant) / receiving(for user) coupon, user might use / not use the coupon\n",
    "df_offline_train['give_coupon'] =  (df_offline_train['Coupon_id'].notna()).astype(int)\n",
    "df_offline_train['Date_received'] = pd.to_datetime(df_offline_train['Date_received'])\n",
    "df_offline_train['Date'] = pd.to_datetime(df_offline_train['Date'])\n",
    "\n",
    "### !!!Attention: the column for featuretools time cutoff and window function \n",
    "def join_date_func(x):\n",
    "    if pd.notna(x.Date):\n",
    "        return x.Date\n",
    "    else:\n",
    "        return x.Date_received\n",
    "df_offline_train['join_date'] = df_offline_train.apply(lambda x:join_date_func(x),axis=1)\n",
    "\n",
    "df_offline_train['datediff'] = (df_offline_train['Date'] - df_offline_train['Date_received'] ).apply(lambda x:x.days)"
   ]
  },
  {
   "cell_type": "code",
   "execution_count": 10,
   "id": "floppy-albert",
   "metadata": {},
   "outputs": [
    {
     "data": {
      "text/html": [
       "<div>\n",
       "<style scoped>\n",
       "    .dataframe tbody tr th:only-of-type {\n",
       "        vertical-align: middle;\n",
       "    }\n",
       "\n",
       "    .dataframe tbody tr th {\n",
       "        vertical-align: top;\n",
       "    }\n",
       "\n",
       "    .dataframe thead th {\n",
       "        text-align: right;\n",
       "    }\n",
       "</style>\n",
       "<table border=\"1\" class=\"dataframe\">\n",
       "  <thead>\n",
       "    <tr style=\"text-align: right;\">\n",
       "      <th></th>\n",
       "      <th>User_id</th>\n",
       "      <th>Merchant_id</th>\n",
       "      <th>Coupon_id</th>\n",
       "      <th>Discount_rate</th>\n",
       "      <th>Distance</th>\n",
       "      <th>Date_received</th>\n",
       "      <th>Date</th>\n",
       "      <th>discount_type</th>\n",
       "      <th>uniform_discount_rate</th>\n",
       "      <th>promotion_condition</th>\n",
       "      <th>promotion_amonut</th>\n",
       "      <th>use_coupon</th>\n",
       "      <th>purchase</th>\n",
       "      <th>give_coupon</th>\n",
       "      <th>join_date</th>\n",
       "      <th>datediff</th>\n",
       "    </tr>\n",
       "  </thead>\n",
       "  <tbody>\n",
       "    <tr>\n",
       "      <th>0</th>\n",
       "      <td>1439408</td>\n",
       "      <td>2632</td>\n",
       "      <td>NaN</td>\n",
       "      <td>NaN</td>\n",
       "      <td>0.0</td>\n",
       "      <td>NaT</td>\n",
       "      <td>2016-02-17</td>\n",
       "      <td>NaN</td>\n",
       "      <td>NaN</td>\n",
       "      <td>NaN</td>\n",
       "      <td>NaN</td>\n",
       "      <td>0</td>\n",
       "      <td>1</td>\n",
       "      <td>0</td>\n",
       "      <td>2016-02-17</td>\n",
       "      <td>NaN</td>\n",
       "    </tr>\n",
       "    <tr>\n",
       "      <th>1</th>\n",
       "      <td>1439408</td>\n",
       "      <td>4663</td>\n",
       "      <td>11002.0</td>\n",
       "      <td>150:20</td>\n",
       "      <td>1.0</td>\n",
       "      <td>2016-05-28</td>\n",
       "      <td>NaT</td>\n",
       "      <td>1.0</td>\n",
       "      <td>0.866667</td>\n",
       "      <td>150.0</td>\n",
       "      <td>20.0</td>\n",
       "      <td>0</td>\n",
       "      <td>0</td>\n",
       "      <td>1</td>\n",
       "      <td>2016-05-28</td>\n",
       "      <td>NaN</td>\n",
       "    </tr>\n",
       "    <tr>\n",
       "      <th>2</th>\n",
       "      <td>1439408</td>\n",
       "      <td>2632</td>\n",
       "      <td>8591.0</td>\n",
       "      <td>20:1</td>\n",
       "      <td>0.0</td>\n",
       "      <td>2016-02-17</td>\n",
       "      <td>NaT</td>\n",
       "      <td>1.0</td>\n",
       "      <td>0.950000</td>\n",
       "      <td>20.0</td>\n",
       "      <td>1.0</td>\n",
       "      <td>0</td>\n",
       "      <td>0</td>\n",
       "      <td>1</td>\n",
       "      <td>2016-02-17</td>\n",
       "      <td>NaN</td>\n",
       "    </tr>\n",
       "    <tr>\n",
       "      <th>3</th>\n",
       "      <td>1439408</td>\n",
       "      <td>2632</td>\n",
       "      <td>1078.0</td>\n",
       "      <td>20:1</td>\n",
       "      <td>0.0</td>\n",
       "      <td>2016-03-19</td>\n",
       "      <td>NaT</td>\n",
       "      <td>1.0</td>\n",
       "      <td>0.950000</td>\n",
       "      <td>20.0</td>\n",
       "      <td>1.0</td>\n",
       "      <td>0</td>\n",
       "      <td>0</td>\n",
       "      <td>1</td>\n",
       "      <td>2016-03-19</td>\n",
       "      <td>NaN</td>\n",
       "    </tr>\n",
       "    <tr>\n",
       "      <th>4</th>\n",
       "      <td>1439408</td>\n",
       "      <td>2632</td>\n",
       "      <td>8591.0</td>\n",
       "      <td>20:1</td>\n",
       "      <td>0.0</td>\n",
       "      <td>2016-06-13</td>\n",
       "      <td>NaT</td>\n",
       "      <td>1.0</td>\n",
       "      <td>0.950000</td>\n",
       "      <td>20.0</td>\n",
       "      <td>1.0</td>\n",
       "      <td>0</td>\n",
       "      <td>0</td>\n",
       "      <td>1</td>\n",
       "      <td>2016-06-13</td>\n",
       "      <td>NaN</td>\n",
       "    </tr>\n",
       "    <tr>\n",
       "      <th>...</th>\n",
       "      <td>...</td>\n",
       "      <td>...</td>\n",
       "      <td>...</td>\n",
       "      <td>...</td>\n",
       "      <td>...</td>\n",
       "      <td>...</td>\n",
       "      <td>...</td>\n",
       "      <td>...</td>\n",
       "      <td>...</td>\n",
       "      <td>...</td>\n",
       "      <td>...</td>\n",
       "      <td>...</td>\n",
       "      <td>...</td>\n",
       "      <td>...</td>\n",
       "      <td>...</td>\n",
       "      <td>...</td>\n",
       "    </tr>\n",
       "    <tr>\n",
       "      <th>1754879</th>\n",
       "      <td>212662</td>\n",
       "      <td>3532</td>\n",
       "      <td>NaN</td>\n",
       "      <td>NaN</td>\n",
       "      <td>1.0</td>\n",
       "      <td>NaT</td>\n",
       "      <td>2016-03-22</td>\n",
       "      <td>NaN</td>\n",
       "      <td>NaN</td>\n",
       "      <td>NaN</td>\n",
       "      <td>NaN</td>\n",
       "      <td>0</td>\n",
       "      <td>1</td>\n",
       "      <td>0</td>\n",
       "      <td>2016-03-22</td>\n",
       "      <td>NaN</td>\n",
       "    </tr>\n",
       "    <tr>\n",
       "      <th>1754880</th>\n",
       "      <td>212662</td>\n",
       "      <td>3021</td>\n",
       "      <td>3739.0</td>\n",
       "      <td>30:1</td>\n",
       "      <td>6.0</td>\n",
       "      <td>2016-05-08</td>\n",
       "      <td>2016-06-02</td>\n",
       "      <td>1.0</td>\n",
       "      <td>0.966667</td>\n",
       "      <td>30.0</td>\n",
       "      <td>1.0</td>\n",
       "      <td>1</td>\n",
       "      <td>1</td>\n",
       "      <td>1</td>\n",
       "      <td>2016-06-02</td>\n",
       "      <td>25.0</td>\n",
       "    </tr>\n",
       "    <tr>\n",
       "      <th>1754881</th>\n",
       "      <td>212662</td>\n",
       "      <td>2934</td>\n",
       "      <td>NaN</td>\n",
       "      <td>NaN</td>\n",
       "      <td>2.0</td>\n",
       "      <td>NaT</td>\n",
       "      <td>2016-03-21</td>\n",
       "      <td>NaN</td>\n",
       "      <td>NaN</td>\n",
       "      <td>NaN</td>\n",
       "      <td>NaN</td>\n",
       "      <td>0</td>\n",
       "      <td>1</td>\n",
       "      <td>0</td>\n",
       "      <td>2016-03-21</td>\n",
       "      <td>NaN</td>\n",
       "    </tr>\n",
       "    <tr>\n",
       "      <th>1754882</th>\n",
       "      <td>752472</td>\n",
       "      <td>7113</td>\n",
       "      <td>1633.0</td>\n",
       "      <td>50:10</td>\n",
       "      <td>6.0</td>\n",
       "      <td>2016-06-13</td>\n",
       "      <td>NaT</td>\n",
       "      <td>1.0</td>\n",
       "      <td>0.800000</td>\n",
       "      <td>50.0</td>\n",
       "      <td>10.0</td>\n",
       "      <td>0</td>\n",
       "      <td>0</td>\n",
       "      <td>1</td>\n",
       "      <td>2016-06-13</td>\n",
       "      <td>NaN</td>\n",
       "    </tr>\n",
       "    <tr>\n",
       "      <th>1754883</th>\n",
       "      <td>752472</td>\n",
       "      <td>3621</td>\n",
       "      <td>2705.0</td>\n",
       "      <td>20:5</td>\n",
       "      <td>0.0</td>\n",
       "      <td>2016-05-23</td>\n",
       "      <td>NaT</td>\n",
       "      <td>1.0</td>\n",
       "      <td>0.750000</td>\n",
       "      <td>20.0</td>\n",
       "      <td>5.0</td>\n",
       "      <td>0</td>\n",
       "      <td>0</td>\n",
       "      <td>1</td>\n",
       "      <td>2016-05-23</td>\n",
       "      <td>NaN</td>\n",
       "    </tr>\n",
       "  </tbody>\n",
       "</table>\n",
       "<p>1754884 rows × 16 columns</p>\n",
       "</div>"
      ],
      "text/plain": [
       "         User_id  Merchant_id  Coupon_id Discount_rate  Distance  \\\n",
       "0        1439408         2632        NaN           NaN       0.0   \n",
       "1        1439408         4663    11002.0        150:20       1.0   \n",
       "2        1439408         2632     8591.0          20:1       0.0   \n",
       "3        1439408         2632     1078.0          20:1       0.0   \n",
       "4        1439408         2632     8591.0          20:1       0.0   \n",
       "...          ...          ...        ...           ...       ...   \n",
       "1754879   212662         3532        NaN           NaN       1.0   \n",
       "1754880   212662         3021     3739.0          30:1       6.0   \n",
       "1754881   212662         2934        NaN           NaN       2.0   \n",
       "1754882   752472         7113     1633.0         50:10       6.0   \n",
       "1754883   752472         3621     2705.0          20:5       0.0   \n",
       "\n",
       "        Date_received       Date  discount_type  uniform_discount_rate  \\\n",
       "0                 NaT 2016-02-17            NaN                    NaN   \n",
       "1          2016-05-28        NaT            1.0               0.866667   \n",
       "2          2016-02-17        NaT            1.0               0.950000   \n",
       "3          2016-03-19        NaT            1.0               0.950000   \n",
       "4          2016-06-13        NaT            1.0               0.950000   \n",
       "...               ...        ...            ...                    ...   \n",
       "1754879           NaT 2016-03-22            NaN                    NaN   \n",
       "1754880    2016-05-08 2016-06-02            1.0               0.966667   \n",
       "1754881           NaT 2016-03-21            NaN                    NaN   \n",
       "1754882    2016-06-13        NaT            1.0               0.800000   \n",
       "1754883    2016-05-23        NaT            1.0               0.750000   \n",
       "\n",
       "         promotion_condition  promotion_amonut  use_coupon  purchase  \\\n",
       "0                        NaN               NaN           0         1   \n",
       "1                      150.0              20.0           0         0   \n",
       "2                       20.0               1.0           0         0   \n",
       "3                       20.0               1.0           0         0   \n",
       "4                       20.0               1.0           0         0   \n",
       "...                      ...               ...         ...       ...   \n",
       "1754879                  NaN               NaN           0         1   \n",
       "1754880                 30.0               1.0           1         1   \n",
       "1754881                  NaN               NaN           0         1   \n",
       "1754882                 50.0              10.0           0         0   \n",
       "1754883                 20.0               5.0           0         0   \n",
       "\n",
       "         give_coupon  join_date  datediff  \n",
       "0                  0 2016-02-17       NaN  \n",
       "1                  1 2016-05-28       NaN  \n",
       "2                  1 2016-02-17       NaN  \n",
       "3                  1 2016-03-19       NaN  \n",
       "4                  1 2016-06-13       NaN  \n",
       "...              ...        ...       ...  \n",
       "1754879            0 2016-03-22       NaN  \n",
       "1754880            1 2016-06-02      25.0  \n",
       "1754881            0 2016-03-21       NaN  \n",
       "1754882            1 2016-06-13       NaN  \n",
       "1754883            1 2016-05-23       NaN  \n",
       "\n",
       "[1754884 rows x 16 columns]"
      ]
     },
     "execution_count": 10,
     "metadata": {},
     "output_type": "execute_result"
    }
   ],
   "source": [
    "df_offline_train"
   ]
  },
  {
   "cell_type": "code",
   "execution_count": 11,
   "id": "constitutional-ebony",
   "metadata": {},
   "outputs": [],
   "source": [
    "### params for cutoff time\n",
    "months_to_produce = ['2016-04-01', '2016-05-01', '2016-06-01', '2016-07-01']\n",
    "time_window = '3 month'"
   ]
  },
  {
   "cell_type": "markdown",
   "id": "italian-marks",
   "metadata": {},
   "source": [
    "### merchant feature"
   ]
  },
  {
   "cell_type": "code",
   "execution_count": 12,
   "id": "manufactured-delay",
   "metadata": {},
   "outputs": [],
   "source": [
    "curr_cutoff =  months_to_produce[-1]\n",
    "merchantset = left_merchant[left_merchant['Month_received'] == curr_cutoff]\n",
    "userset = left_user[left_user['Month_received']==curr_cutoff]"
   ]
  },
  {
   "cell_type": "code",
   "execution_count": 13,
   "id": "capable-minutes",
   "metadata": {},
   "outputs": [],
   "source": [
    "es = ft.EntitySet(id='offline_merchant')\n",
    "es = es.entity_from_dataframe(entity_id='merchant',\n",
    "                             dataframe=merchantset.drop('Month_received',axis=1),\n",
    "                             index='Merchant_id',\n",
    "                             variable_types={'Merchant_id':ft.variable_types.Id})\n",
    "\n",
    "es = es.entity_from_dataframe(entity_id='offline',\n",
    "                             dataframe=df_offline_train.copy(),\n",
    "                             time_index='join_date',\n",
    "                             index='Transaction_id',\n",
    "                             make_index=True,\n",
    "                             variable_types={'Merchant_id':ft.variable_types.Id,\n",
    "                                            'User_id':ft.variable_types.Id,\n",
    "                                            'Coupon_id':ft.variable_types.Id,\n",
    "                                            #'give_coupon':ft.variable_types.Categorical,\n",
    "                                            #'use_coupon':ft.variable_types.Categorical,\n",
    "                                            #'purchase':ft.variable_types.Categorical,\n",
    "                                            'discount_type':ft.variable_types.Categorical})\n",
    "es['offline']['give_coupon'].interesting_values=[1]\n",
    "es['offline']['use_coupon'].interesting_values=[1]\n",
    "es['offline']['purchase'].interesting_values=[1]\n",
    "es['offline']['discount_type'].interesting_values=[0,1]\n",
    "es = es.add_relationship(ft.Relationship(es['merchant']['Merchant_id'],es['offline']['Merchant_id']))"
   ]
  },
  {
   "cell_type": "code",
   "execution_count": 14,
   "id": "acoustic-drunk",
   "metadata": {},
   "outputs": [],
   "source": [
    "features_list = ft.dfs(entityset=es,\n",
    "                                        target_entity='merchant',\n",
    "                                        agg_primitives=['mean','count','sum','max','min','num_unique','mode'],\n",
    "                                        trans_primitives=['weekday'],\n",
    "                                       primitive_options={\n",
    "                                           'mode': {'ignore_variables': {\n",
    "                                               'offline': ['Coupon_id', 'User_id', 'give_coupon','use_coupon','purchase','discount_type']\n",
    "                                           }\n",
    "                                                   },\n",
    "                                           'num_unique': {'ignore_variables': {\n",
    "                                               'offline': [ 'give_coupon','use_coupon','purchase','discount_type', 'weekday']\n",
    "                                           }\n",
    "                                                   }\n",
    "                                       },\n",
    "                                       ignore_variables = {'offline':['join_date']},\n",
    "                                       cutoff_time=pd.Timestamp(curr_cutoff),\n",
    "                                       training_window=time_window,\n",
    "                                       where_primitives=['count','sum','mean','mode','num_unique'],\n",
    "                                        #instance_ids = [4663],\n",
    "                                        include_cutoff_time=False,\n",
    "                                        cutoff_time_in_index=True,\n",
    "                                       features_only=True\n",
    "                                      )"
   ]
  },
  {
   "cell_type": "code",
   "execution_count": 15,
   "id": "optional-crown",
   "metadata": {},
   "outputs": [
    {
     "data": {
      "text/plain": [
       "Entityset: offline_merchant\n",
       "  Entities:\n",
       "    merchant [Rows: 1559, Columns: 1]\n",
       "    offline [Rows: 1754884, Columns: 17]\n",
       "  Relationships:\n",
       "    offline.Merchant_id -> merchant.Merchant_id"
      ]
     },
     "execution_count": 15,
     "metadata": {},
     "output_type": "execute_result"
    }
   ],
   "source": [
    "es"
   ]
  },
  {
   "cell_type": "code",
   "execution_count": 47,
   "id": "crazy-academy",
   "metadata": {},
   "outputs": [
    {
     "name": "stdout",
     "output_type": "stream",
     "text": [
      "2016-04-01 done!\n",
      "\n",
      "2016-05-01 done!\n",
      "\n",
      "2016-06-01 done!\n",
      "\n",
      "2016-07-01 done!\n",
      "\n"
     ]
    }
   ],
   "source": [
    "matries = []\n",
    "\n",
    "for curr_cutoff in months_to_produce:\n",
    "    merchantset = left_merchant[left_merchant['Month_received'] == curr_cutoff]\n",
    "\n",
    "    es = ft.EntitySet(id='offline_merchant')\n",
    "    es = es.entity_from_dataframe(entity_id='merchant',\n",
    "                                 dataframe=merchantset.drop('Month_received',axis=1),\n",
    "                                 index='Merchant_id',\n",
    "                                 variable_types={'Merchant_id':ft.variable_types.Id})\n",
    "\n",
    "    es = es.entity_from_dataframe(entity_id='offline',\n",
    "                                 dataframe=df_offline_train.copy(),\n",
    "                                 time_index='join_date',\n",
    "                                  index='Transaction_id',\n",
    "                                 make_index=True,\n",
    "                                 variable_types={'Merchant_id':ft.variable_types.Id,\n",
    "                                                'User_id':ft.variable_types.Id,\n",
    "                                                'Coupon_id':ft.variable_types.Id,\n",
    "                                                #'give_coupon':ft.variable_types.Categorical,\n",
    "                                                #'use_coupon':ft.variable_types.Categorical,\n",
    "                                                #'purchase':ft.variable_types.Categorical,\n",
    "                                                'discount_type':ft.variable_types.Categorical})\n",
    "    es['offline']['give_coupon'].interesting_values=[1]\n",
    "    es['offline']['use_coupon'].interesting_values=[1]\n",
    "    es['offline']['purchase'].interesting_values=[1]\n",
    "    es['offline']['discount_type'].interesting_values=[0,1]\n",
    "    es = es.add_relationship(ft.Relationship(es['merchant']['Merchant_id'],es['offline']['Merchant_id']))\n",
    "\n",
    "    feature_matrix = ft.calculate_feature_matrix(entityset=es,\n",
    "                                                 features=features_list,\n",
    "                                                cutoff_time=pd.Timestamp(curr_cutoff),\n",
    "                                                training_window=time_window,\n",
    "                                                include_cutoff_time=False,\n",
    "                                                cutoff_time_in_index=True)\n",
    "    \n",
    "    print(curr_cutoff + ' done!\\n')\n",
    "    \n",
    "    matries.append(feature_matrix)"
   ]
  },
  {
   "cell_type": "code",
   "execution_count": 48,
   "id": "falling-links",
   "metadata": {},
   "outputs": [
    {
     "data": {
      "text/plain": [
       "(11012, 160)"
      ]
     },
     "execution_count": 48,
     "metadata": {},
     "output_type": "execute_result"
    }
   ],
   "source": [
    "merchant_feature = pd.concat(matries, axis=0)\n",
    "merchant_feature.shape"
   ]
  },
  {
   "cell_type": "code",
   "execution_count": 49,
   "id": "visible-colon",
   "metadata": {},
   "outputs": [
    {
     "data": {
      "text/plain": [
       "(11012, 158)"
      ]
     },
     "execution_count": 49,
     "metadata": {},
     "output_type": "execute_result"
    }
   ],
   "source": [
    "merchant_feature_remove_null = ft.selection.remove_highly_null_features(merchant_feature,pct_null_threshold=0.9)\n",
    "merchant_feature_remove_null.shape"
   ]
  },
  {
   "cell_type": "code",
   "execution_count": 50,
   "id": "swedish-physiology",
   "metadata": {},
   "outputs": [
    {
     "data": {
      "text/plain": [
       "(11012, 152)"
      ]
     },
     "execution_count": 50,
     "metadata": {},
     "output_type": "execute_result"
    }
   ],
   "source": [
    "merchant_feature_remove_single = ft.selection.remove_single_value_features(merchant_feature_remove_null)\n",
    "merchant_feature_remove_single.shape"
   ]
  },
  {
   "cell_type": "code",
   "execution_count": 51,
   "id": "palestinian-future",
   "metadata": {},
   "outputs": [],
   "source": [
    "merchant_feature_remove_corr = ft.selection.remove_highly_correlated_features(\n",
    "    merchant_feature_remove_single,\n",
    "    pct_corr_threshold=0.99)"
   ]
  },
  {
   "cell_type": "code",
   "execution_count": 52,
   "id": "gross-celtic",
   "metadata": {},
   "outputs": [
    {
     "data": {
      "text/plain": [
       "(11012, 87)"
      ]
     },
     "execution_count": 52,
     "metadata": {},
     "output_type": "execute_result"
    }
   ],
   "source": [
    "merchant_feature_remove_corr.shape"
   ]
  },
  {
   "cell_type": "code",
   "execution_count": 53,
   "id": "chemical-lunch",
   "metadata": {},
   "outputs": [],
   "source": [
    "merchant_feature_remove_single.reset_index().to_csv('./dataset/merchant_feature_total_remove_null&singal.csv',index=False)"
   ]
  },
  {
   "cell_type": "code",
   "execution_count": 54,
   "id": "danish-kelly",
   "metadata": {},
   "outputs": [],
   "source": [
    "merchant_feature_remove_corr.reset_index().to_csv('./dataset/merchant_feature_total_remove_highcorr.csv',index=False)"
   ]
  },
  {
   "cell_type": "code",
   "execution_count": 55,
   "id": "absolute-chester",
   "metadata": {},
   "outputs": [
    {
     "name": "stdout",
     "output_type": "stream",
     "text": [
      "total 2500592\n",
      "-rw-r--r--@ 1 wangxinyu  staff    68M 11 29  2017 ccf_offline_stage1_train.csv\n",
      "-rw-r--r--@ 1 wangxinyu  staff   460M 11 29  2017 ccf_online_stage1_train.csv\n",
      "-rw-r--r--@ 1 wangxinyu  staff   3.9M  2 24 21:21 ccf_offline_stage1_test_revised.csv\n",
      "-rw-r--r--@ 1 wangxinyu  staff   364B  2 24 21:21 sample_submission.csv\n",
      "-rw-r--r--  1 wangxinyu  staff    87M  2 24 21:23 offline_train.csv\n",
      "-rw-r--r--  1 wangxinyu  staff   6.3M  2 24 21:23 offline_test.csv\n",
      "-rw-r--r--  1 wangxinyu  staff   405M  2 24 21:24 online_train.csv\n",
      "-rw-r--r--  1 wangxinyu  staff    67M  2 24 21:25 train_target.csv\n",
      "-rw-r--r--  1 wangxinyu  staff    61M  2 24 21:42 target_merged.csv\n",
      "-rw-r--r--  1 wangxinyu  staff    14M  2 24 21:42 user_left_feature_engineering.csv\n",
      "-rw-r--r--  1 wangxinyu  staff   213K  2 24 21:42 merchant_left_feature_engineering.csv\n",
      "-rw-r--r--  1 wangxinyu  staff   323K  2 24 21:42 coupon_left_feature_engineering.csv\n",
      "-rw-r--r--  1 wangxinyu  staff   7.0M  2 24 21:45 merchant_feature_total_remove_null&singal.csv\n",
      "-rw-r--r--  1 wangxinyu  staff   3.9M  2 24 21:45 merchant_feature_total_remove_highcorr.csv\n"
     ]
    }
   ],
   "source": [
    "%ll -hrt dataset/"
   ]
  },
  {
   "cell_type": "markdown",
   "id": "burning-logan",
   "metadata": {},
   "source": [
    "### user feature"
   ]
  },
  {
   "cell_type": "code",
   "execution_count": 16,
   "id": "little-thomas",
   "metadata": {},
   "outputs": [],
   "source": [
    "offline_user_es = ft.EntitySet(id='offline_user')\n",
    "offline_user_es = offline_user_es.entity_from_dataframe(entity_id='offline_user',\n",
    "                             dataframe=userset.drop('Month_received',axis=1),\n",
    "                             index='User_id',\n",
    "                             variable_types={'User_id':ft.variable_types.Id})\n",
    "\n",
    "offline_user_es = offline_user_es.entity_from_dataframe(entity_id='offline_user_right',\n",
    "                             dataframe=df_offline_train.copy(),\n",
    "                             time_index='join_date',\n",
    "                             index='Transaction_id',\n",
    "                             make_index=True,\n",
    "                             variable_types={'Merchant_id':ft.variable_types.Id,\n",
    "                                            'User_id':ft.variable_types.Id,\n",
    "                                            'Coupon_id':ft.variable_types.Id,\n",
    "                                             'uniform_discount_rate':ft.variable_types.Numeric,\n",
    "                                             'promotion_condition':ft.variable_types.Numeric,\n",
    "                                             'promotion_amonut':ft.variable_types.Numeric,\n",
    "                                            #'give_coupon':ft.variable_types.Categorical,\n",
    "                                            #'use_coupon':ft.variable_types.Categorical,\n",
    "                                            #'purchase':ft.variable_types.Categorical,\n",
    "                                            'discount_type':ft.variable_types.Categorical})\n",
    "offline_user_es['offline_user_right']['give_coupon'].interesting_values=[1]\n",
    "offline_user_es['offline_user_right']['use_coupon'].interesting_values=[1]\n",
    "offline_user_es['offline_user_right']['purchase'].interesting_values=[1]\n",
    "offline_user_es['offline_user_right']['discount_type'].interesting_values=[0,1]\n",
    "offline_user_es = offline_user_es.add_relationship(ft.Relationship(offline_user_es['offline_user']['User_id'],offline_user_es['offline_user_right']['User_id']))"
   ]
  },
  {
   "cell_type": "code",
   "execution_count": 17,
   "id": "powered-extension",
   "metadata": {},
   "outputs": [],
   "source": [
    "offline_user_features_list = ft.dfs(entityset=offline_user_es,\n",
    "                                        target_entity='offline_user',\n",
    "                                        agg_primitives=['mean','count','sum','max','min','num_unique','mode'],\n",
    "                                        trans_primitives=['weekday'],\n",
    "                                        primitive_options={\n",
    "                                           'mode': {'ignore_variables': {\n",
    "                                               'offline': ['Coupon_id', 'Merchant_id']\n",
    "                                           }\n",
    "                                                   },\n",
    "                                           'num_unique': {'ignore_variables': {\n",
    "                                               'offline': [ 'give_coupon','use_coupon','purchase','discount_type', 'weekday']\n",
    "                                           }\n",
    "                                                   }\n",
    "                                       },\n",
    "                                       ignore_variables = {'offline':['join_date']},\n",
    "                                       cutoff_time=pd.Timestamp(curr_cutoff),\n",
    "                                       training_window=time_window,\n",
    "                                       where_primitives=['count','sum','mean','mode','num_unique'],\n",
    "                                        #instance_ids = [4663],\n",
    "                                        include_cutoff_time=False,\n",
    "                                        cutoff_time_in_index=True,\n",
    "                                       features_only=True\n",
    "                                      )"
   ]
  },
  {
   "cell_type": "code",
   "execution_count": 18,
   "id": "resident-inspiration",
   "metadata": {},
   "outputs": [
    {
     "data": {
      "text/plain": [
       "Entityset: offline_user\n",
       "  Entities:\n",
       "    offline_user [Rows: 76309, Columns: 1]\n",
       "    offline_user_right [Rows: 1754884, Columns: 17]\n",
       "  Relationships:\n",
       "    offline_user_right.User_id -> offline_user.User_id"
      ]
     },
     "execution_count": 18,
     "metadata": {},
     "output_type": "execute_result"
    }
   ],
   "source": [
    "offline_user_es"
   ]
  },
  {
   "cell_type": "code",
   "execution_count": null,
   "id": "becoming-ballot",
   "metadata": {},
   "outputs": [],
   "source": [
    "df_offline_train.head()"
   ]
  },
  {
   "cell_type": "code",
   "execution_count": null,
   "id": "laden-julian",
   "metadata": {},
   "outputs": [],
   "source": [
    "matries = []\n",
    "\n",
    "for curr_cutoff in months_to_produce:\n",
    "    userset = left_user[left_user['Month_received']==curr_cutoff]\n",
    "\n",
    "    offline_user_es = ft.EntitySet(id='offline_user')\n",
    "    offline_user_es = offline_user_es.entity_from_dataframe(entity_id='offline_user',\n",
    "                                 dataframe=userset.drop('Month_received',axis=1),\n",
    "                                 index='User_id',\n",
    "                                 variable_types={'User_id':ft.variable_types.Id})\n",
    "\n",
    "    offline_user_es = offline_user_es.entity_from_dataframe(entity_id='offline_user_right',\n",
    "                                 dataframe=df_offline_train.copy(),\n",
    "                                 time_index='join_date',\n",
    "                                 index='Transaction_id',\n",
    "                                 make_index=True,\n",
    "                                 variable_types={'Merchant_id':ft.variable_types.Id,\n",
    "                                                'User_id':ft.variable_types.Id,\n",
    "                                                'Coupon_id':ft.variable_types.Id,\n",
    "                                                 'uniform_discount_rate':ft.variable_types.Numeric,\n",
    "                                                 'promotion_condition':ft.variable_types.Numeric,\n",
    "                                                 'promotion_amonut':ft.variable_types.Numeric,\n",
    "                                                #'give_coupon':ft.variable_types.Categorical,\n",
    "                                                #'use_coupon':ft.variable_types.Categorical,\n",
    "                                                #'purchase':ft.variable_types.Categorical,\n",
    "                                                'discount_type':ft.variable_types.Categorical})\n",
    "    offline_user_es['offline_user_right']['give_coupon'].interesting_values=[1]\n",
    "    offline_user_es['offline_user_right']['use_coupon'].interesting_values=[1]\n",
    "    offline_user_es['offline_user_right']['purchase'].interesting_values=[1]\n",
    "    offline_user_es['offline_user_right']['discount_type'].interesting_values=[0,1]\n",
    "    offline_user_es = offline_user_es.add_relationship(ft.Relationship(offline_user_es['offline_user']['User_id'],offline_user_es['offline_user_right']['User_id']))\n",
    "\n",
    "    feature_matrix = ft.calculate_feature_matrix(entityset=offline_user_es,\n",
    "                                                 features=offline_user_features_list,\n",
    "                                                cutoff_time=pd.Timestamp(curr_cutoff),\n",
    "                                                training_window=time_window,\n",
    "                                                include_cutoff_time=False,\n",
    "                                                cutoff_time_in_index=True)\n",
    "    \n",
    "    print(curr_cutoff + ' done!\\n')\n",
    "    \n",
    "    matries.append(feature_matrix)"
   ]
  },
  {
   "cell_type": "code",
   "execution_count": null,
   "id": "laden-jimmy",
   "metadata": {},
   "outputs": [],
   "source": []
  },
  {
   "cell_type": "code",
   "execution_count": null,
   "id": "democratic-arnold",
   "metadata": {},
   "outputs": [],
   "source": []
  }
 ],
 "metadata": {
  "kernelspec": {
   "display_name": "python3.9",
   "language": "python",
   "name": "python3.9"
  },
  "language_info": {
   "codemirror_mode": {
    "name": "ipython",
    "version": 3
   },
   "file_extension": ".py",
   "mimetype": "text/x-python",
   "name": "python",
   "nbconvert_exporter": "python",
   "pygments_lexer": "ipython3",
   "version": "3.9.2"
  },
  "toc-autonumbering": true
 },
 "nbformat": 4,
 "nbformat_minor": 5
}
