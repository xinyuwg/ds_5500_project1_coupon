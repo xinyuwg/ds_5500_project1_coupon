{
 "cells": [
  {
   "cell_type": "markdown",
   "id": "impaired-smile",
   "metadata": {},
   "source": [
    "# Prediction of Coupon Redemption"
   ]
  },
  {
   "cell_type": "markdown",
   "id": "fiscal-freeze",
   "metadata": {},
   "source": [
    "## dependencies"
   ]
  },
  {
   "cell_type": "code",
   "execution_count": 7,
   "id": "right-layout",
   "metadata": {},
   "outputs": [],
   "source": [
    "%matplotlib inline  \n",
    "import pandas as pd\n",
    "import numpy as np\n",
    "import matplotlib.pyplot as plt\n",
    "from datetime import datetime\n",
    "import seaborn as sns\n",
    "\n",
    "import warnings\n",
    "warnings.filterwarnings('ignore')"
   ]
  },
  {
   "cell_type": "markdown",
   "id": "foster-toronto",
   "metadata": {},
   "source": [
    "## data loading"
   ]
  },
  {
   "cell_type": "code",
   "execution_count": 8,
   "id": "detected-subsection",
   "metadata": {},
   "outputs": [],
   "source": [
    "offline_train = pd.read_csv(\"dataset/ccf_offline_stage1_train.csv\")\n",
    "online_train = pd.read_csv(\"dataset/ccf_online_stage1_train.csv\")\n",
    "offline_test = pd.read_csv(\"dataset/ccf_offline_stage1_test_revised.csv\")"
   ]
  },
  {
   "cell_type": "code",
   "execution_count": 9,
   "id": "sophisticated-telling",
   "metadata": {},
   "outputs": [
    {
     "name": "stdout",
     "output_type": "stream",
     "text": [
      "1.1.5\n"
     ]
    }
   ],
   "source": [
    "print(pd.__version__)"
   ]
  },
  {
   "cell_type": "markdown",
   "id": "powerful-drawing",
   "metadata": {},
   "source": [
    "## data cleaning"
   ]
  },
  {
   "cell_type": "code",
   "execution_count": 10,
   "id": "extraordinary-teens",
   "metadata": {},
   "outputs": [],
   "source": [
    "# cast str to date time --Guangyi\n",
    "online_train['Date_received'] = pd.to_datetime(online_train['Date_received'],format='%Y%m%d')\n",
    "online_train['Date'] = pd.to_datetime(online_train['Date'],format='%Y%m%d')\n",
    "\n",
    "offline_train['Date_received'] = pd.to_datetime(offline_train['Date_received'],format='%Y%m%d')\n",
    "offline_train['Date'] = pd.to_datetime(offline_train['Date'],format='%Y%m%d')\n",
    "\n",
    "offline_test['Date_received'] = pd.to_datetime(offline_test['Date_received'],format='%Y%m%d')\n",
    "#offline_test['Date'] = pd.to_datetime(offline_test['Date'],format='%Y%m%d')\n",
    "\n",
    "#get discount type\n",
    "def get_discount_type(s)->str:\n",
    "    s=str(s)\n",
    "    if \":\" in s:\n",
    "        return \"1\"\n",
    "    elif \".\" in s:\n",
    "        return \"0\"\n",
    "    #elif s == \"fixed\":\n",
    "    #    return \"fixed\"\n",
    "    else:\n",
    "        return np.nan\n",
    "    \n",
    "#get uniform discount rate\n",
    "def get_uniform_discount_rate(s)->float:\n",
    "    str_value = str(s)\n",
    "    rate = None\n",
    "    if \".\" in str_value:\n",
    "        rate = float(s)\n",
    "    elif \":\" in str_value:\n",
    "        split = str_value.split(\":\")\n",
    "#         if(len(split)==2):\n",
    "        rate = float(1-float(split[1])/float(split[0]))\n",
    "#         else:\n",
    "#             rate = float(split[0])\n",
    "    return rate\n",
    "\n",
    "#get promotion condition\n",
    "def get_promotion_condition(s)->int:\n",
    "    if pd.isna(s):\n",
    "        return None\n",
    "    str_value = str(s)\n",
    "    if \":\" in str_value:\n",
    "        return int(str_value.split(\":\")[0])\n",
    "    else:\n",
    "        return -1\n",
    "    \n",
    "#get promotion amount\n",
    "def get_promotion_amount(s)->int:\n",
    "    if pd.isna(s):\n",
    "        return None\n",
    "    str_value = str(s)\n",
    "    if \":\" in str_value:\n",
    "        return int(str_value.split(\":\")[1])\n",
    "    else:\n",
    "        return -1\n",
    "\n",
    "# get date gap\n",
    "def get_date_diff(d1,d2):\n",
    "    return (d2-d1).days\n",
    "\n",
    "# get label(coupon was used within 15 days)\n",
    "def get_label(d1,d2)->bool:\n",
    "    gap = get_date_diff(d1,d2)\n",
    "    if not pd.isna(gap):\n",
    "        return gap<=15\n",
    "    else:\n",
    "        return None\n",
    "\n",
    "def data_cleaning(df):\n",
    "    df_d = df.copy()\n",
    "    df_d['discount_type']=df_d['Discount_rate'].apply(get_discount_type)\n",
    "    df_d['uniform_discount_rate']=df_d['Discount_rate'].apply(get_uniform_discount_rate)\n",
    "    df_d['promotion_condition']=df_d['Discount_rate'].apply(get_promotion_condition)\n",
    "    df_d['promotion_amonut']=df_d['Discount_rate'].apply(get_promotion_amount)\n",
    "    #df_d['date_gap']=(df_d['Date']-df_d['Date_received']).apply(lambda x:x.days)\n",
    "    return df_d\n",
    "\n",
    "offline_train_d = data_cleaning(offline_train)\n",
    "online_train_d = data_cleaning(online_train)\n",
    "offline_test_d  = data_cleaning(offline_test)"
   ]
  },
  {
   "cell_type": "code",
   "execution_count": 11,
   "id": "synthetic-component",
   "metadata": {},
   "outputs": [],
   "source": [
    "## save clean data\n",
    "offline_train_d.to_csv('./dataset/offline_train.csv',index=False)\n",
    "offline_test_d.to_csv('./dataset/offline_test.csv',index=False)\n",
    "online_train_d.to_csv('./dataset/online_train.csv',index=False)"
   ]
  },
  {
   "cell_type": "markdown",
   "id": "alike-jenny",
   "metadata": {},
   "source": [
    "## EDA"
   ]
  },
  {
   "cell_type": "markdown",
   "id": "removed-pittsburgh",
   "metadata": {},
   "source": [
    "### label distribution "
   ]
  },
  {
   "cell_type": "code",
   "execution_count": 6,
   "id": "figured-tuesday",
   "metadata": {},
   "outputs": [
    {
     "data": {
      "text/plain": [
       "count                  113640\n",
       "unique                     31\n",
       "top       2016-07-03 00:00:00\n",
       "freq                     5491\n",
       "first     2016-07-01 00:00:00\n",
       "last      2016-07-31 00:00:00\n",
       "Name: Date_received, dtype: object"
      ]
     },
     "execution_count": 6,
     "metadata": {},
     "output_type": "execute_result"
    }
   ],
   "source": [
    "offline_test_d.Date_received.describe()"
   ]
  },
  {
   "cell_type": "code",
   "execution_count": 7,
   "id": "western-central",
   "metadata": {},
   "outputs": [
    {
     "data": {
      "text/plain": [
       "count                 1053282\n",
       "unique                    167\n",
       "top       2016-01-29 00:00:00\n",
       "freq                    71658\n",
       "first     2016-01-01 00:00:00\n",
       "last      2016-06-15 00:00:00\n",
       "Name: Date_received, dtype: object"
      ]
     },
     "execution_count": 7,
     "metadata": {},
     "output_type": "execute_result"
    }
   ],
   "source": [
    "offline_train_d.Date_received.describe()"
   ]
  },
  {
   "cell_type": "code",
   "execution_count": 8,
   "id": "toxic-reduction",
   "metadata": {},
   "outputs": [
    {
     "data": {
      "text/plain": [
       "count                  776984\n",
       "unique                    182\n",
       "top       2016-03-26 00:00:00\n",
       "freq                    10243\n",
       "first     2016-01-01 00:00:00\n",
       "last      2016-06-30 00:00:00\n",
       "Name: Date, dtype: object"
      ]
     },
     "execution_count": 8,
     "metadata": {},
     "output_type": "execute_result"
    }
   ],
   "source": [
    "offline_train_d.Date.describe()"
   ]
  },
  {
   "cell_type": "code",
   "execution_count": 9,
   "id": "saved-tooth",
   "metadata": {},
   "outputs": [
    {
     "data": {
      "text/plain": [
       "count                  872357\n",
       "unique                    167\n",
       "top       2016-03-06 00:00:00\n",
       "freq                    10873\n",
       "first     2016-01-01 00:00:00\n",
       "last      2016-06-15 00:00:00\n",
       "Name: Date_received, dtype: object"
      ]
     },
     "execution_count": 9,
     "metadata": {},
     "output_type": "execute_result"
    }
   ],
   "source": [
    "online_train_d.Date_received.describe()"
   ]
  },
  {
   "cell_type": "code",
   "execution_count": 10,
   "id": "blocked-geneva",
   "metadata": {},
   "outputs": [
    {
     "data": {
      "text/plain": [
       "count                10773928\n",
       "unique                    182\n",
       "top       2016-06-18 00:00:00\n",
       "freq                   112695\n",
       "first     2016-01-01 00:00:00\n",
       "last      2016-06-30 00:00:00\n",
       "Name: Date, dtype: object"
      ]
     },
     "execution_count": 10,
     "metadata": {},
     "output_type": "execute_result"
    }
   ],
   "source": [
    "online_train_d.Date.describe()"
   ]
  },
  {
   "cell_type": "markdown",
   "id": "inner-burning",
   "metadata": {},
   "source": [
    "### Coupon received and redeemed in Training set"
   ]
  },
  {
   "cell_type": "code",
   "execution_count": 11,
   "id": "removed-remark",
   "metadata": {},
   "outputs": [
    {
     "data": {
      "text/plain": [
       "(1754884, 11)"
      ]
     },
     "execution_count": 11,
     "metadata": {},
     "output_type": "execute_result"
    }
   ],
   "source": [
    "offline_train_d.shape"
   ]
  },
  {
   "cell_type": "code",
   "execution_count": 12,
   "id": "domestic-berlin",
   "metadata": {},
   "outputs": [
    {
     "name": "stdout",
     "output_type": "stream",
     "text": [
      "transactions without received coupon : 701602\n",
      "transactions with coupon: 75382\n",
      "never used coupon: 977900\n"
     ]
    }
   ],
   "source": [
    "print('transactions without received coupon : {}'.format(len(offline_train_d[(offline_train_d['Date'].notna()) & (offline_train_d['Coupon_id'].isna())])))\n",
    "print('transactions with coupon: {}'.format(len(offline_train_d[(offline_train_d['Date'].notna()) & (offline_train_d['Coupon_id'].notna())])))\n",
    "print('never used coupon: {}'.format(len(offline_train_d[(offline_train_d['Date'].isna()) & (offline_train_d['Coupon_id'].notna())])))"
   ]
  },
  {
   "cell_type": "code",
   "execution_count": 13,
   "id": "variable-concrete",
   "metadata": {},
   "outputs": [],
   "source": [
    "coupon_used = offline_train_d[(offline_train_d['Date'].notna()) & (offline_train_d['Coupon_id'].notna())]\n",
    "coupon_used['datediff'] = (coupon_used['Date'] - coupon_used['Date_received']).apply(lambda x:x.days)"
   ]
  },
  {
   "cell_type": "code",
   "execution_count": 14,
   "id": "ongoing-celebrity",
   "metadata": {},
   "outputs": [],
   "source": [
    "coupon_used['label'] = coupon_used['datediff'] <= 15"
   ]
  },
  {
   "cell_type": "code",
   "execution_count": 15,
   "id": "anonymous-relief",
   "metadata": {},
   "outputs": [
    {
     "data": {
      "text/plain": [
       "(array([9.30261866e-02, 7.02878340e-02, 3.97212973e-02, 1.94253657e-02,\n",
       "        1.15729993e-02, 1.01807848e-02, 5.72431637e-03, 6.73306735e-03,\n",
       "        1.87240765e-03, 8.80929798e-04, 4.11100572e-04, 1.55458200e-04,\n",
       "        1.41639693e-04, 1.24366560e-04, 8.29110398e-05, 3.10916399e-05,\n",
       "        1.72731333e-05, 6.90925331e-06, 6.90925331e-06, 0.00000000e+00,\n",
       "        3.45462666e-06, 0.00000000e+00, 3.45462666e-06, 3.45462666e-06,\n",
       "        3.45462666e-06]),\n",
       " array([ 0.  ,  3.84,  7.68, 11.52, 15.36, 19.2 , 23.04, 26.88, 30.72,\n",
       "        34.56, 38.4 , 42.24, 46.08, 49.92, 53.76, 57.6 , 61.44, 65.28,\n",
       "        69.12, 72.96, 76.8 , 80.64, 84.48, 88.32, 92.16, 96.  ]),\n",
       " <a list of 25 Patch objects>)"
      ]
     },
     "execution_count": 15,
     "metadata": {},
     "output_type": "execute_result"
    },
    {
     "data": {
      "image/png": "[encoded data removed]",
      "text/plain": [
       "<Figure size 432x288 with 1 Axes>"
      ]
     },
     "metadata": {
      "needs_background": "light"
     },
     "output_type": "display_data"
    }
   ],
   "source": [
    "plt.hist(coupon_used['datediff'],bins=25,density=True)"
   ]
  },
  {
   "cell_type": "code",
   "execution_count": 16,
   "id": "regulated-bosnia",
   "metadata": {},
   "outputs": [
    {
     "data": {
      "text/plain": [
       "True     64395\n",
       "False    10987\n",
       "Name: label, dtype: int64"
      ]
     },
     "execution_count": 16,
     "metadata": {},
     "output_type": "execute_result"
    }
   ],
   "source": [
    "coupon_used['label'].value_counts()"
   ]
  },
  {
   "cell_type": "code",
   "execution_count": null,
   "id": "olympic-strategy",
   "metadata": {},
   "outputs": [],
   "source": []
  },
  {
   "cell_type": "code",
   "execution_count": 17,
   "id": "nuclear-offset",
   "metadata": {},
   "outputs": [
    {
     "name": "stdout",
     "output_type": "stream",
     "text": [
      "# unlabeled date(purchase without received coupon):701602\n",
      "# labeled data(with coupon Information):1053282\n",
      "% Negative label(received coupon, but never used):92.843%\n",
      "% Positive label(received coupon, used in 15 days):6.114%\n",
      "% Neutral label:(received coupon, used after 15 days):1.043%\n"
     ]
    }
   ],
   "source": [
    "print('# unlabeled date(purchase without received coupon):{}'.format(701602))\n",
    "print('# labeled data(with coupon Information):{}'.format((977900 + 75382)))\n",
    "print('% Negative label(received coupon, but never used):{:.3%}'.format(977900/(977900 + 75382)))\n",
    "print('% Positive label(received coupon, used in 15 days):{:.3%}'.format(64395/(977900 + 75382)))\n",
    "print('% Neutral label:(received coupon, used after 15 days):{:.3%}'.format(10987/(977900 + 75382)))"
   ]
  },
  {
   "cell_type": "code",
   "execution_count": 13,
   "id": "civil-import",
   "metadata": {},
   "outputs": [],
   "source": [
    "labeled = offline_train_d[offline_train_d['Coupon_id'].notna()]\n",
    "def label_func(receive, use):\n",
    "    if pd.isna(use):\n",
    "        return 0\n",
    "    datediff = (use-receive).days\n",
    "    if datediff <= 15:\n",
    "        return 1\n",
    "    else:\n",
    "        return -1\n",
    "labeled['datediff'] = (labeled['Date']-labeled['Date_received']).apply(lambda x:x.days)\n",
    "labeled['target'] = labeled.apply(lambda x:label_func(x.Date_received,x.Date),axis=1)"
   ]
  },
  {
   "cell_type": "code",
   "execution_count": 14,
   "id": "republican-traffic",
   "metadata": {},
   "outputs": [],
   "source": [
    "labeled.to_csv(\"dataset/train_target.csv\",index=False)"
   ]
  },
  {
   "cell_type": "code",
   "execution_count": 15,
   "id": "recorded-stack",
   "metadata": {},
   "outputs": [
    {
     "data": {
      "text/plain": [
       " 0    977900\n",
       " 1     64395\n",
       "-1     10987\n",
       "Name: target, dtype: int64"
      ]
     },
     "execution_count": 15,
     "metadata": {},
     "output_type": "execute_result"
    }
   ],
   "source": [
    "labeled['target'].value_counts()"
   ]
  },
  {
   "cell_type": "code",
   "execution_count": 102,
   "id": "motivated-glasgow",
   "metadata": {},
   "outputs": [],
   "source": [
    "labeled['month_received'] = labeled['Date_received'].apply(lambda x:x.month)\n",
    "\n",
    "month_stat = labeled.groupby(['month_received', 'label']).size().unstack(fill_value=0)"
   ]
  },
  {
   "cell_type": "code",
   "execution_count": 115,
   "id": "prospective-coast",
   "metadata": {},
   "outputs": [
    {
     "data": {
      "text/html": [
       "<div>\n",
       "<style scoped>\n",
       "    .dataframe tbody tr th:only-of-type {\n",
       "        vertical-align: middle;\n",
       "    }\n",
       "\n",
       "    .dataframe tbody tr th {\n",
       "        vertical-align: top;\n",
       "    }\n",
       "\n",
       "    .dataframe thead th {\n",
       "        text-align: right;\n",
       "    }\n",
       "</style>\n",
       "<table border=\"1\" class=\"dataframe\">\n",
       "  <thead>\n",
       "    <tr style=\"text-align: right;\">\n",
       "      <th>label</th>\n",
       "      <th>-1</th>\n",
       "      <th>0</th>\n",
       "      <th>1</th>\n",
       "    </tr>\n",
       "    <tr>\n",
       "      <th>month_received</th>\n",
       "      <th></th>\n",
       "      <th></th>\n",
       "      <th></th>\n",
       "    </tr>\n",
       "  </thead>\n",
       "  <tbody>\n",
       "    <tr>\n",
       "      <th>1</th>\n",
       "      <td>3212</td>\n",
       "      <td>358478</td>\n",
       "      <td>9849</td>\n",
       "    </tr>\n",
       "    <tr>\n",
       "      <th>2</th>\n",
       "      <td>1336</td>\n",
       "      <td>126766</td>\n",
       "      <td>5331</td>\n",
       "    </tr>\n",
       "    <tr>\n",
       "      <th>3</th>\n",
       "      <td>921</td>\n",
       "      <td>87691</td>\n",
       "      <td>15291</td>\n",
       "    </tr>\n",
       "    <tr>\n",
       "      <th>4</th>\n",
       "      <td>1163</td>\n",
       "      <td>131098</td>\n",
       "      <td>5833</td>\n",
       "    </tr>\n",
       "    <tr>\n",
       "      <th>5</th>\n",
       "      <td>3336</td>\n",
       "      <td>190432</td>\n",
       "      <td>21580</td>\n",
       "    </tr>\n",
       "    <tr>\n",
       "      <th>6</th>\n",
       "      <td>1019</td>\n",
       "      <td>83435</td>\n",
       "      <td>6511</td>\n",
       "    </tr>\n",
       "  </tbody>\n",
       "</table>\n",
       "</div>"
      ],
      "text/plain": [
       "label             -1       0      1\n",
       "month_received                     \n",
       "1               3212  358478   9849\n",
       "2               1336  126766   5331\n",
       "3                921   87691  15291\n",
       "4               1163  131098   5833\n",
       "5               3336  190432  21580\n",
       "6               1019   83435   6511"
      ]
     },
     "execution_count": 115,
     "metadata": {},
     "output_type": "execute_result"
    }
   ],
   "source": [
    "month_stat"
   ]
  },
  {
   "cell_type": "code",
   "execution_count": 111,
   "id": "straight-furniture",
   "metadata": {},
   "outputs": [
    {
     "data": {
      "text/html": [
       "<div>\n",
       "<style scoped>\n",
       "    .dataframe tbody tr th:only-of-type {\n",
       "        vertical-align: middle;\n",
       "    }\n",
       "\n",
       "    .dataframe tbody tr th {\n",
       "        vertical-align: top;\n",
       "    }\n",
       "\n",
       "    .dataframe thead th {\n",
       "        text-align: right;\n",
       "    }\n",
       "</style>\n",
       "<table border=\"1\" class=\"dataframe\">\n",
       "  <thead>\n",
       "    <tr style=\"text-align: right;\">\n",
       "      <th>label</th>\n",
       "      <th>-1</th>\n",
       "      <th>0</th>\n",
       "      <th>1</th>\n",
       "    </tr>\n",
       "    <tr>\n",
       "      <th>month_received</th>\n",
       "      <th></th>\n",
       "      <th></th>\n",
       "      <th></th>\n",
       "    </tr>\n",
       "  </thead>\n",
       "  <tbody>\n",
       "    <tr>\n",
       "      <th>1</th>\n",
       "      <td>0.008645</td>\n",
       "      <td>0.964846</td>\n",
       "      <td>0.026509</td>\n",
       "    </tr>\n",
       "    <tr>\n",
       "      <th>2</th>\n",
       "      <td>0.010013</td>\n",
       "      <td>0.950035</td>\n",
       "      <td>0.039953</td>\n",
       "    </tr>\n",
       "    <tr>\n",
       "      <th>3</th>\n",
       "      <td>0.008864</td>\n",
       "      <td>0.843970</td>\n",
       "      <td>0.147166</td>\n",
       "    </tr>\n",
       "    <tr>\n",
       "      <th>4</th>\n",
       "      <td>0.008422</td>\n",
       "      <td>0.949339</td>\n",
       "      <td>0.042239</td>\n",
       "    </tr>\n",
       "    <tr>\n",
       "      <th>5</th>\n",
       "      <td>0.015491</td>\n",
       "      <td>0.884299</td>\n",
       "      <td>0.100210</td>\n",
       "    </tr>\n",
       "    <tr>\n",
       "      <th>6</th>\n",
       "      <td>0.011202</td>\n",
       "      <td>0.917221</td>\n",
       "      <td>0.071577</td>\n",
       "    </tr>\n",
       "  </tbody>\n",
       "</table>\n",
       "</div>"
      ],
      "text/plain": [
       "label                 -1         0         1\n",
       "month_received                              \n",
       "1               0.008645  0.964846  0.026509\n",
       "2               0.010013  0.950035  0.039953\n",
       "3               0.008864  0.843970  0.147166\n",
       "4               0.008422  0.949339  0.042239\n",
       "5               0.015491  0.884299  0.100210\n",
       "6               0.011202  0.917221  0.071577"
      ]
     },
     "execution_count": 111,
     "metadata": {},
     "output_type": "execute_result"
    }
   ],
   "source": [
    "month_stat.div(month_stat.sum(axis=1),axis=0)"
   ]
  },
  {
   "cell_type": "markdown",
   "id": "elementary-invite",
   "metadata": {},
   "source": [
    "### users"
   ]
  },
  {
   "cell_type": "code",
   "execution_count": 30,
   "id": "automotive-sodium",
   "metadata": {},
   "outputs": [],
   "source": [
    "offline_train_userset = set(offline_train_d.User_id.unique())\n",
    "online_train_userset = set(online_train_d.User_id.unique())\n",
    "offline_test_userset = set(offline_test_d.User_id.unique())"
   ]
  },
  {
   "cell_type": "code",
   "execution_count": 31,
   "id": "smaller-canyon",
   "metadata": {},
   "outputs": [
    {
     "name": "stdout",
     "output_type": "stream",
     "text": [
      "# user has offline data: 539438\n",
      "# user has online data: 762858\n",
      "# user in test set:76309\n"
     ]
    }
   ],
   "source": [
    "print('# user has offline data: {}'.format(len(offline_train_userset)))\n",
    "print('# user has online data: {}'.format(len(online_train_userset)))\n",
    "print('# user in test set:{}'.format(len(offline_test_userset)))"
   ]
  },
  {
   "cell_type": "code",
   "execution_count": 51,
   "id": "hindu-insulin",
   "metadata": {},
   "outputs": [
    {
     "name": "stdout",
     "output_type": "stream",
     "text": [
      "% test user in offline train data: 99.997%\n",
      "% test user in online train data: 56.553%\n"
     ]
    }
   ],
   "source": [
    "# test user in offline train data\n",
    "print('% test user in offline train data: {:.3%}'.format(1\n",
    "                    -len(offline_test_userset - offline_train_userset) \n",
    "                                                       / len(offline_test_userset)))\n",
    "\n",
    "# test user in online train data\n",
    "print('% test user in online train data: {:.3%}'.format(1\n",
    "                    -len(offline_test_userset - online_train_userset) \n",
    "                                                       / len(offline_test_userset)))\n"
   ]
  },
  {
   "cell_type": "markdown",
   "id": "younger-pound",
   "metadata": {},
   "source": [
    "### merchants"
   ]
  },
  {
   "cell_type": "code",
   "execution_count": 49,
   "id": "considerable-composer",
   "metadata": {},
   "outputs": [],
   "source": [
    "offline_train_mset = set(offline_train_d.Merchant_id.unique())\n",
    "online_train_mset = set(online_train_d.Merchant_id.unique())\n",
    "offline_test_mset = set(offline_test_d.Merchant_id.unique())"
   ]
  },
  {
   "cell_type": "code",
   "execution_count": 52,
   "id": "nuclear-burns",
   "metadata": {},
   "outputs": [
    {
     "name": "stdout",
     "output_type": "stream",
     "text": [
      "# merchant has offline data: 8415\n",
      "# merchant has online data: 7999\n",
      "# merchant in test set:1559\n"
     ]
    }
   ],
   "source": [
    "print('# merchant has offline data: {}'.format(len(offline_train_mset)))\n",
    "print('# merchant has online data: {}'.format(len(online_train_mset)))\n",
    "print('# merchant in test set:{}'.format(len(offline_test_mset)))"
   ]
  },
  {
   "cell_type": "code",
   "execution_count": 53,
   "id": "digital-ceramic",
   "metadata": {},
   "outputs": [
    {
     "name": "stdout",
     "output_type": "stream",
     "text": [
      "% test merchant in offline train data: 99.936%\n",
      "% test merchant in online train data: 0.000%\n"
     ]
    }
   ],
   "source": [
    "# test user in offline train data\n",
    "print('% test merchant in offline train data: {:.3%}'.format(1\n",
    "                    -len(offline_test_mset - offline_train_mset) \n",
    "                                                       / len(offline_test_mset)))\n",
    "\n",
    "# test user in online train data\n",
    "print('% test merchant in online train data: {:.3%}'.format(1\n",
    "                    -len(offline_test_mset - online_train_mset) \n",
    "                                                       / len(offline_test_mset)))\n"
   ]
  },
  {
   "cell_type": "markdown",
   "id": "conventional-checkout",
   "metadata": {},
   "source": [
    "### coupons"
   ]
  },
  {
   "cell_type": "code",
   "execution_count": 54,
   "id": "fifth-barrier",
   "metadata": {},
   "outputs": [],
   "source": [
    "offline_train_cset = set(offline_train_d.Coupon_id.unique())\n",
    "online_train_cset = set(online_train_d.Coupon_id.unique())\n",
    "offline_test_cset = set(offline_test_d.Coupon_id.unique())"
   ]
  },
  {
   "cell_type": "code",
   "execution_count": 55,
   "id": "subsequent-departure",
   "metadata": {},
   "outputs": [
    {
     "name": "stdout",
     "output_type": "stream",
     "text": [
      "# coupon has offline data: 9739\n",
      "# coupon has online data: 27748\n",
      "# coupon in test set:2050\n"
     ]
    }
   ],
   "source": [
    "print('# coupon has offline data: {}'.format(len(offline_train_cset)))\n",
    "print('# coupon has online data: {}'.format(len(online_train_cset)))\n",
    "print('# coupon in test set:{}'.format(len(offline_test_cset)))"
   ]
  },
  {
   "cell_type": "code",
   "execution_count": 56,
   "id": "secure-anthony",
   "metadata": {},
   "outputs": [
    {
     "name": "stdout",
     "output_type": "stream",
     "text": [
      "% test coupon in offline train data: 54.537%\n",
      "% test coupon in online train data: 0.000%\n"
     ]
    }
   ],
   "source": [
    "# test user in offline train data\n",
    "print('% test coupon in offline train data: {:.3%}'.format(1\n",
    "                    -len(offline_test_cset - offline_train_cset) \n",
    "                                                       / len(offline_test_cset)))\n",
    "\n",
    "# test user in online train data\n",
    "print('% test coupon in online train data: {:.3%}'.format(1\n",
    "                    -len(offline_test_cset - online_train_cset) \n",
    "                                                       / len(offline_test_cset)))\n"
   ]
  },
  {
   "cell_type": "markdown",
   "id": "imposed-restaurant",
   "metadata": {},
   "source": [
    "## feature engineering "
   ]
  },
  {
   "cell_type": "markdown",
   "id": "systematic-alexander",
   "metadata": {},
   "source": [
    "### import automated feature engineering tools\n",
    "Website: https://www.featuretools.com/\n",
    "\n",
    "Install: https://featuretools.alteryx.com/en/stable/install.html\n",
    "\n",
    "Codes below works fine on my platform (MacOS 11.2.1, Python 3.8.5, pip 21.0.1)\n",
    "``` bash\n",
    "python -m pip install featuretools\n",
    "python -m pip install \"featuretools[complete]\"\n",
    "```\n",
    "\n",
    "Doc: https://featuretools.alteryx.com/en/stable/api_reference.html\n",
    "\n",
    "github https://github.com/alteryx/featuretools"
   ]
  },
  {
   "cell_type": "code",
   "execution_count": 2,
   "id": "outdoor-communist",
   "metadata": {
    "collapsed": true,
    "jupyter": {
     "outputs_hidden": true
    }
   },
   "outputs": [
    {
     "name": "stderr",
     "output_type": "stream",
     "text": [
      "WARNING:root:'PYARROW_IGNORE_TIMEZONE' environment variable was not set. It is required to set this environment variable to '1' in both driver and executor sides if you use pyarrow>=2.0.0. Koalas will set it for you but it does not work if there is a Spark context already launched.\n",
      "<frozen importlib._bootstrap>:219: RuntimeWarning: numpy.ufunc size changed, may indicate binary incompatibility. Expected 192 from C header, got 216 from PyObject\n",
      "<frozen importlib._bootstrap>:219: RuntimeWarning: numpy.ufunc size changed, may indicate binary incompatibility. Expected 192 from C header, got 216 from PyObject\n",
      "<frozen importlib._bootstrap>:219: RuntimeWarning: numpy.ufunc size changed, may indicate binary incompatibility. Expected 192 from C header, got 216 from PyObject\n",
      "<frozen importlib._bootstrap>:219: RuntimeWarning: numpy.ufunc size changed, may indicate binary incompatibility. Expected 192 from C header, got 216 from PyObject\n",
      "<frozen importlib._bootstrap>:219: RuntimeWarning: numpy.ufunc size changed, may indicate binary incompatibility. Expected 192 from C header, got 216 from PyObject\n",
      "<frozen importlib._bootstrap>:219: RuntimeWarning: numpy.ufunc size changed, may indicate binary incompatibility. Expected 192 from C header, got 216 from PyObject\n",
      "<frozen importlib._bootstrap>:219: RuntimeWarning: numpy.ufunc size changed, may indicate binary incompatibility. Expected 192 from C header, got 216 from PyObject\n",
      "<frozen importlib._bootstrap>:219: RuntimeWarning: numpy.ufunc size changed, may indicate binary incompatibility. Expected 192 from C header, got 216 from PyObject\n",
      "<frozen importlib._bootstrap>:219: RuntimeWarning: numpy.ufunc size changed, may indicate binary incompatibility. Expected 192 from C header, got 216 from PyObject\n",
      "<frozen importlib._bootstrap>:219: RuntimeWarning: numpy.ufunc size changed, may indicate binary incompatibility. Expected 192 from C header, got 216 from PyObject\n",
      "<frozen importlib._bootstrap>:219: RuntimeWarning: numpy.ufunc size changed, may indicate binary incompatibility. Expected 192 from C header, got 216 from PyObject\n",
      "<frozen importlib._bootstrap>:219: RuntimeWarning: numpy.ufunc size changed, may indicate binary incompatibility. Expected 192 from C header, got 216 from PyObject\n",
      "<frozen importlib._bootstrap>:219: RuntimeWarning: numpy.ufunc size changed, may indicate binary incompatibility. Expected 192 from C header, got 216 from PyObject\n",
      "<frozen importlib._bootstrap>:219: RuntimeWarning: numpy.ufunc size changed, may indicate binary incompatibility. Expected 192 from C header, got 216 from PyObject\n",
      "<frozen importlib._bootstrap>:219: RuntimeWarning: numpy.ufunc size changed, may indicate binary incompatibility. Expected 192 from C header, got 216 from PyObject\n",
      "<frozen importlib._bootstrap>:219: RuntimeWarning: numpy.ufunc size changed, may indicate binary incompatibility. Expected 192 from C header, got 216 from PyObject\n",
      "<frozen importlib._bootstrap>:219: RuntimeWarning: numpy.ufunc size changed, may indicate binary incompatibility. Expected 192 from C header, got 216 from PyObject\n",
      "<frozen importlib._bootstrap>:219: RuntimeWarning: numpy.ufunc size changed, may indicate binary incompatibility. Expected 192 from C header, got 216 from PyObject\n",
      "<frozen importlib._bootstrap>:219: RuntimeWarning: numpy.ufunc size changed, may indicate binary incompatibility. Expected 192 from C header, got 216 from PyObject\n"
     ]
    },
    {
     "name": "stdout",
     "output_type": "stream",
     "text": [
      "0.23.1\n"
     ]
    }
   ],
   "source": [
    "import featuretools as ft\n",
    "print(ft.__version__)"
   ]
  },
  {
   "cell_type": "code",
   "execution_count": 77,
   "id": "marked-spread",
   "metadata": {},
   "outputs": [],
   "source": [
    "df_train_target = pd.read_csv('dataset/train_target.csv')\n",
    "df_test_target = pd.read_csv('dataset/offline_test.csv')\n",
    "df_online_train = pd.read_csv('dataset/online_train.csv')\n",
    "df_offline_train = pd.read_csv('dataset/offline_train.csv')"
   ]
  },
  {
   "cell_type": "markdown",
   "id": "existing-scanner",
   "metadata": {},
   "source": [
    "### Data Preparation"
   ]
  },
  {
   "cell_type": "code",
   "execution_count": 78,
   "id": "pharmaceutical-tomorrow",
   "metadata": {},
   "outputs": [],
   "source": [
    "## merge train and test target\n",
    "df_train_target.head(3)\n",
    "## only use Index, Date_received, Date, datediff, target\n",
    "df_train_target_digest = df_train_target[['User_id','Merchant_id','Coupon_id','Date_received','Date','datediff','target']]\n",
    "df_test_target_digest = df_test_target[['User_id','Merchant_id','Coupon_id','Date_received']]\n",
    "df_target_merged = pd.concat([df_train_target_digest,df_test_target_digest], axis=0, ignore_index=True)"
   ]
  },
  {
   "cell_type": "code",
   "execution_count": 79,
   "id": "coastal-michigan",
   "metadata": {},
   "outputs": [],
   "source": [
    "df_target_merged['Month_received']=df_target_merged['Date_received'].astype('datetime64[M]')\n",
    "df_target_merged['data'] = np.where(df_target_merged['target'].isna(), 'Test', 'Train')"
   ]
  },
  {
   "cell_type": "code",
   "execution_count": 80,
   "id": "brilliant-soccer",
   "metadata": {},
   "outputs": [],
   "source": [
    "## produce left table for feature engineering \n",
    "## for each month, get unique User(merchant, coupon) Index \n",
    "left_user = df_target_merged[['User_id','Month_received']].drop_duplicates()\n",
    "left_merchant = df_target_merged[['Merchant_id','Month_received']].drop_duplicates()\n",
    "left_coupon = df_target_merged[['Coupon_id','Month_received']].drop_duplicates()"
   ]
  },
  {
   "cell_type": "code",
   "execution_count": 81,
   "id": "composed-eugene",
   "metadata": {},
   "outputs": [],
   "source": [
    "df_target_merged.to_csv('./dataset/target_merged.csv', index=False)\n",
    "left_user.to_csv('./dataset/user_left_feature_engineering.csv', index=False)\n",
    "left_merchant.to_csv('./dataset/merchant_left_feature_engineering.csv', index=False)\n",
    "left_coupon.to_csv('./dataset/coupon_left_feature_engineering.csv', index=False)"
   ]
  },
  {
   "cell_type": "code",
   "execution_count": 82,
   "id": "understood-argentina",
   "metadata": {},
   "outputs": [],
   "source": [
    "### right table preprocessing, maually pre-do some cross features\n",
    "#### flag of using coupon when purchasing \n",
    "df_offline_train['use_coupon'] = ((df_offline_train['Coupon_id'].notna()) &(df_offline_train['Date'].notna())).astype(int)\n",
    "#### flag of purchasing, user might use / not use the coupon\n",
    "df_offline_train['purchase'] = df_offline_train['Date'].notna().astype(int)\n",
    "#### flag of giving(for merchant) / receiving(for user) coupon, user might use / not use the coupon\n",
    "df_offline_train['give_coupon'] =  (df_offline_train['Coupon_id'].notna()).astype(int)\n",
    "df_offline_train['Date_received'] = pd.to_datetime(df_offline_train['Date_received'])\n",
    "df_offline_train['Date'] = pd.to_datetime(df_offline_train['Date'])\n",
    "\n",
    "### !!!Attention: the column for featuretools time cutoff and window function \n",
    "def join_date_func(x):\n",
    "    if pd.notna(x.Date):\n",
    "        return x.Date\n",
    "    else:\n",
    "        return x.Date_received\n",
    "df_offline_train['join_date'] = df_offline_train.apply(lambda x:join_date_func(x),axis=1)\n",
    "\n",
    "df_offline_train['datediff'] = (df_offline_train['Date'] - df_offline_train['Date_received'] ).apply(lambda x:x.days)"
   ]
  },
  {
   "cell_type": "code",
   "execution_count": 88,
   "id": "grateful-founder",
   "metadata": {},
   "outputs": [
    {
     "data": {
      "text/html": [
       "<div>\n",
       "<style scoped>\n",
       "    .dataframe tbody tr th:only-of-type {\n",
       "        vertical-align: middle;\n",
       "    }\n",
       "\n",
       "    .dataframe tbody tr th {\n",
       "        vertical-align: top;\n",
       "    }\n",
       "\n",
       "    .dataframe thead th {\n",
       "        text-align: right;\n",
       "    }\n",
       "</style>\n",
       "<table border=\"1\" class=\"dataframe\">\n",
       "  <thead>\n",
       "    <tr style=\"text-align: right;\">\n",
       "      <th></th>\n",
       "      <th>User_id</th>\n",
       "      <th>Merchant_id</th>\n",
       "      <th>Coupon_id</th>\n",
       "      <th>Discount_rate</th>\n",
       "      <th>Distance</th>\n",
       "      <th>Date_received</th>\n",
       "      <th>Date</th>\n",
       "      <th>discount_type</th>\n",
       "      <th>uniform_discount_rate</th>\n",
       "      <th>promotion_condition</th>\n",
       "      <th>promotion_amonut</th>\n",
       "      <th>use_coupon</th>\n",
       "      <th>purchase</th>\n",
       "      <th>give_coupon</th>\n",
       "      <th>join_date</th>\n",
       "      <th>datediff</th>\n",
       "    </tr>\n",
       "  </thead>\n",
       "  <tbody>\n",
       "    <tr>\n",
       "      <th>894491</th>\n",
       "      <td>7051717</td>\n",
       "      <td>8415</td>\n",
       "      <td>NaN</td>\n",
       "      <td>NaN</td>\n",
       "      <td>3.0</td>\n",
       "      <td>NaT</td>\n",
       "      <td>2016-05-12</td>\n",
       "      <td>NaN</td>\n",
       "      <td>NaN</td>\n",
       "      <td>NaN</td>\n",
       "      <td>NaN</td>\n",
       "      <td>0</td>\n",
       "      <td>1</td>\n",
       "      <td>0</td>\n",
       "      <td>2016-05-12</td>\n",
       "      <td>NaN</td>\n",
       "    </tr>\n",
       "    <tr>\n",
       "      <th>1160526</th>\n",
       "      <td>856661</td>\n",
       "      <td>7409</td>\n",
       "      <td>NaN</td>\n",
       "      <td>NaN</td>\n",
       "      <td>0.0</td>\n",
       "      <td>NaT</td>\n",
       "      <td>2016-04-19</td>\n",
       "      <td>NaN</td>\n",
       "      <td>NaN</td>\n",
       "      <td>NaN</td>\n",
       "      <td>NaN</td>\n",
       "      <td>0</td>\n",
       "      <td>1</td>\n",
       "      <td>0</td>\n",
       "      <td>2016-04-19</td>\n",
       "      <td>NaN</td>\n",
       "    </tr>\n",
       "    <tr>\n",
       "      <th>1375511</th>\n",
       "      <td>1493850</td>\n",
       "      <td>8022</td>\n",
       "      <td>4700.0</td>\n",
       "      <td>20:1</td>\n",
       "      <td>0.0</td>\n",
       "      <td>2016-05-04</td>\n",
       "      <td>NaT</td>\n",
       "      <td>1.0</td>\n",
       "      <td>0.95</td>\n",
       "      <td>20.0</td>\n",
       "      <td>1.0</td>\n",
       "      <td>0</td>\n",
       "      <td>0</td>\n",
       "      <td>1</td>\n",
       "      <td>2016-05-04</td>\n",
       "      <td>NaN</td>\n",
       "    </tr>\n",
       "    <tr>\n",
       "      <th>1084301</th>\n",
       "      <td>5497995</td>\n",
       "      <td>760</td>\n",
       "      <td>3237.0</td>\n",
       "      <td>20:5</td>\n",
       "      <td>0.0</td>\n",
       "      <td>2016-01-27</td>\n",
       "      <td>NaT</td>\n",
       "      <td>1.0</td>\n",
       "      <td>0.75</td>\n",
       "      <td>20.0</td>\n",
       "      <td>5.0</td>\n",
       "      <td>0</td>\n",
       "      <td>0</td>\n",
       "      <td>1</td>\n",
       "      <td>2016-01-27</td>\n",
       "      <td>NaN</td>\n",
       "    </tr>\n",
       "    <tr>\n",
       "      <th>185808</th>\n",
       "      <td>6768936</td>\n",
       "      <td>2099</td>\n",
       "      <td>NaN</td>\n",
       "      <td>NaN</td>\n",
       "      <td>0.0</td>\n",
       "      <td>NaT</td>\n",
       "      <td>2016-02-07</td>\n",
       "      <td>NaN</td>\n",
       "      <td>NaN</td>\n",
       "      <td>NaN</td>\n",
       "      <td>NaN</td>\n",
       "      <td>0</td>\n",
       "      <td>1</td>\n",
       "      <td>0</td>\n",
       "      <td>2016-02-07</td>\n",
       "      <td>NaN</td>\n",
       "    </tr>\n",
       "  </tbody>\n",
       "</table>\n",
       "</div>"
      ],
      "text/plain": [
       "         User_id  Merchant_id  Coupon_id Discount_rate  Distance  \\\n",
       "894491   7051717         8415        NaN           NaN       3.0   \n",
       "1160526   856661         7409        NaN           NaN       0.0   \n",
       "1375511  1493850         8022     4700.0          20:1       0.0   \n",
       "1084301  5497995          760     3237.0          20:5       0.0   \n",
       "185808   6768936         2099        NaN           NaN       0.0   \n",
       "\n",
       "        Date_received       Date  discount_type  uniform_discount_rate  \\\n",
       "894491            NaT 2016-05-12            NaN                    NaN   \n",
       "1160526           NaT 2016-04-19            NaN                    NaN   \n",
       "1375511    2016-05-04        NaT            1.0                   0.95   \n",
       "1084301    2016-01-27        NaT            1.0                   0.75   \n",
       "185808            NaT 2016-02-07            NaN                    NaN   \n",
       "\n",
       "         promotion_condition  promotion_amonut  use_coupon  purchase  \\\n",
       "894491                   NaN               NaN           0         1   \n",
       "1160526                  NaN               NaN           0         1   \n",
       "1375511                 20.0               1.0           0         0   \n",
       "1084301                 20.0               5.0           0         0   \n",
       "185808                   NaN               NaN           0         1   \n",
       "\n",
       "         give_coupon  join_date  datediff  \n",
       "894491             0 2016-05-12       NaN  \n",
       "1160526            0 2016-04-19       NaN  \n",
       "1375511            1 2016-05-04       NaN  \n",
       "1084301            1 2016-01-27       NaN  \n",
       "185808             0 2016-02-07       NaN  "
      ]
     },
     "execution_count": 88,
     "metadata": {},
     "output_type": "execute_result"
    }
   ],
   "source": [
    "df_offline_train['']"
   ]
  },
  {
   "cell_type": "code",
   "execution_count": 84,
   "id": "fallen-arrow",
   "metadata": {},
   "outputs": [],
   "source": [
    "### params for cutoff time\n",
    "months_to_produce = ['2016-04-01', '2016-05-01', '2016-06-01', '2016-07-01']\n",
    "time_window = '3 month'"
   ]
  },
  {
   "cell_type": "markdown",
   "id": "vocational-banking",
   "metadata": {},
   "source": [
    "### merchant feature"
   ]
  },
  {
   "cell_type": "code",
   "execution_count": 153,
   "id": "infectious-benchmark",
   "metadata": {},
   "outputs": [],
   "source": [
    "curr_cutoff =  months_to_produce[-1]\n",
    "merchantset = left_merchant[left_merchant['Month_received'] == curr_cutoff]"
   ]
  },
  {
   "cell_type": "code",
   "execution_count": 154,
   "id": "simplified-illness",
   "metadata": {},
   "outputs": [],
   "source": [
    "es = ft.EntitySet(id='offline_merchant')\n",
    "es = es.entity_from_dataframe(entity_id='merchant',\n",
    "                             dataframe=merchantset.drop('Month_received',axis=1),\n",
    "                             index='Merchant_id',\n",
    "                             variable_types={'Merchant_id':ft.variable_types.Id})\n",
    "\n",
    "es = es.entity_from_dataframe(entity_id='offline',\n",
    "                             dataframe=df_offline_train.copy(),\n",
    "                             time_index='join_date',\n",
    "                              index='Transaction_id',\n",
    "                             make_index=True,\n",
    "                             variable_types={'Merchant_id':ft.variable_types.Id,\n",
    "                                            'User_id':ft.variable_types.Id,\n",
    "                                            'Coupon_id':ft.variable_types.Id,\n",
    "                                            #'give_coupon':ft.variable_types.Categorical,\n",
    "                                            #'use_coupon':ft.variable_types.Categorical,\n",
    "                                            #'purchase':ft.variable_types.Categorical,\n",
    "                                            'discount_type':ft.variable_types.Categorical})\n",
    "es['offline']['give_coupon'].interesting_values=[1]\n",
    "es['offline']['use_coupon'].interesting_values=[1]\n",
    "es['offline']['purchase'].interesting_values=[1]\n",
    "es['offline']['discount_type'].interesting_values=[0,1]\n",
    "es = es.add_relationship(ft.Relationship(es['merchant']['Merchant_id'],es['offline']['Merchant_id']))"
   ]
  },
  {
   "cell_type": "code",
   "execution_count": 165,
   "id": "spanish-fairy",
   "metadata": {},
   "outputs": [],
   "source": [
    "\n",
    "features_list = ft.dfs(entityset=es,\n",
    "                                        target_entity='merchant',\n",
    "                                        agg_primitives=['mean','count','sum','max','min','num_unique','mode'],\n",
    "                                        trans_primitives=['weekday'],\n",
    "                                       primitive_options={\n",
    "                                           'mode': {'ignore_variables': {\n",
    "                                               'offline': ['Coupon_id', 'User_id', 'give_coupon','use_coupon','purchase','discount_type']\n",
    "                                           }\n",
    "                                                   },\n",
    "                                           'num_unique': {'ignore_variables': {\n",
    "                                               'offline': [ 'give_coupon','use_coupon','purchase','discount_type', 'weekday']\n",
    "                                           }\n",
    "                                                   }\n",
    "                                       },\n",
    "                                       ignore_variables = {'offline':['join_date']},\n",
    "                                       cutoff_time=pd.Timestamp(curr_cutoff),\n",
    "                                       training_window=time_window,\n",
    "                                       where_primitives=['count','sum','mean','mode','num_unique'],\n",
    "                                        #instance_ids = [4663],\n",
    "                                        include_cutoff_time=False,\n",
    "                                        cutoff_time_in_index=True,\n",
    "                                       features_only=True\n",
    "                                      )"
   ]
  },
  {
   "cell_type": "code",
   "execution_count": 166,
   "id": "italian-squad",
   "metadata": {},
   "outputs": [
    {
     "data": {
      "text/plain": [
       "Entityset: offline_merchant\n",
       "  Entities:\n",
       "    merchant [Rows: 1559, Columns: 1]\n",
       "    offline [Rows: 1754884, Columns: 17]\n",
       "  Relationships:\n",
       "    offline.Merchant_id -> merchant.Merchant_id"
      ]
     },
     "execution_count": 166,
     "metadata": {},
     "output_type": "execute_result"
    }
   ],
   "source": [
    "es"
   ]
  },
  {
   "cell_type": "code",
   "execution_count": 167,
   "id": "quarterly-aquatic",
   "metadata": {},
   "outputs": [
    {
     "name": "stdout",
     "output_type": "stream",
     "text": [
      "2016-04-01 done!\n",
      "\n",
      "2016-05-01 done!\n",
      "\n",
      "2016-06-01 done!\n",
      "\n",
      "2016-07-01 done!\n",
      "\n"
     ]
    }
   ],
   "source": [
    "matries = []\n",
    "\n",
    "for curr_cutoff in months_to_produce:\n",
    "    merchantset = left_merchant[left_merchant['Month_received'] == curr_cutoff]\n",
    "\n",
    "    es = ft.EntitySet(id='offline_merchant')\n",
    "    es = es.entity_from_dataframe(entity_id='merchant',\n",
    "                                 dataframe=merchantset.drop('Month_received',axis=1),\n",
    "                                 index='Merchant_id',\n",
    "                                 variable_types={'Merchant_id':ft.variable_types.Id})\n",
    "\n",
    "    es = es.entity_from_dataframe(entity_id='offline',\n",
    "                                 dataframe=df_offline_train.copy(),\n",
    "                                 time_index='join_date',\n",
    "                                  index='Transaction_id',\n",
    "                                 make_index=True,\n",
    "                                 variable_types={'Merchant_id':ft.variable_types.Id,\n",
    "                                                'User_id':ft.variable_types.Id,\n",
    "                                                'Coupon_id':ft.variable_types.Id,\n",
    "                                                #'give_coupon':ft.variable_types.Categorical,\n",
    "                                                #'use_coupon':ft.variable_types.Categorical,\n",
    "                                                #'purchase':ft.variable_types.Categorical,\n",
    "                                                'discount_type':ft.variable_types.Categorical})\n",
    "    es['offline']['give_coupon'].interesting_values=[1]\n",
    "    es['offline']['use_coupon'].interesting_values=[1]\n",
    "    es['offline']['purchase'].interesting_values=[1]\n",
    "    es['offline']['discount_type'].interesting_values=[0,1]\n",
    "    es = es.add_relationship(ft.Relationship(es['merchant']['Merchant_id'],es['offline']['Merchant_id']))\n",
    "\n",
    "    feature_matrix = ft.calculate_feature_matrix(entityset=es,\n",
    "                                                 features=features_list,\n",
    "                                                cutoff_time=pd.Timestamp(curr_cutoff),\n",
    "                                                training_window=time_window,\n",
    "                                                include_cutoff_time=False,\n",
    "                                                cutoff_time_in_index=True)\n",
    "    \n",
    "    print(curr_cutoff + ' done!\\n')\n",
    "    \n",
    "    matries.append(feature_matrix)"
   ]
  },
  {
   "cell_type": "code",
   "execution_count": 170,
   "id": "miniature-detail",
   "metadata": {},
   "outputs": [
    {
     "data": {
      "text/plain": [
       "(11012, 160)"
      ]
     },
     "execution_count": 170,
     "metadata": {},
     "output_type": "execute_result"
    }
   ],
   "source": [
    "merchant_feature = pd.concat(matries, axis=0)\n",
    "merchant_feature.shape"
   ]
  },
  {
   "cell_type": "code",
   "execution_count": 174,
   "id": "sweet-anatomy",
   "metadata": {},
   "outputs": [
    {
     "data": {
      "text/plain": [
       "(11012, 158)"
      ]
     },
     "execution_count": 174,
     "metadata": {},
     "output_type": "execute_result"
    }
   ],
   "source": [
    "merchant_feature_remove_null = ft.selection.remove_highly_null_features(merchant_feature,pct_null_threshold=0.9)\n",
    "merchant_feature_remove_null.shape"
   ]
  },
  {
   "cell_type": "code",
   "execution_count": 201,
   "id": "optical-dodge",
   "metadata": {},
   "outputs": [
    {
     "data": {
      "text/plain": [
       "(11012, 152)"
      ]
     },
     "execution_count": 201,
     "metadata": {},
     "output_type": "execute_result"
    }
   ],
   "source": [
    "merchant_feature_remove_single = ft.selection.remove_single_value_features(merchant_feature_remove_null)\n",
    "merchant_feature_remove_single.shape"
   ]
  },
  {
   "cell_type": "code",
   "execution_count": 204,
   "id": "minus-edinburgh",
   "metadata": {},
   "outputs": [],
   "source": [
    "merchant_feature_remove_corr = ft.selection.remove_highly_correlated_features(\n",
    "    merchant_feature_remove_single,\n",
    "    pct_corr_threshold=0.99)"
   ]
  },
  {
   "cell_type": "code",
   "execution_count": 206,
   "id": "fitting-winner",
   "metadata": {},
   "outputs": [
    {
     "data": {
      "text/plain": [
       "(11012, 87)"
      ]
     },
     "execution_count": 206,
     "metadata": {},
     "output_type": "execute_result"
    }
   ],
   "source": [
    "merchant_feature_remove_corr.shape"
   ]
  },
  {
   "cell_type": "code",
   "execution_count": 208,
   "id": "surrounded-oracle",
   "metadata": {},
   "outputs": [],
   "source": [
    "merchant_feature_remove_single.reset_index().to_csv('./dataset/merchant_feature_total_remove_null&singal.csv',index=False)"
   ]
  },
  {
   "cell_type": "code",
   "execution_count": 209,
   "id": "naked-story",
   "metadata": {},
   "outputs": [],
   "source": [
    "merchant_feature_remove_corr.reset_index().to_csv('./dataset/merchant_feature_total_remove_highcorr.csv',index=False)"
   ]
  },
  {
   "cell_type": "code",
   "execution_count": 212,
   "id": "bronze-singing",
   "metadata": {},
   "outputs": [
    {
     "name": "stdout",
     "output_type": "stream",
     "text": [
      "total 2596744\n",
      "-rw-r--r--@ 1 billy  staff    10M Feb 21 22:17 ccf_offline_stage1_train.zip\n",
      "-rw-r--r--@ 1 billy  staff    38M Feb 21 22:17 ccf_online_stage1_train.zip\n",
      "-rw-r--r--@ 1 billy  staff    68M Feb 21 22:17 ccf_offline_stage1_train.csv\n",
      "-rw-r--r--@ 1 billy  staff   460M Feb 21 22:17 ccf_online_stage1_train.csv\n",
      "-rw-r--r--@ 1 billy  staff   3.9M Feb 21 22:17 ccf_offline_stage1_test_revised.csv\n",
      "-rw-r--r--  1 billy  staff    87M Feb 23 12:34 offline_train.csv\n",
      "-rw-r--r--  1 billy  staff   6.3M Feb 23 12:34 offline_test.csv\n",
      "-rw-r--r--  1 billy  staff   405M Feb 23 12:35 online_train.csv\n",
      "-rw-r--r--  1 billy  staff    67M Feb 23 12:47 train_target.csv\n",
      "-rw-r--r--  1 billy  staff   213K Feb 23 13:09 user_merchant_feature_engineering.csv\n",
      "-rw-r--r--  1 billy  staff   323K Feb 23 13:10 user_left_coupon_engineering.csv\n",
      "-rw-r--r--  1 billy  staff    61M Feb 23 13:52 target_merged.csv\n",
      "-rw-r--r--  1 billy  staff    14M Feb 23 13:52 user_left_feature_engineering.csv\n",
      "-rw-r--r--  1 billy  staff   213K Feb 23 13:52 merchant_left_feature_engineering.csv\n",
      "-rw-r--r--  1 billy  staff   323K Feb 23 13:52 coupon_left_feature_engineering.csv\n",
      "-rw-r--r--  1 billy  staff   7.0M Feb 23 16:52 merchant_feature_total_remove_null&singal.csv\n",
      "-rw-r--r--  1 billy  staff   3.9M Feb 23 16:52 merchant_feature_total_remove_highcorr.csv\n"
     ]
    }
   ],
   "source": [
    "%ll -hrt dataset/"
   ]
  },
  {
   "cell_type": "code",
   "execution_count": null,
   "id": "illegal-prevention",
   "metadata": {},
   "outputs": [],
   "source": []
  },
  {
   "cell_type": "code",
   "execution_count": null,
   "id": "mechanical-aspect",
   "metadata": {},
   "outputs": [],
   "source": []
  }
 ],
 "metadata": {
  "kernelspec": {
   "display_name": "Python 3",
   "language": "python",
   "name": "python3"
  },
  "language_info": {
   "codemirror_mode": {
    "name": "ipython",
    "version": 3
   },
   "file_extension": ".py",
   "mimetype": "text/x-python",
   "name": "python",
   "nbconvert_exporter": "python",
   "pygments_lexer": "ipython3",
   "version": "3.8.5"
  },
  "toc-autonumbering": true
 },
 "nbformat": 4,
 "nbformat_minor": 5
}
