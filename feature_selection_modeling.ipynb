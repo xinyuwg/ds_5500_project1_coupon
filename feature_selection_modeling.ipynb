{
 "cells": [
  {
   "cell_type": "markdown",
   "id": "excess-daily",
   "metadata": {},
   "source": [
    "# feature selection & modelling "
   ]
  },
  {
   "cell_type": "code",
   "execution_count": 10,
   "id": "tough-custom",
   "metadata": {},
   "outputs": [],
   "source": [
    "import warnings\n",
    "warnings.filterwarnings('ignore')\n",
    "\n",
    "import pandas as pd\n",
    "import numpy as np\n",
    "import matplotlib.pyplot as plt\n",
    "import seaborn as sns\n",
    "\n",
    "import featuretools as ft\n"
   ]
  },
  {
   "cell_type": "code",
   "execution_count": 11,
   "id": "northern-medicare",
   "metadata": {},
   "outputs": [
    {
     "name": "stdout",
     "output_type": "stream",
     "text": [
      "1.1.5\n",
      "1.19.2\n",
      "0.23.1\n"
     ]
    }
   ],
   "source": [
    "print(pd.__version__)\n",
    "print(np.__version__)\n",
    "print(ft.__version__)"
   ]
  },
  {
   "cell_type": "code",
   "execution_count": 12,
   "id": "brief-configuration",
   "metadata": {},
   "outputs": [],
   "source": [
    "df_target_merged = pd.read_csv('./dataset/target_merged.csv')"
   ]
  },
  {
   "cell_type": "code",
   "execution_count": null,
   "id": "dirty-psychology",
   "metadata": {},
   "outputs": [],
   "source": []
  },
  {
   "cell_type": "code",
   "execution_count": 13,
   "id": "precious-perception",
   "metadata": {},
   "outputs": [],
   "source": [
    "df_user_feature = pd.read_csv('./dataset/user_feature_total_remove_highcorr.csv')\n",
    "df_merchant_feature = pd.read_csv('./dataset/merchant_feature_total_remove_highcorr.csv')\n",
    "df_coupon_feature = pd.read_csv('./dataset/coupon_feature_total_remove_highcorr.csv')\n",
    "df_user_merchant_feature = pd.read_csv('./dataset/user_merchant_feature.csv')\n",
    "df_leakage_feature = pd.read_csv('./dataset/user_leakage_feature.csv')"
   ]
  },
  {
   "cell_type": "code",
   "execution_count": 14,
   "id": "spread-daughter",
   "metadata": {},
   "outputs": [],
   "source": [
    "df_user_feature = df_user_feature.add_prefix('user_')\n",
    "df_merchant_feature = df_merchant_feature.add_prefix('merchant_')\n",
    "df_coupon_feature = df_coupon_feature.add_prefix('coupon_')\n",
    "df_user_merchant_feature = df_user_merchant_feature.add_prefix('user_merchant_')\n",
    "df_leakage_feature = df_leakage_feature.add_prefix('leakage_')"
   ]
  },
  {
   "cell_type": "markdown",
   "id": "proved-shanghai",
   "metadata": {},
   "source": [
    "## feature seletion \n",
    "To reduce modelling time and avoid the curse of dimensionality, feature selection is necessary for our project.\n",
    "\n",
    "Traditional Methods of feature selection:\n",
    "\n",
    "1. remove features with high missing rate \n",
    "2. remove features with singal value \n",
    "3. remove high correlated features \n",
    "4. univariate statistical test based \n",
    "5. model based"
   ]
  },
  {
   "cell_type": "code",
   "execution_count": 17,
   "id": "hawaiian-uganda",
   "metadata": {},
   "outputs": [
    {
     "name": "stdout",
     "output_type": "stream",
     "text": [
      "# user feature 73\n",
      "# merchant feature 60\n",
      "# coupon feature 39\n",
      "# user merchant feature 21\n",
      "# leakagre feature 16\n"
     ]
    }
   ],
   "source": [
    "print('# user feature {}'.format(df_user_feature.shape[1]-2))\n",
    "print('# merchant feature {}'.format(df_merchant_feature.shape[1]-2))\n",
    "print('# coupon feature {}'.format(df_coupon_feature.shape[1]-2))\n",
    "\n",
    "print('# user merchant feature {}'.format(df_user_merchant_feature.shape[1]-3))\n",
    "print('# leakagre feature {}'.format(df_leakage_feature.shape[1]-2))"
   ]
  },
  {
   "cell_type": "code",
   "execution_count": 20,
   "id": "different-orleans",
   "metadata": {},
   "outputs": [
    {
     "data": {
      "text/plain": [
       "209"
      ]
     },
     "execution_count": 20,
     "metadata": {},
     "output_type": "execute_result"
    }
   ],
   "source": [
    "73+60+39+21+16"
   ]
  },
  {
   "cell_type": "code",
   "execution_count": 21,
   "id": "pretty-mixer",
   "metadata": {},
   "outputs": [
    {
     "data": {
      "text/html": [
       "<div>\n",
       "<style scoped>\n",
       "    .dataframe tbody tr th:only-of-type {\n",
       "        vertical-align: middle;\n",
       "    }\n",
       "\n",
       "    .dataframe tbody tr th {\n",
       "        vertical-align: top;\n",
       "    }\n",
       "\n",
       "    .dataframe thead th {\n",
       "        text-align: right;\n",
       "    }\n",
       "</style>\n",
       "<table border=\"1\" class=\"dataframe\">\n",
       "  <thead>\n",
       "    <tr style=\"text-align: right;\">\n",
       "      <th></th>\n",
       "      <th>User_id</th>\n",
       "      <th>Merchant_id</th>\n",
       "      <th>Coupon_id</th>\n",
       "      <th>Date_received</th>\n",
       "      <th>Date</th>\n",
       "      <th>datediff</th>\n",
       "      <th>target</th>\n",
       "      <th>Month_received</th>\n",
       "      <th>data</th>\n",
       "    </tr>\n",
       "  </thead>\n",
       "  <tbody>\n",
       "    <tr>\n",
       "      <th>0</th>\n",
       "      <td>1439408</td>\n",
       "      <td>4663</td>\n",
       "      <td>11002.0</td>\n",
       "      <td>2016-05-28</td>\n",
       "      <td>NaN</td>\n",
       "      <td>NaN</td>\n",
       "      <td>0.0</td>\n",
       "      <td>2016-05-01</td>\n",
       "      <td>Train</td>\n",
       "    </tr>\n",
       "    <tr>\n",
       "      <th>1</th>\n",
       "      <td>1439408</td>\n",
       "      <td>2632</td>\n",
       "      <td>8591.0</td>\n",
       "      <td>2016-02-17</td>\n",
       "      <td>NaN</td>\n",
       "      <td>NaN</td>\n",
       "      <td>0.0</td>\n",
       "      <td>2016-02-01</td>\n",
       "      <td>Train</td>\n",
       "    </tr>\n",
       "    <tr>\n",
       "      <th>2</th>\n",
       "      <td>1439408</td>\n",
       "      <td>2632</td>\n",
       "      <td>1078.0</td>\n",
       "      <td>2016-03-19</td>\n",
       "      <td>NaN</td>\n",
       "      <td>NaN</td>\n",
       "      <td>0.0</td>\n",
       "      <td>2016-03-01</td>\n",
       "      <td>Train</td>\n",
       "    </tr>\n",
       "    <tr>\n",
       "      <th>3</th>\n",
       "      <td>1439408</td>\n",
       "      <td>2632</td>\n",
       "      <td>8591.0</td>\n",
       "      <td>2016-06-13</td>\n",
       "      <td>NaN</td>\n",
       "      <td>NaN</td>\n",
       "      <td>0.0</td>\n",
       "      <td>2016-06-01</td>\n",
       "      <td>Train</td>\n",
       "    </tr>\n",
       "    <tr>\n",
       "      <th>4</th>\n",
       "      <td>1439408</td>\n",
       "      <td>2632</td>\n",
       "      <td>8591.0</td>\n",
       "      <td>2016-05-16</td>\n",
       "      <td>2016-06-13</td>\n",
       "      <td>28.0</td>\n",
       "      <td>-1.0</td>\n",
       "      <td>2016-05-01</td>\n",
       "      <td>Train</td>\n",
       "    </tr>\n",
       "    <tr>\n",
       "      <th>...</th>\n",
       "      <td>...</td>\n",
       "      <td>...</td>\n",
       "      <td>...</td>\n",
       "      <td>...</td>\n",
       "      <td>...</td>\n",
       "      <td>...</td>\n",
       "      <td>...</td>\n",
       "      <td>...</td>\n",
       "      <td>...</td>\n",
       "    </tr>\n",
       "    <tr>\n",
       "      <th>1053277</th>\n",
       "      <td>212662</td>\n",
       "      <td>3021</td>\n",
       "      <td>3739.0</td>\n",
       "      <td>2016-05-04</td>\n",
       "      <td>2016-05-08</td>\n",
       "      <td>4.0</td>\n",
       "      <td>1.0</td>\n",
       "      <td>2016-05-01</td>\n",
       "      <td>Train</td>\n",
       "    </tr>\n",
       "    <tr>\n",
       "      <th>1053278</th>\n",
       "      <td>212662</td>\n",
       "      <td>2934</td>\n",
       "      <td>5686.0</td>\n",
       "      <td>2016-03-21</td>\n",
       "      <td>2016-03-22</td>\n",
       "      <td>1.0</td>\n",
       "      <td>1.0</td>\n",
       "      <td>2016-03-01</td>\n",
       "      <td>Train</td>\n",
       "    </tr>\n",
       "    <tr>\n",
       "      <th>1053279</th>\n",
       "      <td>212662</td>\n",
       "      <td>3021</td>\n",
       "      <td>3739.0</td>\n",
       "      <td>2016-05-08</td>\n",
       "      <td>2016-06-02</td>\n",
       "      <td>25.0</td>\n",
       "      <td>-1.0</td>\n",
       "      <td>2016-05-01</td>\n",
       "      <td>Train</td>\n",
       "    </tr>\n",
       "    <tr>\n",
       "      <th>1053280</th>\n",
       "      <td>752472</td>\n",
       "      <td>7113</td>\n",
       "      <td>1633.0</td>\n",
       "      <td>2016-06-13</td>\n",
       "      <td>NaN</td>\n",
       "      <td>NaN</td>\n",
       "      <td>0.0</td>\n",
       "      <td>2016-06-01</td>\n",
       "      <td>Train</td>\n",
       "    </tr>\n",
       "    <tr>\n",
       "      <th>1053281</th>\n",
       "      <td>752472</td>\n",
       "      <td>3621</td>\n",
       "      <td>2705.0</td>\n",
       "      <td>2016-05-23</td>\n",
       "      <td>NaN</td>\n",
       "      <td>NaN</td>\n",
       "      <td>0.0</td>\n",
       "      <td>2016-05-01</td>\n",
       "      <td>Train</td>\n",
       "    </tr>\n",
       "  </tbody>\n",
       "</table>\n",
       "<p>1053282 rows × 9 columns</p>\n",
       "</div>"
      ],
      "text/plain": [
       "         User_id  Merchant_id  Coupon_id Date_received        Date  datediff  \\\n",
       "0        1439408         4663    11002.0    2016-05-28         NaN       NaN   \n",
       "1        1439408         2632     8591.0    2016-02-17         NaN       NaN   \n",
       "2        1439408         2632     1078.0    2016-03-19         NaN       NaN   \n",
       "3        1439408         2632     8591.0    2016-06-13         NaN       NaN   \n",
       "4        1439408         2632     8591.0    2016-05-16  2016-06-13      28.0   \n",
       "...          ...          ...        ...           ...         ...       ...   \n",
       "1053277   212662         3021     3739.0    2016-05-04  2016-05-08       4.0   \n",
       "1053278   212662         2934     5686.0    2016-03-21  2016-03-22       1.0   \n",
       "1053279   212662         3021     3739.0    2016-05-08  2016-06-02      25.0   \n",
       "1053280   752472         7113     1633.0    2016-06-13         NaN       NaN   \n",
       "1053281   752472         3621     2705.0    2016-05-23         NaN       NaN   \n",
       "\n",
       "         target Month_received   data  \n",
       "0           0.0     2016-05-01  Train  \n",
       "1           0.0     2016-02-01  Train  \n",
       "2           0.0     2016-03-01  Train  \n",
       "3           0.0     2016-06-01  Train  \n",
       "4          -1.0     2016-05-01  Train  \n",
       "...         ...            ...    ...  \n",
       "1053277     1.0     2016-05-01  Train  \n",
       "1053278     1.0     2016-03-01  Train  \n",
       "1053279    -1.0     2016-05-01  Train  \n",
       "1053280     0.0     2016-06-01  Train  \n",
       "1053281     0.0     2016-05-01  Train  \n",
       "\n",
       "[1053282 rows x 9 columns]"
      ]
     },
     "execution_count": 21,
     "metadata": {},
     "output_type": "execute_result"
    }
   ],
   "source": [
    "df_target_merged[df_target_merged.data == 'Train']"
   ]
  },
  {
   "cell_type": "code",
   "execution_count": 22,
   "id": "individual-economy",
   "metadata": {},
   "outputs": [],
   "source": [
    "def cast_categorical_variable(df):\n",
    "    cate_feat = list(\n",
    "    filter(lambda x: 'MODE' in x , \n",
    "           df.columns)\n",
    "    )\n",
    "    df[cate_feat] = df[cate_feat].astype(object)\n",
    "    return df"
   ]
  },
  {
   "cell_type": "code",
   "execution_count": 23,
   "id": "retired-choir",
   "metadata": {},
   "outputs": [],
   "source": [
    "df_user_feature = cast_categorical_variable(df_user_feature)\n",
    "df_merchant_feature = cast_categorical_variable(df_merchant_feature)\n",
    "df_coupon_feature = cast_categorical_variable(df_coupon_feature)\n",
    "df_user_merchant_feature = cast_categorical_variable(df_user_merchant_feature)\n",
    "df_leakage_feature = cast_categorical_variable(df_leakage_feature)"
   ]
  },
  {
   "cell_type": "code",
   "execution_count": 24,
   "id": "associate-behavior",
   "metadata": {},
   "outputs": [],
   "source": [
    "df_train_target = df_target_merged[(df_target_merged['data'] == 'Train') & \n",
    "                                  (df_target_merged['target'] >= 0)][['User_id', 'Merchant_id',\n",
    "                                     'Coupon_id', 'datediff','target','Month_received', 'Date_received']]"
   ]
  },
  {
   "cell_type": "code",
   "execution_count": 25,
   "id": "silent-start",
   "metadata": {},
   "outputs": [
    {
     "data": {
      "text/html": [
       "<div>\n",
       "<style scoped>\n",
       "    .dataframe tbody tr th:only-of-type {\n",
       "        vertical-align: middle;\n",
       "    }\n",
       "\n",
       "    .dataframe tbody tr th {\n",
       "        vertical-align: top;\n",
       "    }\n",
       "\n",
       "    .dataframe thead th {\n",
       "        text-align: right;\n",
       "    }\n",
       "</style>\n",
       "<table border=\"1\" class=\"dataframe\">\n",
       "  <thead>\n",
       "    <tr style=\"text-align: right;\">\n",
       "      <th></th>\n",
       "      <th>User_id</th>\n",
       "      <th>Merchant_id</th>\n",
       "      <th>Coupon_id</th>\n",
       "      <th>datediff</th>\n",
       "      <th>target</th>\n",
       "      <th>Month_received</th>\n",
       "      <th>Date_received</th>\n",
       "    </tr>\n",
       "  </thead>\n",
       "  <tbody>\n",
       "    <tr>\n",
       "      <th>0</th>\n",
       "      <td>1439408</td>\n",
       "      <td>4663</td>\n",
       "      <td>11002.0</td>\n",
       "      <td>NaN</td>\n",
       "      <td>0.0</td>\n",
       "      <td>2016-05-01</td>\n",
       "      <td>2016-05-28</td>\n",
       "    </tr>\n",
       "    <tr>\n",
       "      <th>1</th>\n",
       "      <td>1439408</td>\n",
       "      <td>2632</td>\n",
       "      <td>8591.0</td>\n",
       "      <td>NaN</td>\n",
       "      <td>0.0</td>\n",
       "      <td>2016-02-01</td>\n",
       "      <td>2016-02-17</td>\n",
       "    </tr>\n",
       "    <tr>\n",
       "      <th>2</th>\n",
       "      <td>1439408</td>\n",
       "      <td>2632</td>\n",
       "      <td>1078.0</td>\n",
       "      <td>NaN</td>\n",
       "      <td>0.0</td>\n",
       "      <td>2016-03-01</td>\n",
       "      <td>2016-03-19</td>\n",
       "    </tr>\n",
       "    <tr>\n",
       "      <th>3</th>\n",
       "      <td>1439408</td>\n",
       "      <td>2632</td>\n",
       "      <td>8591.0</td>\n",
       "      <td>NaN</td>\n",
       "      <td>0.0</td>\n",
       "      <td>2016-06-01</td>\n",
       "      <td>2016-06-13</td>\n",
       "    </tr>\n",
       "    <tr>\n",
       "      <th>5</th>\n",
       "      <td>1832624</td>\n",
       "      <td>3381</td>\n",
       "      <td>7610.0</td>\n",
       "      <td>NaN</td>\n",
       "      <td>0.0</td>\n",
       "      <td>2016-04-01</td>\n",
       "      <td>2016-04-29</td>\n",
       "    </tr>\n",
       "    <tr>\n",
       "      <th>...</th>\n",
       "      <td>...</td>\n",
       "      <td>...</td>\n",
       "      <td>...</td>\n",
       "      <td>...</td>\n",
       "      <td>...</td>\n",
       "      <td>...</td>\n",
       "      <td>...</td>\n",
       "    </tr>\n",
       "    <tr>\n",
       "      <th>1053276</th>\n",
       "      <td>212662</td>\n",
       "      <td>3532</td>\n",
       "      <td>5267.0</td>\n",
       "      <td>NaN</td>\n",
       "      <td>0.0</td>\n",
       "      <td>2016-03-01</td>\n",
       "      <td>2016-03-22</td>\n",
       "    </tr>\n",
       "    <tr>\n",
       "      <th>1053277</th>\n",
       "      <td>212662</td>\n",
       "      <td>3021</td>\n",
       "      <td>3739.0</td>\n",
       "      <td>4.0</td>\n",
       "      <td>1.0</td>\n",
       "      <td>2016-05-01</td>\n",
       "      <td>2016-05-04</td>\n",
       "    </tr>\n",
       "    <tr>\n",
       "      <th>1053278</th>\n",
       "      <td>212662</td>\n",
       "      <td>2934</td>\n",
       "      <td>5686.0</td>\n",
       "      <td>1.0</td>\n",
       "      <td>1.0</td>\n",
       "      <td>2016-03-01</td>\n",
       "      <td>2016-03-21</td>\n",
       "    </tr>\n",
       "    <tr>\n",
       "      <th>1053280</th>\n",
       "      <td>752472</td>\n",
       "      <td>7113</td>\n",
       "      <td>1633.0</td>\n",
       "      <td>NaN</td>\n",
       "      <td>0.0</td>\n",
       "      <td>2016-06-01</td>\n",
       "      <td>2016-06-13</td>\n",
       "    </tr>\n",
       "    <tr>\n",
       "      <th>1053281</th>\n",
       "      <td>752472</td>\n",
       "      <td>3621</td>\n",
       "      <td>2705.0</td>\n",
       "      <td>NaN</td>\n",
       "      <td>0.0</td>\n",
       "      <td>2016-05-01</td>\n",
       "      <td>2016-05-23</td>\n",
       "    </tr>\n",
       "  </tbody>\n",
       "</table>\n",
       "<p>1042295 rows × 7 columns</p>\n",
       "</div>"
      ],
      "text/plain": [
       "         User_id  Merchant_id  Coupon_id  datediff  target Month_received  \\\n",
       "0        1439408         4663    11002.0       NaN     0.0     2016-05-01   \n",
       "1        1439408         2632     8591.0       NaN     0.0     2016-02-01   \n",
       "2        1439408         2632     1078.0       NaN     0.0     2016-03-01   \n",
       "3        1439408         2632     8591.0       NaN     0.0     2016-06-01   \n",
       "5        1832624         3381     7610.0       NaN     0.0     2016-04-01   \n",
       "...          ...          ...        ...       ...     ...            ...   \n",
       "1053276   212662         3532     5267.0       NaN     0.0     2016-03-01   \n",
       "1053277   212662         3021     3739.0       4.0     1.0     2016-05-01   \n",
       "1053278   212662         2934     5686.0       1.0     1.0     2016-03-01   \n",
       "1053280   752472         7113     1633.0       NaN     0.0     2016-06-01   \n",
       "1053281   752472         3621     2705.0       NaN     0.0     2016-05-01   \n",
       "\n",
       "        Date_received  \n",
       "0          2016-05-28  \n",
       "1          2016-02-17  \n",
       "2          2016-03-19  \n",
       "3          2016-06-13  \n",
       "5          2016-04-29  \n",
       "...               ...  \n",
       "1053276    2016-03-22  \n",
       "1053277    2016-05-04  \n",
       "1053278    2016-03-21  \n",
       "1053280    2016-06-13  \n",
       "1053281    2016-05-23  \n",
       "\n",
       "[1042295 rows x 7 columns]"
      ]
     },
     "execution_count": 25,
     "metadata": {},
     "output_type": "execute_result"
    }
   ],
   "source": [
    "df_train_target"
   ]
  },
  {
   "cell_type": "markdown",
   "id": "chemical-burning",
   "metadata": {},
   "source": [
    "### statistical based feature selection\n",
    "Now, we have about 180 variables with some null values and categorical variables. In this part, we will use WoE(Weight of Evidence) transformation to save us from encoding and imputing, which is widely used in research credit risk world.\n",
    "\n",
    "blog: https://multithreaded.stitchfix.com/blog/2015/08/13/weight-of-evidence/\n",
    "\n",
    "Steps:\n",
    "1. to split (a continuous) variable into few categories or to group (a discrete) variable into few categories (and in both cases you assume that all observations in one category have \"same\" effect on dependent variable)\n",
    "2. to calculate WoE value for each category (then the original x values are replaced by the WoE values)\n",
    "\n",
    "Prons: (from the blog)\n",
    "1. Seamlessly compare the strength of continuous and categorical variables without creating dummy variables.\n",
    "2. Seamlessly handle missing values without imputation.\n",
    "3. Assess the predictive power of missing values.\n",
    "\n",
    "In this part, we use Python Package toad for WoE transformation and IV calculating.\n",
    "\n",
    "Doc: https://toad.readthedocs.io/en/stable/\n",
    "\n",
    "github: https://github.com/amphibian-dev/toad"
   ]
  },
  {
   "cell_type": "code",
   "execution_count": 26,
   "id": "settled-viking",
   "metadata": {},
   "outputs": [],
   "source": [
    "import toad\n",
    "\n",
    "from sklearn.linear_model import Lasso, LogisticRegression\n",
    "from sklearn.svm import LinearSVC\n",
    "from sklearn.ensemble import RandomForestClassifier\n",
    "from xgboost import XGBClassifier\n",
    "from sklearn.feature_selection import SelectFromModel\n",
    "from sklearn.preprocessing import LabelEncoder, StandardScaler\n",
    "from sklearn.pipeline import Pipeline\n",
    "\n",
    "from sklearn.model_selection import train_test_split"
   ]
  },
  {
   "cell_type": "code",
   "execution_count": 27,
   "id": "smart-norman",
   "metadata": {},
   "outputs": [],
   "source": [
    "def woeTransform(df):\n",
    "    ### binning data use chi2 binning algorithm, the minimum threshold in each bin is 2.5%\n",
    "    ### return a combiner \n",
    "    c = toad.transform.Combiner() \n",
    "    df_binned = c.fit_transform(df, y = 'target', method = 'chi', min_samples = 0.025, n_bins=10) \n",
    "    woe_trans = toad.transform.WOETransformer()\n",
    "    df_woe = woe_trans.fit_transform(df_binned,df_binned['target'],exclude=['target'])\n",
    "    return c,woe_trans, df_woe"
   ]
  },
  {
   "cell_type": "code",
   "execution_count": 44,
   "id": "governmental-composition",
   "metadata": {},
   "outputs": [],
   "source": [
    "df_user = df_train_target.merge(right=df_user_feature, how='left', \n",
    "                                left_on= ['User_id','Month_received'],\n",
    "                               right_on=['user_User_id','user_time'],\n",
    "                                )\n",
    "df_merchant_user = df_user.merge(right=df_merchant_feature, how='left',\n",
    "                                left_on=['Merchant_id','Month_received'],\n",
    "                               right_on=['merchant_Merchant_id','merchant_time'],\n",
    "                                )\n",
    "df_total = df_merchant_user.merge(right=df_coupon_feature, how='left',\n",
    "                                left_on=['Coupon_id','Month_received'],\n",
    "                               right_on=['coupon_Coupon_id','coupon_time'],\n",
    "                                )\n",
    "\n",
    "df_total_1 = df_total.merge(right=df_user_merchant_feature, how = 'left',\n",
    "                           left_on=['Month_received','Merchant_id', 'User_id'],\n",
    "                           right_on=['user_merchant_time','user_merchant_Merchant_id','user_merchant_User_id'])\n",
    "df_total_2 = df_total_1.merge(right=df_leakage_feature, how= 'left',\n",
    "                           left_on=['User_id','Month_received'],\n",
    "                           right_on=['leakage_User_id','leakage_time'])"
   ]
  },
  {
   "cell_type": "code",
   "execution_count": 102,
   "id": "statutory-briefing",
   "metadata": {},
   "outputs": [],
   "source": [
    "del df_user\n",
    "del df_merchant_user"
   ]
  },
  {
   "cell_type": "code",
   "execution_count": 45,
   "id": "suitable-champion",
   "metadata": {},
   "outputs": [],
   "source": [
    "df_total = df_total_2"
   ]
  },
  {
   "cell_type": "code",
   "execution_count": 46,
   "id": "million-corrections",
   "metadata": {},
   "outputs": [
    {
     "data": {
      "text/plain": [
       "(1042295, 227)"
      ]
     },
     "execution_count": 46,
     "metadata": {},
     "output_type": "execute_result"
    }
   ],
   "source": [
    "df_total_2.shape"
   ]
  },
  {
   "cell_type": "code",
   "execution_count": 47,
   "id": "surprised-poker",
   "metadata": {},
   "outputs": [],
   "source": [
    "features_list = list(df_user_feature.columns)[2:]\\\n",
    "+list(df_merchant_feature.columns)[2:]\\\n",
    "+list(df_coupon_feature.columns)[2:]\\\n",
    "+list(df_user_merchant_feature)[3:]\\\n",
    "+list(df_leakage_feature)[2:]"
   ]
  },
  {
   "cell_type": "code",
   "execution_count": 48,
   "id": "limiting-communications",
   "metadata": {},
   "outputs": [],
   "source": [
    "df_woe = df_total[features_list + ['target']]"
   ]
  },
  {
   "cell_type": "code",
   "execution_count": 49,
   "id": "manual-michigan",
   "metadata": {},
   "outputs": [
    {
     "name": "stdout",
     "output_type": "stream",
     "text": [
      "{'empty': array(['user_MEAN(online.uniform_discount_rate)',\n",
      "       'user_MODE(online.Discount_rate WHERE Action = 2)',\n",
      "       'user_NUM_UNIQUE(online.Merchant_id WHERE Action = 2)',\n",
      "       'user_NUM_UNIQUE(online.WEEKDAY(Date_received) WHERE Action = 2)'],\n",
      "      dtype='<U63'), 'iv': array(['user_MEAN(online.promotion_amonut)',\n",
      "       'user_MEAN(online.promotion_condition)',\n",
      "       'user_MODE(online.Discount_rate)',\n",
      "       'user_MEAN(online.use_coupon WHERE Action = 1)',\n",
      "       'user_MODE(online.WEEKDAY(Date) WHERE Action = 1)',\n",
      "       'user_MODE(online.WEEKDAY(Date_received))',\n",
      "       'user_NUM_UNIQUE(online.Coupon_id WHERE Action = 1)',\n",
      "       'user_NUM_UNIQUE(online.Merchant_id WHERE Action = 1)',\n",
      "       'user_NUM_UNIQUE(online.WEEKDAY(Date) WHERE Action = 1)',\n",
      "       'user_NUM_UNIQUE(online.WEEKDAY(Date_received) WHERE Action = 1)',\n",
      "       'merchant_MIN(merchant_offline.Distance WHERE discount_type = 1.0)'],\n",
      "      dtype=object), 'corr': array(['merchant_SUM(merchant_offline.Distance WHERE purchase = 1)',\n",
      "       'merchant_SUM(merchant_offline.promotion_amonut)',\n",
      "       'merchant_SUM(merchant_offline.datediff)',\n",
      "       'coupon_MAX(offline.promotion_condition)',\n",
      "       'merchant_COUNT(merchant_offline)',\n",
      "       'user_SUM(offline.datediff WHERE discount_type = 0.0)',\n",
      "       'user_merchant_SUM(offline.datediff WHERE discount_type = 0.0)',\n",
      "       'merchant_SUM(merchant_offline.Distance WHERE use_coupon = 1)',\n",
      "       'coupon_SUM(offline.Distance WHERE discount_type = 0.0)',\n",
      "       'user_MEAN(offline.promotion_condition)',\n",
      "       'user_merchant_MEAN(offline.promotion_amonut)',\n",
      "       'leakage_MEAN(offline.promotion_condition)',\n",
      "       'merchant_NUM_UNIQUE(merchant_offline.WEEKDAY(Date_received) WHERE discount_type = 0.0)',\n",
      "       'coupon_SUM(offline.purchase WHERE discount_type = 0.0)',\n",
      "       'user_COUNT(offline WHERE discount_type = 0.0)',\n",
      "       'user_MEAN(offline.uniform_discount_rate)',\n",
      "       'user_MEAN(offline.Distance)', 'coupon_SUM(offline.Distance)',\n",
      "       'user_NUM_UNIQUE(online.Coupon_id)',\n",
      "       'user_SUM(offline.purchase WHERE discount_type = 0.0)',\n",
      "       'user_NUM_UNIQUE(offline.Merchant_id WHERE discount_type = 1.0)',\n",
      "       'user_MIN(offline.promotion_amonut)',\n",
      "       'user_MAX(offline.promotion_amonut)',\n",
      "       'merchant_SUM(merchant_offline.Distance WHERE discount_type = 0.0)',\n",
      "       'user_MEAN(offline.purchase WHERE discount_type = 1.0)',\n",
      "       'coupon_MAX(offline.promotion_amonut)',\n",
      "       'user_merchant_MEAN(offline.Distance)',\n",
      "       'user_merchant_SUM(offline.use_coupon)', 'coupon_COUNT(offline)',\n",
      "       'user_merchant_MEAN(offline.use_coupon)',\n",
      "       'coupon_MIN(offline.purchase)', 'coupon_MIN(offline.datediff)',\n",
      "       'merchant_MAX(merchant_offline.Distance WHERE discount_type = 1.0)',\n",
      "       'user_SUM(offline.Distance)',\n",
      "       'coupon_SUM(offline.datediff WHERE discount_type = 0.0)',\n",
      "       'leakage_NUM_UNIQUE(offline.Discount_rate)',\n",
      "       'user_merchant_COUNT(offline WHERE discount_type = 0.0)',\n",
      "       'merchant_NUM_UNIQUE(merchant_offline.Discount_rate WHERE use_coupon = 1)',\n",
      "       'merchant_MAX(merchant_offline.uniform_discount_rate)',\n",
      "       'coupon_NUM_UNIQUE(offline.WEEKDAY(Date))',\n",
      "       'coupon_MAX(offline.datediff)',\n",
      "       'coupon_MEAN(offline.Distance WHERE use_coupon = 1)',\n",
      "       'coupon_NUM_UNIQUE(offline.User_id WHERE use_coupon = 1)',\n",
      "       'leakage_MEAN(offline.uniform_discount_rate)',\n",
      "       'user_merchant_MEAN(offline.uniform_discount_rate)',\n",
      "       'user_merchant_MEAN(offline.promotion_condition)',\n",
      "       'user_merchant_SUM(offline.promotion_amonut)',\n",
      "       'coupon_SUM(offline.promotion_amonut WHERE use_coupon = 1)',\n",
      "       'merchant_MAX(merchant_offline.datediff)',\n",
      "       'merchant_COUNT(merchant_offline WHERE discount_type = 0.0)',\n",
      "       'user_NUM_UNIQUE(offline.WEEKDAY(Date) WHERE discount_type = 1.0)',\n",
      "       'coupon_SUM(offline.datediff)', 'user_MEAN(offline.give_coupon)',\n",
      "       'coupon_SUM(offline.promotion_amonut)',\n",
      "       'merchant_SUM(merchant_offline.use_coupon)'], dtype=object)}\n",
      "(1042295, 140)\n"
     ]
    }
   ],
   "source": [
    "#Conduct preliminary feature selection according to missing percentage, IV and correlation (with other features)\n",
    "train_selected, dropped = toad.selection.select(df_woe,target = 'target',\n",
    "                                                empty = 0.95, iv = 0.01, corr = 0.8,\n",
    "                                                return_drop=True)\n",
    "print(dropped)\n",
    "print(train_selected.shape)"
   ]
  },
  {
   "cell_type": "code",
   "execution_count": 50,
   "id": "bridal-restriction",
   "metadata": {},
   "outputs": [],
   "source": [
    "combiner,woe_transformer,transformed = woeTransform(train_selected)"
   ]
  },
  {
   "cell_type": "code",
   "execution_count": null,
   "id": "hundred-repository",
   "metadata": {},
   "outputs": [],
   "source": [
    "transformed.to_csv('./dataset/woe_feature_train.csv',index=False)"
   ]
  },
  {
   "cell_type": "markdown",
   "id": "aerial-dover",
   "metadata": {},
   "source": [
    "### MODEL based selection\n",
    "\n",
    "Use Transformed feature for LogisticRegression, Random Forest, XGBoost"
   ]
  },
  {
   "cell_type": "code",
   "execution_count": 212,
   "id": "suffering-beads",
   "metadata": {},
   "outputs": [],
   "source": [
    "X = transformed.drop('target',axis=1)\n",
    "y = transformed['target']\n",
    "\n",
    "X_train, X_test, y_train, y_test = train_test_split(X,y,random_state = 1024,test_size=0.3)"
   ]
  },
  {
   "cell_type": "code",
   "execution_count": 213,
   "id": "covered-matthew",
   "metadata": {},
   "outputs": [
    {
     "name": "stdout",
     "output_type": "stream",
     "text": [
      "(729606, 139)\n",
      "(312689, 139)\n",
      "Positive rate in train set:6.19%\n",
      "Positive rate in validation set:6.15%\n"
     ]
    }
   ],
   "source": [
    "print(X_train.shape)\n",
    "print(X_test.shape)\n",
    "print('Positive rate in train set:{:.2%}'.format(y_train.mean()))\n",
    "print('Positive rate in validation set:{:.2%}'.format(y_test.mean()))"
   ]
  },
  {
   "cell_type": "markdown",
   "id": "postal-mathematics",
   "metadata": {},
   "source": [
    "#### LogisticRegression"
   ]
  },
  {
   "cell_type": "code",
   "execution_count": 214,
   "id": "drawn-rotation",
   "metadata": {},
   "outputs": [],
   "source": [
    "selector = SelectFromModel(estimator=\n",
    "                           LogisticRegression(solver='lbfgs',class_weight='balanced', max_iter=5000)\n",
    "                          ,threshold='mean').fit(\n",
    "    StandardScaler().fit_transform(X_train), y_train)"
   ]
  },
  {
   "cell_type": "code",
   "execution_count": 215,
   "id": "western-province",
   "metadata": {},
   "outputs": [],
   "source": [
    "lr_features = set(X_train.columns[selector.get_support()])"
   ]
  },
  {
   "cell_type": "code",
   "execution_count": 216,
   "id": "conscious-discussion",
   "metadata": {},
   "outputs": [
    {
     "data": {
      "text/plain": [
       "42"
      ]
     },
     "execution_count": 216,
     "metadata": {},
     "output_type": "execute_result"
    }
   ],
   "source": [
    "len(lr_features)"
   ]
  },
  {
   "cell_type": "markdown",
   "id": "abandoned-peninsula",
   "metadata": {},
   "source": [
    "#### Random Forest"
   ]
  },
  {
   "cell_type": "code",
   "execution_count": 217,
   "id": "perfect-channel",
   "metadata": {},
   "outputs": [],
   "source": [
    "rf = RandomForestClassifier(n_estimators=200, verbose=1, n_jobs=-1)"
   ]
  },
  {
   "cell_type": "code",
   "execution_count": 218,
   "id": "advance-essay",
   "metadata": {},
   "outputs": [
    {
     "name": "stderr",
     "output_type": "stream",
     "text": [
      "[Parallel(n_jobs=-1)]: Using backend ThreadingBackend with 8 concurrent workers.\n",
      "[Parallel(n_jobs=-1)]: Done  34 tasks      | elapsed:   25.2s\n",
      "[Parallel(n_jobs=-1)]: Done 184 tasks      | elapsed:  2.1min\n",
      "[Parallel(n_jobs=-1)]: Done 200 out of 200 | elapsed:  2.3min finished\n"
     ]
    },
    {
     "data": {
      "text/plain": [
       "RandomForestClassifier(n_estimators=200, n_jobs=-1, verbose=1)"
      ]
     },
     "execution_count": 218,
     "metadata": {},
     "output_type": "execute_result"
    }
   ],
   "source": [
    "rf.fit(X_train, y_train)"
   ]
  },
  {
   "cell_type": "code",
   "execution_count": 230,
   "id": "confirmed-anthropology",
   "metadata": {},
   "outputs": [],
   "source": [
    "rf_features = set(X_train.columns[rf.feature_importances_ > np.median(rf.feature_importances_)])"
   ]
  },
  {
   "cell_type": "code",
   "execution_count": 231,
   "id": "earned-lingerie",
   "metadata": {},
   "outputs": [
    {
     "data": {
      "text/plain": [
       "{'leakage_AVG_TIME_BETWEEN(offline.Date_received, unit=days)',\n",
       " 'leakage_COUNT(offline)',\n",
       " 'leakage_MEAN(offline.Distance)',\n",
       " 'leakage_MEAN(offline.promotion_amonut)',\n",
       " 'leakage_MODE(offline.Discount_rate WHERE discount_type = 1.0)',\n",
       " 'leakage_MODE(offline.Discount_rate)',\n",
       " 'leakage_MODE(offline.WEEKDAY(Date_received))',\n",
       " 'leakage_NUM_UNIQUE(offline.Coupon_id)',\n",
       " 'leakage_NUM_UNIQUE(offline.WEEKDAY(Date_received))',\n",
       " 'leakage_SUM(offline.Distance)',\n",
       " 'merchant_AVG_TIME_BETWEEN(merchant_offline.Date)',\n",
       " 'merchant_AVG_TIME_BETWEEN(merchant_offline.Date_received)',\n",
       " 'merchant_MAX(merchant_offline.Distance)',\n",
       " 'merchant_MEAN(merchant_offline.Distance WHERE use_coupon = 1)',\n",
       " 'merchant_MEAN(merchant_offline.Distance)',\n",
       " 'merchant_MEAN(merchant_offline.datediff)',\n",
       " 'merchant_MEAN(merchant_offline.give_coupon WHERE purchase = 1)',\n",
       " 'merchant_MEAN(merchant_offline.give_coupon)',\n",
       " 'merchant_MEAN(merchant_offline.purchase WHERE discount_type = 1.0)',\n",
       " 'merchant_MEAN(merchant_offline.use_coupon)',\n",
       " 'merchant_MODE(merchant_offline.WEEKDAY(Date))',\n",
       " 'merchant_MODE(merchant_offline.WEEKDAY(Date_received) WHERE use_coupon = 1)',\n",
       " 'merchant_MODE(merchant_offline.WEEKDAY(Date_received))',\n",
       " 'merchant_NUM_UNIQUE(merchant_offline.Coupon_id)',\n",
       " 'merchant_NUM_UNIQUE(merchant_offline.WEEKDAY(Date))',\n",
       " 'merchant_SUM(merchant_offline.purchase)',\n",
       " 'user_AVG_TIME_BETWEEN(offline.Date, unit=days)',\n",
       " 'user_AVG_TIME_BETWEEN(offline.Date_received, unit=days)',\n",
       " 'user_AVG_TIME_BETWEEN(online.Date, unit=days)',\n",
       " 'user_COUNT(offline)',\n",
       " 'user_COUNT(online WHERE Action = 2)',\n",
       " 'user_COUNT(online)',\n",
       " 'user_MAX(offline.Distance WHERE purchase = 1)',\n",
       " 'user_MAX(offline.Distance)',\n",
       " 'user_MAX(offline.promotion_condition)',\n",
       " 'user_MAX(offline.uniform_discount_rate)',\n",
       " 'user_MEAN(offline.promotion_amonut)',\n",
       " 'user_MEAN(offline.use_coupon)',\n",
       " 'user_MIN(offline.promotion_condition)',\n",
       " 'user_MIN(offline.uniform_discount_rate)',\n",
       " 'user_MODE(offline.Discount_rate WHERE discount_type = 1.0)',\n",
       " 'user_MODE(offline.Discount_rate WHERE give_coupon = 1)',\n",
       " 'user_MODE(offline.Discount_rate)',\n",
       " 'user_MODE(offline.WEEKDAY(Date))',\n",
       " 'user_MODE(offline.WEEKDAY(Date_received))',\n",
       " 'user_MODE(online.Action)',\n",
       " 'user_MODE(online.WEEKDAY(Date))',\n",
       " 'user_NUM_UNIQUE(offline.Coupon_id WHERE purchase = 1)',\n",
       " 'user_NUM_UNIQUE(offline.Coupon_id)',\n",
       " 'user_NUM_UNIQUE(offline.Merchant_id WHERE purchase = 1)',\n",
       " 'user_NUM_UNIQUE(offline.Merchant_id)',\n",
       " 'user_NUM_UNIQUE(offline.WEEKDAY(Date))',\n",
       " 'user_NUM_UNIQUE(offline.WEEKDAY(Date_received))',\n",
       " 'user_NUM_UNIQUE(online.Action)',\n",
       " 'user_NUM_UNIQUE(online.Merchant_id)',\n",
       " 'user_NUM_UNIQUE(online.WEEKDAY(Date))',\n",
       " 'user_NUM_UNIQUE(online.WEEKDAY(Date_received))',\n",
       " 'user_PROP(online, Action = 0)',\n",
       " 'user_PROP(online, Action = 1)',\n",
       " 'user_PROP(online, Action = 2)',\n",
       " 'user_SUM(offline.Distance WHERE discount_type = 1.0)',\n",
       " 'user_SUM(offline.Distance WHERE purchase = 1)',\n",
       " 'user_SUM(offline.give_coupon)',\n",
       " 'user_SUM(offline.use_coupon)',\n",
       " 'user_merchant_COUNT(offline)',\n",
       " 'user_merchant_MEAN(offline.give_coupon)',\n",
       " 'user_merchant_MEAN(offline.purchase WHERE discount_type = 1.0)',\n",
       " 'user_merchant_SUM(offline.datediff)',\n",
       " 'user_merchant_SUM(offline.promotion_amonut WHERE use_coupon = 1)'}"
      ]
     },
     "execution_count": 231,
     "metadata": {},
     "output_type": "execute_result"
    }
   ],
   "source": [
    "rf_features"
   ]
  },
  {
   "cell_type": "markdown",
   "id": "collective-organ",
   "metadata": {},
   "source": [
    "#### XGBoost"
   ]
  },
  {
   "cell_type": "code",
   "execution_count": 221,
   "id": "surface-somewhere",
   "metadata": {},
   "outputs": [],
   "source": [
    "xgb = XGBClassifier(n_estimators=100, max_depth=3,n_jobs=-1)"
   ]
  },
  {
   "cell_type": "code",
   "execution_count": 222,
   "id": "dried-cancer",
   "metadata": {},
   "outputs": [
    {
     "name": "stdout",
     "output_type": "stream",
     "text": [
      "[20:44:33] WARNING: /Users/travis/build/dmlc/xgboost/src/learner.cc:1061: Starting in XGBoost 1.3.0, the default evaluation metric used with the objective 'binary:logistic' was changed from 'error' to 'logloss'. Explicitly set eval_metric if you'd like to restore the old behavior.\n"
     ]
    },
    {
     "data": {
      "text/plain": [
       "XGBClassifier(base_score=0.5, booster='gbtree', colsample_bylevel=1,\n",
       "              colsample_bynode=1, colsample_bytree=1, gamma=0, gpu_id=-1,\n",
       "              importance_type='gain', interaction_constraints='',\n",
       "              learning_rate=0.300000012, max_delta_step=0, max_depth=3,\n",
       "              min_child_weight=1, missing=nan, monotone_constraints='()',\n",
       "              n_estimators=100, n_jobs=-1, num_parallel_tree=1, random_state=0,\n",
       "              reg_alpha=0, reg_lambda=1, scale_pos_weight=1, subsample=1,\n",
       "              tree_method='exact', validate_parameters=1, verbosity=None)"
      ]
     },
     "execution_count": 222,
     "metadata": {},
     "output_type": "execute_result"
    }
   ],
   "source": [
    "xgb.fit(X_train, y_train)"
   ]
  },
  {
   "cell_type": "code",
   "execution_count": 232,
   "id": "planned-vehicle",
   "metadata": {},
   "outputs": [],
   "source": [
    "xgb_features = set(X_train.columns[xgb.feature_importances_ >   np.median(xgb.feature_importances_)])"
   ]
  },
  {
   "cell_type": "code",
   "execution_count": 233,
   "id": "chicken-chorus",
   "metadata": {},
   "outputs": [
    {
     "data": {
      "text/plain": [
       "{'coupon_COUNT(offline WHERE discount_type = 0.0)',\n",
       " 'coupon_MAX(offline.uniform_discount_rate)',\n",
       " 'coupon_MEAN(offline.Distance)',\n",
       " 'coupon_MEAN(offline.purchase)',\n",
       " 'coupon_MIN(offline.Distance)',\n",
       " 'coupon_MODE(offline.Discount_rate WHERE discount_type = 1.0)',\n",
       " 'coupon_MODE(offline.Discount_rate)',\n",
       " 'coupon_NUM_UNIQUE(offline.WEEKDAY(Date_received))',\n",
       " 'coupon_SUM(offline.promotion_condition)',\n",
       " 'leakage_AVG_TIME_BETWEEN(offline.Date_received, unit=days)',\n",
       " 'leakage_COUNT(offline WHERE discount_type = 0.0)',\n",
       " 'leakage_COUNT(offline)',\n",
       " 'leakage_MEAN(offline.Distance)',\n",
       " 'leakage_MEAN(offline.promotion_amonut)',\n",
       " 'leakage_MODE(offline.Discount_rate WHERE discount_type = 1.0)',\n",
       " 'leakage_MODE(offline.Discount_rate)',\n",
       " 'leakage_NUM_UNIQUE(offline.Coupon_id)',\n",
       " 'leakage_NUM_UNIQUE(offline.WEEKDAY(Date_received))',\n",
       " 'leakage_SUM(offline.Distance WHERE discount_type = 0.0)',\n",
       " 'leakage_SUM(offline.Distance)',\n",
       " 'merchant_AVG_TIME_BETWEEN(merchant_offline.Date)',\n",
       " 'merchant_AVG_TIME_BETWEEN(merchant_offline.Date_received)',\n",
       " 'merchant_MAX(merchant_offline.Distance WHERE discount_type = 0.0)',\n",
       " 'merchant_MAX(merchant_offline.Distance WHERE use_coupon = 1)',\n",
       " 'merchant_MAX(merchant_offline.Distance)',\n",
       " 'merchant_MAX(merchant_offline.promotion_amonut)',\n",
       " 'merchant_MAX(merchant_offline.promotion_condition)',\n",
       " 'merchant_MAX(merchant_offline.uniform_discount_rate WHERE use_coupon = 1)',\n",
       " 'merchant_MEAN(merchant_offline.Distance WHERE discount_type = 0.0)',\n",
       " 'merchant_MEAN(merchant_offline.Distance WHERE use_coupon = 1)',\n",
       " 'merchant_MEAN(merchant_offline.Distance)',\n",
       " 'merchant_MEAN(merchant_offline.datediff)',\n",
       " 'merchant_MEAN(merchant_offline.give_coupon WHERE purchase = 1)',\n",
       " 'merchant_MEAN(merchant_offline.give_coupon)',\n",
       " 'merchant_MEAN(merchant_offline.purchase WHERE discount_type = 0.0)',\n",
       " 'merchant_MEAN(merchant_offline.purchase WHERE discount_type = 1.0)',\n",
       " 'merchant_MEAN(merchant_offline.uniform_discount_rate)',\n",
       " 'merchant_MEAN(merchant_offline.use_coupon)',\n",
       " 'merchant_MIN(merchant_offline.Distance WHERE discount_type = 0.0)',\n",
       " 'merchant_MIN(merchant_offline.Distance WHERE use_coupon = 1)',\n",
       " 'merchant_MIN(merchant_offline.datediff)',\n",
       " 'merchant_MIN(merchant_offline.uniform_discount_rate)',\n",
       " 'merchant_MODE(merchant_offline.Discount_rate WHERE use_coupon = 1)',\n",
       " 'merchant_MODE(merchant_offline.WEEKDAY(Date))',\n",
       " 'merchant_MODE(merchant_offline.WEEKDAY(Date_received) WHERE discount_type = 0.0)',\n",
       " 'merchant_MODE(merchant_offline.WEEKDAY(Date_received) WHERE use_coupon = 1)',\n",
       " 'merchant_NUM_UNIQUE(merchant_offline.Discount_rate WHERE discount_type = 0.0)',\n",
       " 'merchant_NUM_UNIQUE(merchant_offline.Discount_rate)',\n",
       " 'merchant_NUM_UNIQUE(merchant_offline.WEEKDAY(Date) WHERE discount_type = 0.0)',\n",
       " 'merchant_NUM_UNIQUE(merchant_offline.WEEKDAY(Date))',\n",
       " 'merchant_NUM_UNIQUE(merchant_offline.WEEKDAY(Date_received))',\n",
       " 'merchant_SUM(merchant_offline.datediff WHERE discount_type = 0.0)',\n",
       " 'merchant_SUM(merchant_offline.purchase WHERE discount_type = 0.0)',\n",
       " 'merchant_SUM(merchant_offline.purchase)',\n",
       " 'user_AVG_TIME_BETWEEN(offline.Date, unit=days)',\n",
       " 'user_AVG_TIME_BETWEEN(offline.Date_received, unit=days)',\n",
       " 'user_COUNT(offline)',\n",
       " 'user_MAX(offline.Distance WHERE purchase = 1)',\n",
       " 'user_MEAN(offline.use_coupon)',\n",
       " 'user_MODE(offline.Discount_rate WHERE discount_type = 1.0)',\n",
       " 'user_NUM_UNIQUE(offline.Coupon_id)',\n",
       " 'user_NUM_UNIQUE(offline.Merchant_id WHERE purchase = 1)',\n",
       " 'user_merchant_COUNT(offline)',\n",
       " 'user_merchant_MEAN(offline.give_coupon)',\n",
       " 'user_merchant_MEAN(offline.purchase WHERE discount_type = 1.0)',\n",
       " 'user_merchant_SUM(offline.Distance)',\n",
       " 'user_merchant_SUM(offline.datediff)',\n",
       " 'user_merchant_SUM(offline.give_coupon)',\n",
       " 'user_merchant_SUM(offline.promotion_amonut WHERE use_coupon = 1)'}"
      ]
     },
     "execution_count": 233,
     "metadata": {},
     "output_type": "execute_result"
    }
   ],
   "source": [
    "xgb_features"
   ]
  },
  {
   "cell_type": "markdown",
   "id": "behind-lancaster",
   "metadata": {},
   "source": [
    "### merge the results"
   ]
  },
  {
   "cell_type": "code",
   "execution_count": 234,
   "id": "united-terminology",
   "metadata": {},
   "outputs": [],
   "source": [
    "result_features = list((rf_features.union(xgb_features)))"
   ]
  },
  {
   "cell_type": "code",
   "execution_count": 235,
   "id": "premier-louisiana",
   "metadata": {},
   "outputs": [
    {
     "data": {
      "text/plain": [
       "102"
      ]
     },
     "execution_count": 235,
     "metadata": {},
     "output_type": "execute_result"
    }
   ],
   "source": [
    "len(result_features)"
   ]
  },
  {
   "cell_type": "code",
   "execution_count": 236,
   "id": "elementary-texture",
   "metadata": {},
   "outputs": [],
   "source": [
    "df_target_total = df_target_merged[['User_id', 'Merchant_id',\n",
    "                                     'Coupon_id', 'datediff','target',\n",
    "                                    'Date_received','Month_received','data']]"
   ]
  },
  {
   "cell_type": "code",
   "execution_count": 237,
   "id": "dominant-mirror",
   "metadata": {},
   "outputs": [],
   "source": [
    "df_user = df_target_total.merge(right=df_user_feature, how='left', \n",
    "                                left_on= ['User_id','Month_received'],\n",
    "                               right_on=['user_User_id','user_time'],\n",
    "                                )\n",
    "df_merchant_user = df_user.merge(right=df_merchant_feature, how='left',\n",
    "                                left_on=['Merchant_id','Month_received'],\n",
    "                               right_on=['merchant_Merchant_id','merchant_time'],\n",
    "                                )\n",
    "df_total = df_merchant_user.merge(right=df_coupon_feature, how='left',\n",
    "                                left_on=['Coupon_id','Month_received'],\n",
    "                               right_on=['coupon_Coupon_id','coupon_time'],\n",
    "                                )\n",
    "df_total_1 = df_total.merge(right=df_user_merchant_feature, how = 'left',\n",
    "                           left_on=['Month_received','Merchant_id', 'User_id'],\n",
    "                           right_on=['user_merchant_time','user_merchant_Merchant_id','user_merchant_User_id'])\n",
    "df_total_2 = df_total_1.merge(right=df_leakage_feature, how= 'left',\n",
    "                           left_on=['User_id','Month_received'],\n",
    "                           right_on=['leakage_User_id','leakage_time'])"
   ]
  },
  {
   "cell_type": "code",
   "execution_count": 238,
   "id": "brazilian-queen",
   "metadata": {},
   "outputs": [],
   "source": [
    "df_feature_selected = df_total_2[['User_id', 'Merchant_id','Coupon_id', \n",
    "                                'datediff','target','Date_received',\n",
    "                                'Month_received','data'] \n",
    "                               + result_features]"
   ]
  },
  {
   "cell_type": "code",
   "execution_count": null,
   "id": "coordinated-action",
   "metadata": {},
   "outputs": [],
   "source": [
    "result"
   ]
  },
  {
   "cell_type": "code",
   "execution_count": 103,
   "id": "hired-demand",
   "metadata": {},
   "outputs": [],
   "source": [
    "df_feature_selected.to_csv('feature_selected_train&test.csv',index=False)"
   ]
  },
  {
   "cell_type": "code",
   "execution_count": 239,
   "id": "musical-event",
   "metadata": {},
   "outputs": [
    {
     "ename": "KeyboardInterrupt",
     "evalue": "",
     "output_type": "error",
     "traceback": [
      "\u001b[0;31m---------------------------------------------------------------------------\u001b[0m",
      "\u001b[0;31mKeyboardInterrupt\u001b[0m                         Traceback (most recent call last)",
      "\u001b[0;32m<ipython-input-239-b9fd5f83344c>\u001b[0m in \u001b[0;36m<module>\u001b[0;34m\u001b[0m\n\u001b[0;32m----> 1\u001b[0;31m \u001b[0mdf_total_woe\u001b[0m \u001b[0;34m=\u001b[0m \u001b[0mwoe_transformer\u001b[0m\u001b[0;34m.\u001b[0m\u001b[0mtransform\u001b[0m\u001b[0;34m(\u001b[0m\u001b[0mcombiner\u001b[0m\u001b[0;34m.\u001b[0m\u001b[0mtransform\u001b[0m\u001b[0;34m(\u001b[0m\u001b[0mdf_feature_selected\u001b[0m\u001b[0;34m[\u001b[0m\u001b[0mresult_features\u001b[0m\u001b[0;34m]\u001b[0m\u001b[0;34m)\u001b[0m\u001b[0;34m)\u001b[0m\u001b[0;34m\u001b[0m\u001b[0;34m\u001b[0m\u001b[0m\n\u001b[0m",
      "\u001b[0;32m~/opt/anaconda3/lib/python3.8/site-packages/toad/transform.py\u001b[0m in \u001b[0;36mtransform\u001b[0;34m(self, X, *args, **kwargs)\u001b[0m\n\u001b[1;32m     88\u001b[0m             \u001b[0;32mif\u001b[0m \u001b[0mkey\u001b[0m \u001b[0;32min\u001b[0m \u001b[0mself\u001b[0m\u001b[0;34m.\u001b[0m\u001b[0mrules\u001b[0m\u001b[0;34m:\u001b[0m\u001b[0;34m\u001b[0m\u001b[0;34m\u001b[0m\u001b[0m\n\u001b[1;32m     89\u001b[0m                 \u001b[0;32mtry\u001b[0m\u001b[0;34m:\u001b[0m\u001b[0;34m\u001b[0m\u001b[0;34m\u001b[0m\u001b[0m\n\u001b[0;32m---> 90\u001b[0;31m                     \u001b[0mres\u001b[0m\u001b[0;34m[\u001b[0m\u001b[0mkey\u001b[0m\u001b[0;34m]\u001b[0m \u001b[0;34m=\u001b[0m \u001b[0mself\u001b[0m\u001b[0;34m.\u001b[0m\u001b[0mtransform_\u001b[0m\u001b[0;34m(\u001b[0m\u001b[0mself\u001b[0m\u001b[0;34m.\u001b[0m\u001b[0mrules\u001b[0m\u001b[0;34m[\u001b[0m\u001b[0mkey\u001b[0m\u001b[0;34m]\u001b[0m\u001b[0;34m,\u001b[0m \u001b[0mX\u001b[0m\u001b[0;34m[\u001b[0m\u001b[0mkey\u001b[0m\u001b[0;34m]\u001b[0m\u001b[0;34m,\u001b[0m \u001b[0;34m*\u001b[0m\u001b[0margs\u001b[0m\u001b[0;34m,\u001b[0m \u001b[0;34m**\u001b[0m\u001b[0mkwargs\u001b[0m\u001b[0;34m)\u001b[0m\u001b[0;34m\u001b[0m\u001b[0;34m\u001b[0m\u001b[0m\n\u001b[0m\u001b[1;32m     91\u001b[0m                 \u001b[0;32mexcept\u001b[0m \u001b[0mException\u001b[0m \u001b[0;32mas\u001b[0m \u001b[0me\u001b[0m\u001b[0;34m:\u001b[0m\u001b[0;34m\u001b[0m\u001b[0;34m\u001b[0m\u001b[0m\n\u001b[1;32m     92\u001b[0m                     \u001b[0me\u001b[0m\u001b[0;34m.\u001b[0m\u001b[0margs\u001b[0m \u001b[0;34m+=\u001b[0m \u001b[0;34m(\u001b[0m\u001b[0;34m'on column \"{key}\"'\u001b[0m\u001b[0;34m.\u001b[0m\u001b[0mformat\u001b[0m\u001b[0;34m(\u001b[0m\u001b[0mkey\u001b[0m \u001b[0;34m=\u001b[0m \u001b[0mkey\u001b[0m\u001b[0;34m)\u001b[0m\u001b[0;34m,\u001b[0m\u001b[0;34m)\u001b[0m\u001b[0;34m\u001b[0m\u001b[0;34m\u001b[0m\u001b[0m\n",
      "\u001b[0;32m~/opt/anaconda3/lib/python3.8/site-packages/pandas/core/frame.py\u001b[0m in \u001b[0;36m__setitem__\u001b[0;34m(self, key, value)\u001b[0m\n\u001b[1;32m   3042\u001b[0m         \u001b[0;32melse\u001b[0m\u001b[0;34m:\u001b[0m\u001b[0;34m\u001b[0m\u001b[0;34m\u001b[0m\u001b[0m\n\u001b[1;32m   3043\u001b[0m             \u001b[0;31m# set column\u001b[0m\u001b[0;34m\u001b[0m\u001b[0;34m\u001b[0m\u001b[0;34m\u001b[0m\u001b[0m\n\u001b[0;32m-> 3044\u001b[0;31m             \u001b[0mself\u001b[0m\u001b[0;34m.\u001b[0m\u001b[0m_set_item\u001b[0m\u001b[0;34m(\u001b[0m\u001b[0mkey\u001b[0m\u001b[0;34m,\u001b[0m \u001b[0mvalue\u001b[0m\u001b[0;34m)\u001b[0m\u001b[0;34m\u001b[0m\u001b[0;34m\u001b[0m\u001b[0m\n\u001b[0m\u001b[1;32m   3045\u001b[0m \u001b[0;34m\u001b[0m\u001b[0m\n\u001b[1;32m   3046\u001b[0m     \u001b[0;32mdef\u001b[0m \u001b[0m_setitem_slice\u001b[0m\u001b[0;34m(\u001b[0m\u001b[0mself\u001b[0m\u001b[0;34m,\u001b[0m \u001b[0mkey\u001b[0m\u001b[0;34m:\u001b[0m \u001b[0mslice\u001b[0m\u001b[0;34m,\u001b[0m \u001b[0mvalue\u001b[0m\u001b[0;34m)\u001b[0m\u001b[0;34m:\u001b[0m\u001b[0;34m\u001b[0m\u001b[0;34m\u001b[0m\u001b[0m\n",
      "\u001b[0;32m~/opt/anaconda3/lib/python3.8/site-packages/pandas/core/frame.py\u001b[0m in \u001b[0;36m_set_item\u001b[0;34m(self, key, value)\u001b[0m\n\u001b[1;32m   3119\u001b[0m         \u001b[0mself\u001b[0m\u001b[0;34m.\u001b[0m\u001b[0m_ensure_valid_index\u001b[0m\u001b[0;34m(\u001b[0m\u001b[0mvalue\u001b[0m\u001b[0;34m)\u001b[0m\u001b[0;34m\u001b[0m\u001b[0;34m\u001b[0m\u001b[0m\n\u001b[1;32m   3120\u001b[0m         \u001b[0mvalue\u001b[0m \u001b[0;34m=\u001b[0m \u001b[0mself\u001b[0m\u001b[0;34m.\u001b[0m\u001b[0m_sanitize_column\u001b[0m\u001b[0;34m(\u001b[0m\u001b[0mkey\u001b[0m\u001b[0;34m,\u001b[0m \u001b[0mvalue\u001b[0m\u001b[0;34m)\u001b[0m\u001b[0;34m\u001b[0m\u001b[0;34m\u001b[0m\u001b[0m\n\u001b[0;32m-> 3121\u001b[0;31m         \u001b[0mNDFrame\u001b[0m\u001b[0;34m.\u001b[0m\u001b[0m_set_item\u001b[0m\u001b[0;34m(\u001b[0m\u001b[0mself\u001b[0m\u001b[0;34m,\u001b[0m \u001b[0mkey\u001b[0m\u001b[0;34m,\u001b[0m \u001b[0mvalue\u001b[0m\u001b[0;34m)\u001b[0m\u001b[0;34m\u001b[0m\u001b[0;34m\u001b[0m\u001b[0m\n\u001b[0m\u001b[1;32m   3122\u001b[0m \u001b[0;34m\u001b[0m\u001b[0m\n\u001b[1;32m   3123\u001b[0m         \u001b[0;31m# check if we are modifying a copy\u001b[0m\u001b[0;34m\u001b[0m\u001b[0;34m\u001b[0m\u001b[0;34m\u001b[0m\u001b[0m\n",
      "\u001b[0;32m~/opt/anaconda3/lib/python3.8/site-packages/pandas/core/generic.py\u001b[0m in \u001b[0;36m_set_item\u001b[0;34m(self, key, value)\u001b[0m\n\u001b[1;32m   3580\u001b[0m             \u001b[0;32mreturn\u001b[0m\u001b[0;34m\u001b[0m\u001b[0;34m\u001b[0m\u001b[0m\n\u001b[1;32m   3581\u001b[0m \u001b[0;34m\u001b[0m\u001b[0m\n\u001b[0;32m-> 3582\u001b[0;31m         \u001b[0mNDFrame\u001b[0m\u001b[0;34m.\u001b[0m\u001b[0m_iset_item\u001b[0m\u001b[0;34m(\u001b[0m\u001b[0mself\u001b[0m\u001b[0;34m,\u001b[0m \u001b[0mloc\u001b[0m\u001b[0;34m,\u001b[0m \u001b[0mvalue\u001b[0m\u001b[0;34m)\u001b[0m\u001b[0;34m\u001b[0m\u001b[0;34m\u001b[0m\u001b[0m\n\u001b[0m\u001b[1;32m   3583\u001b[0m \u001b[0;34m\u001b[0m\u001b[0m\n\u001b[1;32m   3584\u001b[0m     \u001b[0;32mdef\u001b[0m \u001b[0m_set_is_copy\u001b[0m\u001b[0;34m(\u001b[0m\u001b[0mself\u001b[0m\u001b[0;34m,\u001b[0m \u001b[0mref\u001b[0m\u001b[0;34m,\u001b[0m \u001b[0mcopy\u001b[0m\u001b[0;34m:\u001b[0m \u001b[0mbool_t\u001b[0m \u001b[0;34m=\u001b[0m \u001b[0;32mTrue\u001b[0m\u001b[0;34m)\u001b[0m \u001b[0;34m->\u001b[0m \u001b[0;32mNone\u001b[0m\u001b[0;34m:\u001b[0m\u001b[0;34m\u001b[0m\u001b[0;34m\u001b[0m\u001b[0m\n",
      "\u001b[0;32m~/opt/anaconda3/lib/python3.8/site-packages/pandas/core/generic.py\u001b[0m in \u001b[0;36m_iset_item\u001b[0;34m(self, loc, value)\u001b[0m\n\u001b[1;32m   3569\u001b[0m \u001b[0;34m\u001b[0m\u001b[0m\n\u001b[1;32m   3570\u001b[0m     \u001b[0;32mdef\u001b[0m \u001b[0m_iset_item\u001b[0m\u001b[0;34m(\u001b[0m\u001b[0mself\u001b[0m\u001b[0;34m,\u001b[0m \u001b[0mloc\u001b[0m\u001b[0;34m:\u001b[0m \u001b[0mint\u001b[0m\u001b[0;34m,\u001b[0m \u001b[0mvalue\u001b[0m\u001b[0;34m)\u001b[0m \u001b[0;34m->\u001b[0m \u001b[0;32mNone\u001b[0m\u001b[0;34m:\u001b[0m\u001b[0;34m\u001b[0m\u001b[0;34m\u001b[0m\u001b[0m\n\u001b[0;32m-> 3571\u001b[0;31m         \u001b[0mself\u001b[0m\u001b[0;34m.\u001b[0m\u001b[0m_mgr\u001b[0m\u001b[0;34m.\u001b[0m\u001b[0miset\u001b[0m\u001b[0;34m(\u001b[0m\u001b[0mloc\u001b[0m\u001b[0;34m,\u001b[0m \u001b[0mvalue\u001b[0m\u001b[0;34m)\u001b[0m\u001b[0;34m\u001b[0m\u001b[0;34m\u001b[0m\u001b[0m\n\u001b[0m\u001b[1;32m   3572\u001b[0m         \u001b[0mself\u001b[0m\u001b[0;34m.\u001b[0m\u001b[0m_clear_item_cache\u001b[0m\u001b[0;34m(\u001b[0m\u001b[0;34m)\u001b[0m\u001b[0;34m\u001b[0m\u001b[0;34m\u001b[0m\u001b[0m\n\u001b[1;32m   3573\u001b[0m \u001b[0;34m\u001b[0m\u001b[0m\n",
      "\u001b[0;32m~/opt/anaconda3/lib/python3.8/site-packages/pandas/core/internals/managers.py\u001b[0m in \u001b[0;36miset\u001b[0;34m(self, loc, value)\u001b[0m\n\u001b[1;32m   1112\u001b[0m                     \u001b[0mremoved_blknos\u001b[0m\u001b[0;34m.\u001b[0m\u001b[0mappend\u001b[0m\u001b[0;34m(\u001b[0m\u001b[0mblkno\u001b[0m\u001b[0;34m)\u001b[0m\u001b[0;34m\u001b[0m\u001b[0;34m\u001b[0m\u001b[0m\n\u001b[1;32m   1113\u001b[0m                 \u001b[0;32melse\u001b[0m\u001b[0;34m:\u001b[0m\u001b[0;34m\u001b[0m\u001b[0;34m\u001b[0m\u001b[0m\n\u001b[0;32m-> 1114\u001b[0;31m                     \u001b[0mblk\u001b[0m\u001b[0;34m.\u001b[0m\u001b[0mdelete\u001b[0m\u001b[0;34m(\u001b[0m\u001b[0mblk_locs\u001b[0m\u001b[0;34m)\u001b[0m\u001b[0;34m\u001b[0m\u001b[0;34m\u001b[0m\u001b[0m\n\u001b[0m\u001b[1;32m   1115\u001b[0m                     \u001b[0mself\u001b[0m\u001b[0;34m.\u001b[0m\u001b[0m_blklocs\u001b[0m\u001b[0;34m[\u001b[0m\u001b[0mblk\u001b[0m\u001b[0;34m.\u001b[0m\u001b[0mmgr_locs\u001b[0m\u001b[0;34m.\u001b[0m\u001b[0mindexer\u001b[0m\u001b[0;34m]\u001b[0m \u001b[0;34m=\u001b[0m \u001b[0mnp\u001b[0m\u001b[0;34m.\u001b[0m\u001b[0marange\u001b[0m\u001b[0;34m(\u001b[0m\u001b[0mlen\u001b[0m\u001b[0;34m(\u001b[0m\u001b[0mblk\u001b[0m\u001b[0;34m)\u001b[0m\u001b[0;34m)\u001b[0m\u001b[0;34m\u001b[0m\u001b[0;34m\u001b[0m\u001b[0m\n\u001b[1;32m   1116\u001b[0m \u001b[0;34m\u001b[0m\u001b[0m\n",
      "\u001b[0;32m~/opt/anaconda3/lib/python3.8/site-packages/pandas/core/internals/blocks.py\u001b[0m in \u001b[0;36mdelete\u001b[0;34m(self, loc)\u001b[0m\n\u001b[1;32m    335\u001b[0m         \u001b[0mDelete\u001b[0m \u001b[0mgiven\u001b[0m \u001b[0mloc\u001b[0m\u001b[0;34m(\u001b[0m\u001b[0;34m-\u001b[0m\u001b[0ms\u001b[0m\u001b[0;34m)\u001b[0m \u001b[0;32mfrom\u001b[0m \u001b[0mblock\u001b[0m \u001b[0;32min\u001b[0m\u001b[0;34m-\u001b[0m\u001b[0mplace\u001b[0m\u001b[0;34m.\u001b[0m\u001b[0;34m\u001b[0m\u001b[0;34m\u001b[0m\u001b[0m\n\u001b[1;32m    336\u001b[0m         \"\"\"\n\u001b[0;32m--> 337\u001b[0;31m         \u001b[0mself\u001b[0m\u001b[0;34m.\u001b[0m\u001b[0mvalues\u001b[0m \u001b[0;34m=\u001b[0m \u001b[0mnp\u001b[0m\u001b[0;34m.\u001b[0m\u001b[0mdelete\u001b[0m\u001b[0;34m(\u001b[0m\u001b[0mself\u001b[0m\u001b[0;34m.\u001b[0m\u001b[0mvalues\u001b[0m\u001b[0;34m,\u001b[0m \u001b[0mloc\u001b[0m\u001b[0;34m,\u001b[0m \u001b[0;36m0\u001b[0m\u001b[0;34m)\u001b[0m\u001b[0;34m\u001b[0m\u001b[0;34m\u001b[0m\u001b[0m\n\u001b[0m\u001b[1;32m    338\u001b[0m         \u001b[0mself\u001b[0m\u001b[0;34m.\u001b[0m\u001b[0mmgr_locs\u001b[0m \u001b[0;34m=\u001b[0m \u001b[0mself\u001b[0m\u001b[0;34m.\u001b[0m\u001b[0mmgr_locs\u001b[0m\u001b[0;34m.\u001b[0m\u001b[0mdelete\u001b[0m\u001b[0;34m(\u001b[0m\u001b[0mloc\u001b[0m\u001b[0;34m)\u001b[0m\u001b[0;34m\u001b[0m\u001b[0;34m\u001b[0m\u001b[0m\n\u001b[1;32m    339\u001b[0m \u001b[0;34m\u001b[0m\u001b[0m\n",
      "\u001b[0;32m<__array_function__ internals>\u001b[0m in \u001b[0;36mdelete\u001b[0;34m(*args, **kwargs)\u001b[0m\n",
      "\u001b[0;32m~/opt/anaconda3/lib/python3.8/site-packages/numpy/lib/function_base.py\u001b[0m in \u001b[0;36mdelete\u001b[0;34m(arr, obj, axis)\u001b[0m\n\u001b[1;32m   4407\u001b[0m \u001b[0;34m\u001b[0m\u001b[0m\n\u001b[1;32m   4408\u001b[0m         \u001b[0mslobj\u001b[0m\u001b[0;34m[\u001b[0m\u001b[0maxis\u001b[0m\u001b[0;34m]\u001b[0m \u001b[0;34m=\u001b[0m \u001b[0mkeep\u001b[0m\u001b[0;34m\u001b[0m\u001b[0;34m\u001b[0m\u001b[0m\n\u001b[0;32m-> 4409\u001b[0;31m         \u001b[0mnew\u001b[0m \u001b[0;34m=\u001b[0m \u001b[0marr\u001b[0m\u001b[0;34m[\u001b[0m\u001b[0mtuple\u001b[0m\u001b[0;34m(\u001b[0m\u001b[0mslobj\u001b[0m\u001b[0;34m)\u001b[0m\u001b[0;34m]\u001b[0m\u001b[0;34m\u001b[0m\u001b[0;34m\u001b[0m\u001b[0m\n\u001b[0m\u001b[1;32m   4410\u001b[0m \u001b[0;34m\u001b[0m\u001b[0m\n\u001b[1;32m   4411\u001b[0m     \u001b[0;32mif\u001b[0m \u001b[0mwrap\u001b[0m\u001b[0;34m:\u001b[0m\u001b[0;34m\u001b[0m\u001b[0;34m\u001b[0m\u001b[0m\n",
      "\u001b[0;31mKeyboardInterrupt\u001b[0m: "
     ]
    }
   ],
   "source": [
    "df_total_woe = woe_transformer.transform(combiner.transform(df_feature_selected[result_features]))"
   ]
  },
  {
   "cell_type": "code",
   "execution_count": 174,
   "id": "thirty-surprise",
   "metadata": {},
   "outputs": [],
   "source": [
    "df_total_woe = df_total_woe.round(4)"
   ]
  },
  {
   "cell_type": "code",
   "execution_count": 175,
   "id": "particular-favorite",
   "metadata": {},
   "outputs": [],
   "source": [
    "df_total_woe.to_csv('feature_selected_train&test_woe.csv',index=False)"
   ]
  },
  {
   "cell_type": "code",
   "execution_count": 240,
   "id": "fixed-journalism",
   "metadata": {},
   "outputs": [],
   "source": [
    "cate_feat = list(\n",
    "    filter(lambda x: 'MODE' in x , \n",
    "           df_feature_selected.columns)\n",
    "    )"
   ]
  },
  {
   "cell_type": "code",
   "execution_count": 241,
   "id": "different-attendance",
   "metadata": {},
   "outputs": [],
   "source": [
    "df_cate_woe = woe_transformer.transform(combiner.transform(df_feature_selected[cate_feat]))"
   ]
  },
  {
   "cell_type": "code",
   "execution_count": 242,
   "id": "tamil-settle",
   "metadata": {},
   "outputs": [
    {
     "data": {
      "text/plain": [
       "102"
      ]
     },
     "execution_count": 242,
     "metadata": {},
     "output_type": "execute_result"
    }
   ],
   "source": [
    "len(result_features)"
   ]
  },
  {
   "cell_type": "code",
   "execution_count": 243,
   "id": "wrapped-visit",
   "metadata": {},
   "outputs": [],
   "source": [
    "df_cate_woe.to_csv('./feature_selected_train&test_cate_woe.csv',index=False)"
   ]
  },
  {
   "cell_type": "code",
   "execution_count": 244,
   "id": "statistical-stylus",
   "metadata": {},
   "outputs": [],
   "source": [
    "with open('feature_names.txt', 'w') as writer:\n",
    "    for f in result_features:\n",
    "        writer.write(f + '\\n')"
   ]
  },
  {
   "cell_type": "code",
   "execution_count": null,
   "id": "suffering-comparison",
   "metadata": {},
   "outputs": [],
   "source": []
  },
  {
   "cell_type": "code",
   "execution_count": 245,
   "id": "prospective-receipt",
   "metadata": {},
   "outputs": [],
   "source": [
    "df_feature_selected[cate_feat] = df_cate_woe"
   ]
  },
  {
   "cell_type": "code",
   "execution_count": 246,
   "id": "norman-stretch",
   "metadata": {},
   "outputs": [],
   "source": [
    "df_train = df_feature_selected[(df_feature_selected['data'] == 'Train') & (df_feature_selected['target'] >= 0)]\n",
    "df_test = df_feature_selected[df_feature_selected['data'] == 'Test']"
   ]
  },
  {
   "cell_type": "code",
   "execution_count": 247,
   "id": "creative-tumor",
   "metadata": {},
   "outputs": [],
   "source": [
    "X_train = df_train[result_features]\n",
    "y_train = df_train['target']\n",
    "\n",
    "X_test = df_test[result_features]"
   ]
  },
  {
   "cell_type": "code",
   "execution_count": 248,
   "id": "peripheral-fourth",
   "metadata": {},
   "outputs": [],
   "source": [
    "from sklearn.model_selection import train_test_split\n",
    "import xgboost as xgb"
   ]
  },
  {
   "cell_type": "code",
   "execution_count": 249,
   "id": "dietary-rogers",
   "metadata": {},
   "outputs": [],
   "source": [
    "X_train, X_val, y_train, y_val = train_test_split(X_train,y_train, test_size=0.25,random_state=5,stratify=y_train)"
   ]
  },
  {
   "cell_type": "code",
   "execution_count": 250,
   "id": "hawaiian-target",
   "metadata": {},
   "outputs": [
    {
     "data": {
      "text/plain": [
       "(781721, 102)"
      ]
     },
     "execution_count": 250,
     "metadata": {},
     "output_type": "execute_result"
    }
   ],
   "source": [
    "X_train.shape"
   ]
  },
  {
   "cell_type": "code",
   "execution_count": 251,
   "id": "shaped-hometown",
   "metadata": {},
   "outputs": [
    {
     "data": {
      "text/plain": [
       "102"
      ]
     },
     "execution_count": 251,
     "metadata": {},
     "output_type": "execute_result"
    }
   ],
   "source": [
    "len(result_features)"
   ]
  },
  {
   "cell_type": "code",
   "execution_count": 252,
   "id": "qualified-payroll",
   "metadata": {},
   "outputs": [],
   "source": [
    "dtrain = xgb.DMatrix(X_train,label=y_train,feature_names=result_features)\n",
    "dval = xgb.DMatrix(X_val,label=y_val,feature_names=result_features)\n",
    "dtest = xgb.DMatrix(X_test,feature_names=result_features)"
   ]
  },
  {
   "cell_type": "code",
   "execution_count": 272,
   "id": "artificial-reality",
   "metadata": {},
   "outputs": [
    {
     "name": "stdout",
     "output_type": "stream",
     "text": [
      "[0]\ttrain-auc:0.70123\tval-auc:0.69970\n",
      "[50]\ttrain-auc:0.72331\tval-auc:0.72230\n",
      "[100]\ttrain-auc:0.72754\tval-auc:0.72580\n",
      "[150]\ttrain-auc:0.73074\tval-auc:0.72832\n",
      "[200]\ttrain-auc:0.73252\tval-auc:0.72988\n",
      "[250]\ttrain-auc:0.73479\tval-auc:0.73236\n",
      "[300]\ttrain-auc:0.73628\tval-auc:0.73325\n",
      "[350]\ttrain-auc:0.73791\tval-auc:0.73491\n",
      "[400]\ttrain-auc:0.73908\tval-auc:0.73569\n",
      "[450]\ttrain-auc:0.74040\tval-auc:0.73678\n",
      "[500]\ttrain-auc:0.74168\tval-auc:0.73761\n",
      "[550]\ttrain-auc:0.74258\tval-auc:0.73827\n",
      "[600]\ttrain-auc:0.74354\tval-auc:0.73885\n",
      "[650]\ttrain-auc:0.74427\tval-auc:0.73932\n",
      "[700]\ttrain-auc:0.74518\tval-auc:0.73992\n",
      "[750]\ttrain-auc:0.74590\tval-auc:0.74039\n",
      "[800]\ttrain-auc:0.74671\tval-auc:0.74070\n",
      "[850]\ttrain-auc:0.74718\tval-auc:0.74095\n",
      "[900]\ttrain-auc:0.74777\tval-auc:0.74117\n",
      "[950]\ttrain-auc:0.74832\tval-auc:0.74138\n",
      "[967]\ttrain-auc:0.74845\tval-auc:0.74124\n"
     ]
    }
   ],
   "source": [
    "params={'booster':'gbtree',\n",
    "\t    'objective': 'binary:logistic',\n",
    "\t    'eval_metric':'auc',\n",
    "\t    'gamma':1,\n",
    "\t    'min_child_weight':1.1,\n",
    "\t    'max_depth':5,\n",
    "\t    'lambda':1,\n",
    "\t    'subsample':0.7,\n",
    "\t    'colsample_bytree':0.7,\n",
    "\t    'colsample_bylevel':0.7,\n",
    "\t    'eta': 0.2,\n",
    "\t    'tree_method':'hist',\n",
    "        'scale_pos_weight':15,\n",
    "\t    'seed':0\n",
    "\t    }\n",
    "watchlist = [(dtrain,'train'),(dval,'val')]\n",
    "model = xgb.train(params,dtrain,num_boost_round=1000,evals=watchlist,early_stopping_rounds=20,verbose_eval=50)"
   ]
  },
  {
   "cell_type": "code",
   "execution_count": 273,
   "id": "lesser-shelf",
   "metadata": {},
   "outputs": [
    {
     "data": {
      "text/plain": [
       "<matplotlib.axes._subplots.AxesSubplot at 0x7fde5d30f970>"
      ]
     },
     "execution_count": 273,
     "metadata": {},
     "output_type": "execute_result"
    },
    {
     "data": {
      "image/png": "[encoded data removed]",
      "text/plain": [
       "<Figure size 432x288 with 1 Axes>"
      ]
     },
     "metadata": {
      "needs_background": "light"
     },
     "output_type": "display_data"
    }
   ],
   "source": [
    "xgb.plot_importance(model,importance_type='gain', max_num_features=20)"
   ]
  },
  {
   "cell_type": "code",
   "execution_count": 274,
   "id": "distinguished-account",
   "metadata": {},
   "outputs": [
    {
     "data": {
      "text/plain": [
       "(113640,)"
      ]
     },
     "execution_count": 274,
     "metadata": {},
     "output_type": "execute_result"
    }
   ],
   "source": [
    "model.predict(dtest).shape"
   ]
  },
  {
   "cell_type": "code",
   "execution_count": 275,
   "id": "peripheral-albania",
   "metadata": {},
   "outputs": [
    {
     "data": {
      "text/plain": [
       "(113640, 102)"
      ]
     },
     "execution_count": 275,
     "metadata": {},
     "output_type": "execute_result"
    }
   ],
   "source": [
    "X_test.shape"
   ]
  },
  {
   "cell_type": "code",
   "execution_count": 276,
   "id": "pharmaceutical-designer",
   "metadata": {},
   "outputs": [],
   "source": [
    "df_test['Probability'] = model.predict(dtest)"
   ]
  },
  {
   "cell_type": "code",
   "execution_count": 277,
   "id": "cellular-swimming",
   "metadata": {},
   "outputs": [],
   "source": [
    "df_test_origin = pd.read_csv('./dataset/ccf_offline_stage1_test_revised.csv')"
   ]
  },
  {
   "cell_type": "code",
   "execution_count": 278,
   "id": "incoming-indiana",
   "metadata": {},
   "outputs": [],
   "source": [
    "df_test_origin['Probability'] = df_test.reset_index()['Probability']"
   ]
  },
  {
   "cell_type": "code",
   "execution_count": 279,
   "id": "nasty-federation",
   "metadata": {},
   "outputs": [],
   "source": [
    "df_test_origin[['User_id','Coupon_id','Date_received', 'Probability']].to_csv('submit_0304_2030.csv',index=False)"
   ]
  },
  {
   "cell_type": "code",
   "execution_count": 280,
   "id": "super-weekend",
   "metadata": {},
   "outputs": [
    {
     "data": {
      "text/html": [
       "<div>\n",
       "<style scoped>\n",
       "    .dataframe tbody tr th:only-of-type {\n",
       "        vertical-align: middle;\n",
       "    }\n",
       "\n",
       "    .dataframe tbody tr th {\n",
       "        vertical-align: top;\n",
       "    }\n",
       "\n",
       "    .dataframe thead th {\n",
       "        text-align: right;\n",
       "    }\n",
       "</style>\n",
       "<table border=\"1\" class=\"dataframe\">\n",
       "  <thead>\n",
       "    <tr style=\"text-align: right;\">\n",
       "      <th></th>\n",
       "      <th>User_id</th>\n",
       "      <th>Merchant_id</th>\n",
       "      <th>Coupon_id</th>\n",
       "      <th>Discount_rate</th>\n",
       "      <th>Distance</th>\n",
       "      <th>Date_received</th>\n",
       "      <th>Probability</th>\n",
       "    </tr>\n",
       "  </thead>\n",
       "  <tbody>\n",
       "    <tr>\n",
       "      <th>0</th>\n",
       "      <td>4129537</td>\n",
       "      <td>450</td>\n",
       "      <td>9983</td>\n",
       "      <td>30:5</td>\n",
       "      <td>1.0</td>\n",
       "      <td>20160712</td>\n",
       "      <td>0.188074</td>\n",
       "    </tr>\n",
       "    <tr>\n",
       "      <th>1</th>\n",
       "      <td>6949378</td>\n",
       "      <td>1300</td>\n",
       "      <td>3429</td>\n",
       "      <td>30:5</td>\n",
       "      <td>NaN</td>\n",
       "      <td>20160706</td>\n",
       "      <td>0.607727</td>\n",
       "    </tr>\n",
       "    <tr>\n",
       "      <th>2</th>\n",
       "      <td>2166529</td>\n",
       "      <td>7113</td>\n",
       "      <td>6928</td>\n",
       "      <td>200:20</td>\n",
       "      <td>5.0</td>\n",
       "      <td>20160727</td>\n",
       "      <td>0.083381</td>\n",
       "    </tr>\n",
       "    <tr>\n",
       "      <th>3</th>\n",
       "      <td>2166529</td>\n",
       "      <td>7113</td>\n",
       "      <td>1808</td>\n",
       "      <td>100:10</td>\n",
       "      <td>5.0</td>\n",
       "      <td>20160727</td>\n",
       "      <td>0.108039</td>\n",
       "    </tr>\n",
       "    <tr>\n",
       "      <th>4</th>\n",
       "      <td>6172162</td>\n",
       "      <td>7605</td>\n",
       "      <td>6500</td>\n",
       "      <td>30:1</td>\n",
       "      <td>2.0</td>\n",
       "      <td>20160708</td>\n",
       "      <td>0.323392</td>\n",
       "    </tr>\n",
       "    <tr>\n",
       "      <th>...</th>\n",
       "      <td>...</td>\n",
       "      <td>...</td>\n",
       "      <td>...</td>\n",
       "      <td>...</td>\n",
       "      <td>...</td>\n",
       "      <td>...</td>\n",
       "      <td>...</td>\n",
       "    </tr>\n",
       "    <tr>\n",
       "      <th>113635</th>\n",
       "      <td>5828093</td>\n",
       "      <td>5717</td>\n",
       "      <td>10418</td>\n",
       "      <td>30:5</td>\n",
       "      <td>10.0</td>\n",
       "      <td>20160716</td>\n",
       "      <td>0.164993</td>\n",
       "    </tr>\n",
       "    <tr>\n",
       "      <th>113636</th>\n",
       "      <td>6626813</td>\n",
       "      <td>1699</td>\n",
       "      <td>7595</td>\n",
       "      <td>30:1</td>\n",
       "      <td>NaN</td>\n",
       "      <td>20160707</td>\n",
       "      <td>0.639167</td>\n",
       "    </tr>\n",
       "    <tr>\n",
       "      <th>113637</th>\n",
       "      <td>6626813</td>\n",
       "      <td>7321</td>\n",
       "      <td>7590</td>\n",
       "      <td>50:5</td>\n",
       "      <td>NaN</td>\n",
       "      <td>20160712</td>\n",
       "      <td>0.498090</td>\n",
       "    </tr>\n",
       "    <tr>\n",
       "      <th>113638</th>\n",
       "      <td>4547069</td>\n",
       "      <td>760</td>\n",
       "      <td>13602</td>\n",
       "      <td>30:5</td>\n",
       "      <td>0.0</td>\n",
       "      <td>20160717</td>\n",
       "      <td>0.674142</td>\n",
       "    </tr>\n",
       "    <tr>\n",
       "      <th>113639</th>\n",
       "      <td>6675965</td>\n",
       "      <td>7487</td>\n",
       "      <td>613</td>\n",
       "      <td>20:1</td>\n",
       "      <td>5.0</td>\n",
       "      <td>20160728</td>\n",
       "      <td>0.289149</td>\n",
       "    </tr>\n",
       "  </tbody>\n",
       "</table>\n",
       "<p>113640 rows × 7 columns</p>\n",
       "</div>"
      ],
      "text/plain": [
       "        User_id  Merchant_id  Coupon_id Discount_rate  Distance  \\\n",
       "0       4129537          450       9983          30:5       1.0   \n",
       "1       6949378         1300       3429          30:5       NaN   \n",
       "2       2166529         7113       6928        200:20       5.0   \n",
       "3       2166529         7113       1808        100:10       5.0   \n",
       "4       6172162         7605       6500          30:1       2.0   \n",
       "...         ...          ...        ...           ...       ...   \n",
       "113635  5828093         5717      10418          30:5      10.0   \n",
       "113636  6626813         1699       7595          30:1       NaN   \n",
       "113637  6626813         7321       7590          50:5       NaN   \n",
       "113638  4547069          760      13602          30:5       0.0   \n",
       "113639  6675965         7487        613          20:1       5.0   \n",
       "\n",
       "        Date_received  Probability  \n",
       "0            20160712     0.188074  \n",
       "1            20160706     0.607727  \n",
       "2            20160727     0.083381  \n",
       "3            20160727     0.108039  \n",
       "4            20160708     0.323392  \n",
       "...               ...          ...  \n",
       "113635       20160716     0.164993  \n",
       "113636       20160707     0.639167  \n",
       "113637       20160712     0.498090  \n",
       "113638       20160717     0.674142  \n",
       "113639       20160728     0.289149  \n",
       "\n",
       "[113640 rows x 7 columns]"
      ]
     },
     "execution_count": 280,
     "metadata": {},
     "output_type": "execute_result"
    }
   ],
   "source": [
    "df_test_origin"
   ]
  },
  {
   "cell_type": "code",
   "execution_count": 281,
   "id": "rural-board",
   "metadata": {},
   "outputs": [
    {
     "data": {
      "text/plain": [
       "Index(['User_id', 'Merchant_id', 'Coupon_id', 'datediff', 'target',\n",
       "       'Date_received', 'Month_received', 'data',\n",
       "       'leakage_MODE(offline.Discount_rate)', 'user_MODE(online.Action)',\n",
       "       ...\n",
       "       'merchant_MODE(merchant_offline.Discount_rate WHERE use_coupon = 1)',\n",
       "       'merchant_NUM_UNIQUE(merchant_offline.WEEKDAY(Date_received))',\n",
       "       'user_merchant_SUM(offline.promotion_amonut WHERE use_coupon = 1)',\n",
       "       'user_MODE(offline.WEEKDAY(Date))', 'leakage_MEAN(offline.Distance)',\n",
       "       'user_SUM(offline.give_coupon)', 'user_MODE(offline.Discount_rate)',\n",
       "       'user_COUNT(online)', 'user_NUM_UNIQUE(online.WEEKDAY(Date))',\n",
       "       'merchant_MIN(merchant_offline.Distance WHERE discount_type = 0.0)'],\n",
       "      dtype='object', length=110)"
      ]
     },
     "execution_count": 281,
     "metadata": {},
     "output_type": "execute_result"
    }
   ],
   "source": [
    "df_feature_selected.columns"
   ]
  },
  {
   "cell_type": "code",
   "execution_count": null,
   "id": "induced-validation",
   "metadata": {},
   "outputs": [],
   "source": []
  }
 ],
 "metadata": {
  "kernelspec": {
   "display_name": "Python 3",
   "language": "python",
   "name": "python3"
  },
  "language_info": {
   "codemirror_mode": {
    "name": "ipython",
    "version": 3
   },
   "file_extension": ".py",
   "mimetype": "text/x-python",
   "name": "python",
   "nbconvert_exporter": "python",
   "pygments_lexer": "ipython3",
   "version": "3.8.5"
  },
  "toc-autonumbering": true
 },
 "nbformat": 4,
 "nbformat_minor": 5
}
