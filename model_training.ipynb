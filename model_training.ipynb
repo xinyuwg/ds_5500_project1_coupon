{
  "nbformat": 4,
  "nbformat_minor": 5,
  "metadata": {
    "kernelspec": {
      "display_name": "Python 3",
      "language": "python",
      "name": "python3"
    },
    "language_info": {
      "codemirror_mode": {
        "name": "ipython",
        "version": 3
      },
      "file_extension": ".py",
      "mimetype": "text/x-python",
      "name": "python",
      "nbconvert_exporter": "python",
      "pygments_lexer": "ipython3",
      "version": "3.7.4"
    },
    "colab": {
      "name": "model_training.ipynb",
      "provenance": [],
      "toc_visible": true
    }
  },
  "cells": [
    {
      "cell_type": "markdown",
      "metadata": {
        "id": "0TtWJgzZeQ0S"
      },
      "source": [
        "# Model training"
      ],
      "id": "0TtWJgzZeQ0S"
    },
    {
      "cell_type": "code",
      "metadata": {
        "colab": {
          "base_uri": "https://localhost:8080/"
        },
        "id": "sUB7HJlFegeW",
        "outputId": "35c2d787-c74e-401a-adc1-306d8bd21598"
      },
      "source": [
        "from google.colab import drive\n",
        "drive.mount('/content/drive')"
      ],
      "id": "sUB7HJlFegeW",
      "execution_count": null,
      "outputs": [
        {
          "output_type": "stream",
          "text": [
            "Mounted at /content/drive\n"
          ],
          "name": "stdout"
        }
      ]
    },
    {
      "cell_type": "code",
      "metadata": {
        "id": "DQUmb4LleQ0Z"
      },
      "source": [
        "import re\n",
        "import sys\n",
        "import gc\n",
        "import numpy as np\n",
        "import pandas as pd\n",
        "from pprint import pprint\n",
        "from time import time\n",
        "import time as time_m\n",
        "import pandas as pd\n",
        "from sklearn.model_selection import train_test_split\n",
        "from sklearn.feature_extraction.text import TfidfVectorizer\n",
        "from sklearn import metrics\n",
        "from sklearn.impute import SimpleImputer, KNNImputer\n",
        "\n",
        "from sklearn.svm import SVC\n",
        "from sklearn.ensemble import RandomForestClassifier\n",
        "from sklearn.linear_model import LogisticRegression\n",
        "from xgboost import XGBClassifier\n",
        "from lightgbm import LGBMClassifier\n",
        "from sklearn.preprocessing import StandardScaler\n",
        "from sklearn import tree\n",
        "\n",
        "from sklearn.metrics import classification_report\n",
        "from sklearn.metrics import confusion_matrix\n",
        "from sklearn.metrics import precision_recall_fscore_support\n",
        "from sklearn.pipeline import  FeatureUnion #Pipeline,\n",
        "from sklearn.model_selection import GridSearchCV\n",
        "from imblearn.pipeline import Pipeline\n",
        "from imblearn.over_sampling import SMOTE\n",
        "from imblearn.over_sampling import RandomOverSampler \n",
        "# from sklearn.externals import joblib\n",
        "from datetime import datetime\n",
        "from sklearn import metrics"
      ],
      "id": "DQUmb4LleQ0Z",
      "execution_count": null,
      "outputs": []
    },
    {
      "cell_type": "code",
      "metadata": {
        "colab": {
          "base_uri": "https://localhost:8080/"
        },
        "id": "GEX6iiolfB1c",
        "outputId": "8ba2e076-3aaf-4c66-f90f-e49f1443a533"
      },
      "source": [
        "!ls"
      ],
      "id": "GEX6iiolfB1c",
      "execution_count": null,
      "outputs": [
        {
          "output_type": "stream",
          "text": [
            "drive  sample_data\n"
          ],
          "name": "stdout"
        }
      ]
    },
    {
      "cell_type": "code",
      "metadata": {
        "id": "LyRg6ItMeQ0a"
      },
      "source": [
        "data = pd.read_csv('/content/drive/MyDrive/Colab Notebooks/DS5500/dataset/feature_selected_train&test.csv')\n",
        "cate = pd.read_csv('/content/drive/MyDrive/Colab Notebooks/DS5500/dataset/feature_selected_train&test_cate_woe.csv')"
      ],
      "id": "LyRg6ItMeQ0a",
      "execution_count": null,
      "outputs": []
    },
    {
      "cell_type": "code",
      "metadata": {
        "id": "84-pgWAveQ0a"
      },
      "source": [
        "cols = cate.columns\n",
        "data[cols] = cate[cols]"
      ],
      "id": "84-pgWAveQ0a",
      "execution_count": null,
      "outputs": []
    },
    {
      "cell_type": "code",
      "metadata": {
        "id": "qHqPQjAneQ0a"
      },
      "source": [
        "cols = []\n",
        "with open('/content/drive/MyDrive/Colab Notebooks/DS5500/feature_names.txt') as f:\n",
        "    for line in f.readlines():\n",
        "        cols.append(line.strip()) \n",
        "# print(cols)"
      ],
      "id": "qHqPQjAneQ0a",
      "execution_count": null,
      "outputs": []
    },
    {
      "cell_type": "code",
      "metadata": {
        "id": "CsEu3itVeQ0b"
      },
      "source": [
        "train = data[(data['data']=='Train') & (data['target'] != -1)]\n",
        "test = data[(data['data']=='Test') & (data['target'] != -1)]\n",
        "train = train.drop('data',axis=1)\n",
        "test = test.drop('data',axis=1)"
      ],
      "id": "CsEu3itVeQ0b",
      "execution_count": null,
      "outputs": []
    },
    {
      "cell_type": "code",
      "metadata": {
        "id": "d9eypIPieQ0b",
        "colab": {
          "base_uri": "https://localhost:8080/"
        },
        "outputId": "94196184-ea0a-4618-bcd3-bfbfcc65a2ba"
      },
      "source": [
        "del data, cate\n",
        "gc.collect()"
      ],
      "id": "d9eypIPieQ0b",
      "execution_count": null,
      "outputs": [
        {
          "output_type": "execute_result",
          "data": {
            "text/plain": [
              "363"
            ]
          },
          "metadata": {
            "tags": []
          },
          "execution_count": 7
        }
      ]
    },
    {
      "cell_type": "code",
      "metadata": {
        "id": "WewVETuSeQ0c"
      },
      "source": [
        "train_x = train[cols]\n",
        "test_x = test[cols]\n",
        "# columns_to_drop = list(train_x.columns[:6])\n",
        "# train_x = train_x.drop(columns_to_drop,axis = 1)\n",
        "# test_x = test_x.drop(columns_to_drop, axis = 1)\n",
        "train_y = train.target.astype(\"int\")"
      ],
      "id": "WewVETuSeQ0c",
      "execution_count": null,
      "outputs": []
    },
    {
      "cell_type": "code",
      "metadata": {
        "id": "SYm4bxHReQ0c"
      },
      "source": [
        "train_x,test_x,train_y,test_y = train_test_split(train_x,train_y, test_size=0.3,random_state=5,stratify=train_y)"
      ],
      "id": "SYm4bxHReQ0c",
      "execution_count": null,
      "outputs": []
    },
    {
      "cell_type": "code",
      "metadata": {
        "id": "8vUMon1AeQ0c",
        "outputId": "81250f40-8c8c-40aa-920a-16bb32899a3e"
      },
      "source": [
        "train_x.shape"
      ],
      "id": "8vUMon1AeQ0c",
      "execution_count": null,
      "outputs": [
        {
          "output_type": "execute_result",
          "data": {
            "text/plain": [
              "(729606, 85)"
            ]
          },
          "metadata": {
            "tags": []
          },
          "execution_count": 9
        }
      ]
    },
    {
      "cell_type": "code",
      "metadata": {
        "id": "QFnISWWYeQ0d",
        "outputId": "ce02406e-4922-45ec-f413-cb8d89a828b3"
      },
      "source": [
        "train_y.value_counts()"
      ],
      "id": "QFnISWWYeQ0d",
      "execution_count": null,
      "outputs": [
        {
          "output_type": "execute_result",
          "data": {
            "text/plain": [
              "0    684530\n",
              "1     45076\n",
              "Name: target, dtype: int64"
            ]
          },
          "metadata": {
            "tags": []
          },
          "execution_count": 10
        }
      ]
    },
    {
      "cell_type": "code",
      "metadata": {
        "colab": {
          "base_uri": "https://localhost:8080/"
        },
        "id": "cHh34cWTP1c2",
        "outputId": "87726e08-a00f-4a0c-dcc7-f2b641822662"
      },
      "source": [
        "684530/45076"
      ],
      "id": "cHh34cWTP1c2",
      "execution_count": null,
      "outputs": [
        {
          "output_type": "execute_result",
          "data": {
            "text/plain": [
              "15.18613009140119"
            ]
          },
          "metadata": {
            "tags": []
          },
          "execution_count": 35
        }
      ]
    },
    {
      "cell_type": "code",
      "metadata": {
        "id": "rSQHA0AoeQ0d"
      },
      "source": [
        "train_x = train_x.rename(columns = lambda x:re.sub('[^A-Za-z0-9_]+', '', x))\n",
        "test_x = test_x.rename(columns = lambda x:re.sub('[^A-Za-z0-9_]+', '', x))"
      ],
      "id": "rSQHA0AoeQ0d",
      "execution_count": null,
      "outputs": []
    },
    {
      "cell_type": "code",
      "metadata": {
        "id": "3XEZmEGbeQ0d",
        "colab": {
          "base_uri": "https://localhost:8080/"
        },
        "outputId": "e3217e9a-f111-4b80-9b56-d55722968825"
      },
      "source": [
        "del train,test\n",
        "gc.collect()"
      ],
      "id": "3XEZmEGbeQ0d",
      "execution_count": null,
      "outputs": [
        {
          "output_type": "execute_result",
          "data": {
            "text/plain": [
              "0"
            ]
          },
          "metadata": {
            "tags": []
          },
          "execution_count": 11
        }
      ]
    },
    {
      "cell_type": "code",
      "metadata": {
        "id": "wa-3wk8h51GS"
      },
      "source": [
        "# tuned models\r\n",
        "lgb = LGBMClassifier(boosting_type='gbdt', class_weight=None,\r\n",
        "                                colsample_bytree=1.0, importance_type='split',\r\n",
        "                                learning_rate=0.1, max_depth=20, metric='auc',\r\n",
        "                                min_child_samples=20, min_child_weight=0.001,\r\n",
        "                                min_split_gain=0.0, n_estimators=100, n_jobs=-1,\r\n",
        "                                num_iterations=150, num_leaves=35,\r\n",
        "                                objective='binary', random_state=None,\r\n",
        "                                reg_alpha=0.0, reg_lambda=0.0, seed=114514,\r\n",
        "                                silent=True, subsample=1.0,\r\n",
        "                                subsample_for_bin=200000, subsample_freq=0)\r\n",
        "\r\n",
        "rf = RandomForestClassifier(bootstrap=True, ccp_alpha=0.0,\r\n",
        "                                        class_weight=None, criterion='gini',\r\n",
        "                                        max_depth=None, max_features='auto',\r\n",
        "                                        max_leaf_nodes=None, max_samples=None,\r\n",
        "                                        min_impurity_decrease=0.0,\r\n",
        "                                        min_impurity_split=None,\r\n",
        "                                        min_samples_leaf=1, min_samples_split=2,\r\n",
        "                                        min_weight_fraction_leaf=0.0,\r\n",
        "                                        n_estimators=15, n_jobs=None,\r\n",
        "                                        oob_score=False, random_state=114514,\r\n",
        "                                        verbose=0, warm_start=False)\r\n",
        "\r\n",
        "xgb = XGBClassifier(base_score=0.5, booster='gbtree',\r\n",
        "                               colsample_bylevel=0.7, colsample_bynode=1,\r\n",
        "                               colsample_bytree=0.7, eval_metric='auc', gamma=1,\r\n",
        "                               learning_rate=0.1, max_delta_step=0, max_depth=5,\r\n",
        "                               min_child_weight=1.1, missing=None,\r\n",
        "                               n_estimators=150, n_jobs=1, nthread=None,\r\n",
        "                               objective='binary:logistic', random_state=0,\r\n",
        "                               reg_alpha=0, reg_lambda=1, scale_pos_weight=15,\r\n",
        "                               seed=0, silent=None, subsample=0.7,\r\n",
        "                               tree_method='hist', verbosity=1)\r\n",
        "\r\n",
        "lr = LogisticRegression(C=1.0, class_weight='balanced', dual=False,\r\n",
        "                                    fit_intercept=True, intercept_scaling=1,\r\n",
        "                                    l1_ratio=None, max_iter=100,\r\n",
        "                                    multi_class='auto', n_jobs=-1, penalty='l2',\r\n",
        "                                    random_state=114514, solver='saga',\r\n",
        "                                    tol=0.0001, verbose=0, warm_start=False)\r\n",
        "\r\n",
        "simpleImputer = SimpleImputer(strategy='most_frequent')"
      ],
      "id": "wa-3wk8h51GS",
      "execution_count": null,
      "outputs": []
    },
    {
      "cell_type": "code",
      "metadata": {
        "id": "9KbeHDNVeQ0d"
      },
      "source": [
        "# svm = SVC(probability=True) #class_weight=svmweight, C=svmc, kernel=svmkernel, \n",
        "rf = RandomForestClassifier(random_state=114514)\n",
        "lr = LogisticRegression(C=1.0, class_weight='balanced', dual=False,\n",
        "                                      fit_intercept=True, intercept_scaling=1,\n",
        "                                      l1_ratio=None, max_iter=100,\n",
        "                                      multi_class='auto', n_jobs=-1, penalty='l2',\n",
        "                                      random_state=114514, solver='saga',\n",
        "                                      tol=0.0001, verbose=0, warm_start=False)\n",
        "xgb = XGBClassifier(gamma=1,seed=114514)\n",
        "smote = SMOTE(random_state=114514)\n",
        "ros = RandomOverSampler(sampling_strategy = 'auto',random_state=114514)\n",
        "lgb = LGBMClassifier(n_jobs=-1)\n",
        "simpleImputer = SimpleImputer(strategy='most_frequent')"
      ],
      "id": "9KbeHDNVeQ0d",
      "execution_count": null,
      "outputs": []
    },
    {
      "cell_type": "code",
      "metadata": {
        "id": "nDDBNDrDeQ0e"
      },
      "source": [
        "def get_param_grid(clr):\n",
        "    if clr == 'lgb':\n",
        "        param_grid = dict(\n",
        "            classifier__metric = ['auc', 'binary_logloss'],\n",
        "            classifier__num_iterations=[50,100,150],\n",
        "            classifier__seed = [114514],\n",
        "            classifier__max_depth = [10, 20],\n",
        "            classifier__objective = ['binary'],\n",
        "            upsample__sampling_strategy = [0.1,0.7],\n",
        "            classifier__num_leaves = [15,35] #be smaller than 2^(max_depth)\n",
        "        )\n",
        "    elif clr == 'rf':\n",
        "        param_grid = dict(\n",
        "            classifier__n_estimators = [10,15],\n",
        "            upsample__sampling_strategy = [0.1,0.7]\n",
        "        )\n",
        "    elif clr == 'lr':\n",
        "        param_grid = dict(\n",
        "            classifier__penalty = ['none','l1','l2'],\n",
        "            classifier__class_weight = ['balanced'],\n",
        "            upsample__sampling_strategy = [0.1,0.7]\n",
        "        )\n",
        "    elif clr == 'xgb':\n",
        "        param_grid = dict(\n",
        "            classifier__booster = ['gbtree'],\n",
        "            classifier__n_estimators=[50,100,150],\n",
        "            classifier__learning_rate=[0.1],\n",
        "            classifier__max_depth=[5],\n",
        "            classifier__tree_method = ['hist'],\n",
        "            classifier__objective = ['binary:logistic'],\n",
        "            classifier__eval_metric = ['auc'],\n",
        "            classifier__min_child_weight = [1.1],\n",
        "            classifier__seed = [0],\n",
        "            classifier__subsample = [0.7],\n",
        "            classifier__colsample_bytree = [0.7],\n",
        "            classifier__colsample_bylevel = [0.7],\n",
        "            classifier__scale_pos_weight = [15]\n",
        "        )\n",
        "    return param_grid\n",
        "        "
      ],
      "id": "nDDBNDrDeQ0e",
      "execution_count": null,
      "outputs": []
    },
    {
      "cell_type": "code",
      "metadata": {
        "id": "0Cgj6WrteQ0e",
        "colab": {
          "base_uri": "https://localhost:8080/"
        },
        "outputId": "fe67f713-857a-4cb0-cd98-cd43b636403c"
      },
      "source": [
        "models = []\n",
        "# for classifier in zip([lgb,lr,rf,xgb],['lgb','lr','rf','xgb']):\n",
        "for classifier in zip([rf,lgb,xgb],['rf','lgb','xgb']):\n",
        "    print(\"Performing grid search...\")\n",
        "    print(\"Classifier:\", [classifier[1]])\n",
        "    # param_grid = get_param_grid(classifier[1])\n",
        "    pipeline = Pipeline([('classifier',classifier[0])])\n",
        "    # grid_search = GridSearchCV(pipeline, param_grid=param_grid, verbose=10, n_jobs=-1, cv= 3,scoring='roc_auc')\n",
        "    grid_search = GridSearchCV(pipeline, param_grid={}, verbose=10, n_jobs=-1, cv= 3,scoring='roc_auc')\n",
        "    if classifier[0] == xgb or classifier[0] == lgb:\n",
        "        grid_search.fit(train_x, train_y)\n",
        "        prob = grid_search.predict_proba(test_x)\n",
        "    else:\n",
        "        cache = train_x.fillna(0)\n",
        "        grid_search.fit(cache, train_y)\n",
        "        cache = test_x.fillna(0)\n",
        "        prob = grid_search.predict_proba(cache)\n",
        "        del cache\n",
        "        gc.collect()\n",
        "    print(\"test_auc : \",metrics.roc_auc_score(test_y,prob[:,1]))\n",
        "    models.append((grid_search.best_score_,grid_search.best_estimator_))"
      ],
      "id": "0Cgj6WrteQ0e",
      "execution_count": null,
      "outputs": [
        {
          "output_type": "stream",
          "text": [
            "Performing grid search...\n",
            "Classifier: ['rf']\n",
            "Fitting 3 folds for each of 1 candidates, totalling 3 fits\n"
          ],
          "name": "stdout"
        },
        {
          "output_type": "stream",
          "text": [
            "[Parallel(n_jobs=-1)]: Using backend LokyBackend with 2 concurrent workers.\n",
            "[Parallel(n_jobs=-1)]: Done   3 out of   3 | elapsed:   43.0s remaining:    0.0s\n",
            "[Parallel(n_jobs=-1)]: Done   3 out of   3 | elapsed:   43.0s finished\n"
          ],
          "name": "stderr"
        },
        {
          "output_type": "stream",
          "text": [
            "test_auc :  0.7077654903812336\n",
            "Performing grid search...\n",
            "Classifier: ['lgb']\n",
            "Fitting 3 folds for each of 1 candidates, totalling 3 fits\n"
          ],
          "name": "stdout"
        },
        {
          "output_type": "stream",
          "text": [
            "[Parallel(n_jobs=-1)]: Using backend LokyBackend with 2 concurrent workers.\n",
            "[Parallel(n_jobs=-1)]: Done   3 out of   3 | elapsed:  1.5min remaining:    0.0s\n",
            "[Parallel(n_jobs=-1)]: Done   3 out of   3 | elapsed:  1.5min finished\n",
            "/usr/local/lib/python3.7/dist-packages/lightgbm/engine.py:118: UserWarning: Found `num_iterations` in params. Will use it instead of argument\n",
            "  warnings.warn(\"Found `{}` in params. Will use it instead of argument\".format(alias))\n"
          ],
          "name": "stderr"
        },
        {
          "output_type": "stream",
          "text": [
            "test_auc :  0.7437949722566107\n",
            "Performing grid search...\n",
            "Classifier: ['xgb']\n",
            "Fitting 3 folds for each of 1 candidates, totalling 3 fits\n"
          ],
          "name": "stdout"
        },
        {
          "output_type": "stream",
          "text": [
            "[Parallel(n_jobs=-1)]: Using backend LokyBackend with 2 concurrent workers.\n",
            "[Parallel(n_jobs=-1)]: Done   3 out of   3 | elapsed:  1.5min remaining:    0.0s\n",
            "[Parallel(n_jobs=-1)]: Done   3 out of   3 | elapsed:  1.5min finished\n"
          ],
          "name": "stderr"
        },
        {
          "output_type": "stream",
          "text": [
            "test_auc :  0.7411904469100824\n"
          ],
          "name": "stdout"
        }
      ]
    },
    {
      "cell_type": "code",
      "metadata": {
        "id": "FmpOuMCKeQ0f"
      },
      "source": [
        "models_restore = models"
      ],
      "id": "FmpOuMCKeQ0f",
      "execution_count": null,
      "outputs": []
    },
    {
      "cell_type": "code",
      "metadata": {
        "colab": {
          "base_uri": "https://localhost:8080/"
        },
        "id": "ZjvTk34hkSuA",
        "outputId": "7bcf8cca-d9ac-4f93-fba5-b825b7bbc668"
      },
      "source": [
        "lr_pipeline = Pipeline([('impute',simpleImputer),('scale',StandardScaler()),('classifier',lr)])\r\n",
        "grid_search = GridSearchCV(lr_pipeline, param_grid={}, verbose=10, n_jobs=-1, cv= 3,scoring='roc_auc')\r\n",
        "grid_search.fit(train_x, train_y)\r\n",
        "models.append((grid_search.best_score_,grid_search.best_estimator_))"
      ],
      "id": "ZjvTk34hkSuA",
      "execution_count": null,
      "outputs": [
        {
          "output_type": "stream",
          "text": [
            "Fitting 3 folds for each of 1 candidates, totalling 3 fits\n"
          ],
          "name": "stdout"
        },
        {
          "output_type": "stream",
          "text": [
            "[Parallel(n_jobs=-1)]: Using backend LokyBackend with 2 concurrent workers.\n",
            "[Parallel(n_jobs=-1)]: Done   3 out of   3 | elapsed:  3.1min remaining:    0.0s\n",
            "[Parallel(n_jobs=-1)]: Done   3 out of   3 | elapsed:  3.1min finished\n",
            "/usr/local/lib/python3.7/dist-packages/sklearn/linear_model/_sag.py:330: ConvergenceWarning: The max_iter was reached which means the coef_ did not converge\n",
            "  \"the coef_ did not converge\", ConvergenceWarning)\n"
          ],
          "name": "stderr"
        }
      ]
    },
    {
      "cell_type": "code",
      "metadata": {
        "id": "sCyujaVDTq0I"
      },
      "source": [
        "from sklearn.neural_network import MLPClassifier\r\n",
        "mlp = MLPClassifier(random_state=1, \r\n",
        "                    max_iter=300, \r\n",
        "                    hidden_layer_sizes = 400,\r\n",
        "                    learning_rate = 'invscaling')"
      ],
      "id": "sCyujaVDTq0I",
      "execution_count": null,
      "outputs": []
    },
    {
      "cell_type": "code",
      "metadata": {
        "colab": {
          "base_uri": "https://localhost:8080/"
        },
        "id": "vm_ecEogU8sM",
        "outputId": "bcd11597-3989-4547-fcf3-aa917aecc5dd"
      },
      "source": [
        "mlp_pipeline = Pipeline([('impute',simpleImputer),('scale',StandardScaler()),('classifier',lr)])\r\n",
        "grid_search = GridSearchCV(mlp_pipeline, param_grid={}, verbose=10, n_jobs=-1, cv= 3,scoring='roc_auc')\r\n",
        "grid_search.fit(train_x, train_y)"
      ],
      "id": "vm_ecEogU8sM",
      "execution_count": null,
      "outputs": [
        {
          "output_type": "stream",
          "text": [
            "Fitting 3 folds for each of 1 candidates, totalling 3 fits\n"
          ],
          "name": "stdout"
        },
        {
          "output_type": "stream",
          "text": [
            "[Parallel(n_jobs=-1)]: Using backend LokyBackend with 2 concurrent workers.\n",
            "[Parallel(n_jobs=-1)]: Done   3 out of   3 | elapsed:  3.2min remaining:    0.0s\n",
            "[Parallel(n_jobs=-1)]: Done   3 out of   3 | elapsed:  3.2min finished\n",
            "/usr/local/lib/python3.7/dist-packages/sklearn/linear_model/_sag.py:330: ConvergenceWarning: The max_iter was reached which means the coef_ did not converge\n",
            "  \"the coef_ did not converge\", ConvergenceWarning)\n"
          ],
          "name": "stderr"
        },
        {
          "output_type": "execute_result",
          "data": {
            "text/plain": [
              "GridSearchCV(cv=3, error_score=nan,\n",
              "             estimator=Pipeline(memory=None,\n",
              "                                steps=[('impute',\n",
              "                                        SimpleImputer(add_indicator=False,\n",
              "                                                      copy=True,\n",
              "                                                      fill_value=None,\n",
              "                                                      missing_values=nan,\n",
              "                                                      strategy='most_frequent',\n",
              "                                                      verbose=0)),\n",
              "                                       ('scale',\n",
              "                                        StandardScaler(copy=True,\n",
              "                                                       with_mean=True,\n",
              "                                                       with_std=True)),\n",
              "                                       ('classifier',\n",
              "                                        LogisticRegression(C=1.0,\n",
              "                                                           class_weight='balanced',\n",
              "                                                           dual=False,\n",
              "                                                           fit_intercept=True,\n",
              "                                                           intercept_scaling=1,\n",
              "                                                           l1_ratio=None,\n",
              "                                                           max_iter=100,\n",
              "                                                           multi_class='auto',\n",
              "                                                           n_jobs=-1,\n",
              "                                                           penalty='l2',\n",
              "                                                           random_state=114514,\n",
              "                                                           solver='saga',\n",
              "                                                           tol=0.0001,\n",
              "                                                           verbose=0,\n",
              "                                                           warm_start=False))],\n",
              "                                verbose=False),\n",
              "             iid='deprecated', n_jobs=-1, param_grid={},\n",
              "             pre_dispatch='2*n_jobs', refit=True, return_train_score=False,\n",
              "             scoring='roc_auc', verbose=10)"
            ]
          },
          "metadata": {
            "tags": []
          },
          "execution_count": 85
        }
      ]
    },
    {
      "cell_type": "code",
      "metadata": {
        "colab": {
          "base_uri": "https://localhost:8080/"
        },
        "id": "6-unyId4WwBE",
        "outputId": "17effbc9-3888-4f7b-bbc9-bd8330a30759"
      },
      "source": [
        "grid_search.best_score_"
      ],
      "id": "6-unyId4WwBE",
      "execution_count": null,
      "outputs": [
        {
          "output_type": "execute_result",
          "data": {
            "text/plain": [
              "0.7101664135226023"
            ]
          },
          "metadata": {
            "tags": []
          },
          "execution_count": 86
        }
      ]
    },
    {
      "cell_type": "code",
      "metadata": {
        "colab": {
          "base_uri": "https://localhost:8080/"
        },
        "id": "l4NH_uM0mdjq",
        "outputId": "2a412085-1de8-498b-a971-f692a81e533b"
      },
      "source": [
        "prob = grid_search.predict_proba(test_x)\r\n",
        "metrics.roc_auc_score(test_y,prob[:,1])"
      ],
      "id": "l4NH_uM0mdjq",
      "execution_count": null,
      "outputs": [
        {
          "output_type": "execute_result",
          "data": {
            "text/plain": [
              "0.709681322780316"
            ]
          },
          "metadata": {
            "tags": []
          },
          "execution_count": 80
        }
      ]
    },
    {
      "cell_type": "code",
      "metadata": {
        "id": "zqaTIAkt_tW5"
      },
      "source": [
        "# models_restore[0][1].get_params()"
      ],
      "id": "zqaTIAkt_tW5",
      "execution_count": null,
      "outputs": []
    },
    {
      "cell_type": "code",
      "metadata": {
        "id": "2sZwb5aueQ0g"
      },
      "source": [
        "def get_predict(models, train_x, train_y, test_x):\n",
        "    total_score = sum([i[0] for i in models])\n",
        "    res_train = []\n",
        "    res_test = []\n",
        "    models_trained = []\n",
        "    for i in models:\n",
        "        if 'xgb' in str(i[1]) or 'lgb' in str(i[1]):\n",
        "            i[1].fit(train_x, train_y)\n",
        "            y = i[1].predict_proba(test_x)\n",
        "            y = y*i[0]/total_score\n",
        "            res_test.append(y)\n",
        "            y = i[1].predict_proba(train_x)\n",
        "            y = y*i[0]/total_score\n",
        "            res_train.append(y)\n",
        "            models_trained.append(i[1])\n",
        "        else:\n",
        "            cache = train_x.fillna(0)\n",
        "            i[1].fit(cache, train_y)\n",
        "            y = i[1].predict_proba(cache)\n",
        "            y = y*i[0]/total_score\n",
        "            res_train.append(y)\n",
        "            cache = test_x.fillna(0)\n",
        "            y = i[1].predict_proba(cache)\n",
        "            y = y*i[0]/total_score\n",
        "            res_test.append(y)\n",
        "            models_trained.append(i[1])\n",
        "            del cache\n",
        "            gc.collect()\n",
        "    return res_train, res_test, models_trained"
      ],
      "id": "2sZwb5aueQ0g",
      "execution_count": null,
      "outputs": []
    },
    {
      "cell_type": "code",
      "metadata": {
        "id": "8yjKfsNseQ0g",
        "colab": {
          "base_uri": "https://localhost:8080/"
        },
        "outputId": "9c7295c9-eaf0-44ff-a966-c6bdfbf9bfda"
      },
      "source": [
        "res_train, res_test,models_trained = get_predict(models, train_x, train_y, test_x)"
      ],
      "id": "8yjKfsNseQ0g",
      "execution_count": null,
      "outputs": [
        {
          "output_type": "stream",
          "text": [
            "/usr/local/lib/python3.7/dist-packages/lightgbm/engine.py:118: UserWarning: Found `num_iterations` in params. Will use it instead of argument\n",
            "  warnings.warn(\"Found `{}` in params. Will use it instead of argument\".format(alias))\n",
            "/usr/local/lib/python3.7/dist-packages/sklearn/linear_model/_sag.py:330: ConvergenceWarning: The max_iter was reached which means the coef_ did not converge\n",
            "  \"the coef_ did not converge\", ConvergenceWarning)\n"
          ],
          "name": "stderr"
        }
      ]
    },
    {
      "cell_type": "code",
      "metadata": {
        "id": "XlOinKPNeQ0h"
      },
      "source": [
        "predict_prob_test = [i[1] for i in sum(res_test)]\r\n",
        "predict_prob_train = [i[1] for i in sum(res_train)]"
      ],
      "id": "XlOinKPNeQ0h",
      "execution_count": null,
      "outputs": []
    },
    {
      "cell_type": "code",
      "metadata": {
        "colab": {
          "base_uri": "https://localhost:8080/"
        },
        "id": "0Km5rZCBg4-p",
        "outputId": "38d1f92a-f611-4018-e334-84f658a44cc1"
      },
      "source": [
        "## weighted average\r\n",
        "print(\"Train set:\", metrics.roc_auc_score(train_y,predict_prob_train) )\r\n",
        "print(\"Test set:\",metrics.roc_auc_score(test_y,predict_prob_test))"
      ],
      "id": "0Km5rZCBg4-p",
      "execution_count": null,
      "outputs": [
        {
          "output_type": "stream",
          "text": [
            "Train set: 0.7862863709788229\n",
            "Test set: 0.7397274757209471\n"
          ],
          "name": "stdout"
        }
      ]
    },
    {
      "cell_type": "code",
      "metadata": {
        "id": "r5fZ3wlexCu5"
      },
      "source": [
        "## model training stack\r\n",
        "model_learn_test = []\r\n",
        "for i in range(len(res_test[0])):\r\n",
        "  cache = []\r\n",
        "  for j in range(4):\r\n",
        "    cache.append(res_test[j][i][0])\r\n",
        "  model_learn_test.append(cache)"
      ],
      "id": "r5fZ3wlexCu5",
      "execution_count": null,
      "outputs": []
    },
    {
      "cell_type": "code",
      "metadata": {
        "id": "-LkiRTdSqBiV"
      },
      "source": [
        "model_learn_train = []\r\n",
        "for i in range(len(res_train[0])):\r\n",
        "  cache = []\r\n",
        "  for j in range(4):\r\n",
        "    cache.append(res_train[j][i][0])\r\n",
        "  model_learn_train.append(cache)"
      ],
      "id": "-LkiRTdSqBiV",
      "execution_count": null,
      "outputs": []
    },
    {
      "cell_type": "code",
      "metadata": {
        "colab": {
          "base_uri": "https://localhost:8080/"
        },
        "id": "c5AUvDv5hMb8",
        "outputId": "074afd62-7473-45b2-ea0d-0de95d2030c4"
      },
      "source": [
        "res_train[0][0][0]"
      ],
      "id": "c5AUvDv5hMb8",
      "execution_count": null,
      "outputs": [
        {
          "output_type": "execute_result",
          "data": {
            "text/plain": [
              "0.23178979926754847"
            ]
          },
          "metadata": {
            "tags": []
          },
          "execution_count": 94
        }
      ]
    },
    {
      "cell_type": "code",
      "metadata": {
        "id": "FhlwzjpYu1Rl"
      },
      "source": [
        "model_learn_train = np.array(model_learn_train)\r\n",
        "model_learn_test = np.array(model_learn_test)"
      ],
      "id": "FhlwzjpYu1Rl",
      "execution_count": null,
      "outputs": []
    },
    {
      "cell_type": "code",
      "metadata": {
        "id": "Q9uzcwLi1RE5"
      },
      "source": [
        "lr_model  = LogisticRegression(C=1.0, class_weight='balanced', dual=False,\r\n",
        "                                    fit_intercept=True, intercept_scaling=1,\r\n",
        "                                    l1_ratio=None, max_iter=10,\r\n",
        "                                    multi_class='auto', n_jobs=-1, penalty='l1',\r\n",
        "                                    random_state=114514, solver='saga',\r\n",
        "                                    tol=0.0001, verbose=0, warm_start=False)"
      ],
      "id": "Q9uzcwLi1RE5",
      "execution_count": null,
      "outputs": []
    },
    {
      "cell_type": "code",
      "metadata": {
        "colab": {
          "base_uri": "https://localhost:8080/"
        },
        "id": "S7Fewxtw1N0B",
        "outputId": "0e1ec91b-ec87-45c9-cac7-f6b6781685d7"
      },
      "source": [
        "lr_model.fit(model_learn_train,train_y)\r\n",
        "y_test = lr_model.predict_proba(model_learn_test)\r\n",
        "y_train = lr_model.predict_proba(model_learn_train)\r\n",
        "print(\"test :\",metrics.roc_auc_score(test_y,y_test[:,1]))\r\n",
        "print(\"train :\",metrics.roc_auc_score(train_y,y_train[:,1]))"
      ],
      "id": "S7Fewxtw1N0B",
      "execution_count": null,
      "outputs": [
        {
          "output_type": "stream",
          "text": [
            "/usr/local/lib/python3.7/dist-packages/sklearn/linear_model/_sag.py:330: ConvergenceWarning: The max_iter was reached which means the coef_ did not converge\n",
            "  \"the coef_ did not converge\", ConvergenceWarning)\n"
          ],
          "name": "stderr"
        },
        {
          "output_type": "stream",
          "text": [
            "test : 0.6985957768024339\n",
            "train : 0.8270443948023503\n"
          ],
          "name": "stdout"
        }
      ]
    }
  ]
}