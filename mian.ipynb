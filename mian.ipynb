{
 "cells": [
  {
   "cell_type": "markdown",
   "metadata": {},
   "source": [
    "## import data"
   ]
  },
  {
   "cell_type": "code",
   "execution_count": 1,
   "metadata": {},
   "outputs": [],
   "source": [
    "import pandas as pd\n",
    "import matplotlib.pyplot as plt\n",
    "import seaborn as sns\n",
    "import numpy as np\n",
    "import warnings \n",
    "\n",
    "warnings.filterwarnings('ignore')\n",
    "sns.set(font_scale=1.5)"
   ]
  },
  {
   "cell_type": "code",
   "execution_count": 2,
   "metadata": {},
   "outputs": [
    {
     "data": {
      "text/html": [
       "<div>\n",
       "<style scoped>\n",
       "    .dataframe tbody tr th:only-of-type {\n",
       "        vertical-align: middle;\n",
       "    }\n",
       "\n",
       "    .dataframe tbody tr th {\n",
       "        vertical-align: top;\n",
       "    }\n",
       "\n",
       "    .dataframe thead th {\n",
       "        text-align: right;\n",
       "    }\n",
       "</style>\n",
       "<table border=\"1\" class=\"dataframe\">\n",
       "  <thead>\n",
       "    <tr style=\"text-align: right;\">\n",
       "      <th></th>\n",
       "      <th>age</th>\n",
       "      <th>sex</th>\n",
       "      <th>cp</th>\n",
       "      <th>trestbps</th>\n",
       "      <th>chol</th>\n",
       "      <th>fbs</th>\n",
       "      <th>restecg</th>\n",
       "      <th>thalach</th>\n",
       "      <th>exang</th>\n",
       "      <th>oldpeak</th>\n",
       "      <th>slope</th>\n",
       "      <th>ca</th>\n",
       "      <th>thal</th>\n",
       "      <th>target</th>\n",
       "    </tr>\n",
       "  </thead>\n",
       "  <tbody>\n",
       "    <tr>\n",
       "      <th>0</th>\n",
       "      <td>67.0</td>\n",
       "      <td>1.0</td>\n",
       "      <td>4.0</td>\n",
       "      <td>160.0</td>\n",
       "      <td>286.0</td>\n",
       "      <td>0.0</td>\n",
       "      <td>2.0</td>\n",
       "      <td>108.0</td>\n",
       "      <td>1.0</td>\n",
       "      <td>1.5</td>\n",
       "      <td>2.0</td>\n",
       "      <td>3.0</td>\n",
       "      <td>3.0</td>\n",
       "      <td>2</td>\n",
       "    </tr>\n",
       "    <tr>\n",
       "      <th>1</th>\n",
       "      <td>67.0</td>\n",
       "      <td>1.0</td>\n",
       "      <td>4.0</td>\n",
       "      <td>120.0</td>\n",
       "      <td>229.0</td>\n",
       "      <td>0.0</td>\n",
       "      <td>2.0</td>\n",
       "      <td>129.0</td>\n",
       "      <td>1.0</td>\n",
       "      <td>2.6</td>\n",
       "      <td>2.0</td>\n",
       "      <td>2.0</td>\n",
       "      <td>7.0</td>\n",
       "      <td>1</td>\n",
       "    </tr>\n",
       "    <tr>\n",
       "      <th>2</th>\n",
       "      <td>37.0</td>\n",
       "      <td>1.0</td>\n",
       "      <td>3.0</td>\n",
       "      <td>130.0</td>\n",
       "      <td>250.0</td>\n",
       "      <td>0.0</td>\n",
       "      <td>0.0</td>\n",
       "      <td>187.0</td>\n",
       "      <td>0.0</td>\n",
       "      <td>3.5</td>\n",
       "      <td>3.0</td>\n",
       "      <td>0.0</td>\n",
       "      <td>3.0</td>\n",
       "      <td>0</td>\n",
       "    </tr>\n",
       "    <tr>\n",
       "      <th>3</th>\n",
       "      <td>41.0</td>\n",
       "      <td>0.0</td>\n",
       "      <td>2.0</td>\n",
       "      <td>130.0</td>\n",
       "      <td>204.0</td>\n",
       "      <td>0.0</td>\n",
       "      <td>2.0</td>\n",
       "      <td>172.0</td>\n",
       "      <td>0.0</td>\n",
       "      <td>1.4</td>\n",
       "      <td>1.0</td>\n",
       "      <td>0.0</td>\n",
       "      <td>3.0</td>\n",
       "      <td>0</td>\n",
       "    </tr>\n",
       "    <tr>\n",
       "      <th>4</th>\n",
       "      <td>56.0</td>\n",
       "      <td>1.0</td>\n",
       "      <td>2.0</td>\n",
       "      <td>120.0</td>\n",
       "      <td>236.0</td>\n",
       "      <td>0.0</td>\n",
       "      <td>0.0</td>\n",
       "      <td>178.0</td>\n",
       "      <td>0.0</td>\n",
       "      <td>0.8</td>\n",
       "      <td>1.0</td>\n",
       "      <td>0.0</td>\n",
       "      <td>3.0</td>\n",
       "      <td>0</td>\n",
       "    </tr>\n",
       "  </tbody>\n",
       "</table>\n",
       "</div>"
      ],
      "text/plain": [
       "    age  sex   cp  trestbps   chol  fbs  restecg  thalach  exang  oldpeak  \\\n",
       "0  67.0  1.0  4.0     160.0  286.0  0.0      2.0    108.0    1.0      1.5   \n",
       "1  67.0  1.0  4.0     120.0  229.0  0.0      2.0    129.0    1.0      2.6   \n",
       "2  37.0  1.0  3.0     130.0  250.0  0.0      0.0    187.0    0.0      3.5   \n",
       "3  41.0  0.0  2.0     130.0  204.0  0.0      2.0    172.0    0.0      1.4   \n",
       "4  56.0  1.0  2.0     120.0  236.0  0.0      0.0    178.0    0.0      0.8   \n",
       "\n",
       "   slope   ca thal  target  \n",
       "0    2.0  3.0  3.0       2  \n",
       "1    2.0  2.0  7.0       1  \n",
       "2    3.0  0.0  3.0       0  \n",
       "3    1.0  0.0  3.0       0  \n",
       "4    1.0  0.0  3.0       0  "
      ]
     },
     "execution_count": 2,
     "metadata": {},
     "output_type": "execute_result"
    }
   ],
   "source": [
    "df1 = pd.read_csv('heart.csv')\n",
    "df = pd.read_csv('processed.cleveland.data')\n",
    "df.columns = df1.columns.tolist()\n",
    "df.head()"
   ]
  },
  {
   "cell_type": "code",
   "execution_count": 3,
   "metadata": {},
   "outputs": [
    {
     "data": {
      "text/plain": [
       "(302, 14)"
      ]
     },
     "execution_count": 3,
     "metadata": {},
     "output_type": "execute_result"
    }
   ],
   "source": [
    "df.shape"
   ]
  },
  {
   "cell_type": "code",
   "execution_count": 4,
   "metadata": {},
   "outputs": [
    {
     "data": {
      "text/plain": [
       "0    163\n",
       "1     55\n",
       "2     36\n",
       "3     35\n",
       "4     13\n",
       "Name: target, dtype: int64"
      ]
     },
     "execution_count": 4,
     "metadata": {},
     "output_type": "execute_result"
    }
   ],
   "source": [
    "df['target'].value_counts()"
   ]
  },
  {
   "cell_type": "markdown",
   "metadata": {},
   "source": [
    "## EDA"
   ]
  },
  {
   "cell_type": "code",
   "execution_count": 6,
   "metadata": {},
   "outputs": [
    {
     "ename": "IndexError",
     "evalue": "tuple index out of range",
     "output_type": "error",
     "traceback": [
      "\u001b[0;31m---------------------------------------------------------------------------\u001b[0m",
      "\u001b[0;31mIndexError\u001b[0m                                Traceback (most recent call last)",
      "\u001b[0;32m<ipython-input-6-a8aff3e2b800>\u001b[0m in \u001b[0;36m<module>\u001b[0;34m\u001b[0m\n\u001b[1;32m      3\u001b[0m \u001b[0;31m# Age distribution\u001b[0m\u001b[0;34m\u001b[0m\u001b[0;34m\u001b[0m\u001b[0;34m\u001b[0m\u001b[0m\n\u001b[1;32m      4\u001b[0m \u001b[0mplt\u001b[0m\u001b[0;34m.\u001b[0m\u001b[0msubplot\u001b[0m\u001b[0;34m(\u001b[0m\u001b[0;36m331\u001b[0m\u001b[0;34m)\u001b[0m\u001b[0;34m\u001b[0m\u001b[0;34m\u001b[0m\u001b[0m\n\u001b[0;32m----> 5\u001b[0;31m \u001b[0msns\u001b[0m\u001b[0;34m.\u001b[0m\u001b[0mdistplot\u001b[0m\u001b[0;34m(\u001b[0m\u001b[0mdf\u001b[0m\u001b[0;34m[\u001b[0m\u001b[0;34m'age'\u001b[0m\u001b[0;34m]\u001b[0m\u001b[0;34m)\u001b[0m\u001b[0;34m\u001b[0m\u001b[0;34m\u001b[0m\u001b[0m\n\u001b[0m\u001b[1;32m      6\u001b[0m \u001b[0mplt\u001b[0m\u001b[0;34m.\u001b[0m\u001b[0mtitle\u001b[0m\u001b[0;34m(\u001b[0m\u001b[0;34m'Most people are 40~70 years old'\u001b[0m\u001b[0;34m,\u001b[0m\u001b[0mfontdict\u001b[0m\u001b[0;34m=\u001b[0m\u001b[0;34m{\u001b[0m\u001b[0;34m'weight'\u001b[0m\u001b[0;34m:\u001b[0m\u001b[0;34m'normal'\u001b[0m\u001b[0;34m,\u001b[0m\u001b[0;34m'size'\u001b[0m\u001b[0;34m:\u001b[0m \u001b[0;36m20\u001b[0m\u001b[0;34m}\u001b[0m\u001b[0;34m)\u001b[0m\u001b[0;34m\u001b[0m\u001b[0;34m\u001b[0m\u001b[0m\n\u001b[1;32m      7\u001b[0m \u001b[0mplt\u001b[0m\u001b[0;34m.\u001b[0m\u001b[0mxlabel\u001b[0m\u001b[0;34m(\u001b[0m\u001b[0;34m'Age'\u001b[0m\u001b[0;34m,\u001b[0m \u001b[0mfontdict\u001b[0m\u001b[0;34m=\u001b[0m\u001b[0;34m{\u001b[0m\u001b[0;34m'weight'\u001b[0m\u001b[0;34m:\u001b[0m \u001b[0;34m'normal'\u001b[0m\u001b[0;34m,\u001b[0m \u001b[0;34m'size'\u001b[0m\u001b[0;34m:\u001b[0m \u001b[0;36m15\u001b[0m\u001b[0;34m}\u001b[0m\u001b[0;34m)\u001b[0m\u001b[0;34m\u001b[0m\u001b[0;34m\u001b[0m\u001b[0m\n",
      "\u001b[0;32m/usr/local/lib/python3.7/site-packages/seaborn/distributions.py\u001b[0m in \u001b[0;36mdistplot\u001b[0;34m(a, bins, hist, kde, rug, fit, hist_kws, kde_kws, rug_kws, fit_kws, color, vertical, norm_hist, axlabel, label, ax, x)\u001b[0m\n\u001b[1;32m   2617\u001b[0m     \u001b[0;32mif\u001b[0m \u001b[0mkde\u001b[0m\u001b[0;34m:\u001b[0m\u001b[0;34m\u001b[0m\u001b[0;34m\u001b[0m\u001b[0m\n\u001b[1;32m   2618\u001b[0m         \u001b[0mkde_color\u001b[0m \u001b[0;34m=\u001b[0m \u001b[0mkde_kws\u001b[0m\u001b[0;34m.\u001b[0m\u001b[0mpop\u001b[0m\u001b[0;34m(\u001b[0m\u001b[0;34m\"color\"\u001b[0m\u001b[0;34m,\u001b[0m \u001b[0mcolor\u001b[0m\u001b[0;34m)\u001b[0m\u001b[0;34m\u001b[0m\u001b[0;34m\u001b[0m\u001b[0m\n\u001b[0;32m-> 2619\u001b[0;31m         \u001b[0mkdeplot\u001b[0m\u001b[0;34m(\u001b[0m\u001b[0ma\u001b[0m\u001b[0;34m,\u001b[0m \u001b[0mvertical\u001b[0m\u001b[0;34m=\u001b[0m\u001b[0mvertical\u001b[0m\u001b[0;34m,\u001b[0m \u001b[0max\u001b[0m\u001b[0;34m=\u001b[0m\u001b[0max\u001b[0m\u001b[0;34m,\u001b[0m \u001b[0mcolor\u001b[0m\u001b[0;34m=\u001b[0m\u001b[0mkde_color\u001b[0m\u001b[0;34m,\u001b[0m \u001b[0;34m**\u001b[0m\u001b[0mkde_kws\u001b[0m\u001b[0;34m)\u001b[0m\u001b[0;34m\u001b[0m\u001b[0;34m\u001b[0m\u001b[0m\n\u001b[0m\u001b[1;32m   2620\u001b[0m         \u001b[0;32mif\u001b[0m \u001b[0mkde_color\u001b[0m \u001b[0;34m!=\u001b[0m \u001b[0mcolor\u001b[0m\u001b[0;34m:\u001b[0m\u001b[0;34m\u001b[0m\u001b[0;34m\u001b[0m\u001b[0m\n\u001b[1;32m   2621\u001b[0m             \u001b[0mkde_kws\u001b[0m\u001b[0;34m[\u001b[0m\u001b[0;34m\"color\"\u001b[0m\u001b[0;34m]\u001b[0m \u001b[0;34m=\u001b[0m \u001b[0mkde_color\u001b[0m\u001b[0;34m\u001b[0m\u001b[0;34m\u001b[0m\u001b[0m\n",
      "\u001b[0;32m/usr/local/lib/python3.7/site-packages/seaborn/_decorators.py\u001b[0m in \u001b[0;36minner_f\u001b[0;34m(*args, **kwargs)\u001b[0m\n\u001b[1;32m     44\u001b[0m             )\n\u001b[1;32m     45\u001b[0m         \u001b[0mkwargs\u001b[0m\u001b[0;34m.\u001b[0m\u001b[0mupdate\u001b[0m\u001b[0;34m(\u001b[0m\u001b[0;34m{\u001b[0m\u001b[0mk\u001b[0m\u001b[0;34m:\u001b[0m \u001b[0marg\u001b[0m \u001b[0;32mfor\u001b[0m \u001b[0mk\u001b[0m\u001b[0;34m,\u001b[0m \u001b[0marg\u001b[0m \u001b[0;32min\u001b[0m \u001b[0mzip\u001b[0m\u001b[0;34m(\u001b[0m\u001b[0msig\u001b[0m\u001b[0;34m.\u001b[0m\u001b[0mparameters\u001b[0m\u001b[0;34m,\u001b[0m \u001b[0margs\u001b[0m\u001b[0;34m)\u001b[0m\u001b[0;34m}\u001b[0m\u001b[0;34m)\u001b[0m\u001b[0;34m\u001b[0m\u001b[0;34m\u001b[0m\u001b[0m\n\u001b[0;32m---> 46\u001b[0;31m         \u001b[0;32mreturn\u001b[0m \u001b[0mf\u001b[0m\u001b[0;34m(\u001b[0m\u001b[0;34m**\u001b[0m\u001b[0mkwargs\u001b[0m\u001b[0;34m)\u001b[0m\u001b[0;34m\u001b[0m\u001b[0;34m\u001b[0m\u001b[0m\n\u001b[0m\u001b[1;32m     47\u001b[0m     \u001b[0;32mreturn\u001b[0m \u001b[0minner_f\u001b[0m\u001b[0;34m\u001b[0m\u001b[0;34m\u001b[0m\u001b[0m\n\u001b[1;32m     48\u001b[0m \u001b[0;34m\u001b[0m\u001b[0m\n",
      "\u001b[0;32m/usr/local/lib/python3.7/site-packages/seaborn/distributions.py\u001b[0m in \u001b[0;36mkdeplot\u001b[0;34m(x, y, shade, vertical, kernel, bw, gridsize, cut, clip, legend, cumulative, shade_lowest, cbar, cbar_ax, cbar_kws, ax, weights, hue, palette, hue_order, hue_norm, multiple, common_norm, common_grid, levels, thresh, bw_method, bw_adjust, log_scale, color, fill, data, data2, **kwargs)\u001b[0m\n\u001b[1;32m   1735\u001b[0m             \u001b[0mlegend\u001b[0m\u001b[0;34m=\u001b[0m\u001b[0mlegend\u001b[0m\u001b[0;34m,\u001b[0m\u001b[0;34m\u001b[0m\u001b[0;34m\u001b[0m\u001b[0m\n\u001b[1;32m   1736\u001b[0m             \u001b[0mestimate_kws\u001b[0m\u001b[0;34m=\u001b[0m\u001b[0mestimate_kws\u001b[0m\u001b[0;34m,\u001b[0m\u001b[0;34m\u001b[0m\u001b[0;34m\u001b[0m\u001b[0m\n\u001b[0;32m-> 1737\u001b[0;31m             \u001b[0;34m**\u001b[0m\u001b[0mplot_kws\u001b[0m\u001b[0;34m,\u001b[0m\u001b[0;34m\u001b[0m\u001b[0;34m\u001b[0m\u001b[0m\n\u001b[0m\u001b[1;32m   1738\u001b[0m         )\n\u001b[1;32m   1739\u001b[0m \u001b[0;34m\u001b[0m\u001b[0m\n",
      "\u001b[0;32m/usr/local/lib/python3.7/site-packages/seaborn/distributions.py\u001b[0m in \u001b[0;36mplot_univariate_density\u001b[0;34m(self, multiple, common_norm, common_grid, fill, legend, estimate_kws, **plot_kws)\u001b[0m\n\u001b[1;32m    993\u001b[0m                     )\n\u001b[1;32m    994\u001b[0m                 \u001b[0;32melse\u001b[0m\u001b[0;34m:\u001b[0m\u001b[0;34m\u001b[0m\u001b[0;34m\u001b[0m\u001b[0m\n\u001b[0;32m--> 995\u001b[0;31m                     \u001b[0martist\u001b[0m\u001b[0;34m,\u001b[0m \u001b[0;34m=\u001b[0m \u001b[0max\u001b[0m\u001b[0;34m.\u001b[0m\u001b[0mplot\u001b[0m\u001b[0;34m(\u001b[0m\u001b[0msupport\u001b[0m\u001b[0;34m,\u001b[0m \u001b[0mdensity\u001b[0m\u001b[0;34m,\u001b[0m \u001b[0;34m**\u001b[0m\u001b[0martist_kws\u001b[0m\u001b[0;34m)\u001b[0m\u001b[0;34m\u001b[0m\u001b[0;34m\u001b[0m\u001b[0m\n\u001b[0m\u001b[1;32m    996\u001b[0m \u001b[0;34m\u001b[0m\u001b[0m\n\u001b[1;32m    997\u001b[0m                 \u001b[0martist\u001b[0m\u001b[0;34m.\u001b[0m\u001b[0msticky_edges\u001b[0m\u001b[0;34m.\u001b[0m\u001b[0mx\u001b[0m\u001b[0;34m[\u001b[0m\u001b[0;34m:\u001b[0m\u001b[0;34m]\u001b[0m \u001b[0;34m=\u001b[0m \u001b[0msticky_support\u001b[0m\u001b[0;34m\u001b[0m\u001b[0;34m\u001b[0m\u001b[0m\n",
      "\u001b[0;32m/usr/local/lib/python3.7/site-packages/matplotlib/axes/_axes.py\u001b[0m in \u001b[0;36mplot\u001b[0;34m(self, scalex, scaley, data, *args, **kwargs)\u001b[0m\n\u001b[1;32m   1664\u001b[0m         \"\"\"\n\u001b[1;32m   1665\u001b[0m         \u001b[0mkwargs\u001b[0m \u001b[0;34m=\u001b[0m \u001b[0mcbook\u001b[0m\u001b[0;34m.\u001b[0m\u001b[0mnormalize_kwargs\u001b[0m\u001b[0;34m(\u001b[0m\u001b[0mkwargs\u001b[0m\u001b[0;34m,\u001b[0m \u001b[0mmlines\u001b[0m\u001b[0;34m.\u001b[0m\u001b[0mLine2D\u001b[0m\u001b[0;34m.\u001b[0m\u001b[0m_alias_map\u001b[0m\u001b[0;34m)\u001b[0m\u001b[0;34m\u001b[0m\u001b[0;34m\u001b[0m\u001b[0m\n\u001b[0;32m-> 1666\u001b[0;31m         \u001b[0mlines\u001b[0m \u001b[0;34m=\u001b[0m \u001b[0;34m[\u001b[0m\u001b[0;34m*\u001b[0m\u001b[0mself\u001b[0m\u001b[0;34m.\u001b[0m\u001b[0m_get_lines\u001b[0m\u001b[0;34m(\u001b[0m\u001b[0;34m*\u001b[0m\u001b[0margs\u001b[0m\u001b[0;34m,\u001b[0m \u001b[0mdata\u001b[0m\u001b[0;34m=\u001b[0m\u001b[0mdata\u001b[0m\u001b[0;34m,\u001b[0m \u001b[0;34m**\u001b[0m\u001b[0mkwargs\u001b[0m\u001b[0;34m)\u001b[0m\u001b[0;34m]\u001b[0m\u001b[0;34m\u001b[0m\u001b[0;34m\u001b[0m\u001b[0m\n\u001b[0m\u001b[1;32m   1667\u001b[0m         \u001b[0;32mfor\u001b[0m \u001b[0mline\u001b[0m \u001b[0;32min\u001b[0m \u001b[0mlines\u001b[0m\u001b[0;34m:\u001b[0m\u001b[0;34m\u001b[0m\u001b[0;34m\u001b[0m\u001b[0m\n\u001b[1;32m   1668\u001b[0m             \u001b[0mself\u001b[0m\u001b[0;34m.\u001b[0m\u001b[0madd_line\u001b[0m\u001b[0;34m(\u001b[0m\u001b[0mline\u001b[0m\u001b[0;34m)\u001b[0m\u001b[0;34m\u001b[0m\u001b[0;34m\u001b[0m\u001b[0m\n",
      "\u001b[0;32m/usr/local/lib/python3.7/site-packages/matplotlib/axes/_base.py\u001b[0m in \u001b[0;36m__call__\u001b[0;34m(self, *args, **kwargs)\u001b[0m\n\u001b[1;32m    223\u001b[0m                 \u001b[0mthis\u001b[0m \u001b[0;34m+=\u001b[0m \u001b[0margs\u001b[0m\u001b[0;34m[\u001b[0m\u001b[0;36m0\u001b[0m\u001b[0;34m]\u001b[0m\u001b[0;34m,\u001b[0m\u001b[0;34m\u001b[0m\u001b[0;34m\u001b[0m\u001b[0m\n\u001b[1;32m    224\u001b[0m                 \u001b[0margs\u001b[0m \u001b[0;34m=\u001b[0m \u001b[0margs\u001b[0m\u001b[0;34m[\u001b[0m\u001b[0;36m1\u001b[0m\u001b[0;34m:\u001b[0m\u001b[0;34m]\u001b[0m\u001b[0;34m\u001b[0m\u001b[0;34m\u001b[0m\u001b[0m\n\u001b[0;32m--> 225\u001b[0;31m             \u001b[0;32myield\u001b[0m \u001b[0;32mfrom\u001b[0m \u001b[0mself\u001b[0m\u001b[0;34m.\u001b[0m\u001b[0m_plot_args\u001b[0m\u001b[0;34m(\u001b[0m\u001b[0mthis\u001b[0m\u001b[0;34m,\u001b[0m \u001b[0mkwargs\u001b[0m\u001b[0;34m)\u001b[0m\u001b[0;34m\u001b[0m\u001b[0;34m\u001b[0m\u001b[0m\n\u001b[0m\u001b[1;32m    226\u001b[0m \u001b[0;34m\u001b[0m\u001b[0m\n\u001b[1;32m    227\u001b[0m     \u001b[0;32mdef\u001b[0m \u001b[0mget_next_color\u001b[0m\u001b[0;34m(\u001b[0m\u001b[0mself\u001b[0m\u001b[0;34m)\u001b[0m\u001b[0;34m:\u001b[0m\u001b[0;34m\u001b[0m\u001b[0;34m\u001b[0m\u001b[0m\n",
      "\u001b[0;32m/usr/local/lib/python3.7/site-packages/matplotlib/axes/_base.py\u001b[0m in \u001b[0;36m_plot_args\u001b[0;34m(self, tup, kwargs)\u001b[0m\n\u001b[1;32m    397\u001b[0m             \u001b[0mfunc\u001b[0m \u001b[0;34m=\u001b[0m \u001b[0mself\u001b[0m\u001b[0;34m.\u001b[0m\u001b[0m_makefill\u001b[0m\u001b[0;34m\u001b[0m\u001b[0;34m\u001b[0m\u001b[0m\n\u001b[1;32m    398\u001b[0m \u001b[0;34m\u001b[0m\u001b[0m\n\u001b[0;32m--> 399\u001b[0;31m         \u001b[0mncx\u001b[0m\u001b[0;34m,\u001b[0m \u001b[0mncy\u001b[0m \u001b[0;34m=\u001b[0m \u001b[0mx\u001b[0m\u001b[0;34m.\u001b[0m\u001b[0mshape\u001b[0m\u001b[0;34m[\u001b[0m\u001b[0;36m1\u001b[0m\u001b[0;34m]\u001b[0m\u001b[0;34m,\u001b[0m \u001b[0my\u001b[0m\u001b[0;34m.\u001b[0m\u001b[0mshape\u001b[0m\u001b[0;34m[\u001b[0m\u001b[0;36m1\u001b[0m\u001b[0;34m]\u001b[0m\u001b[0;34m\u001b[0m\u001b[0;34m\u001b[0m\u001b[0m\n\u001b[0m\u001b[1;32m    400\u001b[0m         \u001b[0;32mif\u001b[0m \u001b[0mncx\u001b[0m \u001b[0;34m>\u001b[0m \u001b[0;36m1\u001b[0m \u001b[0;32mand\u001b[0m \u001b[0mncy\u001b[0m \u001b[0;34m>\u001b[0m \u001b[0;36m1\u001b[0m \u001b[0;32mand\u001b[0m \u001b[0mncx\u001b[0m \u001b[0;34m!=\u001b[0m \u001b[0mncy\u001b[0m\u001b[0;34m:\u001b[0m\u001b[0;34m\u001b[0m\u001b[0;34m\u001b[0m\u001b[0m\n\u001b[1;32m    401\u001b[0m             cbook.warn_deprecated(\n",
      "\u001b[0;31mIndexError\u001b[0m: tuple index out of range"
     ]
    },
    {
     "data": {
      "image/png": "[encoded data removed]",
      "text/plain": [
       "<Figure size 2880x2160 with 9 Axes>"
      ]
     },
     "metadata": {
      "needs_background": "light"
     },
     "output_type": "display_data"
    }
   ],
   "source": [
    "figure,ax = plt.subplots(3,3,figsize = (40,30))\n",
    "\n",
    "# Age distribution\n",
    "plt.subplot(331)\n",
    "sns.distplot(df['age'])\n",
    "plt.title('Most people are 40~70 years old',fontdict={'weight':'normal','size': 20}) \n",
    "plt.xlabel('Age', fontdict={'weight': 'normal', 'size': 15})\n",
    "plt.ylabel('Density', fontdict={'weight': 'normal', 'size': 15})\n",
    "plt.tick_params(labelsize=20)\n",
    "\n",
    "# sex\n",
    "plt.subplot(332)\n",
    "sns.countplot(df['sex'])\n",
    "plt.title('# Male : # Female = 2:1',fontdict={'weight':'normal','size': 20}) \n",
    "plt.xticks(np.arange(2),('Female','Male'))\n",
    "plt.xlabel('Sex', fontdict={'weight': 'normal', 'size': 15})\n",
    "plt.ylabel('Number', fontdict={'weight': 'normal', 'size': 15})\n",
    "plt.tick_params(labelsize=20)\n",
    "plt.rcParams.update({'font.size': 30})\n",
    "\n",
    "# chest pain\n",
    "plt.subplot(333)\n",
    "sns.countplot(df['cp'])\n",
    "plt.title('Asymptomatic situation accounts for the highest',fontdict={'weight':'normal','size': 20})\n",
    "plt.xticks(np.arange(4),('Typical angina','Atypical angina','Non-anginal pain','Asymptomatic'),rotation = 5)\n",
    "plt.xlabel('Chest Pain Type', fontdict={'weight': 'normal', 'size': 15})\n",
    "plt.ylabel('Number', fontdict={'weight': 'normal', 'size': 15})\n",
    "plt.tick_params(labelsize=20)\n",
    "plt.rcParams.update({'font.size': 30})\n",
    "\n",
    "\n",
    "# resting blood pressure\n",
    "plt.subplot(334)\n",
    "sns.distplot(df['trestbps'])\n",
    "plt.title('Most people have resting blood pressure from 110 mm Hg to 150 mm Hg',fontdict={'weight':'normal','size': 20}) \n",
    "plt.xlabel('Resting blood pressure', fontdict={'weight': 'normal', 'size': 15})\n",
    "plt.ylabel('Density', fontdict={'weight': 'normal', 'size': 15})\n",
    "plt.tick_params(labelsize=20)\n",
    "plt.rcParams.update({'font.size': 30})\n",
    "\n",
    "\n",
    "# serum cholestoral in mg/dl\n",
    "plt.subplot(335)\n",
    "sns.distplot(df['chol'])\n",
    "plt.title('Most people have serum cholesterol from 200 mg/dl to 300 mg/dl',fontdict={'weight':'normal','size': 20}) \n",
    "plt.xlabel('Serum cholestoral', fontdict={'weight': 'normal', 'size': 15})\n",
    "plt.ylabel('Density', fontdict={'weight': 'normal', 'size': 15})\n",
    "plt.tick_params(labelsize=20)\n",
    "plt.rcParams.update({'font.size': 30})\n",
    "\n",
    "# fasting blood sugar > 120 mg/dl\n",
    "plt.subplot(336)\n",
    "sns.countplot(df['fbs'])\n",
    "plt.title(\"Many patients don't have high fasting blood sugar\",fontdict={'weight':'normal','size': 20}) \n",
    "plt.xticks(np.arange(2),('False','True'))\n",
    "plt.xlabel('Fasting blood sugar > 120 mg/dl', fontdict={'weight': 'normal', 'size': 15})\n",
    "plt.ylabel('Number', fontdict={'weight': 'normal', 'size': 15})\n",
    "plt.tick_params(labelsize=20)\n",
    "plt.rcParams.update({'font.size': 30})\n",
    "\n",
    " \n",
    "# resting electrocardiographic results \n",
    "plt.subplot(337)\n",
    "sns.countplot(df['restecg'])\n",
    "plt.title('# Normal : # LVH = 1:1',fontdict={'weight':'normal','size': 20}) \n",
    "plt.xticks(np.arange(3),('Normal','ST-T wave abnormality','left ventricular hypertrophy'),rotation = 5)\n",
    "plt.xlabel('Resting electrocardiographic results ', fontdict={'weight': 'normal', 'size': 15})\n",
    "plt.ylabel('Number', fontdict={'weight': 'normal', 'size': 15})\n",
    "plt.tick_params(labelsize=20)\n",
    "plt.rcParams.update({'font.size': 30})\n",
    "\n",
    "\n",
    "# maximum heart rate achieved \n",
    "plt.subplot(338)\n",
    "sns.distplot(df['thalach'])\n",
    "plt.title('Most people have maximum heart rate achieving 125~180',fontdict={'weight':'normal','size': 20}) \n",
    "plt.xlabel('Heart Rate', fontdict={'weight': 'normal', 'size': 15})\n",
    "plt.ylabel('Density', fontdict={'weight': 'normal', 'size': 15})\n",
    "plt.tick_params(labelsize=20)\n",
    "\n",
    "\n",
    "# exercise induced angina (1 = yes; 0 = no)\n",
    "plt.subplot(339)\n",
    "sns.countplot(df['exang'])\n",
    "plt.title('Most people will not have angina after exercise',fontdict={'weight':'normal','size': 20}) \n",
    "plt.xticks(np.arange(2),('No','Yes'))\n",
    "plt.xlabel('Angina', fontdict={'weight': 'normal', 'size': 15})\n",
    "plt.ylabel('Number', fontdict={'weight': 'normal', 'size': 15})\n",
    "plt.tick_params(labelsize=20)\n",
    "plt.rcParams.update({'font.size': 30})\n",
    "\n"
   ]
  },
  {
   "cell_type": "code",
   "execution_count": 7,
   "metadata": {},
   "outputs": [
    {
     "ename": "IndexError",
     "evalue": "tuple index out of range",
     "output_type": "error",
     "traceback": [
      "\u001b[0;31m---------------------------------------------------------------------------\u001b[0m",
      "\u001b[0;31mIndexError\u001b[0m                                Traceback (most recent call last)",
      "\u001b[0;32m<ipython-input-7-faf4c00ec5cb>\u001b[0m in \u001b[0;36m<module>\u001b[0;34m\u001b[0m\n\u001b[1;32m      3\u001b[0m \u001b[0;31m# ST depression induced by exercise relative to rest\u001b[0m\u001b[0;34m\u001b[0m\u001b[0;34m\u001b[0m\u001b[0;34m\u001b[0m\u001b[0m\n\u001b[1;32m      4\u001b[0m \u001b[0mplt\u001b[0m\u001b[0;34m.\u001b[0m\u001b[0msubplot\u001b[0m\u001b[0;34m(\u001b[0m\u001b[0;36m221\u001b[0m\u001b[0;34m)\u001b[0m\u001b[0;34m\u001b[0m\u001b[0;34m\u001b[0m\u001b[0m\n\u001b[0;32m----> 5\u001b[0;31m \u001b[0msns\u001b[0m\u001b[0;34m.\u001b[0m\u001b[0mdistplot\u001b[0m\u001b[0;34m(\u001b[0m\u001b[0mdf\u001b[0m\u001b[0;34m[\u001b[0m\u001b[0;34m'oldpeak'\u001b[0m\u001b[0;34m]\u001b[0m\u001b[0;34m)\u001b[0m\u001b[0;34m\u001b[0m\u001b[0;34m\u001b[0m\u001b[0m\n\u001b[0m\u001b[1;32m      6\u001b[0m \u001b[0mplt\u001b[0m\u001b[0;34m.\u001b[0m\u001b[0mtitle\u001b[0m\u001b[0;34m(\u001b[0m\u001b[0;34m'Most people have ST depression below 0.5'\u001b[0m\u001b[0;34m,\u001b[0m\u001b[0mfontdict\u001b[0m\u001b[0;34m=\u001b[0m\u001b[0;34m{\u001b[0m\u001b[0;34m'weight'\u001b[0m\u001b[0;34m:\u001b[0m\u001b[0;34m'normal'\u001b[0m\u001b[0;34m,\u001b[0m\u001b[0;34m'size'\u001b[0m\u001b[0;34m:\u001b[0m \u001b[0;36m20\u001b[0m\u001b[0;34m}\u001b[0m\u001b[0;34m)\u001b[0m\u001b[0;34m\u001b[0m\u001b[0;34m\u001b[0m\u001b[0m\n\u001b[1;32m      7\u001b[0m \u001b[0mplt\u001b[0m\u001b[0;34m.\u001b[0m\u001b[0mxlabel\u001b[0m\u001b[0;34m(\u001b[0m\u001b[0;34m'ST depression'\u001b[0m\u001b[0;34m,\u001b[0m \u001b[0mfontdict\u001b[0m\u001b[0;34m=\u001b[0m\u001b[0;34m{\u001b[0m\u001b[0;34m'weight'\u001b[0m\u001b[0;34m:\u001b[0m \u001b[0;34m'normal'\u001b[0m\u001b[0;34m,\u001b[0m \u001b[0;34m'size'\u001b[0m\u001b[0;34m:\u001b[0m \u001b[0;36m15\u001b[0m\u001b[0;34m}\u001b[0m\u001b[0;34m)\u001b[0m\u001b[0;34m\u001b[0m\u001b[0;34m\u001b[0m\u001b[0m\n",
      "\u001b[0;32m/usr/local/lib/python3.7/site-packages/seaborn/distributions.py\u001b[0m in \u001b[0;36mdistplot\u001b[0;34m(a, bins, hist, kde, rug, fit, hist_kws, kde_kws, rug_kws, fit_kws, color, vertical, norm_hist, axlabel, label, ax, x)\u001b[0m\n\u001b[1;32m   2617\u001b[0m     \u001b[0;32mif\u001b[0m \u001b[0mkde\u001b[0m\u001b[0;34m:\u001b[0m\u001b[0;34m\u001b[0m\u001b[0;34m\u001b[0m\u001b[0m\n\u001b[1;32m   2618\u001b[0m         \u001b[0mkde_color\u001b[0m \u001b[0;34m=\u001b[0m \u001b[0mkde_kws\u001b[0m\u001b[0;34m.\u001b[0m\u001b[0mpop\u001b[0m\u001b[0;34m(\u001b[0m\u001b[0;34m\"color\"\u001b[0m\u001b[0;34m,\u001b[0m \u001b[0mcolor\u001b[0m\u001b[0;34m)\u001b[0m\u001b[0;34m\u001b[0m\u001b[0;34m\u001b[0m\u001b[0m\n\u001b[0;32m-> 2619\u001b[0;31m         \u001b[0mkdeplot\u001b[0m\u001b[0;34m(\u001b[0m\u001b[0ma\u001b[0m\u001b[0;34m,\u001b[0m \u001b[0mvertical\u001b[0m\u001b[0;34m=\u001b[0m\u001b[0mvertical\u001b[0m\u001b[0;34m,\u001b[0m \u001b[0max\u001b[0m\u001b[0;34m=\u001b[0m\u001b[0max\u001b[0m\u001b[0;34m,\u001b[0m \u001b[0mcolor\u001b[0m\u001b[0;34m=\u001b[0m\u001b[0mkde_color\u001b[0m\u001b[0;34m,\u001b[0m \u001b[0;34m**\u001b[0m\u001b[0mkde_kws\u001b[0m\u001b[0;34m)\u001b[0m\u001b[0;34m\u001b[0m\u001b[0;34m\u001b[0m\u001b[0m\n\u001b[0m\u001b[1;32m   2620\u001b[0m         \u001b[0;32mif\u001b[0m \u001b[0mkde_color\u001b[0m \u001b[0;34m!=\u001b[0m \u001b[0mcolor\u001b[0m\u001b[0;34m:\u001b[0m\u001b[0;34m\u001b[0m\u001b[0;34m\u001b[0m\u001b[0m\n\u001b[1;32m   2621\u001b[0m             \u001b[0mkde_kws\u001b[0m\u001b[0;34m[\u001b[0m\u001b[0;34m\"color\"\u001b[0m\u001b[0;34m]\u001b[0m \u001b[0;34m=\u001b[0m \u001b[0mkde_color\u001b[0m\u001b[0;34m\u001b[0m\u001b[0;34m\u001b[0m\u001b[0m\n",
      "\u001b[0;32m/usr/local/lib/python3.7/site-packages/seaborn/_decorators.py\u001b[0m in \u001b[0;36minner_f\u001b[0;34m(*args, **kwargs)\u001b[0m\n\u001b[1;32m     44\u001b[0m             )\n\u001b[1;32m     45\u001b[0m         \u001b[0mkwargs\u001b[0m\u001b[0;34m.\u001b[0m\u001b[0mupdate\u001b[0m\u001b[0;34m(\u001b[0m\u001b[0;34m{\u001b[0m\u001b[0mk\u001b[0m\u001b[0;34m:\u001b[0m \u001b[0marg\u001b[0m \u001b[0;32mfor\u001b[0m \u001b[0mk\u001b[0m\u001b[0;34m,\u001b[0m \u001b[0marg\u001b[0m \u001b[0;32min\u001b[0m \u001b[0mzip\u001b[0m\u001b[0;34m(\u001b[0m\u001b[0msig\u001b[0m\u001b[0;34m.\u001b[0m\u001b[0mparameters\u001b[0m\u001b[0;34m,\u001b[0m \u001b[0margs\u001b[0m\u001b[0;34m)\u001b[0m\u001b[0;34m}\u001b[0m\u001b[0;34m)\u001b[0m\u001b[0;34m\u001b[0m\u001b[0;34m\u001b[0m\u001b[0m\n\u001b[0;32m---> 46\u001b[0;31m         \u001b[0;32mreturn\u001b[0m \u001b[0mf\u001b[0m\u001b[0;34m(\u001b[0m\u001b[0;34m**\u001b[0m\u001b[0mkwargs\u001b[0m\u001b[0;34m)\u001b[0m\u001b[0;34m\u001b[0m\u001b[0;34m\u001b[0m\u001b[0m\n\u001b[0m\u001b[1;32m     47\u001b[0m     \u001b[0;32mreturn\u001b[0m \u001b[0minner_f\u001b[0m\u001b[0;34m\u001b[0m\u001b[0;34m\u001b[0m\u001b[0m\n\u001b[1;32m     48\u001b[0m \u001b[0;34m\u001b[0m\u001b[0m\n",
      "\u001b[0;32m/usr/local/lib/python3.7/site-packages/seaborn/distributions.py\u001b[0m in \u001b[0;36mkdeplot\u001b[0;34m(x, y, shade, vertical, kernel, bw, gridsize, cut, clip, legend, cumulative, shade_lowest, cbar, cbar_ax, cbar_kws, ax, weights, hue, palette, hue_order, hue_norm, multiple, common_norm, common_grid, levels, thresh, bw_method, bw_adjust, log_scale, color, fill, data, data2, **kwargs)\u001b[0m\n\u001b[1;32m   1735\u001b[0m             \u001b[0mlegend\u001b[0m\u001b[0;34m=\u001b[0m\u001b[0mlegend\u001b[0m\u001b[0;34m,\u001b[0m\u001b[0;34m\u001b[0m\u001b[0;34m\u001b[0m\u001b[0m\n\u001b[1;32m   1736\u001b[0m             \u001b[0mestimate_kws\u001b[0m\u001b[0;34m=\u001b[0m\u001b[0mestimate_kws\u001b[0m\u001b[0;34m,\u001b[0m\u001b[0;34m\u001b[0m\u001b[0;34m\u001b[0m\u001b[0m\n\u001b[0;32m-> 1737\u001b[0;31m             \u001b[0;34m**\u001b[0m\u001b[0mplot_kws\u001b[0m\u001b[0;34m,\u001b[0m\u001b[0;34m\u001b[0m\u001b[0;34m\u001b[0m\u001b[0m\n\u001b[0m\u001b[1;32m   1738\u001b[0m         )\n\u001b[1;32m   1739\u001b[0m \u001b[0;34m\u001b[0m\u001b[0m\n",
      "\u001b[0;32m/usr/local/lib/python3.7/site-packages/seaborn/distributions.py\u001b[0m in \u001b[0;36mplot_univariate_density\u001b[0;34m(self, multiple, common_norm, common_grid, fill, legend, estimate_kws, **plot_kws)\u001b[0m\n\u001b[1;32m    993\u001b[0m                     )\n\u001b[1;32m    994\u001b[0m                 \u001b[0;32melse\u001b[0m\u001b[0;34m:\u001b[0m\u001b[0;34m\u001b[0m\u001b[0;34m\u001b[0m\u001b[0m\n\u001b[0;32m--> 995\u001b[0;31m                     \u001b[0martist\u001b[0m\u001b[0;34m,\u001b[0m \u001b[0;34m=\u001b[0m \u001b[0max\u001b[0m\u001b[0;34m.\u001b[0m\u001b[0mplot\u001b[0m\u001b[0;34m(\u001b[0m\u001b[0msupport\u001b[0m\u001b[0;34m,\u001b[0m \u001b[0mdensity\u001b[0m\u001b[0;34m,\u001b[0m \u001b[0;34m**\u001b[0m\u001b[0martist_kws\u001b[0m\u001b[0;34m)\u001b[0m\u001b[0;34m\u001b[0m\u001b[0;34m\u001b[0m\u001b[0m\n\u001b[0m\u001b[1;32m    996\u001b[0m \u001b[0;34m\u001b[0m\u001b[0m\n\u001b[1;32m    997\u001b[0m                 \u001b[0martist\u001b[0m\u001b[0;34m.\u001b[0m\u001b[0msticky_edges\u001b[0m\u001b[0;34m.\u001b[0m\u001b[0mx\u001b[0m\u001b[0;34m[\u001b[0m\u001b[0;34m:\u001b[0m\u001b[0;34m]\u001b[0m \u001b[0;34m=\u001b[0m \u001b[0msticky_support\u001b[0m\u001b[0;34m\u001b[0m\u001b[0;34m\u001b[0m\u001b[0m\n",
      "\u001b[0;32m/usr/local/lib/python3.7/site-packages/matplotlib/axes/_axes.py\u001b[0m in \u001b[0;36mplot\u001b[0;34m(self, scalex, scaley, data, *args, **kwargs)\u001b[0m\n\u001b[1;32m   1664\u001b[0m         \"\"\"\n\u001b[1;32m   1665\u001b[0m         \u001b[0mkwargs\u001b[0m \u001b[0;34m=\u001b[0m \u001b[0mcbook\u001b[0m\u001b[0;34m.\u001b[0m\u001b[0mnormalize_kwargs\u001b[0m\u001b[0;34m(\u001b[0m\u001b[0mkwargs\u001b[0m\u001b[0;34m,\u001b[0m \u001b[0mmlines\u001b[0m\u001b[0;34m.\u001b[0m\u001b[0mLine2D\u001b[0m\u001b[0;34m.\u001b[0m\u001b[0m_alias_map\u001b[0m\u001b[0;34m)\u001b[0m\u001b[0;34m\u001b[0m\u001b[0;34m\u001b[0m\u001b[0m\n\u001b[0;32m-> 1666\u001b[0;31m         \u001b[0mlines\u001b[0m \u001b[0;34m=\u001b[0m \u001b[0;34m[\u001b[0m\u001b[0;34m*\u001b[0m\u001b[0mself\u001b[0m\u001b[0;34m.\u001b[0m\u001b[0m_get_lines\u001b[0m\u001b[0;34m(\u001b[0m\u001b[0;34m*\u001b[0m\u001b[0margs\u001b[0m\u001b[0;34m,\u001b[0m \u001b[0mdata\u001b[0m\u001b[0;34m=\u001b[0m\u001b[0mdata\u001b[0m\u001b[0;34m,\u001b[0m \u001b[0;34m**\u001b[0m\u001b[0mkwargs\u001b[0m\u001b[0;34m)\u001b[0m\u001b[0;34m]\u001b[0m\u001b[0;34m\u001b[0m\u001b[0;34m\u001b[0m\u001b[0m\n\u001b[0m\u001b[1;32m   1667\u001b[0m         \u001b[0;32mfor\u001b[0m \u001b[0mline\u001b[0m \u001b[0;32min\u001b[0m \u001b[0mlines\u001b[0m\u001b[0;34m:\u001b[0m\u001b[0;34m\u001b[0m\u001b[0;34m\u001b[0m\u001b[0m\n\u001b[1;32m   1668\u001b[0m             \u001b[0mself\u001b[0m\u001b[0;34m.\u001b[0m\u001b[0madd_line\u001b[0m\u001b[0;34m(\u001b[0m\u001b[0mline\u001b[0m\u001b[0;34m)\u001b[0m\u001b[0;34m\u001b[0m\u001b[0;34m\u001b[0m\u001b[0m\n",
      "\u001b[0;32m/usr/local/lib/python3.7/site-packages/matplotlib/axes/_base.py\u001b[0m in \u001b[0;36m__call__\u001b[0;34m(self, *args, **kwargs)\u001b[0m\n\u001b[1;32m    223\u001b[0m                 \u001b[0mthis\u001b[0m \u001b[0;34m+=\u001b[0m \u001b[0margs\u001b[0m\u001b[0;34m[\u001b[0m\u001b[0;36m0\u001b[0m\u001b[0;34m]\u001b[0m\u001b[0;34m,\u001b[0m\u001b[0;34m\u001b[0m\u001b[0;34m\u001b[0m\u001b[0m\n\u001b[1;32m    224\u001b[0m                 \u001b[0margs\u001b[0m \u001b[0;34m=\u001b[0m \u001b[0margs\u001b[0m\u001b[0;34m[\u001b[0m\u001b[0;36m1\u001b[0m\u001b[0;34m:\u001b[0m\u001b[0;34m]\u001b[0m\u001b[0;34m\u001b[0m\u001b[0;34m\u001b[0m\u001b[0m\n\u001b[0;32m--> 225\u001b[0;31m             \u001b[0;32myield\u001b[0m \u001b[0;32mfrom\u001b[0m \u001b[0mself\u001b[0m\u001b[0;34m.\u001b[0m\u001b[0m_plot_args\u001b[0m\u001b[0;34m(\u001b[0m\u001b[0mthis\u001b[0m\u001b[0;34m,\u001b[0m \u001b[0mkwargs\u001b[0m\u001b[0;34m)\u001b[0m\u001b[0;34m\u001b[0m\u001b[0;34m\u001b[0m\u001b[0m\n\u001b[0m\u001b[1;32m    226\u001b[0m \u001b[0;34m\u001b[0m\u001b[0m\n\u001b[1;32m    227\u001b[0m     \u001b[0;32mdef\u001b[0m \u001b[0mget_next_color\u001b[0m\u001b[0;34m(\u001b[0m\u001b[0mself\u001b[0m\u001b[0;34m)\u001b[0m\u001b[0;34m:\u001b[0m\u001b[0;34m\u001b[0m\u001b[0;34m\u001b[0m\u001b[0m\n",
      "\u001b[0;32m/usr/local/lib/python3.7/site-packages/matplotlib/axes/_base.py\u001b[0m in \u001b[0;36m_plot_args\u001b[0;34m(self, tup, kwargs)\u001b[0m\n\u001b[1;32m    397\u001b[0m             \u001b[0mfunc\u001b[0m \u001b[0;34m=\u001b[0m \u001b[0mself\u001b[0m\u001b[0;34m.\u001b[0m\u001b[0m_makefill\u001b[0m\u001b[0;34m\u001b[0m\u001b[0;34m\u001b[0m\u001b[0m\n\u001b[1;32m    398\u001b[0m \u001b[0;34m\u001b[0m\u001b[0m\n\u001b[0;32m--> 399\u001b[0;31m         \u001b[0mncx\u001b[0m\u001b[0;34m,\u001b[0m \u001b[0mncy\u001b[0m \u001b[0;34m=\u001b[0m \u001b[0mx\u001b[0m\u001b[0;34m.\u001b[0m\u001b[0mshape\u001b[0m\u001b[0;34m[\u001b[0m\u001b[0;36m1\u001b[0m\u001b[0;34m]\u001b[0m\u001b[0;34m,\u001b[0m \u001b[0my\u001b[0m\u001b[0;34m.\u001b[0m\u001b[0mshape\u001b[0m\u001b[0;34m[\u001b[0m\u001b[0;36m1\u001b[0m\u001b[0;34m]\u001b[0m\u001b[0;34m\u001b[0m\u001b[0;34m\u001b[0m\u001b[0m\n\u001b[0m\u001b[1;32m    400\u001b[0m         \u001b[0;32mif\u001b[0m \u001b[0mncx\u001b[0m \u001b[0;34m>\u001b[0m \u001b[0;36m1\u001b[0m \u001b[0;32mand\u001b[0m \u001b[0mncy\u001b[0m \u001b[0;34m>\u001b[0m \u001b[0;36m1\u001b[0m \u001b[0;32mand\u001b[0m \u001b[0mncx\u001b[0m \u001b[0;34m!=\u001b[0m \u001b[0mncy\u001b[0m\u001b[0;34m:\u001b[0m\u001b[0;34m\u001b[0m\u001b[0;34m\u001b[0m\u001b[0m\n\u001b[1;32m    401\u001b[0m             cbook.warn_deprecated(\n",
      "\u001b[0;31mIndexError\u001b[0m: tuple index out of range"
     ]
    },
    {
     "data": {
      "image/png": "[encoded data removed]",
      "text/plain": [
       "<Figure size 1440x1080 with 4 Axes>"
      ]
     },
     "metadata": {
      "needs_background": "light"
     },
     "output_type": "display_data"
    }
   ],
   "source": [
    "figure,ax = plt.subplots(2,2,figsize = (20,15))\n",
    "\n",
    "# ST depression induced by exercise relative to rest \n",
    "plt.subplot(221)\n",
    "sns.distplot(df['oldpeak'])\n",
    "plt.title('Most people have ST depression below 0.5',fontdict={'weight':'normal','size': 20}) \n",
    "plt.xlabel('ST depression', fontdict={'weight': 'normal', 'size': 15})\n",
    "plt.ylabel('Density', fontdict={'weight': 'normal', 'size': 15})\n",
    "plt.tick_params(labelsize=20)\n",
    "\n",
    "# slope: the slope of the peak exercise ST segment \n",
    "plt.subplot(222)\n",
    "sns.countplot(df['slope'])\n",
    "plt.title(\"Most people don't have downsloping slope\",fontdict={'weight':'normal','size': 20})\n",
    "plt.xticks(np.arange(3),('Upsloping','Flat','Downsloping'))\n",
    "plt.xlabel('Slope', fontdict={'weight': 'normal', 'size': 15})\n",
    "plt.ylabel('Number', fontdict={'weight': 'normal', 'size': 15})\n",
    "plt.tick_params(labelsize=20)\n",
    "plt.rcParams.update({'font.size': 30})\n",
    "\n",
    "# ca: number of major vessels (0-3) colored by flourosopy \n",
    "plt.subplot(223)\n",
    "sns.countplot(df['ca'])\n",
    "plt.title('Most people have 0 major vessels colored by flourosopy',fontdict={'weight':'normal','size': 20})\n",
    "# plt.xticks(np.arange(4),('0','1','2','3'))\n",
    "plt.xlabel('Number of major vessels', fontdict={'weight': 'normal', 'size': 15})\n",
    "plt.ylabel('Number', fontdict={'weight': 'normal', 'size': 15})\n",
    "plt.tick_params(labelsize=20)\n",
    "plt.rcParams.update({'font.size': 30})\n",
    "\n",
    "# thal test result: 3 = normal; 6 = fixed defect; 7 = reversable defect \n",
    "plt.subplot(224)\n",
    "sns.countplot(df['thal'])\n",
    "plt.title('Normal:Fixed Defect:Reversable Defect = 8:6:1',fontdict={'weight':'normal','size': 20})\n",
    "plt.xticks(np.arange(3),('Normal','Fixed defect','Reversable defect'),rotation = 5)\n",
    "plt.xlabel('Thal test result', fontdict={'weight': 'normal', 'size': 15})\n",
    "plt.ylabel('Number', fontdict={'weight': 'normal', 'size': 15})\n",
    "plt.tick_params(labelsize=20)\n",
    "plt.rcParams.update({'font.size': 30})\n",
    "\n"
   ]
  },
  {
   "cell_type": "markdown",
   "metadata": {},
   "source": [
    "## data cleaning"
   ]
  },
  {
   "cell_type": "code",
   "execution_count": 8,
   "metadata": {},
   "outputs": [
    {
     "data": {
      "text/plain": [
       "age         0\n",
       "sex         0\n",
       "cp          0\n",
       "trestbps    0\n",
       "chol        0\n",
       "fbs         0\n",
       "restecg     0\n",
       "thalach     0\n",
       "exang       0\n",
       "oldpeak     0\n",
       "slope       0\n",
       "ca          0\n",
       "thal        0\n",
       "target      0\n",
       "dtype: int64"
      ]
     },
     "execution_count": 8,
     "metadata": {},
     "output_type": "execute_result"
    }
   ],
   "source": [
    "df.isnull().sum()"
   ]
  },
  {
   "cell_type": "code",
   "execution_count": 9,
   "metadata": {},
   "outputs": [],
   "source": [
    "# data = df.iloc[:,:-1]\n",
    "data = df.copy()"
   ]
  },
  {
   "cell_type": "code",
   "execution_count": 10,
   "metadata": {},
   "outputs": [
    {
     "name": "stdout",
     "output_type": "stream",
     "text": [
      "29.0\n",
      "77.0\n"
     ]
    },
    {
     "data": {
      "text/plain": [
       "<matplotlib.axes._subplots.AxesSubplot at 0x12cf9d850>"
      ]
     },
     "execution_count": 10,
     "metadata": {},
     "output_type": "execute_result"
    },
    {
     "data": {
      "image/png": "[encoded data removed]",
      "text/plain": [
       "<Figure size 432x288 with 1 Axes>"
      ]
     },
     "metadata": {
      "needs_background": "light"
     },
     "output_type": "display_data"
    }
   ],
   "source": [
    "print(data['age'].values.min())\n",
    "print(data['age'].values.max())\n",
    "sns.histplot(data['age'])"
   ]
  },
  {
   "cell_type": "code",
   "execution_count": 11,
   "metadata": {},
   "outputs": [
    {
     "data": {
      "text/plain": [
       "Age in [49,58]    116\n",
       "Age in [59,68]     91\n",
       "Age in [39,48]     71\n",
       "Age in [69,78]     13\n",
       "Age in [29,38]     11\n",
       "Name: age_bining, dtype: int64"
      ]
     },
     "execution_count": 11,
     "metadata": {},
     "output_type": "execute_result"
    }
   ],
   "source": [
    "def trans(n):\n",
    "    if 29<= n <= 38:\n",
    "        res = \"Age in [29,38]\"\n",
    "    elif 39<= n <= 48:\n",
    "        res = \"Age in [39,48]\"\n",
    "    elif 49<= n <= 58:\n",
    "        res = \"Age in [49,58]\"\n",
    "    elif 59<= n <= 68:\n",
    "        res = \"Age in [59,68]\"\n",
    "    elif 69<= n <= 78:\n",
    "        res = \"Age in [69,78]\"\n",
    "    return res\n",
    "\n",
    "data[\"age_bining\"] = data[\"age\"].apply(trans)\n",
    "data[\"age_bining\"].value_counts()"
   ]
  },
  {
   "cell_type": "code",
   "execution_count": 12,
   "metadata": {},
   "outputs": [
    {
     "name": "stdout",
     "output_type": "stream",
     "text": [
      "94.0\n",
      "200.0\n"
     ]
    },
    {
     "data": {
      "text/plain": [
       "<matplotlib.axes._subplots.AxesSubplot at 0x12cf643d0>"
      ]
     },
     "execution_count": 12,
     "metadata": {},
     "output_type": "execute_result"
    },
    {
     "data": {
      "image/png": "[encoded data removed]",
      "text/plain": [
       "<Figure size 432x288 with 1 Axes>"
      ]
     },
     "metadata": {
      "needs_background": "light"
     },
     "output_type": "display_data"
    }
   ],
   "source": [
    "print(data['trestbps'].values.min())\n",
    "print(data['trestbps'].values.max())\n",
    "sns.histplot(data['trestbps'],bins=50)"
   ]
  },
  {
   "cell_type": "code",
   "execution_count": 13,
   "metadata": {},
   "outputs": [
    {
     "data": {
      "text/plain": [
       "trestbps in [121,140]    140\n",
       "trestbps in [90,120]      97\n",
       "trestbps in [141,200]     65\n",
       "Name: trestbps_bining, dtype: int64"
      ]
     },
     "execution_count": 13,
     "metadata": {},
     "output_type": "execute_result"
    }
   ],
   "source": [
    "def trans(n):\n",
    "    if 90<= n <= 120:\n",
    "        res = \"trestbps in [90,120]\"\n",
    "    elif 121<= n <= 140:\n",
    "        res = \"trestbps in [121,140]\"\n",
    "    elif 141<= n <= 200:\n",
    "        res = \"trestbps in [141,200]\"\n",
    "    return res\n",
    "data[\"trestbps_bining\"] = data[\"trestbps\"].apply(trans)\n",
    "data[\"trestbps_bining\"].value_counts()"
   ]
  },
  {
   "cell_type": "code",
   "execution_count": 14,
   "metadata": {},
   "outputs": [
    {
     "name": "stdout",
     "output_type": "stream",
     "text": [
      "126.0\n",
      "564.0\n",
      "246.73841059602648\n"
     ]
    },
    {
     "data": {
      "text/plain": [
       "<matplotlib.axes._subplots.AxesSubplot at 0x12ce41b90>"
      ]
     },
     "execution_count": 14,
     "metadata": {},
     "output_type": "execute_result"
    },
    {
     "data": {
      "image/png": "[encoded data removed]",
      "text/plain": [
       "<Figure size 432x288 with 1 Axes>"
      ]
     },
     "metadata": {
      "needs_background": "light"
     },
     "output_type": "display_data"
    }
   ],
   "source": [
    "print(data['chol'].values.min())\n",
    "print(data['chol'].values.max())\n",
    "print(data['chol'].values.mean())\n",
    "sns.histplot(data['chol'],bins=50)"
   ]
  },
  {
   "cell_type": "code",
   "execution_count": 15,
   "metadata": {},
   "outputs": [
    {
     "data": {
      "text/plain": [
       "chol in [248,564]    135\n",
       "chol in [194,247]    132\n",
       "chol in [126,193]     35\n",
       "Name: chol_bining, dtype: int64"
      ]
     },
     "execution_count": 15,
     "metadata": {},
     "output_type": "execute_result"
    }
   ],
   "source": [
    "def trans(n):\n",
    "    if 126<= n <= 193:\n",
    "        res = \"chol in [126,193]\"\n",
    "    elif 194<= n <= 247:\n",
    "        res = \"chol in [194,247]\"\n",
    "    elif 248<= n <= 564:\n",
    "        res = \"chol in [248,564]\"\n",
    "    return res\n",
    "90-120\n",
    "data[\"chol_bining\"] = data[\"chol\"].apply(trans)\n",
    "data[\"chol_bining\"].value_counts()"
   ]
  },
  {
   "cell_type": "code",
   "execution_count": 16,
   "metadata": {},
   "outputs": [
    {
     "name": "stdout",
     "output_type": "stream",
     "text": [
      "71.0\n",
      "202.0\n",
      "149.60596026490066\n"
     ]
    },
    {
     "data": {
      "text/plain": [
       "<matplotlib.axes._subplots.AxesSubplot at 0x12f771950>"
      ]
     },
     "execution_count": 16,
     "metadata": {},
     "output_type": "execute_result"
    },
    {
     "data": {
      "image/png": "[encoded data removed]",
      "text/plain": [
       "<Figure size 432x288 with 1 Axes>"
      ]
     },
     "metadata": {
      "needs_background": "light"
     },
     "output_type": "display_data"
    }
   ],
   "source": [
    "print(data['thalach'].values.min())\n",
    "print(data['thalach'].values.max())\n",
    "print(data['thalach'].values.mean())\n",
    "sns.histplot(data['thalach'],bins=50)"
   ]
  },
  {
   "cell_type": "code",
   "execution_count": 17,
   "metadata": {},
   "outputs": [
    {
     "data": {
      "text/plain": [
       "thalach in [141,160]    101\n",
       "thalach in [161,180]     92\n",
       "thalach in [71,140]      91\n",
       "thalach in [181,202]     18\n",
       "Name: thalach_bining, dtype: int64"
      ]
     },
     "execution_count": 17,
     "metadata": {},
     "output_type": "execute_result"
    }
   ],
   "source": [
    "def trans(n):\n",
    "    if 71<= n <= 140:\n",
    "        res = \"thalach in [71,140]\"\n",
    "    elif 141<= n <= 160:\n",
    "        res = \"thalach in [141,160]\"\n",
    "    elif 161<= n <= 180:\n",
    "        res = \"thalach in [161,180]\"\n",
    "    elif 181<= n <= 202:\n",
    "        res = \"thalach in [181,202]\"\n",
    "    return res\n",
    "data[\"thalach_bining\"] = data[\"thalach\"].apply(trans)\n",
    "data[\"thalach_bining\"].value_counts()"
   ]
  },
  {
   "cell_type": "code",
   "execution_count": 18,
   "metadata": {},
   "outputs": [
    {
     "name": "stdout",
     "output_type": "stream",
     "text": [
      "0.0\n",
      "6.2\n",
      "1.035430463576159\n"
     ]
    },
    {
     "data": {
      "text/plain": [
       "<matplotlib.axes._subplots.AxesSubplot at 0x12f8833d0>"
      ]
     },
     "execution_count": 18,
     "metadata": {},
     "output_type": "execute_result"
    },
    {
     "data": {
      "image/png": "[encoded data removed]",
      "text/plain": [
       "<Figure size 432x288 with 1 Axes>"
      ]
     },
     "metadata": {
      "needs_background": "light"
     },
     "output_type": "display_data"
    }
   ],
   "source": [
    "print(data['oldpeak'].values.min())\n",
    "print(data['oldpeak'].values.max())\n",
    "print(data['oldpeak'].values.mean())\n",
    "sns.histplot(data['oldpeak'])"
   ]
  },
  {
   "cell_type": "code",
   "execution_count": 19,
   "metadata": {},
   "outputs": [
    {
     "data": {
      "text/plain": [
       "oldpeak in [0,0.5]      135\n",
       "oldpeak in [1.1,2]       73\n",
       "oldpeak in [2.1,6.2]     49\n",
       "oldpeak in [0.6,1]       45\n",
       "Name: oldpeak_bining, dtype: int64"
      ]
     },
     "execution_count": 19,
     "metadata": {},
     "output_type": "execute_result"
    }
   ],
   "source": [
    "def trans(n):\n",
    "    if 0<= n <= 0.5:\n",
    "        res = \"oldpeak in [0,0.5]\"\n",
    "    elif 0.6<= n <= 1:\n",
    "        res = \"oldpeak in [0.6,1]\"\n",
    "    elif 1.1<= n <= 2:\n",
    "        res = \"oldpeak in [1.1,2]\"\n",
    "    elif 2.1<= n <= 6.2:\n",
    "        res = \"oldpeak in [2.1,6.2]\"  \n",
    "    return res\n",
    "data[\"oldpeak_bining\"] = data[\"oldpeak\"].apply(trans)\n",
    "data[\"oldpeak_bining\"].value_counts()"
   ]
  },
  {
   "cell_type": "code",
   "execution_count": 20,
   "metadata": {},
   "outputs": [],
   "source": [
    "data.loc[data['sex'] == 0,'sex'] = 'Female'\n",
    "data.loc[data['sex'] == 1,'sex'] = 'Male'\n",
    "data.loc[data['cp'] == 1.0,'cp'] = 'cp = 1.0'\n",
    "data.loc[data['cp'] == 2.0,'cp'] = 'cp = 2.0'\n",
    "data.loc[data['cp'] == 3.0,'cp'] = 'cp = 3.0'\n",
    "data.loc[data['cp'] == 4.0,'cp'] = 'cp = 4.0'\n",
    "data.loc[data['fbs'] == 0.0,'fbs'] = 'fbs = 0'\n",
    "data.loc[data['fbs'] == 1.0,'fbs'] = 'fbs = 1'\n",
    "data.loc[data['restecg'] == 0.0,'restecg'] = 'restecg = 0'\n",
    "data.loc[data['restecg'] == 1.0,'restecg'] = 'restecg = 1'\n",
    "data.loc[data['restecg'] == 2.0,'restecg'] = 'restecg = 2'\n",
    "data.loc[data['exang'] == 0.0,'exang'] = 'exang = 0'\n",
    "data.loc[data['exang'] == 1.0,'exang'] = 'exang = 1'\n",
    "data.loc[data['slope'] == 1.0,'slope'] = 'slope = 1'\n",
    "data.loc[data['slope'] == 2.0,'slope'] = 'slope = 2'\n",
    "data.loc[data['slope'] == 3.0,'slope'] = 'slope = 3'\n",
    "data.loc[data['ca'] == '0.0','ca'] = 'ca = 0'\n",
    "data.loc[data['ca'] == '1.0','ca'] = 'ca = 1'\n",
    "data.loc[data['ca'] == '2.0','ca'] = 'ca = 2'\n",
    "data.loc[data['ca'] == '3.0','ca'] = 'ca = 3'\n",
    "data.loc[data['thal'] == '3.0','thal'] = 'thal = 3'\n",
    "data.loc[data['thal'] == '6.0','thal'] = 'thal = 6'\n",
    "data.loc[data['thal'] == '7.0','thal'] = 'thal = 7'\n"
   ]
  },
  {
   "cell_type": "code",
   "execution_count": 21,
   "metadata": {},
   "outputs": [
    {
     "data": {
      "text/plain": [
       "thal = 3    166\n",
       "thal = 7    117\n",
       "thal = 6     17\n",
       "?             2\n",
       "Name: thal, dtype: int64"
      ]
     },
     "execution_count": 21,
     "metadata": {},
     "output_type": "execute_result"
    }
   ],
   "source": [
    "data['thal'].value_counts()"
   ]
  },
  {
   "cell_type": "code",
   "execution_count": 22,
   "metadata": {},
   "outputs": [
    {
     "data": {
      "text/html": [
       "<div>\n",
       "<style scoped>\n",
       "    .dataframe tbody tr th:only-of-type {\n",
       "        vertical-align: middle;\n",
       "    }\n",
       "\n",
       "    .dataframe tbody tr th {\n",
       "        vertical-align: top;\n",
       "    }\n",
       "\n",
       "    .dataframe thead th {\n",
       "        text-align: right;\n",
       "    }\n",
       "</style>\n",
       "<table border=\"1\" class=\"dataframe\">\n",
       "  <thead>\n",
       "    <tr style=\"text-align: right;\">\n",
       "      <th></th>\n",
       "      <th>age</th>\n",
       "      <th>sex</th>\n",
       "      <th>cp</th>\n",
       "      <th>trestbps</th>\n",
       "      <th>chol</th>\n",
       "      <th>fbs</th>\n",
       "      <th>restecg</th>\n",
       "      <th>thalach</th>\n",
       "      <th>exang</th>\n",
       "      <th>oldpeak</th>\n",
       "      <th>slope</th>\n",
       "      <th>ca</th>\n",
       "      <th>thal</th>\n",
       "      <th>target</th>\n",
       "      <th>age_bining</th>\n",
       "      <th>trestbps_bining</th>\n",
       "      <th>chol_bining</th>\n",
       "      <th>thalach_bining</th>\n",
       "      <th>oldpeak_bining</th>\n",
       "    </tr>\n",
       "  </thead>\n",
       "  <tbody>\n",
       "    <tr>\n",
       "      <th>0</th>\n",
       "      <td>67.0</td>\n",
       "      <td>Male</td>\n",
       "      <td>cp = 4.0</td>\n",
       "      <td>160.0</td>\n",
       "      <td>286.0</td>\n",
       "      <td>fbs = 0</td>\n",
       "      <td>restecg = 2</td>\n",
       "      <td>108.0</td>\n",
       "      <td>exang = 1</td>\n",
       "      <td>1.5</td>\n",
       "      <td>slope = 2</td>\n",
       "      <td>ca = 3</td>\n",
       "      <td>thal = 3</td>\n",
       "      <td>2</td>\n",
       "      <td>Age in [59,68]</td>\n",
       "      <td>trestbps in [141,200]</td>\n",
       "      <td>chol in [248,564]</td>\n",
       "      <td>thalach in [71,140]</td>\n",
       "      <td>oldpeak in [1.1,2]</td>\n",
       "    </tr>\n",
       "    <tr>\n",
       "      <th>1</th>\n",
       "      <td>67.0</td>\n",
       "      <td>Male</td>\n",
       "      <td>cp = 4.0</td>\n",
       "      <td>120.0</td>\n",
       "      <td>229.0</td>\n",
       "      <td>fbs = 0</td>\n",
       "      <td>restecg = 2</td>\n",
       "      <td>129.0</td>\n",
       "      <td>exang = 1</td>\n",
       "      <td>2.6</td>\n",
       "      <td>slope = 2</td>\n",
       "      <td>ca = 2</td>\n",
       "      <td>thal = 7</td>\n",
       "      <td>1</td>\n",
       "      <td>Age in [59,68]</td>\n",
       "      <td>trestbps in [90,120]</td>\n",
       "      <td>chol in [194,247]</td>\n",
       "      <td>thalach in [71,140]</td>\n",
       "      <td>oldpeak in [2.1,6.2]</td>\n",
       "    </tr>\n",
       "    <tr>\n",
       "      <th>2</th>\n",
       "      <td>37.0</td>\n",
       "      <td>Male</td>\n",
       "      <td>cp = 3.0</td>\n",
       "      <td>130.0</td>\n",
       "      <td>250.0</td>\n",
       "      <td>fbs = 0</td>\n",
       "      <td>restecg = 0</td>\n",
       "      <td>187.0</td>\n",
       "      <td>exang = 0</td>\n",
       "      <td>3.5</td>\n",
       "      <td>slope = 3</td>\n",
       "      <td>ca = 0</td>\n",
       "      <td>thal = 3</td>\n",
       "      <td>0</td>\n",
       "      <td>Age in [29,38]</td>\n",
       "      <td>trestbps in [121,140]</td>\n",
       "      <td>chol in [248,564]</td>\n",
       "      <td>thalach in [181,202]</td>\n",
       "      <td>oldpeak in [2.1,6.2]</td>\n",
       "    </tr>\n",
       "    <tr>\n",
       "      <th>3</th>\n",
       "      <td>41.0</td>\n",
       "      <td>Female</td>\n",
       "      <td>cp = 2.0</td>\n",
       "      <td>130.0</td>\n",
       "      <td>204.0</td>\n",
       "      <td>fbs = 0</td>\n",
       "      <td>restecg = 2</td>\n",
       "      <td>172.0</td>\n",
       "      <td>exang = 0</td>\n",
       "      <td>1.4</td>\n",
       "      <td>slope = 1</td>\n",
       "      <td>ca = 0</td>\n",
       "      <td>thal = 3</td>\n",
       "      <td>0</td>\n",
       "      <td>Age in [39,48]</td>\n",
       "      <td>trestbps in [121,140]</td>\n",
       "      <td>chol in [194,247]</td>\n",
       "      <td>thalach in [161,180]</td>\n",
       "      <td>oldpeak in [1.1,2]</td>\n",
       "    </tr>\n",
       "    <tr>\n",
       "      <th>4</th>\n",
       "      <td>56.0</td>\n",
       "      <td>Male</td>\n",
       "      <td>cp = 2.0</td>\n",
       "      <td>120.0</td>\n",
       "      <td>236.0</td>\n",
       "      <td>fbs = 0</td>\n",
       "      <td>restecg = 0</td>\n",
       "      <td>178.0</td>\n",
       "      <td>exang = 0</td>\n",
       "      <td>0.8</td>\n",
       "      <td>slope = 1</td>\n",
       "      <td>ca = 0</td>\n",
       "      <td>thal = 3</td>\n",
       "      <td>0</td>\n",
       "      <td>Age in [49,58]</td>\n",
       "      <td>trestbps in [90,120]</td>\n",
       "      <td>chol in [194,247]</td>\n",
       "      <td>thalach in [161,180]</td>\n",
       "      <td>oldpeak in [0.6,1]</td>\n",
       "    </tr>\n",
       "  </tbody>\n",
       "</table>\n",
       "</div>"
      ],
      "text/plain": [
       "    age     sex        cp  trestbps   chol      fbs      restecg  thalach  \\\n",
       "0  67.0    Male  cp = 4.0     160.0  286.0  fbs = 0  restecg = 2    108.0   \n",
       "1  67.0    Male  cp = 4.0     120.0  229.0  fbs = 0  restecg = 2    129.0   \n",
       "2  37.0    Male  cp = 3.0     130.0  250.0  fbs = 0  restecg = 0    187.0   \n",
       "3  41.0  Female  cp = 2.0     130.0  204.0  fbs = 0  restecg = 2    172.0   \n",
       "4  56.0    Male  cp = 2.0     120.0  236.0  fbs = 0  restecg = 0    178.0   \n",
       "\n",
       "       exang  oldpeak      slope      ca      thal  target      age_bining  \\\n",
       "0  exang = 1      1.5  slope = 2  ca = 3  thal = 3       2  Age in [59,68]   \n",
       "1  exang = 1      2.6  slope = 2  ca = 2  thal = 7       1  Age in [59,68]   \n",
       "2  exang = 0      3.5  slope = 3  ca = 0  thal = 3       0  Age in [29,38]   \n",
       "3  exang = 0      1.4  slope = 1  ca = 0  thal = 3       0  Age in [39,48]   \n",
       "4  exang = 0      0.8  slope = 1  ca = 0  thal = 3       0  Age in [49,58]   \n",
       "\n",
       "         trestbps_bining        chol_bining        thalach_bining  \\\n",
       "0  trestbps in [141,200]  chol in [248,564]   thalach in [71,140]   \n",
       "1   trestbps in [90,120]  chol in [194,247]   thalach in [71,140]   \n",
       "2  trestbps in [121,140]  chol in [248,564]  thalach in [181,202]   \n",
       "3  trestbps in [121,140]  chol in [194,247]  thalach in [161,180]   \n",
       "4   trestbps in [90,120]  chol in [194,247]  thalach in [161,180]   \n",
       "\n",
       "         oldpeak_bining  \n",
       "0    oldpeak in [1.1,2]  \n",
       "1  oldpeak in [2.1,6.2]  \n",
       "2  oldpeak in [2.1,6.2]  \n",
       "3    oldpeak in [1.1,2]  \n",
       "4    oldpeak in [0.6,1]  "
      ]
     },
     "execution_count": 22,
     "metadata": {},
     "output_type": "execute_result"
    }
   ],
   "source": [
    "data.head()"
   ]
  },
  {
   "cell_type": "code",
   "execution_count": 23,
   "metadata": {},
   "outputs": [],
   "source": [
    "data_apriori = data.copy().drop(['age','oldpeak','trestbps','chol','thalach','target'],axis = 1,inplace=False)"
   ]
  },
  {
   "cell_type": "code",
   "execution_count": 24,
   "metadata": {},
   "outputs": [
    {
     "data": {
      "text/html": [
       "<div>\n",
       "<style scoped>\n",
       "    .dataframe tbody tr th:only-of-type {\n",
       "        vertical-align: middle;\n",
       "    }\n",
       "\n",
       "    .dataframe tbody tr th {\n",
       "        vertical-align: top;\n",
       "    }\n",
       "\n",
       "    .dataframe thead th {\n",
       "        text-align: right;\n",
       "    }\n",
       "</style>\n",
       "<table border=\"1\" class=\"dataframe\">\n",
       "  <thead>\n",
       "    <tr style=\"text-align: right;\">\n",
       "      <th></th>\n",
       "      <th>sex</th>\n",
       "      <th>cp</th>\n",
       "      <th>fbs</th>\n",
       "      <th>restecg</th>\n",
       "      <th>exang</th>\n",
       "      <th>slope</th>\n",
       "      <th>ca</th>\n",
       "      <th>thal</th>\n",
       "      <th>age_bining</th>\n",
       "      <th>trestbps_bining</th>\n",
       "      <th>chol_bining</th>\n",
       "      <th>thalach_bining</th>\n",
       "      <th>oldpeak_bining</th>\n",
       "    </tr>\n",
       "  </thead>\n",
       "  <tbody>\n",
       "    <tr>\n",
       "      <th>0</th>\n",
       "      <td>Male</td>\n",
       "      <td>cp = 4.0</td>\n",
       "      <td>fbs = 0</td>\n",
       "      <td>restecg = 2</td>\n",
       "      <td>exang = 1</td>\n",
       "      <td>slope = 2</td>\n",
       "      <td>ca = 3</td>\n",
       "      <td>thal = 3</td>\n",
       "      <td>Age in [59,68]</td>\n",
       "      <td>trestbps in [141,200]</td>\n",
       "      <td>chol in [248,564]</td>\n",
       "      <td>thalach in [71,140]</td>\n",
       "      <td>oldpeak in [1.1,2]</td>\n",
       "    </tr>\n",
       "    <tr>\n",
       "      <th>1</th>\n",
       "      <td>Male</td>\n",
       "      <td>cp = 4.0</td>\n",
       "      <td>fbs = 0</td>\n",
       "      <td>restecg = 2</td>\n",
       "      <td>exang = 1</td>\n",
       "      <td>slope = 2</td>\n",
       "      <td>ca = 2</td>\n",
       "      <td>thal = 7</td>\n",
       "      <td>Age in [59,68]</td>\n",
       "      <td>trestbps in [90,120]</td>\n",
       "      <td>chol in [194,247]</td>\n",
       "      <td>thalach in [71,140]</td>\n",
       "      <td>oldpeak in [2.1,6.2]</td>\n",
       "    </tr>\n",
       "    <tr>\n",
       "      <th>2</th>\n",
       "      <td>Male</td>\n",
       "      <td>cp = 3.0</td>\n",
       "      <td>fbs = 0</td>\n",
       "      <td>restecg = 0</td>\n",
       "      <td>exang = 0</td>\n",
       "      <td>slope = 3</td>\n",
       "      <td>ca = 0</td>\n",
       "      <td>thal = 3</td>\n",
       "      <td>Age in [29,38]</td>\n",
       "      <td>trestbps in [121,140]</td>\n",
       "      <td>chol in [248,564]</td>\n",
       "      <td>thalach in [181,202]</td>\n",
       "      <td>oldpeak in [2.1,6.2]</td>\n",
       "    </tr>\n",
       "    <tr>\n",
       "      <th>3</th>\n",
       "      <td>Female</td>\n",
       "      <td>cp = 2.0</td>\n",
       "      <td>fbs = 0</td>\n",
       "      <td>restecg = 2</td>\n",
       "      <td>exang = 0</td>\n",
       "      <td>slope = 1</td>\n",
       "      <td>ca = 0</td>\n",
       "      <td>thal = 3</td>\n",
       "      <td>Age in [39,48]</td>\n",
       "      <td>trestbps in [121,140]</td>\n",
       "      <td>chol in [194,247]</td>\n",
       "      <td>thalach in [161,180]</td>\n",
       "      <td>oldpeak in [1.1,2]</td>\n",
       "    </tr>\n",
       "    <tr>\n",
       "      <th>4</th>\n",
       "      <td>Male</td>\n",
       "      <td>cp = 2.0</td>\n",
       "      <td>fbs = 0</td>\n",
       "      <td>restecg = 0</td>\n",
       "      <td>exang = 0</td>\n",
       "      <td>slope = 1</td>\n",
       "      <td>ca = 0</td>\n",
       "      <td>thal = 3</td>\n",
       "      <td>Age in [49,58]</td>\n",
       "      <td>trestbps in [90,120]</td>\n",
       "      <td>chol in [194,247]</td>\n",
       "      <td>thalach in [161,180]</td>\n",
       "      <td>oldpeak in [0.6,1]</td>\n",
       "    </tr>\n",
       "  </tbody>\n",
       "</table>\n",
       "</div>"
      ],
      "text/plain": [
       "      sex        cp      fbs      restecg      exang      slope      ca  \\\n",
       "0    Male  cp = 4.0  fbs = 0  restecg = 2  exang = 1  slope = 2  ca = 3   \n",
       "1    Male  cp = 4.0  fbs = 0  restecg = 2  exang = 1  slope = 2  ca = 2   \n",
       "2    Male  cp = 3.0  fbs = 0  restecg = 0  exang = 0  slope = 3  ca = 0   \n",
       "3  Female  cp = 2.0  fbs = 0  restecg = 2  exang = 0  slope = 1  ca = 0   \n",
       "4    Male  cp = 2.0  fbs = 0  restecg = 0  exang = 0  slope = 1  ca = 0   \n",
       "\n",
       "       thal      age_bining        trestbps_bining        chol_bining  \\\n",
       "0  thal = 3  Age in [59,68]  trestbps in [141,200]  chol in [248,564]   \n",
       "1  thal = 7  Age in [59,68]   trestbps in [90,120]  chol in [194,247]   \n",
       "2  thal = 3  Age in [29,38]  trestbps in [121,140]  chol in [248,564]   \n",
       "3  thal = 3  Age in [39,48]  trestbps in [121,140]  chol in [194,247]   \n",
       "4  thal = 3  Age in [49,58]   trestbps in [90,120]  chol in [194,247]   \n",
       "\n",
       "         thalach_bining        oldpeak_bining  \n",
       "0   thalach in [71,140]    oldpeak in [1.1,2]  \n",
       "1   thalach in [71,140]  oldpeak in [2.1,6.2]  \n",
       "2  thalach in [181,202]  oldpeak in [2.1,6.2]  \n",
       "3  thalach in [161,180]    oldpeak in [1.1,2]  \n",
       "4  thalach in [161,180]    oldpeak in [0.6,1]  "
      ]
     },
     "execution_count": 24,
     "metadata": {},
     "output_type": "execute_result"
    }
   ],
   "source": [
    "data_apriori.head()"
   ]
  },
  {
   "cell_type": "markdown",
   "metadata": {},
   "source": [
    "## 1. Apriori"
   ]
  },
  {
   "cell_type": "code",
   "execution_count": 25,
   "metadata": {},
   "outputs": [],
   "source": [
    "from efficient_apriori import apriori"
   ]
  },
  {
   "cell_type": "code",
   "execution_count": 26,
   "metadata": {},
   "outputs": [
    {
     "name": "stdout",
     "output_type": "stream",
     "text": [
      "[{fbs = 0} -> {Male}, {Male} -> {fbs = 0}, {fbs = 0} -> {ca = 0}, {ca = 0} -> {fbs = 0}, {fbs = 0} -> {exang = 0}, {exang = 0} -> {fbs = 0}]\n"
     ]
    }
   ],
   "source": [
    "transactions = []\n",
    "for i in data_apriori.values:\n",
    "    temp = tuple(i)\n",
    "    transactions.append(temp)\n",
    "    \n",
    "itemsets,rules = apriori(transactions,min_support=0.5,min_confidence=0.5)\n",
    "print(rules)"
   ]
  },
  {
   "cell_type": "code",
   "execution_count": 27,
   "metadata": {},
   "outputs": [
    {
     "name": "stdout",
     "output_type": "stream",
     "text": [
      "{fbs = 0} -> {Male} (conf: 0.671, supp: 0.573, lift: 0.988, conv: 0.975)\n",
      "{Male} -> {fbs = 0} (conf: 0.844, supp: 0.573, lift: 0.988, conv: 0.933)\n",
      "{fbs = 0} -> {ca = 0} (conf: 0.605, supp: 0.517, lift: 1.043, conv: 1.064)\n",
      "{ca = 0} -> {fbs = 0} (conf: 0.891, supp: 0.517, lift: 1.043, conv: 1.342)\n"
     ]
    }
   ],
   "source": [
    "res = []\n",
    "for rule in rules:\n",
    "    if rule.lift > 1.01 or rule.lift < 0.99:\n",
    "        res.append(rule)\n",
    "for i in sorted(res, key=lambda rule: rule.lift):\n",
    "    print (i)"
   ]
  },
  {
   "cell_type": "code",
   "execution_count": 28,
   "metadata": {},
   "outputs": [
    {
     "name": "stdout",
     "output_type": "stream",
     "text": [
      "[{Male} -> {fbs = 0}, {cp = 4.0} -> {fbs = 0}, {restecg = 2} -> {fbs = 0}, {slope = 2} -> {fbs = 0}, {thal = 3} -> {fbs = 0}, {ca = 0} -> {fbs = 0}, {exang = 0} -> {fbs = 0}, {thal = 3} -> {exang = 0}, {restecg = 0} -> {fbs = 0}, {slope = 1} -> {fbs = 0}]\n"
     ]
    }
   ],
   "source": [
    "transactions = []\n",
    "for i in data_apriori.values:\n",
    "    temp = tuple(i)\n",
    "    transactions.append(temp)\n",
    "    \n",
    "itemsets,rules = apriori(transactions,min_support=0.4,min_confidence=0.8)\n",
    "print(rules)"
   ]
  },
  {
   "cell_type": "code",
   "execution_count": 29,
   "metadata": {},
   "outputs": [
    {
     "name": "stdout",
     "output_type": "stream",
     "text": [
      "{restecg = 2} -> {fbs = 0} (conf: 0.830, supp: 0.404, lift: 0.971, conv: 0.857)\n",
      "{Male} -> {fbs = 0} (conf: 0.844, supp: 0.573, lift: 0.988, conv: 0.933)\n",
      "{slope = 2} -> {fbs = 0} (conf: 0.864, supp: 0.401, lift: 1.012, conv: 1.074)\n",
      "{restecg = 0} -> {fbs = 0} (conf: 0.874, supp: 0.437, lift: 1.023, conv: 1.158)\n",
      "{cp = 4.0} -> {fbs = 0} (conf: 0.875, supp: 0.417, lift: 1.024, conv: 1.166)\n",
      "{thal = 3} -> {fbs = 0} (conf: 0.880, supp: 0.483, lift: 1.030, conv: 1.209)\n",
      "{ca = 0} -> {fbs = 0} (conf: 0.891, supp: 0.517, lift: 1.043, conv: 1.342)\n",
      "{thal = 3} -> {exang = 0} (conf: 0.813, supp: 0.447, lift: 1.210, conv: 1.755)\n"
     ]
    }
   ],
   "source": [
    "res = []\n",
    "for rule in rules:\n",
    "    if rule.lift > 1.01 or rule.lift < 0.99:\n",
    "        res.append(rule)\n",
    "for i in sorted(res, key=lambda rule: rule.lift):\n",
    "    print (i)"
   ]
  },
  {
   "cell_type": "markdown",
   "metadata": {},
   "source": [
    "## PCA"
   ]
  },
  {
   "cell_type": "code",
   "execution_count": 30,
   "metadata": {},
   "outputs": [],
   "source": [
    "from sklearn.decomposition import PCA\n",
    "from sklearn.preprocessing import StandardScaler\n",
    "from mpl_toolkits.mplot3d import Axes3D\n",
    "import numpy as np"
   ]
  },
  {
   "cell_type": "code",
   "execution_count": 31,
   "metadata": {},
   "outputs": [
    {
     "data": {
      "text/html": [
       "<div>\n",
       "<style scoped>\n",
       "    .dataframe tbody tr th:only-of-type {\n",
       "        vertical-align: middle;\n",
       "    }\n",
       "\n",
       "    .dataframe tbody tr th {\n",
       "        vertical-align: top;\n",
       "    }\n",
       "\n",
       "    .dataframe thead th {\n",
       "        text-align: right;\n",
       "    }\n",
       "</style>\n",
       "<table border=\"1\" class=\"dataframe\">\n",
       "  <thead>\n",
       "    <tr style=\"text-align: right;\">\n",
       "      <th></th>\n",
       "      <th>age</th>\n",
       "      <th>sex</th>\n",
       "      <th>cp</th>\n",
       "      <th>trestbps</th>\n",
       "      <th>chol</th>\n",
       "      <th>fbs</th>\n",
       "      <th>restecg</th>\n",
       "      <th>thalach</th>\n",
       "      <th>exang</th>\n",
       "      <th>oldpeak</th>\n",
       "      <th>slope</th>\n",
       "      <th>ca</th>\n",
       "      <th>thal</th>\n",
       "      <th>target</th>\n",
       "      <th>age_bining</th>\n",
       "      <th>trestbps_bining</th>\n",
       "      <th>chol_bining</th>\n",
       "      <th>thalach_bining</th>\n",
       "      <th>oldpeak_bining</th>\n",
       "    </tr>\n",
       "  </thead>\n",
       "  <tbody>\n",
       "    <tr>\n",
       "      <th>0</th>\n",
       "      <td>67.0</td>\n",
       "      <td>Male</td>\n",
       "      <td>cp = 4.0</td>\n",
       "      <td>160.0</td>\n",
       "      <td>286.0</td>\n",
       "      <td>fbs = 0</td>\n",
       "      <td>restecg = 2</td>\n",
       "      <td>108.0</td>\n",
       "      <td>exang = 1</td>\n",
       "      <td>1.5</td>\n",
       "      <td>slope = 2</td>\n",
       "      <td>ca = 3</td>\n",
       "      <td>thal = 3</td>\n",
       "      <td>2</td>\n",
       "      <td>Age in [59,68]</td>\n",
       "      <td>trestbps in [141,200]</td>\n",
       "      <td>chol in [248,564]</td>\n",
       "      <td>thalach in [71,140]</td>\n",
       "      <td>oldpeak in [1.1,2]</td>\n",
       "    </tr>\n",
       "    <tr>\n",
       "      <th>1</th>\n",
       "      <td>67.0</td>\n",
       "      <td>Male</td>\n",
       "      <td>cp = 4.0</td>\n",
       "      <td>120.0</td>\n",
       "      <td>229.0</td>\n",
       "      <td>fbs = 0</td>\n",
       "      <td>restecg = 2</td>\n",
       "      <td>129.0</td>\n",
       "      <td>exang = 1</td>\n",
       "      <td>2.6</td>\n",
       "      <td>slope = 2</td>\n",
       "      <td>ca = 2</td>\n",
       "      <td>thal = 7</td>\n",
       "      <td>1</td>\n",
       "      <td>Age in [59,68]</td>\n",
       "      <td>trestbps in [90,120]</td>\n",
       "      <td>chol in [194,247]</td>\n",
       "      <td>thalach in [71,140]</td>\n",
       "      <td>oldpeak in [2.1,6.2]</td>\n",
       "    </tr>\n",
       "    <tr>\n",
       "      <th>2</th>\n",
       "      <td>37.0</td>\n",
       "      <td>Male</td>\n",
       "      <td>cp = 3.0</td>\n",
       "      <td>130.0</td>\n",
       "      <td>250.0</td>\n",
       "      <td>fbs = 0</td>\n",
       "      <td>restecg = 0</td>\n",
       "      <td>187.0</td>\n",
       "      <td>exang = 0</td>\n",
       "      <td>3.5</td>\n",
       "      <td>slope = 3</td>\n",
       "      <td>ca = 0</td>\n",
       "      <td>thal = 3</td>\n",
       "      <td>0</td>\n",
       "      <td>Age in [29,38]</td>\n",
       "      <td>trestbps in [121,140]</td>\n",
       "      <td>chol in [248,564]</td>\n",
       "      <td>thalach in [181,202]</td>\n",
       "      <td>oldpeak in [2.1,6.2]</td>\n",
       "    </tr>\n",
       "    <tr>\n",
       "      <th>3</th>\n",
       "      <td>41.0</td>\n",
       "      <td>Female</td>\n",
       "      <td>cp = 2.0</td>\n",
       "      <td>130.0</td>\n",
       "      <td>204.0</td>\n",
       "      <td>fbs = 0</td>\n",
       "      <td>restecg = 2</td>\n",
       "      <td>172.0</td>\n",
       "      <td>exang = 0</td>\n",
       "      <td>1.4</td>\n",
       "      <td>slope = 1</td>\n",
       "      <td>ca = 0</td>\n",
       "      <td>thal = 3</td>\n",
       "      <td>0</td>\n",
       "      <td>Age in [39,48]</td>\n",
       "      <td>trestbps in [121,140]</td>\n",
       "      <td>chol in [194,247]</td>\n",
       "      <td>thalach in [161,180]</td>\n",
       "      <td>oldpeak in [1.1,2]</td>\n",
       "    </tr>\n",
       "    <tr>\n",
       "      <th>4</th>\n",
       "      <td>56.0</td>\n",
       "      <td>Male</td>\n",
       "      <td>cp = 2.0</td>\n",
       "      <td>120.0</td>\n",
       "      <td>236.0</td>\n",
       "      <td>fbs = 0</td>\n",
       "      <td>restecg = 0</td>\n",
       "      <td>178.0</td>\n",
       "      <td>exang = 0</td>\n",
       "      <td>0.8</td>\n",
       "      <td>slope = 1</td>\n",
       "      <td>ca = 0</td>\n",
       "      <td>thal = 3</td>\n",
       "      <td>0</td>\n",
       "      <td>Age in [49,58]</td>\n",
       "      <td>trestbps in [90,120]</td>\n",
       "      <td>chol in [194,247]</td>\n",
       "      <td>thalach in [161,180]</td>\n",
       "      <td>oldpeak in [0.6,1]</td>\n",
       "    </tr>\n",
       "  </tbody>\n",
       "</table>\n",
       "</div>"
      ],
      "text/plain": [
       "    age     sex        cp  trestbps   chol      fbs      restecg  thalach  \\\n",
       "0  67.0    Male  cp = 4.0     160.0  286.0  fbs = 0  restecg = 2    108.0   \n",
       "1  67.0    Male  cp = 4.0     120.0  229.0  fbs = 0  restecg = 2    129.0   \n",
       "2  37.0    Male  cp = 3.0     130.0  250.0  fbs = 0  restecg = 0    187.0   \n",
       "3  41.0  Female  cp = 2.0     130.0  204.0  fbs = 0  restecg = 2    172.0   \n",
       "4  56.0    Male  cp = 2.0     120.0  236.0  fbs = 0  restecg = 0    178.0   \n",
       "\n",
       "       exang  oldpeak      slope      ca      thal  target      age_bining  \\\n",
       "0  exang = 1      1.5  slope = 2  ca = 3  thal = 3       2  Age in [59,68]   \n",
       "1  exang = 1      2.6  slope = 2  ca = 2  thal = 7       1  Age in [59,68]   \n",
       "2  exang = 0      3.5  slope = 3  ca = 0  thal = 3       0  Age in [29,38]   \n",
       "3  exang = 0      1.4  slope = 1  ca = 0  thal = 3       0  Age in [39,48]   \n",
       "4  exang = 0      0.8  slope = 1  ca = 0  thal = 3       0  Age in [49,58]   \n",
       "\n",
       "         trestbps_bining        chol_bining        thalach_bining  \\\n",
       "0  trestbps in [141,200]  chol in [248,564]   thalach in [71,140]   \n",
       "1   trestbps in [90,120]  chol in [194,247]   thalach in [71,140]   \n",
       "2  trestbps in [121,140]  chol in [248,564]  thalach in [181,202]   \n",
       "3  trestbps in [121,140]  chol in [194,247]  thalach in [161,180]   \n",
       "4   trestbps in [90,120]  chol in [194,247]  thalach in [161,180]   \n",
       "\n",
       "         oldpeak_bining  \n",
       "0    oldpeak in [1.1,2]  \n",
       "1  oldpeak in [2.1,6.2]  \n",
       "2  oldpeak in [2.1,6.2]  \n",
       "3    oldpeak in [1.1,2]  \n",
       "4    oldpeak in [0.6,1]  "
      ]
     },
     "execution_count": 31,
     "metadata": {},
     "output_type": "execute_result"
    }
   ],
   "source": [
    "data.head()"
   ]
  },
  {
   "cell_type": "code",
   "execution_count": 32,
   "metadata": {},
   "outputs": [],
   "source": [
    "def target_tran(x):\n",
    "    if x ==0:\n",
    "        return 0\n",
    "    else:\n",
    "        return 1"
   ]
  },
  {
   "cell_type": "code",
   "execution_count": 33,
   "metadata": {},
   "outputs": [],
   "source": [
    "heart_data = data[['age','sex','cp',\"trestbps\",\"chol\",\"fbs\",\"restecg\",\"thalach\",\"exang\",\"oldpeak\",\"slope\",\"ca\",\"thal\"]]\n",
    "heart_data_with_target = heart_data.join(data['target'])"
   ]
  },
  {
   "cell_type": "code",
   "execution_count": 34,
   "metadata": {},
   "outputs": [
    {
     "data": {
      "text/html": [
       "<div>\n",
       "<style scoped>\n",
       "    .dataframe tbody tr th:only-of-type {\n",
       "        vertical-align: middle;\n",
       "    }\n",
       "\n",
       "    .dataframe tbody tr th {\n",
       "        vertical-align: top;\n",
       "    }\n",
       "\n",
       "    .dataframe thead th {\n",
       "        text-align: right;\n",
       "    }\n",
       "</style>\n",
       "<table border=\"1\" class=\"dataframe\">\n",
       "  <thead>\n",
       "    <tr style=\"text-align: right;\">\n",
       "      <th></th>\n",
       "      <th>sex_Female</th>\n",
       "      <th>sex_Male</th>\n",
       "      <th>cp_cp = 1.0</th>\n",
       "      <th>cp_cp = 2.0</th>\n",
       "      <th>cp_cp = 3.0</th>\n",
       "      <th>cp_cp = 4.0</th>\n",
       "      <th>fbs_fbs = 0</th>\n",
       "      <th>fbs_fbs = 1</th>\n",
       "      <th>restecg_restecg = 0</th>\n",
       "      <th>restecg_restecg = 1</th>\n",
       "      <th>...</th>\n",
       "      <th>slope_slope = 3</th>\n",
       "      <th>ca_?</th>\n",
       "      <th>ca_ca = 0</th>\n",
       "      <th>ca_ca = 1</th>\n",
       "      <th>ca_ca = 2</th>\n",
       "      <th>ca_ca = 3</th>\n",
       "      <th>thal_?</th>\n",
       "      <th>thal_thal = 3</th>\n",
       "      <th>thal_thal = 6</th>\n",
       "      <th>thal_thal = 7</th>\n",
       "    </tr>\n",
       "  </thead>\n",
       "  <tbody>\n",
       "    <tr>\n",
       "      <th>0</th>\n",
       "      <td>0</td>\n",
       "      <td>1</td>\n",
       "      <td>0</td>\n",
       "      <td>0</td>\n",
       "      <td>0</td>\n",
       "      <td>1</td>\n",
       "      <td>1</td>\n",
       "      <td>0</td>\n",
       "      <td>0</td>\n",
       "      <td>0</td>\n",
       "      <td>...</td>\n",
       "      <td>0</td>\n",
       "      <td>0</td>\n",
       "      <td>0</td>\n",
       "      <td>0</td>\n",
       "      <td>0</td>\n",
       "      <td>1</td>\n",
       "      <td>0</td>\n",
       "      <td>1</td>\n",
       "      <td>0</td>\n",
       "      <td>0</td>\n",
       "    </tr>\n",
       "    <tr>\n",
       "      <th>1</th>\n",
       "      <td>0</td>\n",
       "      <td>1</td>\n",
       "      <td>0</td>\n",
       "      <td>0</td>\n",
       "      <td>0</td>\n",
       "      <td>1</td>\n",
       "      <td>1</td>\n",
       "      <td>0</td>\n",
       "      <td>0</td>\n",
       "      <td>0</td>\n",
       "      <td>...</td>\n",
       "      <td>0</td>\n",
       "      <td>0</td>\n",
       "      <td>0</td>\n",
       "      <td>0</td>\n",
       "      <td>1</td>\n",
       "      <td>0</td>\n",
       "      <td>0</td>\n",
       "      <td>0</td>\n",
       "      <td>0</td>\n",
       "      <td>1</td>\n",
       "    </tr>\n",
       "    <tr>\n",
       "      <th>2</th>\n",
       "      <td>0</td>\n",
       "      <td>1</td>\n",
       "      <td>0</td>\n",
       "      <td>0</td>\n",
       "      <td>1</td>\n",
       "      <td>0</td>\n",
       "      <td>1</td>\n",
       "      <td>0</td>\n",
       "      <td>1</td>\n",
       "      <td>0</td>\n",
       "      <td>...</td>\n",
       "      <td>1</td>\n",
       "      <td>0</td>\n",
       "      <td>1</td>\n",
       "      <td>0</td>\n",
       "      <td>0</td>\n",
       "      <td>0</td>\n",
       "      <td>0</td>\n",
       "      <td>1</td>\n",
       "      <td>0</td>\n",
       "      <td>0</td>\n",
       "    </tr>\n",
       "    <tr>\n",
       "      <th>3</th>\n",
       "      <td>1</td>\n",
       "      <td>0</td>\n",
       "      <td>0</td>\n",
       "      <td>1</td>\n",
       "      <td>0</td>\n",
       "      <td>0</td>\n",
       "      <td>1</td>\n",
       "      <td>0</td>\n",
       "      <td>0</td>\n",
       "      <td>0</td>\n",
       "      <td>...</td>\n",
       "      <td>0</td>\n",
       "      <td>0</td>\n",
       "      <td>1</td>\n",
       "      <td>0</td>\n",
       "      <td>0</td>\n",
       "      <td>0</td>\n",
       "      <td>0</td>\n",
       "      <td>1</td>\n",
       "      <td>0</td>\n",
       "      <td>0</td>\n",
       "    </tr>\n",
       "    <tr>\n",
       "      <th>4</th>\n",
       "      <td>0</td>\n",
       "      <td>1</td>\n",
       "      <td>0</td>\n",
       "      <td>1</td>\n",
       "      <td>0</td>\n",
       "      <td>0</td>\n",
       "      <td>1</td>\n",
       "      <td>0</td>\n",
       "      <td>1</td>\n",
       "      <td>0</td>\n",
       "      <td>...</td>\n",
       "      <td>0</td>\n",
       "      <td>0</td>\n",
       "      <td>1</td>\n",
       "      <td>0</td>\n",
       "      <td>0</td>\n",
       "      <td>0</td>\n",
       "      <td>0</td>\n",
       "      <td>1</td>\n",
       "      <td>0</td>\n",
       "      <td>0</td>\n",
       "    </tr>\n",
       "  </tbody>\n",
       "</table>\n",
       "<p>5 rows × 25 columns</p>\n",
       "</div>"
      ],
      "text/plain": [
       "   sex_Female  sex_Male  cp_cp = 1.0  cp_cp = 2.0  cp_cp = 3.0  cp_cp = 4.0  \\\n",
       "0           0         1            0            0            0            1   \n",
       "1           0         1            0            0            0            1   \n",
       "2           0         1            0            0            1            0   \n",
       "3           1         0            0            1            0            0   \n",
       "4           0         1            0            1            0            0   \n",
       "\n",
       "   fbs_fbs = 0  fbs_fbs = 1  restecg_restecg = 0  restecg_restecg = 1  ...  \\\n",
       "0            1            0                    0                    0  ...   \n",
       "1            1            0                    0                    0  ...   \n",
       "2            1            0                    1                    0  ...   \n",
       "3            1            0                    0                    0  ...   \n",
       "4            1            0                    1                    0  ...   \n",
       "\n",
       "   slope_slope = 3  ca_?  ca_ca = 0  ca_ca = 1  ca_ca = 2  ca_ca = 3  thal_?  \\\n",
       "0                0     0          0          0          0          1       0   \n",
       "1                0     0          0          0          1          0       0   \n",
       "2                1     0          1          0          0          0       0   \n",
       "3                0     0          1          0          0          0       0   \n",
       "4                0     0          1          0          0          0       0   \n",
       "\n",
       "   thal_thal = 3  thal_thal = 6  thal_thal = 7  \n",
       "0              1              0              0  \n",
       "1              0              0              1  \n",
       "2              1              0              0  \n",
       "3              1              0              0  \n",
       "4              1              0              0  \n",
       "\n",
       "[5 rows x 25 columns]"
      ]
     },
     "execution_count": 34,
     "metadata": {},
     "output_type": "execute_result"
    }
   ],
   "source": [
    "# onehot\n",
    "heart_categorical = data[['sex','cp','fbs','restecg','exang','slope','ca','thal']]\n",
    "heart_onehot = pd.get_dummies(heart_categorical)\n",
    "heart_onehot.head()"
   ]
  },
  {
   "cell_type": "code",
   "execution_count": 35,
   "metadata": {},
   "outputs": [
    {
     "data": {
      "text/html": [
       "<div>\n",
       "<style scoped>\n",
       "    .dataframe tbody tr th:only-of-type {\n",
       "        vertical-align: middle;\n",
       "    }\n",
       "\n",
       "    .dataframe tbody tr th {\n",
       "        vertical-align: top;\n",
       "    }\n",
       "\n",
       "    .dataframe thead th {\n",
       "        text-align: right;\n",
       "    }\n",
       "</style>\n",
       "<table border=\"1\" class=\"dataframe\">\n",
       "  <thead>\n",
       "    <tr style=\"text-align: right;\">\n",
       "      <th></th>\n",
       "      <th>age</th>\n",
       "      <th>trestbps</th>\n",
       "      <th>chol</th>\n",
       "      <th>thalach</th>\n",
       "      <th>oldpeak</th>\n",
       "      <th>sex_Female</th>\n",
       "      <th>sex_Male</th>\n",
       "      <th>cp_cp = 1.0</th>\n",
       "      <th>cp_cp = 2.0</th>\n",
       "      <th>cp_cp = 3.0</th>\n",
       "      <th>...</th>\n",
       "      <th>slope_slope = 3</th>\n",
       "      <th>ca_?</th>\n",
       "      <th>ca_ca = 0</th>\n",
       "      <th>ca_ca = 1</th>\n",
       "      <th>ca_ca = 2</th>\n",
       "      <th>ca_ca = 3</th>\n",
       "      <th>thal_?</th>\n",
       "      <th>thal_thal = 3</th>\n",
       "      <th>thal_thal = 6</th>\n",
       "      <th>thal_thal = 7</th>\n",
       "    </tr>\n",
       "  </thead>\n",
       "  <tbody>\n",
       "    <tr>\n",
       "      <th>0</th>\n",
       "      <td>1.394920</td>\n",
       "      <td>1.612596</td>\n",
       "      <td>0.758372</td>\n",
       "      <td>-1.818840</td>\n",
       "      <td>0.400906</td>\n",
       "      <td>-0.687874</td>\n",
       "      <td>0.687874</td>\n",
       "      <td>-0.280306</td>\n",
       "      <td>-0.445435</td>\n",
       "      <td>-0.630990</td>\n",
       "      <td>...</td>\n",
       "      <td>-0.266312</td>\n",
       "      <td>-0.115857</td>\n",
       "      <td>-1.173862</td>\n",
       "      <td>-0.5237</td>\n",
       "      <td>-0.379393</td>\n",
       "      <td>3.754997</td>\n",
       "      <td>-0.08165</td>\n",
       "      <td>0.905139</td>\n",
       "      <td>-0.244232</td>\n",
       "      <td>-0.795256</td>\n",
       "    </tr>\n",
       "    <tr>\n",
       "      <th>1</th>\n",
       "      <td>1.394920</td>\n",
       "      <td>-0.662326</td>\n",
       "      <td>-0.342633</td>\n",
       "      <td>-0.900807</td>\n",
       "      <td>1.350164</td>\n",
       "      <td>-0.687874</td>\n",
       "      <td>0.687874</td>\n",
       "      <td>-0.280306</td>\n",
       "      <td>-0.445435</td>\n",
       "      <td>-0.630990</td>\n",
       "      <td>...</td>\n",
       "      <td>-0.266312</td>\n",
       "      <td>-0.115857</td>\n",
       "      <td>-1.173862</td>\n",
       "      <td>-0.5237</td>\n",
       "      <td>2.635786</td>\n",
       "      <td>-0.266312</td>\n",
       "      <td>-0.08165</td>\n",
       "      <td>-1.104802</td>\n",
       "      <td>-0.244232</td>\n",
       "      <td>1.257456</td>\n",
       "    </tr>\n",
       "    <tr>\n",
       "      <th>2</th>\n",
       "      <td>-1.929113</td>\n",
       "      <td>-0.093596</td>\n",
       "      <td>0.063000</td>\n",
       "      <td>1.634713</td>\n",
       "      <td>2.126829</td>\n",
       "      <td>-0.687874</td>\n",
       "      <td>0.687874</td>\n",
       "      <td>-0.280306</td>\n",
       "      <td>-0.445435</td>\n",
       "      <td>1.584812</td>\n",
       "      <td>...</td>\n",
       "      <td>3.754997</td>\n",
       "      <td>-0.115857</td>\n",
       "      <td>0.851889</td>\n",
       "      <td>-0.5237</td>\n",
       "      <td>-0.379393</td>\n",
       "      <td>-0.266312</td>\n",
       "      <td>-0.08165</td>\n",
       "      <td>0.905139</td>\n",
       "      <td>-0.244232</td>\n",
       "      <td>-0.795256</td>\n",
       "    </tr>\n",
       "    <tr>\n",
       "      <th>3</th>\n",
       "      <td>-1.485908</td>\n",
       "      <td>-0.093596</td>\n",
       "      <td>-0.825530</td>\n",
       "      <td>0.978975</td>\n",
       "      <td>0.314610</td>\n",
       "      <td>1.453754</td>\n",
       "      <td>-1.453754</td>\n",
       "      <td>-0.280306</td>\n",
       "      <td>2.244994</td>\n",
       "      <td>-0.630990</td>\n",
       "      <td>...</td>\n",
       "      <td>-0.266312</td>\n",
       "      <td>-0.115857</td>\n",
       "      <td>0.851889</td>\n",
       "      <td>-0.5237</td>\n",
       "      <td>-0.379393</td>\n",
       "      <td>-0.266312</td>\n",
       "      <td>-0.08165</td>\n",
       "      <td>0.905139</td>\n",
       "      <td>-0.244232</td>\n",
       "      <td>-0.795256</td>\n",
       "    </tr>\n",
       "    <tr>\n",
       "      <th>4</th>\n",
       "      <td>0.176108</td>\n",
       "      <td>-0.662326</td>\n",
       "      <td>-0.207422</td>\n",
       "      <td>1.241270</td>\n",
       "      <td>-0.203167</td>\n",
       "      <td>-0.687874</td>\n",
       "      <td>0.687874</td>\n",
       "      <td>-0.280306</td>\n",
       "      <td>2.244994</td>\n",
       "      <td>-0.630990</td>\n",
       "      <td>...</td>\n",
       "      <td>-0.266312</td>\n",
       "      <td>-0.115857</td>\n",
       "      <td>0.851889</td>\n",
       "      <td>-0.5237</td>\n",
       "      <td>-0.379393</td>\n",
       "      <td>-0.266312</td>\n",
       "      <td>-0.08165</td>\n",
       "      <td>0.905139</td>\n",
       "      <td>-0.244232</td>\n",
       "      <td>-0.795256</td>\n",
       "    </tr>\n",
       "  </tbody>\n",
       "</table>\n",
       "<p>5 rows × 30 columns</p>\n",
       "</div>"
      ],
      "text/plain": [
       "        age  trestbps      chol   thalach   oldpeak  sex_Female  sex_Male  \\\n",
       "0  1.394920  1.612596  0.758372 -1.818840  0.400906   -0.687874  0.687874   \n",
       "1  1.394920 -0.662326 -0.342633 -0.900807  1.350164   -0.687874  0.687874   \n",
       "2 -1.929113 -0.093596  0.063000  1.634713  2.126829   -0.687874  0.687874   \n",
       "3 -1.485908 -0.093596 -0.825530  0.978975  0.314610    1.453754 -1.453754   \n",
       "4  0.176108 -0.662326 -0.207422  1.241270 -0.203167   -0.687874  0.687874   \n",
       "\n",
       "   cp_cp = 1.0  cp_cp = 2.0  cp_cp = 3.0  ...  slope_slope = 3      ca_?  \\\n",
       "0    -0.280306    -0.445435    -0.630990  ...        -0.266312 -0.115857   \n",
       "1    -0.280306    -0.445435    -0.630990  ...        -0.266312 -0.115857   \n",
       "2    -0.280306    -0.445435     1.584812  ...         3.754997 -0.115857   \n",
       "3    -0.280306     2.244994    -0.630990  ...        -0.266312 -0.115857   \n",
       "4    -0.280306     2.244994    -0.630990  ...        -0.266312 -0.115857   \n",
       "\n",
       "   ca_ca = 0  ca_ca = 1  ca_ca = 2  ca_ca = 3   thal_?  thal_thal = 3  \\\n",
       "0  -1.173862    -0.5237  -0.379393   3.754997 -0.08165       0.905139   \n",
       "1  -1.173862    -0.5237   2.635786  -0.266312 -0.08165      -1.104802   \n",
       "2   0.851889    -0.5237  -0.379393  -0.266312 -0.08165       0.905139   \n",
       "3   0.851889    -0.5237  -0.379393  -0.266312 -0.08165       0.905139   \n",
       "4   0.851889    -0.5237  -0.379393  -0.266312 -0.08165       0.905139   \n",
       "\n",
       "   thal_thal = 6  thal_thal = 7  \n",
       "0      -0.244232      -0.795256  \n",
       "1      -0.244232       1.257456  \n",
       "2      -0.244232      -0.795256  \n",
       "3      -0.244232      -0.795256  \n",
       "4      -0.244232      -0.795256  \n",
       "\n",
       "[5 rows x 30 columns]"
      ]
     },
     "execution_count": 35,
     "metadata": {},
     "output_type": "execute_result"
    }
   ],
   "source": [
    "# 标准化\n",
    "heart_data = pd.merge(data[['age','trestbps','chol','thalach','oldpeak']],heart_onehot,left_index=True,right_index=True)\n",
    "std_scaler = StandardScaler()\n",
    "heart_std = pd.DataFrame(std_scaler.fit_transform(heart_data),columns=heart_data.columns)\n",
    "heart_std.head()"
   ]
  },
  {
   "cell_type": "code",
   "execution_count": 41,
   "metadata": {},
   "outputs": [],
   "source": [
    "n_component = 10\n",
    "pca = PCA(n_components = n_component).fit(heart_std)\n",
    "heart_pca = pca.transform(heart_std)"
   ]
  },
  {
   "cell_type": "code",
   "execution_count": 42,
   "metadata": {},
   "outputs": [
    {
     "data": {
      "text/html": [
       "<div>\n",
       "<style scoped>\n",
       "    .dataframe tbody tr th:only-of-type {\n",
       "        vertical-align: middle;\n",
       "    }\n",
       "\n",
       "    .dataframe tbody tr th {\n",
       "        vertical-align: top;\n",
       "    }\n",
       "\n",
       "    .dataframe thead th {\n",
       "        text-align: right;\n",
       "    }\n",
       "</style>\n",
       "<table border=\"1\" class=\"dataframe\">\n",
       "  <thead>\n",
       "    <tr style=\"text-align: right;\">\n",
       "      <th></th>\n",
       "      <th>component_0</th>\n",
       "      <th>component_1</th>\n",
       "      <th>component_2</th>\n",
       "      <th>component_3</th>\n",
       "      <th>component_4</th>\n",
       "      <th>component_5</th>\n",
       "      <th>component_6</th>\n",
       "      <th>component_7</th>\n",
       "      <th>component_8</th>\n",
       "      <th>component_9</th>\n",
       "      <th>target</th>\n",
       "    </tr>\n",
       "  </thead>\n",
       "  <tbody>\n",
       "    <tr>\n",
       "      <th>0</th>\n",
       "      <td>3.343815</td>\n",
       "      <td>1.668580</td>\n",
       "      <td>-0.367418</td>\n",
       "      <td>-1.159321</td>\n",
       "      <td>-0.204284</td>\n",
       "      <td>-0.463437</td>\n",
       "      <td>0.120100</td>\n",
       "      <td>-0.090451</td>\n",
       "      <td>0.957024</td>\n",
       "      <td>-1.702631</td>\n",
       "      <td>1</td>\n",
       "    </tr>\n",
       "    <tr>\n",
       "      <th>1</th>\n",
       "      <td>4.187247</td>\n",
       "      <td>0.015417</td>\n",
       "      <td>-0.480686</td>\n",
       "      <td>-0.781074</td>\n",
       "      <td>-0.504664</td>\n",
       "      <td>0.413163</td>\n",
       "      <td>-0.805522</td>\n",
       "      <td>0.705428</td>\n",
       "      <td>-0.833142</td>\n",
       "      <td>0.339906</td>\n",
       "      <td>1</td>\n",
       "    </tr>\n",
       "    <tr>\n",
       "      <th>2</th>\n",
       "      <td>-1.717455</td>\n",
       "      <td>-1.176720</td>\n",
       "      <td>-0.043304</td>\n",
       "      <td>0.862700</td>\n",
       "      <td>3.398630</td>\n",
       "      <td>-0.186777</td>\n",
       "      <td>-0.318630</td>\n",
       "      <td>-2.095219</td>\n",
       "      <td>1.829689</td>\n",
       "      <td>0.977251</td>\n",
       "      <td>0</td>\n",
       "    </tr>\n",
       "    <tr>\n",
       "      <th>3</th>\n",
       "      <td>-3.083082</td>\n",
       "      <td>1.076118</td>\n",
       "      <td>-0.597703</td>\n",
       "      <td>-1.520568</td>\n",
       "      <td>0.446424</td>\n",
       "      <td>1.124186</td>\n",
       "      <td>-0.119813</td>\n",
       "      <td>0.554496</td>\n",
       "      <td>0.242036</td>\n",
       "      <td>-0.504037</td>\n",
       "      <td>0</td>\n",
       "    </tr>\n",
       "    <tr>\n",
       "      <th>4</th>\n",
       "      <td>-2.914491</td>\n",
       "      <td>-1.633781</td>\n",
       "      <td>-0.232058</td>\n",
       "      <td>-0.208622</td>\n",
       "      <td>-0.082637</td>\n",
       "      <td>0.378740</td>\n",
       "      <td>-0.951561</td>\n",
       "      <td>0.728212</td>\n",
       "      <td>0.604713</td>\n",
       "      <td>-0.391998</td>\n",
       "      <td>0</td>\n",
       "    </tr>\n",
       "  </tbody>\n",
       "</table>\n",
       "</div>"
      ],
      "text/plain": [
       "   component_0  component_1  component_2  component_3  component_4  \\\n",
       "0     3.343815     1.668580    -0.367418    -1.159321    -0.204284   \n",
       "1     4.187247     0.015417    -0.480686    -0.781074    -0.504664   \n",
       "2    -1.717455    -1.176720    -0.043304     0.862700     3.398630   \n",
       "3    -3.083082     1.076118    -0.597703    -1.520568     0.446424   \n",
       "4    -2.914491    -1.633781    -0.232058    -0.208622    -0.082637   \n",
       "\n",
       "   component_5  component_6  component_7  component_8  component_9  target  \n",
       "0    -0.463437     0.120100    -0.090451     0.957024    -1.702631       1  \n",
       "1     0.413163    -0.805522     0.705428    -0.833142     0.339906       1  \n",
       "2    -0.186777    -0.318630    -2.095219     1.829689     0.977251       0  \n",
       "3     1.124186    -0.119813     0.554496     0.242036    -0.504037       0  \n",
       "4     0.378740    -0.951561     0.728212     0.604713    -0.391998       0  "
      ]
     },
     "execution_count": 42,
     "metadata": {},
     "output_type": "execute_result"
    }
   ],
   "source": [
    "heart_pca_backup = heart_pca.copy()\n",
    "heart_pca_with_target=pd.DataFrame(heart_pca,columns=['component_'+str(i) for i in range(heart_pca.shape[1])]).join(data['target'].apply(target_tran))\n",
    "# heart_pca_with_target=pd.DataFrame(heart_pca,columns=['component_'+str(i) for i in range(heart_pca.shape[1])]).join(data['target'])\n",
    "heart_pca_with_target.head()"
   ]
  },
  {
   "cell_type": "code",
   "execution_count": 43,
   "metadata": {},
   "outputs": [
    {
     "data": {
      "text/plain": [
       "[<matplotlib.lines.Line2D at 0x130501950>]"
      ]
     },
     "execution_count": 43,
     "metadata": {},
     "output_type": "execute_result"
    },
    {
     "data": {
      "image/png": "[encoded data removed]",
      "text/plain": [
       "<Figure size 432x288 with 1 Axes>"
      ]
     },
     "metadata": {},
     "output_type": "display_data"
    }
   ],
   "source": [
    "cumsum = np.cumsum(pca.explained_variance_ratio_)\n",
    "plt.plot(cumsum)"
   ]
  },
  {
   "cell_type": "code",
   "execution_count": 44,
   "metadata": {},
   "outputs": [
    {
     "data": {
      "text/html": [
       "<div>\n",
       "<style scoped>\n",
       "    .dataframe tbody tr th:only-of-type {\n",
       "        vertical-align: middle;\n",
       "    }\n",
       "\n",
       "    .dataframe tbody tr th {\n",
       "        vertical-align: top;\n",
       "    }\n",
       "\n",
       "    .dataframe thead th {\n",
       "        text-align: right;\n",
       "    }\n",
       "</style>\n",
       "<table border=\"1\" class=\"dataframe\">\n",
       "  <thead>\n",
       "    <tr style=\"text-align: right;\">\n",
       "      <th></th>\n",
       "      <th>level_1</th>\n",
       "      <th>value</th>\n",
       "      <th>component</th>\n",
       "    </tr>\n",
       "  </thead>\n",
       "  <tbody>\n",
       "    <tr>\n",
       "      <th>0</th>\n",
       "      <td>age</td>\n",
       "      <td>0.167279</td>\n",
       "      <td>0</td>\n",
       "    </tr>\n",
       "    <tr>\n",
       "      <th>0</th>\n",
       "      <td>trestbps</td>\n",
       "      <td>0.090297</td>\n",
       "      <td>0</td>\n",
       "    </tr>\n",
       "    <tr>\n",
       "      <th>0</th>\n",
       "      <td>chol</td>\n",
       "      <td>0.042491</td>\n",
       "      <td>0</td>\n",
       "    </tr>\n",
       "    <tr>\n",
       "      <th>0</th>\n",
       "      <td>thalach</td>\n",
       "      <td>-0.280639</td>\n",
       "      <td>0</td>\n",
       "    </tr>\n",
       "    <tr>\n",
       "      <th>0</th>\n",
       "      <td>oldpeak</td>\n",
       "      <td>0.269912</td>\n",
       "      <td>0</td>\n",
       "    </tr>\n",
       "  </tbody>\n",
       "</table>\n",
       "</div>"
      ],
      "text/plain": [
       "    level_1     value  component\n",
       "0       age  0.167279          0\n",
       "0  trestbps  0.090297          0\n",
       "0      chol  0.042491          0\n",
       "0   thalach -0.280639          0\n",
       "0   oldpeak  0.269912          0"
      ]
     },
     "execution_count": 44,
     "metadata": {},
     "output_type": "execute_result"
    }
   ],
   "source": [
    "pca_component=pd.DataFrame(pca.components_,columns=heart_data.columns)\n",
    "pca_stack=pd.DataFrame(pca_component.stack(),columns=['value']).reset_index(level=1)\n",
    "pca_stack['component']= pca_stack.index\n",
    "pca_stack.head()"
   ]
  },
  {
   "cell_type": "code",
   "execution_count": 45,
   "metadata": {},
   "outputs": [
    {
     "data": {
      "text/plain": [
       "<matplotlib.axes._subplots.AxesSubplot at 0x130558a10>"
      ]
     },
     "execution_count": 45,
     "metadata": {},
     "output_type": "execute_result"
    },
    {
     "data": {
      "image/png": "[encoded data removed]",
      "text/plain": [
       "<Figure size 8640x720 with 1 Axes>"
      ]
     },
     "metadata": {},
     "output_type": "display_data"
    }
   ],
   "source": [
    "plt.figure(figsize=(120, 10))\n",
    "sns.set(font_scale=2)\n",
    "sns.barplot(x='level_1',y='value',data=pca_stack,hue='component')\n"
   ]
  },
  {
   "cell_type": "code",
   "execution_count": 46,
   "metadata": {},
   "outputs": [
    {
     "data": {
      "text/plain": [
       "<matplotlib.axes._subplots.AxesSubplot at 0x130b9e950>"
      ]
     },
     "execution_count": 46,
     "metadata": {},
     "output_type": "execute_result"
    },
    {
     "data": {
      "image/png": "[encoded data removed]",
      "text/plain": [
       "<Figure size 432x288 with 1 Axes>"
      ]
     },
     "metadata": {},
     "output_type": "display_data"
    }
   ],
   "source": [
    "sns.set(font_scale=1)\n",
    "sns.scatterplot(heart_pca_with_target['component_0'],heart_pca_with_target['component_1'],hue=heart_pca_with_target['target'])\n",
    "# sns.scatterplot(heart_pca_with_target['component_0'],heart_pca_with_target['component_1'],hue=heart_pca_with_target['target'],size=heart_pca_with_target['component_2'])"
   ]
  },
  {
   "cell_type": "code",
   "execution_count": 47,
   "metadata": {},
   "outputs": [
    {
     "data": {
      "text/plain": [
       "0      blue\n",
       "1      blue\n",
       "2       red\n",
       "3       red\n",
       "4       red\n",
       "       ... \n",
       "297    blue\n",
       "298    blue\n",
       "299    blue\n",
       "300    blue\n",
       "301     red\n",
       "Name: target, Length: 302, dtype: object"
      ]
     },
     "execution_count": 47,
     "metadata": {},
     "output_type": "execute_result"
    }
   ],
   "source": [
    "def color_tran(x):\n",
    "    if x==0:\n",
    "        return 'red'\n",
    "    else:\n",
    "        return 'blue'\n",
    "    \n",
    "heart_pca_with_target['target'].apply(color_tran)"
   ]
  },
  {
   "cell_type": "code",
   "execution_count": 48,
   "metadata": {},
   "outputs": [
    {
     "data": {
      "text/plain": [
       "<mpl_toolkits.mplot3d.art3d.Path3DCollection at 0x130db5f50>"
      ]
     },
     "execution_count": 48,
     "metadata": {},
     "output_type": "execute_result"
    },
    {
     "data": {
      "image/png": "[encoded data removed]",
      "text/plain": [
       "<Figure size 432x288 with 1 Axes>"
      ]
     },
     "metadata": {},
     "output_type": "display_data"
    }
   ],
   "source": [
    "fig = plt.figure()\n",
    "ax = Axes3D(fig)\n",
    "ax.view_init(10,100)\n",
    "ax.scatter(heart_pca_with_target['component_0'],heart_pca_with_target['component_1'],heart_pca_with_target['component_2'],c=heart_pca_with_target['target'].apply(color_tran))"
   ]
  },
  {
   "cell_type": "markdown",
   "metadata": {},
   "source": [
    "# tSNE"
   ]
  },
  {
   "cell_type": "code",
   "execution_count": 49,
   "metadata": {},
   "outputs": [],
   "source": [
    "from sklearn.manifold import TSNE"
   ]
  },
  {
   "cell_type": "code",
   "execution_count": 50,
   "metadata": {},
   "outputs": [],
   "source": [
    "tsne = TSNE(n_components = 2,perplexity = 25)\n",
    "heart_tnse = pd.DataFrame(tsne.fit_transform(heart_data),columns=['component_1','component_2'])"
   ]
  },
  {
   "cell_type": "code",
   "execution_count": 51,
   "metadata": {},
   "outputs": [
    {
     "data": {
      "text/html": [
       "<div>\n",
       "<style scoped>\n",
       "    .dataframe tbody tr th:only-of-type {\n",
       "        vertical-align: middle;\n",
       "    }\n",
       "\n",
       "    .dataframe tbody tr th {\n",
       "        vertical-align: top;\n",
       "    }\n",
       "\n",
       "    .dataframe thead th {\n",
       "        text-align: right;\n",
       "    }\n",
       "</style>\n",
       "<table border=\"1\" class=\"dataframe\">\n",
       "  <thead>\n",
       "    <tr style=\"text-align: right;\">\n",
       "      <th></th>\n",
       "      <th>component_1</th>\n",
       "      <th>component_2</th>\n",
       "      <th>target</th>\n",
       "    </tr>\n",
       "  </thead>\n",
       "  <tbody>\n",
       "    <tr>\n",
       "      <th>0</th>\n",
       "      <td>10.554623</td>\n",
       "      <td>20.205681</td>\n",
       "      <td>2</td>\n",
       "    </tr>\n",
       "    <tr>\n",
       "      <th>1</th>\n",
       "      <td>-5.942561</td>\n",
       "      <td>-18.336103</td>\n",
       "      <td>1</td>\n",
       "    </tr>\n",
       "    <tr>\n",
       "      <th>2</th>\n",
       "      <td>3.312376</td>\n",
       "      <td>-1.855474</td>\n",
       "      <td>0</td>\n",
       "    </tr>\n",
       "    <tr>\n",
       "      <th>3</th>\n",
       "      <td>-13.460400</td>\n",
       "      <td>-5.392415</td>\n",
       "      <td>0</td>\n",
       "    </tr>\n",
       "    <tr>\n",
       "      <th>4</th>\n",
       "      <td>-1.243532</td>\n",
       "      <td>-0.036536</td>\n",
       "      <td>0</td>\n",
       "    </tr>\n",
       "  </tbody>\n",
       "</table>\n",
       "</div>"
      ],
      "text/plain": [
       "   component_1  component_2  target\n",
       "0    10.554623    20.205681       2\n",
       "1    -5.942561   -18.336103       1\n",
       "2     3.312376    -1.855474       0\n",
       "3   -13.460400    -5.392415       0\n",
       "4    -1.243532    -0.036536       0"
      ]
     },
     "execution_count": 51,
     "metadata": {},
     "output_type": "execute_result"
    }
   ],
   "source": [
    "heart_tnse_with_target = heart_tnse.join(data['target'])\n",
    "heart_tnse_with_target.head()"
   ]
  },
  {
   "cell_type": "code",
   "execution_count": 52,
   "metadata": {},
   "outputs": [
    {
     "data": {
      "text/plain": [
       "<matplotlib.axes._subplots.AxesSubplot at 0x131175710>"
      ]
     },
     "execution_count": 52,
     "metadata": {},
     "output_type": "execute_result"
    },
    {
     "data": {
      "image/png": "[encoded data removed]",
      "text/plain": [
       "<Figure size 432x288 with 1 Axes>"
      ]
     },
     "metadata": {},
     "output_type": "display_data"
    }
   ],
   "source": [
    "sns.scatterplot(heart_tnse_with_target['component_1'],heart_tnse_with_target['component_2'],hue=heart_tnse_with_target['target'])"
   ]
  },
  {
   "cell_type": "markdown",
   "metadata": {},
   "source": [
    "# Clustering"
   ]
  },
  {
   "cell_type": "code",
   "execution_count": 53,
   "metadata": {},
   "outputs": [],
   "source": [
    "from sklearn.cluster import KMeans\n",
    "import sklearn.metrics as sm"
   ]
  },
  {
   "cell_type": "code",
   "execution_count": 54,
   "metadata": {},
   "outputs": [
    {
     "name": "stdout",
     "output_type": "stream",
     "text": [
      "[6153.814450190033, 5006.102365512249, 4539.56084561727, 4138.592047110702, 3866.5948835787103, 3695.4259602196225, 3533.1864896970683, 3397.608730496683, 3252.185222845296]\n"
     ]
    },
    {
     "data": {
      "text/plain": [
       "[<matplotlib.lines.Line2D at 0x131485ad0>]"
      ]
     },
     "execution_count": 54,
     "metadata": {},
     "output_type": "execute_result"
    },
    {
     "data": {
      "image/png": "[encoded data removed]",
      "text/plain": [
       "<Figure size 432x288 with 1 Axes>"
      ]
     },
     "metadata": {},
     "output_type": "display_data"
    }
   ],
   "source": [
    "ks=range(1,10)\n",
    "result = [0]*len(ks)\n",
    "for index,i in enumerate(ks):\n",
    "    model = KMeans(n_clusters = i,random_state=1)\n",
    "    model.fit(heart_pca)\n",
    "    result[index]=model.inertia_\n",
    "print(result)\n",
    "plt.plot(result)"
   ]
  },
  {
   "cell_type": "code",
   "execution_count": 55,
   "metadata": {},
   "outputs": [],
   "source": [
    "y_pred = KMeans(n_clusters = 2,random_state=3).fit_predict(heart_pca)"
   ]
  },
  {
   "cell_type": "code",
   "execution_count": 56,
   "metadata": {},
   "outputs": [
    {
     "data": {
      "text/plain": [
       "0.8410596026490066"
      ]
     },
     "execution_count": 56,
     "metadata": {},
     "output_type": "execute_result"
    }
   ],
   "source": [
    "sm.accuracy_score(y_pred,heart_pca_with_target['target'].apply(target_tran))"
   ]
  },
  {
   "cell_type": "code",
   "execution_count": 64,
   "metadata": {},
   "outputs": [
    {
     "data": {
      "text/plain": [
       "[<matplotlib.lines.Line2D at 0x1337daa10>]"
      ]
     },
     "execution_count": 64,
     "metadata": {},
     "output_type": "execute_result"
    },
    {
     "data": {
      "image/png": "[encoded data removed]",
      "text/plain": [
       "<Figure size 432x288 with 1 Axes>"
      ]
     },
     "metadata": {},
     "output_type": "display_data"
    }
   ],
   "source": [
    "n = range(1,10)\n",
    "result = [0]*len(n)\n",
    "for index,i in enumerate(n):\n",
    "    data = [a[0:i] for a in heart_pca]\n",
    "    model = KMeans(n_clusters = 2,random_state=3).fit(data)\n",
    "    y_pred = KMeans(n_clusters = 2,random_state=3).fit_predict(data)\n",
    "    a=sm.accuracy_score(y_pred,heart_pca_with_target['target'].apply(target_tran\n",
    "                                                                    \n",
    "                                                                    ))\n",
    "    if a<0.5:\n",
    "        a=1-a\n",
    "    result[index]=a\n",
    "    \n",
    "plt.ylim(0.83,0.855)\n",
    "plt.plot(n,result)"
   ]
  },
  {
   "cell_type": "code",
   "execution_count": 65,
   "metadata": {},
   "outputs": [],
   "source": [
    "kmeans_result_pca = heart_pca_with_target.copy()\n",
    "kmeans_result_pca['result'] = y_pred"
   ]
  },
  {
   "cell_type": "code",
   "execution_count": 66,
   "metadata": {},
   "outputs": [
    {
     "data": {
      "text/plain": [
       "<mpl_toolkits.mplot3d.art3d.Path3DCollection at 0x1338479d0>"
      ]
     },
     "execution_count": 66,
     "metadata": {},
     "output_type": "execute_result"
    },
    {
     "data": {
      "image/png": "[encoded data removed]",
      "text/plain": [
       "<Figure size 432x288 with 1 Axes>"
      ]
     },
     "metadata": {},
     "output_type": "display_data"
    }
   ],
   "source": [
    "fig = plt.figure()\n",
    "ax = Axes3D(fig)\n",
    "ax.view_init(10,100)\n",
    "ax.scatter(kmeans_result_pca['component_0'],kmeans_result_pca['component_1'],kmeans_result_pca['component_2'],c=kmeans_result_pca['result'].apply(color_tran))"
   ]
  },
  {
   "cell_type": "code",
   "execution_count": 67,
   "metadata": {},
   "outputs": [
    {
     "data": {
      "text/html": [
       "<div>\n",
       "<style scoped>\n",
       "    .dataframe tbody tr th:only-of-type {\n",
       "        vertical-align: middle;\n",
       "    }\n",
       "\n",
       "    .dataframe tbody tr th {\n",
       "        vertical-align: top;\n",
       "    }\n",
       "\n",
       "    .dataframe thead th {\n",
       "        text-align: right;\n",
       "    }\n",
       "</style>\n",
       "<table border=\"1\" class=\"dataframe\">\n",
       "  <thead>\n",
       "    <tr style=\"text-align: right;\">\n",
       "      <th></th>\n",
       "      <th>component_0</th>\n",
       "      <th>component_1</th>\n",
       "      <th>component_2</th>\n",
       "      <th>component_3</th>\n",
       "      <th>component_4</th>\n",
       "      <th>component_5</th>\n",
       "      <th>component_6</th>\n",
       "      <th>component_7</th>\n",
       "      <th>component_8</th>\n",
       "      <th>component_9</th>\n",
       "      <th>target</th>\n",
       "    </tr>\n",
       "    <tr>\n",
       "      <th>result</th>\n",
       "      <th></th>\n",
       "      <th></th>\n",
       "      <th></th>\n",
       "      <th></th>\n",
       "      <th></th>\n",
       "      <th></th>\n",
       "      <th></th>\n",
       "      <th></th>\n",
       "      <th></th>\n",
       "      <th></th>\n",
       "      <th></th>\n",
       "    </tr>\n",
       "  </thead>\n",
       "  <tbody>\n",
       "    <tr>\n",
       "      <th>0</th>\n",
       "      <td>-1.837951</td>\n",
       "      <td>0.149453</td>\n",
       "      <td>0.022307</td>\n",
       "      <td>-0.072967</td>\n",
       "      <td>-0.009191</td>\n",
       "      <td>0.026112</td>\n",
       "      <td>0.036068</td>\n",
       "      <td>-0.041779</td>\n",
       "      <td>0.087274</td>\n",
       "      <td>-0.017137</td>\n",
       "      <td>0.138365</td>\n",
       "    </tr>\n",
       "    <tr>\n",
       "      <th>1</th>\n",
       "      <td>2.043595</td>\n",
       "      <td>-0.166175</td>\n",
       "      <td>-0.024803</td>\n",
       "      <td>0.081131</td>\n",
       "      <td>0.010219</td>\n",
       "      <td>-0.029033</td>\n",
       "      <td>-0.040104</td>\n",
       "      <td>0.046454</td>\n",
       "      <td>-0.097038</td>\n",
       "      <td>0.019054</td>\n",
       "      <td>0.818182</td>\n",
       "    </tr>\n",
       "  </tbody>\n",
       "</table>\n",
       "</div>"
      ],
      "text/plain": [
       "        component_0  component_1  component_2  component_3  component_4  \\\n",
       "result                                                                    \n",
       "0         -1.837951     0.149453     0.022307    -0.072967    -0.009191   \n",
       "1          2.043595    -0.166175    -0.024803     0.081131     0.010219   \n",
       "\n",
       "        component_5  component_6  component_7  component_8  component_9  \\\n",
       "result                                                                    \n",
       "0          0.026112     0.036068    -0.041779     0.087274    -0.017137   \n",
       "1         -0.029033    -0.040104     0.046454    -0.097038     0.019054   \n",
       "\n",
       "          target  \n",
       "result            \n",
       "0       0.138365  \n",
       "1       0.818182  "
      ]
     },
     "execution_count": 67,
     "metadata": {},
     "output_type": "execute_result"
    }
   ],
   "source": [
    "kmeans_result_pca.groupby('result').mean()"
   ]
  },
  {
   "cell_type": "code",
   "execution_count": 68,
   "metadata": {},
   "outputs": [
    {
     "data": {
      "text/html": [
       "<div>\n",
       "<style scoped>\n",
       "    .dataframe tbody tr th:only-of-type {\n",
       "        vertical-align: middle;\n",
       "    }\n",
       "\n",
       "    .dataframe tbody tr th {\n",
       "        vertical-align: top;\n",
       "    }\n",
       "\n",
       "    .dataframe thead th {\n",
       "        text-align: right;\n",
       "    }\n",
       "</style>\n",
       "<table border=\"1\" class=\"dataframe\">\n",
       "  <thead>\n",
       "    <tr style=\"text-align: right;\">\n",
       "      <th></th>\n",
       "      <th>age</th>\n",
       "      <th>trestbps</th>\n",
       "      <th>chol</th>\n",
       "      <th>thalach</th>\n",
       "      <th>oldpeak</th>\n",
       "      <th>target</th>\n",
       "    </tr>\n",
       "    <tr>\n",
       "      <th>result</th>\n",
       "      <th></th>\n",
       "      <th></th>\n",
       "      <th></th>\n",
       "      <th></th>\n",
       "      <th></th>\n",
       "      <th></th>\n",
       "    </tr>\n",
       "  </thead>\n",
       "  <tbody>\n",
       "    <tr>\n",
       "      <th>0</th>\n",
       "      <td>51.937107</td>\n",
       "      <td>129.106918</td>\n",
       "      <td>245.169811</td>\n",
       "      <td>160.553459</td>\n",
       "      <td>0.496855</td>\n",
       "      <td>0.157233</td>\n",
       "    </tr>\n",
       "    <tr>\n",
       "      <th>1</th>\n",
       "      <td>57.160839</td>\n",
       "      <td>134.468531</td>\n",
       "      <td>248.482517</td>\n",
       "      <td>137.433566</td>\n",
       "      <td>1.634266</td>\n",
       "      <td>1.811189</td>\n",
       "    </tr>\n",
       "  </tbody>\n",
       "</table>\n",
       "</div>"
      ],
      "text/plain": [
       "              age    trestbps        chol     thalach   oldpeak    target\n",
       "result                                                                   \n",
       "0       51.937107  129.106918  245.169811  160.553459  0.496855  0.157233\n",
       "1       57.160839  134.468531  248.482517  137.433566  1.634266  1.811189"
      ]
     },
     "execution_count": 68,
     "metadata": {},
     "output_type": "execute_result"
    }
   ],
   "source": [
    "kmeans_result = heart_data_with_target.copy()\n",
    "kmeans_result['result'] = y_pred\n",
    "kmeans_result.groupby('result').mean()"
   ]
  },
  {
   "cell_type": "code",
   "execution_count": 69,
   "metadata": {},
   "outputs": [],
   "source": [
    "from sklearn.mixture import GaussianMixture"
   ]
  },
  {
   "cell_type": "code",
   "execution_count": 70,
   "metadata": {},
   "outputs": [],
   "source": [
    "model = GaussianMixture(n_components = 2,random_state = 1,covariance_type =\"diag\",max_iter=300)"
   ]
  },
  {
   "cell_type": "code",
   "execution_count": 71,
   "metadata": {},
   "outputs": [
    {
     "data": {
      "text/plain": [
       "array([1, 1, 0, 0, 0, 1, 0, 1, 1, 1, 0, 1, 0, 0, 0, 0, 0, 0, 0, 1, 0, 0,\n",
       "       1, 1, 0, 0, 0, 0, 1, 0, 1, 0, 1, 0, 0, 1, 1, 1, 1, 1, 0, 0, 0, 0,\n",
       "       1, 0, 1, 0, 0, 0, 0, 0, 0, 1, 1, 1, 0, 0, 1, 1, 0, 1, 0, 1, 1, 0,\n",
       "       0, 1, 0, 0, 1, 1, 1, 0, 0, 1, 0, 0, 1, 1, 0, 0, 1, 0, 0, 0, 0, 0,\n",
       "       0, 1, 1, 1, 0, 0, 1, 1, 1, 0, 0, 0, 0, 0, 0, 1, 0, 1, 1, 1, 1, 1,\n",
       "       1, 0, 1, 1, 0, 0, 0, 1, 1, 1, 1, 0, 1, 1, 0, 1, 1, 0, 0, 1, 1, 0,\n",
       "       0, 0, 0, 1, 1, 1, 0, 0, 1, 0, 1, 1, 0, 1, 0, 0, 0, 1, 0, 0, 1, 1,\n",
       "       1, 1, 1, 1, 0, 0, 1, 0, 0, 0, 1, 0, 0, 1, 0, 1, 1, 1, 0, 1, 1, 1,\n",
       "       1, 0, 0, 1, 1, 0, 1, 0, 0, 0, 1, 0, 1, 0, 1, 1, 1, 0, 1, 1, 1, 0,\n",
       "       0, 0, 0, 0, 0, 0, 1, 1, 1, 0, 1, 0, 1, 0, 1, 0, 1, 0, 1, 1, 0, 0,\n",
       "       0, 0, 1, 1, 0, 0, 0, 1, 1, 0, 1, 0, 0, 0, 1, 1, 1, 0, 0, 0, 0, 0,\n",
       "       1, 0, 1, 1, 1, 1, 0, 1, 1, 1, 0, 0, 0, 0, 0, 0, 0, 0, 0, 0, 0, 1,\n",
       "       1, 1, 1, 0, 0, 1, 1, 1, 0, 0, 1, 0, 0, 0, 0, 1, 0, 1, 0, 1, 1, 1,\n",
       "       0, 0, 0, 1, 0, 1, 1, 1, 0, 1, 1, 1, 1, 1, 0, 0])"
      ]
     },
     "execution_count": 71,
     "metadata": {},
     "output_type": "execute_result"
    }
   ],
   "source": [
    "y_pred=model.fit_predict([a[0:2] for a in heart_pca])\n",
    "y_pred"
   ]
  },
  {
   "cell_type": "code",
   "execution_count": 72,
   "metadata": {},
   "outputs": [
    {
     "data": {
      "text/plain": [
       "0.847682119205298"
      ]
     },
     "execution_count": 72,
     "metadata": {},
     "output_type": "execute_result"
    }
   ],
   "source": [
    "sm.accuracy_score(y_pred,heart_pca_with_target['target'].apply(target_tran))"
   ]
  },
  {
   "cell_type": "markdown",
   "metadata": {},
   "source": [
    "# supervised"
   ]
  },
  {
   "cell_type": "code",
   "execution_count": 77,
   "metadata": {},
   "outputs": [
    {
     "data": {
      "text/plain": [
       "0.7704918032786885"
      ]
     },
     "execution_count": 77,
     "metadata": {},
     "output_type": "execute_result"
    }
   ],
   "source": [
    "from sklearn.tree import DecisionTreeClassifier\n",
    "from sklearn.model_selection import train_test_split\n",
    "x_train,x_test,y_train,y_test = train_test_split(heart_pca,heart_pca_with_target['target'],test_size = 0.2)\n",
    "\n",
    "tree = DecisionTreeClassifier(random_state=1)\n",
    "tree.fit(x_train,y_train)\n",
    "y_pred = tree.predict(x_test)\n",
    "sm.accuracy_score(y_test,y_pred)"
   ]
  },
  {
   "cell_type": "code",
   "execution_count": 76,
   "metadata": {},
   "outputs": [
    {
     "data": {
      "text/plain": [
       "array([0, 1, 1, 1, 1, 0, 0, 1, 1, 0, 0, 0, 0, 0, 0, 1, 0, 0, 0, 0, 0, 0,\n",
       "       1, 1, 0, 0, 0, 0, 1, 0, 1, 0, 0, 0, 0, 0, 0, 0, 0, 1, 0, 0, 1, 1,\n",
       "       0, 1, 1, 0, 1, 1, 0, 0, 0, 0, 1, 0, 0, 1, 0, 0, 1])"
      ]
     },
     "execution_count": 76,
     "metadata": {},
     "output_type": "execute_result"
    }
   ],
   "source": [
    "y_pred"
   ]
  }
 ],
 "metadata": {
  "kernelspec": {
   "display_name": "Python 3",
   "language": "python",
   "name": "python3"
  },
  "language_info": {
   "codemirror_mode": {
    "name": "ipython",
    "version": 3
   },
   "file_extension": ".py",
   "mimetype": "text/x-python",
   "name": "python",
   "nbconvert_exporter": "python",
   "pygments_lexer": "ipython3",
   "version": "3.9.2"
  }
 },
 "nbformat": 4,
 "nbformat_minor": 4
}
